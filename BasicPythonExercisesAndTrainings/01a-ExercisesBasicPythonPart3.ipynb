{
 "cells": [
  {
   "cell_type": "code",
   "execution_count": 1,
   "metadata": {},
   "outputs": [
    {
     "name": "stdout",
     "output_type": "stream",
     "text": [
      "{'United States': 'Washington D.C', 'Italy': 'Rome'}\n",
      "United States\n",
      "Italy\n",
      "\n",
      "Washington D.C\n",
      "Rome\n",
      "\n",
      "United States Washington D.C\n",
      "Italy Rome\n"
     ]
    }
   ],
   "source": [
    "country_capitals = {\n",
    "    'United States': 'Washington D.C',\n",
    "    'Italy': 'Rome'\n",
    "}\n",
    "\n",
    "print(country_capitals)\n",
    "# print dictionary keys one by one \n",
    "\n",
    "for country in country_capitals:\n",
    "    print(country)\n",
    "    \n",
    "print()\n",
    "\n",
    "# print dictionary values one by one \n",
    "\n",
    "for country in country_capitals:\n",
    "    capital = country_capitals[country]\n",
    "    print(capital)\n",
    "    \n",
    "print()    \n",
    "\n",
    "for key, values in country_capitals.items():\n",
    "    print(key, values)"
   ]
  },
  {
   "cell_type": "code",
   "execution_count": 2,
   "metadata": {},
   "outputs": [
    {
     "name": "stdout",
     "output_type": "stream",
     "text": [
      "ukasz\n"
     ]
    }
   ],
   "source": [
    "#https://docs.python.org/3/library/re.html\n",
    "import re \n",
    "text = 'lukasz'\n",
    "\n",
    "a = re.compile('^l')\n",
    "b = a.sub(r'',text)\n",
    "\n",
    "print(b)"
   ]
  },
  {
   "cell_type": "code",
   "execution_count": 3,
   "metadata": {},
   "outputs": [
    {
     "data": {
      "text/plain": [
       "Counter({'blue': 3, 'red': 2, 'green': 1})"
      ]
     },
     "execution_count": 3,
     "metadata": {},
     "output_type": "execute_result"
    }
   ],
   "source": [
    "#https://docs.python.org/3/library/collections.html#collections.Counter\n",
    "# Total occurrences of words in a list \n",
    "from collections import Counter \n",
    "cnt = Counter()\n",
    "\n",
    "words = ['red', 'blue', 'red', 'green', 'blue', 'blue']\n",
    "\n",
    "for word in words:\n",
    "    cnt[word] += 1\n",
    "\n",
    "cnt\n",
    "\n"
   ]
  },
  {
   "cell_type": "code",
   "execution_count": 4,
   "metadata": {},
   "outputs": [
    {
     "name": "stdout",
     "output_type": "stream",
     "text": [
      "Counter({'blue': 3, 'red': 2, 'green': 1})\n"
     ]
    }
   ],
   "source": [
    "print(Counter(words))"
   ]
  },
  {
   "cell_type": "code",
   "execution_count": 5,
   "metadata": {},
   "outputs": [],
   "source": [
    "#Explaining all functions  and libraries that are used here and learn it!\n",
    "#https://docs.python.org/3/library/re.html\n",
    "#https://www.programiz.com/python-programming/regex\n",
    "#https://www.w3schools.com/python/python_regex.asp"
   ]
  }
 ],
 "metadata": {
  "kernelspec": {
   "display_name": "Python 3",
   "language": "python",
   "name": "python3"
  },
  "language_info": {
   "codemirror_mode": {
    "name": "ipython",
    "version": 3
   },
   "file_extension": ".py",
   "mimetype": "text/x-python",
   "name": "python",
   "nbconvert_exporter": "python",
   "pygments_lexer": "ipython3",
   "version": "3.11.3"
  }
 },
 "nbformat": 4,
 "nbformat_minor": 2
}
