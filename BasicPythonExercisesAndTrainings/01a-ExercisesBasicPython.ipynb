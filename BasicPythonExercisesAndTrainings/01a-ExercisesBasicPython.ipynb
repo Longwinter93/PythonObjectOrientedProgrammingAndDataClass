{
 "cells": [
  {
   "cell_type": "markdown",
   "metadata": {},
   "source": [
    "# For Loop"
   ]
  },
  {
   "cell_type": "markdown",
   "metadata": {},
   "source": [
    "#### For Loop - It executes a block of code repeatedly"
   ]
  },
  {
   "cell_type": "code",
   "execution_count": 1,
   "metadata": {},
   "outputs": [
    {
     "name": "stdout",
     "output_type": "stream",
     "text": [
      "Thank you\n",
      "Thank you\n",
      "Thank you\n",
      "Thank you\n",
      "Thank you\n"
     ]
    }
   ],
   "source": [
    "for number in range(5):\n",
    "    print(\"Thank you\")"
   ]
  },
  {
   "cell_type": "code",
   "execution_count": 2,
   "metadata": {},
   "outputs": [
    {
     "name": "stdout",
     "output_type": "stream",
     "text": [
      "0\n",
      "1\n",
      "2\n"
     ]
    }
   ],
   "source": [
    "for x in [0,1,2]:\n",
    "    print(x)"
   ]
  },
  {
   "cell_type": "code",
   "execution_count": 3,
   "metadata": {},
   "outputs": [
    {
     "name": "stdout",
     "output_type": "stream",
     "text": [
      "APPL\n",
      "CSVO\n",
      "ORCL\n"
     ]
    }
   ],
   "source": [
    "symbols = {'12123312123': 'APPL',\n",
    "           '765757567756':'CSVO',\n",
    "           '598918919':'ORCL'}\n",
    "\n",
    "for k in symbols:\n",
    "    print(symbols[k])"
   ]
  },
  {
   "cell_type": "code",
   "execution_count": 4,
   "metadata": {},
   "outputs": [
    {
     "name": "stdout",
     "output_type": "stream",
     "text": [
      "12123312123 APPL\n",
      "765757567756 CSVO\n",
      "598918919 ORCL\n"
     ]
    }
   ],
   "source": [
    "for key, value in symbols.items():\n",
    "    print(key, value)"
   ]
  },
  {
   "cell_type": "code",
   "execution_count": 5,
   "metadata": {},
   "outputs": [
    {
     "name": "stdout",
     "output_type": "stream",
     "text": [
      "O\n",
      "R\n",
      "A\n",
      "C\n",
      "L\n",
      "E\n"
     ]
    }
   ],
   "source": [
    "for x in 'ORACLE':\n",
    "    print(x)"
   ]
  },
  {
   "cell_type": "code",
   "execution_count": 6,
   "metadata": {},
   "outputs": [],
   "source": [
    "languages = ['R', 'Python', 'Scala', 'Java',' Julia']"
   ]
  },
  {
   "cell_type": "code",
   "execution_count": 7,
   "metadata": {},
   "outputs": [
    {
     "name": "stdout",
     "output_type": "stream",
     "text": [
      "Current language: R\n",
      "Current language: Python\n",
      "Current language: Scala\n",
      "Current language: Java\n",
      "Current language:  Julia\n"
     ]
    }
   ],
   "source": [
    "for index in range(len(languages)):\n",
    "    print(\"Current language:\", languages[index])"
   ]
  },
  {
   "cell_type": "code",
   "execution_count": 8,
   "metadata": {},
   "outputs": [
    {
     "name": "stdout",
     "output_type": "stream",
     "text": [
      "Current language R\n",
      "Current language Python\n",
      "Current language Scala\n",
      "Current language Java\n",
      "Current language  Julia\n"
     ]
    }
   ],
   "source": [
    "for index in range(5):\n",
    "    print(\"Current language\", languages[index])"
   ]
  },
  {
   "cell_type": "code",
   "execution_count": 9,
   "metadata": {},
   "outputs": [
    {
     "name": "stdout",
     "output_type": "stream",
     "text": [
      "Thank you\n",
      "Thank you\n",
      "Thank you\n"
     ]
    }
   ],
   "source": [
    "#Printing Thank you a 3 times\n",
    "\n",
    "for number in range(3):\n",
    "    print(\"Thank you\")"
   ]
  },
  {
   "cell_type": "code",
   "execution_count": 10,
   "metadata": {},
   "outputs": [
    {
     "name": "stdout",
     "output_type": "stream",
     "text": [
      "0\n",
      "1\n",
      "2\n",
      "3\n",
      "4\n",
      "5\n"
     ]
    }
   ],
   "source": [
    "# it stops the iteration if we encounter 5\n",
    "for i in range(10):\n",
    "    print(i)\n",
    "    if i == 5:\n",
    "        break"
   ]
  },
  {
   "cell_type": "code",
   "execution_count": 11,
   "metadata": {},
   "outputs": [
    {
     "name": "stdout",
     "output_type": "stream",
     "text": [
      "1\n",
      "3\n",
      "5\n",
      "7\n",
      "9\n",
      "11\n",
      "13\n",
      "15\n",
      "17\n",
      "19\n"
     ]
    }
   ],
   "source": [
    "for i in range(20):\n",
    "    if i % 2 == 0:\n",
    "        continue\n",
    "    print(i)"
   ]
  },
  {
   "cell_type": "code",
   "execution_count": 12,
   "metadata": {},
   "outputs": [
    {
     "name": "stdout",
     "output_type": "stream",
     "text": [
      "0\n",
      "1\n",
      "3\n"
     ]
    }
   ],
   "source": [
    "# we ignore value for example 2\n",
    "for x in [0,1,2,3]:\n",
    "    if x == 2:\n",
    "        continue\n",
    "    print(x)"
   ]
  },
  {
   "cell_type": "code",
   "execution_count": 13,
   "metadata": {},
   "outputs": [
    {
     "name": "stdout",
     "output_type": "stream",
     "text": [
      "1\n",
      "2\n",
      "Found\n"
     ]
    }
   ],
   "source": [
    "nums = [1, 2, 3, 4, 5]\n",
    "\n",
    "for num in nums:\n",
    "    if num == 3:\n",
    "        print('Found')\n",
    "        break\n",
    "    print(num)"
   ]
  },
  {
   "cell_type": "code",
   "execution_count": 14,
   "metadata": {},
   "outputs": [
    {
     "name": "stdout",
     "output_type": "stream",
     "text": [
      "1\n",
      "2\n",
      "Skip 3\n",
      "4\n",
      "5\n"
     ]
    }
   ],
   "source": [
    "nums = [1, 2, 3, 4, 5]\n",
    "\n",
    "for num in nums:\n",
    "    if num == 3:\n",
    "        print('Skip 3')\n",
    "        continue\n",
    "    print(num)"
   ]
  },
  {
   "cell_type": "code",
   "execution_count": 15,
   "metadata": {},
   "outputs": [
    {
     "name": "stdout",
     "output_type": "stream",
     "text": [
      "1\n",
      "2\n",
      "3\n",
      "4\n",
      "5\n",
      "6\n",
      "7\n",
      "8\n",
      "9\n",
      "10\n"
     ]
    }
   ],
   "source": [
    "for i in range(10):\n",
    "    print(i+1)"
   ]
  },
  {
   "cell_type": "code",
   "execution_count": 16,
   "metadata": {},
   "outputs": [
    {
     "name": "stdout",
     "output_type": "stream",
     "text": [
      "a\n",
      "a\n",
      "a\n"
     ]
    }
   ],
   "source": [
    "for i in 'Datacamp':\n",
    "    if i == 'a':\n",
    "        print(i)"
   ]
  },
  {
   "cell_type": "code",
   "execution_count": 17,
   "metadata": {},
   "outputs": [],
   "source": [
    "sequence = [1,2,8,100,200,'datacamp','tutorial']\n"
   ]
  },
  {
   "cell_type": "code",
   "execution_count": 18,
   "metadata": {},
   "outputs": [
    {
     "name": "stdout",
     "output_type": "stream",
     "text": [
      "1\n",
      "2\n",
      "8\n",
      "100\n",
      "200\n",
      "datacamp\n",
      "tutorial\n"
     ]
    }
   ],
   "source": [
    "for i in sequence:\n",
    "    print(i)"
   ]
  },
  {
   "cell_type": "code",
   "execution_count": 19,
   "metadata": {},
   "outputs": [
    {
     "data": {
      "text/plain": [
       "7"
      ]
     },
     "execution_count": 19,
     "metadata": {},
     "output_type": "execute_result"
    }
   ],
   "source": [
    "len(sequence)"
   ]
  },
  {
   "cell_type": "code",
   "execution_count": 20,
   "metadata": {},
   "outputs": [
    {
     "data": {
      "text/plain": [
       "'datacamp'"
      ]
     },
     "execution_count": 20,
     "metadata": {},
     "output_type": "execute_result"
    }
   ],
   "source": [
    "sequence[5]"
   ]
  },
  {
   "cell_type": "code",
   "execution_count": 21,
   "metadata": {},
   "outputs": [
    {
     "name": "stdout",
     "output_type": "stream",
     "text": [
      "1\n",
      "2\n",
      "8\n",
      "100\n",
      "200\n",
      "datacamp\n",
      "tutorial\n"
     ]
    }
   ],
   "source": [
    "for i in range(len(sequence)):\n",
    "    print(sequence[i])"
   ]
  },
  {
   "cell_type": "code",
   "execution_count": 22,
   "metadata": {},
   "outputs": [],
   "source": [
    "for i in range(len(sequence)):\n",
    "    element = sequence[i]\n",
    "    if type(element) == int:\n",
    "        sequence[i] = element  + 1"
   ]
  },
  {
   "cell_type": "code",
   "execution_count": 23,
   "metadata": {},
   "outputs": [
    {
     "data": {
      "text/plain": [
       "[2, 3, 9, 101, 201, 'datacamp', 'tutorial']"
      ]
     },
     "execution_count": 23,
     "metadata": {},
     "output_type": "execute_result"
    }
   ],
   "source": [
    "sequence\n"
   ]
  },
  {
   "cell_type": "code",
   "execution_count": 24,
   "metadata": {},
   "outputs": [
    {
     "name": "stdout",
     "output_type": "stream",
     "text": [
      "1\n",
      "3\n",
      "5\n",
      "7\n",
      "9\n",
      "11\n",
      "13\n",
      "15\n",
      "17\n",
      "19\n"
     ]
    }
   ],
   "source": [
    "for i in range(1,20,2):\n",
    "    print(i)"
   ]
  },
  {
   "cell_type": "code",
   "execution_count": 25,
   "metadata": {},
   "outputs": [
    {
     "name": "stdout",
     "output_type": "stream",
     "text": [
      "\n",
      "1 \n",
      "2 2 \n",
      "3 3 3 \n",
      "4 4 4 4 \n",
      "5 5 5 5 5 \n",
      "6 6 6 6 6 6 \n",
      "7 7 7 7 7 7 7 \n",
      "8 8 8 8 8 8 8 8 \n",
      "9 9 9 9 9 9 9 9 9 \n",
      "10 10 10 10 10 10 10 10 10 10 \n"
     ]
    }
   ],
   "source": [
    "for i in range(11):\n",
    "    for j in range(i):\n",
    "        print(i, end= ' ')\n",
    "    print()"
   ]
  },
  {
   "cell_type": "code",
   "execution_count": 26,
   "metadata": {},
   "outputs": [],
   "source": [
    "import pandas as pd\n",
    "iris = pd.read_csv('https://raw.githubusercontent.com/mwaskom/seaborn-data/master/iris.csv')\n"
   ]
  },
  {
   "cell_type": "code",
   "execution_count": 27,
   "metadata": {},
   "outputs": [
    {
     "data": {
      "text/html": [
       "<div>\n",
       "<style scoped>\n",
       "    .dataframe tbody tr th:only-of-type {\n",
       "        vertical-align: middle;\n",
       "    }\n",
       "\n",
       "    .dataframe tbody tr th {\n",
       "        vertical-align: top;\n",
       "    }\n",
       "\n",
       "    .dataframe thead th {\n",
       "        text-align: right;\n",
       "    }\n",
       "</style>\n",
       "<table border=\"1\" class=\"dataframe\">\n",
       "  <thead>\n",
       "    <tr style=\"text-align: right;\">\n",
       "      <th></th>\n",
       "      <th>sepal_length</th>\n",
       "      <th>sepal_width</th>\n",
       "      <th>petal_length</th>\n",
       "      <th>petal_width</th>\n",
       "      <th>species</th>\n",
       "    </tr>\n",
       "  </thead>\n",
       "  <tbody>\n",
       "    <tr>\n",
       "      <th>0</th>\n",
       "      <td>5.1</td>\n",
       "      <td>3.5</td>\n",
       "      <td>1.4</td>\n",
       "      <td>0.2</td>\n",
       "      <td>setosa</td>\n",
       "    </tr>\n",
       "    <tr>\n",
       "      <th>1</th>\n",
       "      <td>4.9</td>\n",
       "      <td>3.0</td>\n",
       "      <td>1.4</td>\n",
       "      <td>0.2</td>\n",
       "      <td>setosa</td>\n",
       "    </tr>\n",
       "    <tr>\n",
       "      <th>2</th>\n",
       "      <td>4.7</td>\n",
       "      <td>3.2</td>\n",
       "      <td>1.3</td>\n",
       "      <td>0.2</td>\n",
       "      <td>setosa</td>\n",
       "    </tr>\n",
       "    <tr>\n",
       "      <th>3</th>\n",
       "      <td>4.6</td>\n",
       "      <td>3.1</td>\n",
       "      <td>1.5</td>\n",
       "      <td>0.2</td>\n",
       "      <td>setosa</td>\n",
       "    </tr>\n",
       "    <tr>\n",
       "      <th>4</th>\n",
       "      <td>5.0</td>\n",
       "      <td>3.6</td>\n",
       "      <td>1.4</td>\n",
       "      <td>0.2</td>\n",
       "      <td>setosa</td>\n",
       "    </tr>\n",
       "  </tbody>\n",
       "</table>\n",
       "</div>"
      ],
      "text/plain": [
       "   sepal_length  sepal_width  petal_length  petal_width species\n",
       "0           5.1          3.5           1.4          0.2  setosa\n",
       "1           4.9          3.0           1.4          0.2  setosa\n",
       "2           4.7          3.2           1.3          0.2  setosa\n",
       "3           4.6          3.1           1.5          0.2  setosa\n",
       "4           5.0          3.6           1.4          0.2  setosa"
      ]
     },
     "execution_count": 27,
     "metadata": {},
     "output_type": "execute_result"
    }
   ],
   "source": [
    "iris.head()\n"
   ]
  },
  {
   "cell_type": "code",
   "execution_count": 28,
   "metadata": {},
   "outputs": [
    {
     "data": {
      "text/plain": [
       "150"
      ]
     },
     "execution_count": 28,
     "metadata": {},
     "output_type": "execute_result"
    }
   ],
   "source": [
    "len(iris) # rows"
   ]
  },
  {
   "cell_type": "code",
   "execution_count": 29,
   "metadata": {},
   "outputs": [
    {
     "data": {
      "text/plain": [
       "1.4"
      ]
     },
     "execution_count": 29,
     "metadata": {},
     "output_type": "execute_result"
    }
   ],
   "source": [
    "iris.iloc[1,2]\n"
   ]
  },
  {
   "cell_type": "code",
   "execution_count": 30,
   "metadata": {},
   "outputs": [
    {
     "data": {
      "text/plain": [
       "'virginica'"
      ]
     },
     "execution_count": 30,
     "metadata": {},
     "output_type": "execute_result"
    }
   ],
   "source": [
    "iris.iloc[111,4] # we are on the 'species' column\n"
   ]
  },
  {
   "cell_type": "code",
   "execution_count": 31,
   "metadata": {},
   "outputs": [
    {
     "name": "stdout",
     "output_type": "stream",
     "text": [
      "versicolor\n",
      "versicolor\n",
      "versicolor\n",
      "versicolor\n",
      "versicolor\n",
      "versicolor\n",
      "versicolor\n",
      "versicolor\n",
      "versicolor\n",
      "versicolor\n",
      "versicolor\n",
      "versicolor\n",
      "versicolor\n",
      "versicolor\n",
      "versicolor\n",
      "versicolor\n",
      "versicolor\n",
      "versicolor\n",
      "versicolor\n",
      "versicolor\n"
     ]
    }
   ],
   "source": [
    "for i in range(len(iris)):\n",
    "    Class = iris.iloc[i,4]\n",
    "    if Class == 'versicolor' and i < 70:\n",
    "        print(Class)"
   ]
  },
  {
   "cell_type": "code",
   "execution_count": 32,
   "metadata": {},
   "outputs": [
    {
     "name": "stdout",
     "output_type": "stream",
     "text": [
      "setosa\n",
      "setosa\n",
      "setosa\n",
      "setosa\n",
      "setosa\n",
      "setosa\n",
      "setosa\n",
      "setosa\n",
      "setosa\n",
      "setosa\n",
      "setosa\n",
      "setosa\n",
      "setosa\n",
      "setosa\n",
      "setosa\n",
      "setosa\n",
      "setosa\n",
      "setosa\n",
      "setosa\n",
      "setosa\n",
      "setosa\n",
      "setosa\n",
      "setosa\n",
      "setosa\n",
      "setosa\n",
      "setosa\n",
      "setosa\n",
      "setosa\n",
      "setosa\n",
      "setosa\n",
      "setosa\n",
      "setosa\n",
      "setosa\n",
      "setosa\n",
      "setosa\n",
      "setosa\n",
      "setosa\n",
      "setosa\n",
      "setosa\n",
      "setosa\n",
      "setosa\n",
      "setosa\n",
      "setosa\n",
      "setosa\n",
      "setosa\n",
      "setosa\n",
      "setosa\n",
      "setosa\n",
      "setosa\n",
      "setosa\n",
      "versicolor\n",
      "versicolor\n",
      "versicolor\n",
      "versicolor\n",
      "versicolor\n",
      "versicolor\n",
      "versicolor\n",
      "versicolor\n",
      "versicolor\n",
      "versicolor\n",
      "versicolor\n",
      "versicolor\n",
      "versicolor\n",
      "versicolor\n",
      "versicolor\n",
      "versicolor\n",
      "versicolor\n",
      "versicolor\n",
      "versicolor\n",
      "versicolor\n",
      "versicolor\n",
      "versicolor\n",
      "versicolor\n",
      "versicolor\n",
      "versicolor\n",
      "versicolor\n",
      "versicolor\n",
      "versicolor\n",
      "versicolor\n",
      "versicolor\n",
      "versicolor\n",
      "versicolor\n",
      "versicolor\n",
      "versicolor\n",
      "versicolor\n",
      "versicolor\n",
      "versicolor\n",
      "versicolor\n",
      "versicolor\n",
      "versicolor\n",
      "versicolor\n",
      "versicolor\n",
      "versicolor\n",
      "versicolor\n",
      "versicolor\n",
      "versicolor\n",
      "versicolor\n",
      "versicolor\n",
      "versicolor\n",
      "versicolor\n",
      "virginica\n",
      "virginica\n",
      "virginica\n",
      "virginica\n",
      "virginica\n",
      "virginica\n",
      "virginica\n",
      "virginica\n",
      "virginica\n",
      "virginica\n",
      "virginica\n",
      "virginica\n",
      "virginica\n",
      "virginica\n",
      "virginica\n",
      "virginica\n",
      "virginica\n",
      "virginica\n",
      "virginica\n",
      "virginica\n",
      "virginica\n",
      "virginica\n",
      "virginica\n",
      "virginica\n",
      "virginica\n",
      "virginica\n",
      "virginica\n",
      "virginica\n",
      "virginica\n",
      "virginica\n",
      "virginica\n",
      "virginica\n",
      "virginica\n",
      "virginica\n",
      "virginica\n",
      "virginica\n",
      "virginica\n",
      "virginica\n",
      "virginica\n",
      "virginica\n",
      "virginica\n",
      "virginica\n",
      "virginica\n",
      "virginica\n",
      "virginica\n",
      "virginica\n",
      "virginica\n",
      "virginica\n",
      "virginica\n",
      "virginica\n"
     ]
    }
   ],
   "source": [
    "for index, row in iris.iterrows():\n",
    "    print(row[\"species\"])"
   ]
  },
  {
   "cell_type": "code",
   "execution_count": 33,
   "metadata": {},
   "outputs": [
    {
     "data": {
      "text/plain": [
       "5.1"
      ]
     },
     "execution_count": 33,
     "metadata": {},
     "output_type": "execute_result"
    }
   ],
   "source": [
    "iris.at[0,'sepal_length']"
   ]
  },
  {
   "cell_type": "code",
   "execution_count": 34,
   "metadata": {},
   "outputs": [],
   "source": [
    "columns =  ['sepal_length','sepal_width','petal_length','petal_width']\n",
    "\n",
    "for indices, row in iris.iterrows():\n",
    "    for column in columns:\n",
    "        iris.at[indices, column] = row[column] + 2"
   ]
  },
  {
   "cell_type": "code",
   "execution_count": 35,
   "metadata": {},
   "outputs": [
    {
     "data": {
      "text/html": [
       "<div>\n",
       "<style scoped>\n",
       "    .dataframe tbody tr th:only-of-type {\n",
       "        vertical-align: middle;\n",
       "    }\n",
       "\n",
       "    .dataframe tbody tr th {\n",
       "        vertical-align: top;\n",
       "    }\n",
       "\n",
       "    .dataframe thead th {\n",
       "        text-align: right;\n",
       "    }\n",
       "</style>\n",
       "<table border=\"1\" class=\"dataframe\">\n",
       "  <thead>\n",
       "    <tr style=\"text-align: right;\">\n",
       "      <th></th>\n",
       "      <th>sepal_length</th>\n",
       "      <th>sepal_width</th>\n",
       "      <th>petal_length</th>\n",
       "      <th>petal_width</th>\n",
       "      <th>species</th>\n",
       "    </tr>\n",
       "  </thead>\n",
       "  <tbody>\n",
       "    <tr>\n",
       "      <th>0</th>\n",
       "      <td>7.1</td>\n",
       "      <td>5.5</td>\n",
       "      <td>3.4</td>\n",
       "      <td>2.2</td>\n",
       "      <td>setosa</td>\n",
       "    </tr>\n",
       "    <tr>\n",
       "      <th>1</th>\n",
       "      <td>6.9</td>\n",
       "      <td>5.0</td>\n",
       "      <td>3.4</td>\n",
       "      <td>2.2</td>\n",
       "      <td>setosa</td>\n",
       "    </tr>\n",
       "    <tr>\n",
       "      <th>2</th>\n",
       "      <td>6.7</td>\n",
       "      <td>5.2</td>\n",
       "      <td>3.3</td>\n",
       "      <td>2.2</td>\n",
       "      <td>setosa</td>\n",
       "    </tr>\n",
       "    <tr>\n",
       "      <th>3</th>\n",
       "      <td>6.6</td>\n",
       "      <td>5.1</td>\n",
       "      <td>3.5</td>\n",
       "      <td>2.2</td>\n",
       "      <td>setosa</td>\n",
       "    </tr>\n",
       "    <tr>\n",
       "      <th>4</th>\n",
       "      <td>7.0</td>\n",
       "      <td>5.6</td>\n",
       "      <td>3.4</td>\n",
       "      <td>2.2</td>\n",
       "      <td>setosa</td>\n",
       "    </tr>\n",
       "    <tr>\n",
       "      <th>...</th>\n",
       "      <td>...</td>\n",
       "      <td>...</td>\n",
       "      <td>...</td>\n",
       "      <td>...</td>\n",
       "      <td>...</td>\n",
       "    </tr>\n",
       "    <tr>\n",
       "      <th>145</th>\n",
       "      <td>8.7</td>\n",
       "      <td>5.0</td>\n",
       "      <td>7.2</td>\n",
       "      <td>4.3</td>\n",
       "      <td>virginica</td>\n",
       "    </tr>\n",
       "    <tr>\n",
       "      <th>146</th>\n",
       "      <td>8.3</td>\n",
       "      <td>4.5</td>\n",
       "      <td>7.0</td>\n",
       "      <td>3.9</td>\n",
       "      <td>virginica</td>\n",
       "    </tr>\n",
       "    <tr>\n",
       "      <th>147</th>\n",
       "      <td>8.5</td>\n",
       "      <td>5.0</td>\n",
       "      <td>7.2</td>\n",
       "      <td>4.0</td>\n",
       "      <td>virginica</td>\n",
       "    </tr>\n",
       "    <tr>\n",
       "      <th>148</th>\n",
       "      <td>8.2</td>\n",
       "      <td>5.4</td>\n",
       "      <td>7.4</td>\n",
       "      <td>4.3</td>\n",
       "      <td>virginica</td>\n",
       "    </tr>\n",
       "    <tr>\n",
       "      <th>149</th>\n",
       "      <td>7.9</td>\n",
       "      <td>5.0</td>\n",
       "      <td>7.1</td>\n",
       "      <td>3.8</td>\n",
       "      <td>virginica</td>\n",
       "    </tr>\n",
       "  </tbody>\n",
       "</table>\n",
       "<p>150 rows × 5 columns</p>\n",
       "</div>"
      ],
      "text/plain": [
       "     sepal_length  sepal_width  petal_length  petal_width    species\n",
       "0             7.1          5.5           3.4          2.2     setosa\n",
       "1             6.9          5.0           3.4          2.2     setosa\n",
       "2             6.7          5.2           3.3          2.2     setosa\n",
       "3             6.6          5.1           3.5          2.2     setosa\n",
       "4             7.0          5.6           3.4          2.2     setosa\n",
       "..            ...          ...           ...          ...        ...\n",
       "145           8.7          5.0           7.2          4.3  virginica\n",
       "146           8.3          4.5           7.0          3.9  virginica\n",
       "147           8.5          5.0           7.2          4.0  virginica\n",
       "148           8.2          5.4           7.4          4.3  virginica\n",
       "149           7.9          5.0           7.1          3.8  virginica\n",
       "\n",
       "[150 rows x 5 columns]"
      ]
     },
     "execution_count": 35,
     "metadata": {},
     "output_type": "execute_result"
    }
   ],
   "source": [
    "iris\n"
   ]
  },
  {
   "cell_type": "markdown",
   "metadata": {},
   "source": [
    "# Nested loops"
   ]
  },
  {
   "cell_type": "code",
   "execution_count": 36,
   "metadata": {},
   "outputs": [
    {
     "name": "stdout",
     "output_type": "stream",
     "text": [
      "---------------------------------------------\n",
      "I am outer loop iteration 0\n",
      "*************************\n",
      "I am inner loop iteration 0\n",
      "*************************\n",
      "I am inner loop iteration 1\n",
      "*************************\n",
      "I am inner loop iteration 2\n",
      "*************************\n",
      "I am inner loop iteration 3\n",
      "*************************\n",
      "I am inner loop iteration 4\n",
      "---------------------------------------------\n",
      "I am outer loop iteration 1\n",
      "*************************\n",
      "I am inner loop iteration 0\n",
      "*************************\n",
      "I am inner loop iteration 1\n",
      "*************************\n",
      "I am inner loop iteration 2\n",
      "*************************\n",
      "I am inner loop iteration 3\n",
      "*************************\n",
      "I am inner loop iteration 4\n",
      "---------------------------------------------\n",
      "I am outer loop iteration 2\n",
      "*************************\n",
      "I am inner loop iteration 0\n",
      "*************************\n",
      "I am inner loop iteration 1\n",
      "*************************\n",
      "I am inner loop iteration 2\n",
      "*************************\n",
      "I am inner loop iteration 3\n",
      "*************************\n",
      "I am inner loop iteration 4\n"
     ]
    }
   ],
   "source": [
    "for number in range(3):\n",
    "    print(\"---------------------------------------------\")\n",
    "    print(\"I am outer loop iteration \"+str(number))\n",
    "    #inner loop\n",
    "    for another_number in range(5):\n",
    "        print(\"*************************\")\n",
    "        print(\"I am inner loop iteration \"+str(another_number))"
   ]
  },
  {
   "cell_type": "code",
   "execution_count": 37,
   "metadata": {},
   "outputs": [
    {
     "name": "stdout",
     "output_type": "stream",
     "text": [
      "*\n",
      "* *\n",
      "* * *\n",
      "* * * *\n",
      "* * * * *\n",
      "* * * * * *\n",
      "* * * * * * *\n",
      "* * * * * *\n",
      "* * * * *\n",
      "* * * *\n",
      "* * *\n",
      "* "
     ]
    }
   ],
   "source": [
    "for i in range(5):\n",
    "    print('*')\n",
    "    for j in range(i + 1):\n",
    "        print(\"*\",end=' ')\n",
    "\n",
    "for i in range(5,-1,-1):\n",
    "    print('*')\n",
    "    for j in range(i + 1):\n",
    "        print(\"*\",end=' ')\n",
    "       \n"
   ]
  },
  {
   "cell_type": "code",
   "execution_count": 38,
   "metadata": {},
   "outputs": [
    {
     "name": "stdout",
     "output_type": "stream",
     "text": [
      "outer 0\n",
      "outer 1\n"
     ]
    }
   ],
   "source": [
    "for i in range(2):\n",
    "    print('outer',i)"
   ]
  },
  {
   "cell_type": "code",
   "execution_count": 39,
   "metadata": {},
   "outputs": [
    {
     "name": "stdout",
     "output_type": "stream",
     "text": [
      "outer 0\n",
      "inner 0\n",
      "outer 1\n",
      "inner 0\n",
      "inner 1\n",
      "outer 2\n",
      "inner 0\n",
      "inner 1\n",
      "inner 2\n",
      "outer 3\n",
      "inner 0\n",
      "inner 1\n",
      "inner 2\n",
      "inner 3\n"
     ]
    }
   ],
   "source": [
    "for i in range(4):\n",
    "    print('outer',i)\n",
    "    for j in range(i + 1):\n",
    "        print('inner',j)"
   ]
  },
  {
   "cell_type": "code",
   "execution_count": 40,
   "metadata": {},
   "outputs": [
    {
     "name": "stdout",
     "output_type": "stream",
     "text": [
      "outer 0\n",
      "inner 0 outer 1\n",
      "inner 0 inner 1 outer 2\n",
      "inner 0 inner 1 inner 2 outer 3\n",
      "inner 0 inner 1 inner 2 inner 3 "
     ]
    }
   ],
   "source": [
    "for i in range(4):\n",
    "    print('outer',i)\n",
    "    for j in range(i + 1):\n",
    "        print('inner',j, end=\" \")"
   ]
  },
  {
   "cell_type": "code",
   "execution_count": 41,
   "metadata": {},
   "outputs": [
    {
     "name": "stdout",
     "output_type": "stream",
     "text": [
      "outer 4\n",
      "inner 0 inner 1 inner 2 inner 3 inner 4 outer 3\n",
      "inner 0 inner 1 inner 2 inner 3 outer 2\n",
      "inner 0 inner 1 inner 2 outer 1\n",
      "inner 0 inner 1 outer 0\n",
      "inner 0 "
     ]
    }
   ],
   "source": [
    "for i in range(4,-1,-1):\n",
    "    print('outer',i)\n",
    "    for j in range(i + 1):\n",
    "        print('inner',j, end=\" \")"
   ]
  },
  {
   "cell_type": "code",
   "execution_count": 42,
   "metadata": {},
   "outputs": [
    {
     "name": "stdout",
     "output_type": "stream",
     "text": [
      "*\n",
      "* *\n",
      "* * *\n",
      "* * * *\n",
      "* * * * *\n",
      "* * * * * "
     ]
    }
   ],
   "source": [
    "for i in range(5):\n",
    "    print(\"*\")\n",
    "    for j in range(i+1):\n",
    "        print(\"*\", end=\" \")"
   ]
  },
  {
   "cell_type": "code",
   "execution_count": 43,
   "metadata": {},
   "outputs": [
    {
     "name": "stdout",
     "output_type": "stream",
     "text": [
      "*\n",
      "* * * * * * *\n",
      "* * * * * *\n",
      "* * * * *\n",
      "* * * *\n",
      "* * *\n",
      "* "
     ]
    }
   ],
   "source": [
    "for i in range(5,-1,-1):\n",
    "    print(\"*\")\n",
    "    for j in range(i + 1):\n",
    "        print(\"*\", end=\" \")"
   ]
  },
  {
   "cell_type": "code",
   "execution_count": 44,
   "metadata": {},
   "outputs": [
    {
     "name": "stdout",
     "output_type": "stream",
     "text": [
      "0 0\n",
      "0 1\n",
      "0 2\n",
      "1 0\n",
      "1 1\n",
      "1 2\n",
      "2 0\n",
      "2 1\n",
      "2 2\n"
     ]
    }
   ],
   "source": [
    "for i in range(3):\n",
    "    for j in range(3):\n",
    "        print(i, j )"
   ]
  },
  {
   "cell_type": "code",
   "execution_count": 45,
   "metadata": {},
   "outputs": [
    {
     "name": "stdout",
     "output_type": "stream",
     "text": [
      "0 a\n",
      "1 b\n",
      "2 c\n"
     ]
    }
   ],
   "source": [
    "for index, value in enumerate(['a', 'b', 'c']):\n",
    "    print(index, value)"
   ]
  },
  {
   "cell_type": "code",
   "execution_count": 46,
   "metadata": {},
   "outputs": [
    {
     "name": "stdout",
     "output_type": "stream",
     "text": [
      "1 a\n",
      "1 b\n",
      "1 c\n",
      "2 a\n",
      "2 b\n",
      "2 c\n",
      "3 a\n",
      "3 b\n",
      "3 c\n",
      "4 a\n",
      "4 b\n",
      "4 c\n",
      "5 a\n",
      "5 b\n",
      "5 c\n"
     ]
    }
   ],
   "source": [
    "nums = [1, 2, 3, 4, 5]\n",
    "\n",
    "for num in nums:\n",
    "    for letter in 'abc':\n",
    "        print(num, letter) #for each number it will loop through every character in this string 'abc' \n",
    "                            #and print out the number and character, then move on to the next number and do it over again"
   ]
  },
  {
   "cell_type": "code",
   "execution_count": 47,
   "metadata": {},
   "outputs": [
    {
     "name": "stdout",
     "output_type": "stream",
     "text": [
      "123456789\n",
      "123456789\n",
      "123456789\n"
     ]
    }
   ],
   "source": [
    "for x in range(3): #this for loop repeats this code 3 times\n",
    "    for y in range(1,10):\n",
    "        print(y, end=\"\")\n",
    "    print()"
   ]
  },
  {
   "cell_type": "code",
   "execution_count": 48,
   "metadata": {},
   "outputs": [
    {
     "name": "stdout",
     "output_type": "stream",
     "text": [
      "##\n",
      "##\n",
      "##\n",
      "##\n",
      "##\n",
      "##\n",
      "##\n",
      "##\n",
      "##\n",
      "##\n",
      "##\n",
      "##\n"
     ]
    }
   ],
   "source": [
    "rows = int(input('Enter the # of rows: '))\n",
    "columns = int(input('Enter the # of columns: '))\n",
    "symbol =  input(\"Enter a symbol to use: \")\n",
    "\n",
    "for x in range(rows): #this for loop repeats this code 3 times\n",
    "    for y in range(columns):\n",
    "        print(symbol, end=\"\")\n",
    "    print()"
   ]
  },
  {
   "cell_type": "code",
   "execution_count": 49,
   "metadata": {},
   "outputs": [
    {
     "name": "stdout",
     "output_type": "stream",
     "text": [
      "0123456789\n",
      "0123456789\n",
      "0123456789\n",
      "0123456789\n",
      "0123456789\n"
     ]
    }
   ],
   "source": [
    "for x in range(5):\n",
    "    for y in range(10):\n",
    "        print(y, end ='')\n",
    "    print()"
   ]
  },
  {
   "cell_type": "markdown",
   "metadata": {},
   "source": [
    "# While"
   ]
  },
  {
   "cell_type": "markdown",
   "metadata": {},
   "source": [
    "#### While loop - it executes a piece of code over and over again while a given condition still holds true"
   ]
  },
  {
   "cell_type": "code",
   "execution_count": 50,
   "metadata": {},
   "outputs": [
    {
     "name": "stdout",
     "output_type": "stream",
     "text": [
      "Thank you\n",
      "Thank you\n",
      "Thank you\n"
     ]
    }
   ],
   "source": [
    "number = 2\n",
    "\n",
    "while number < 5:\n",
    "    print('Thank you')\n",
    "    number += 1 "
   ]
  },
  {
   "cell_type": "code",
   "execution_count": 51,
   "metadata": {},
   "outputs": [
    {
     "name": "stdout",
     "output_type": "stream",
     "text": [
      "The number is 0\n",
      "The number is 1\n",
      "The number is 2\n",
      "The number is 3\n",
      "The number is 4\n"
     ]
    }
   ],
   "source": [
    "number = 0\n",
    "while number < 5:\n",
    "    print(f\"The number is {number}\")\n",
    "    number += 1 "
   ]
  },
  {
   "cell_type": "code",
   "execution_count": 52,
   "metadata": {},
   "outputs": [
    {
     "name": "stdout",
     "output_type": "stream",
     "text": [
      "The number 0 is even\n",
      "The number 1 is odd\n",
      "The number 2 is even\n",
      "The number 3 is odd\n",
      "The number 4 is even\n",
      "The number 5 is odd\n",
      "The number 6 is even\n",
      "The number 7 is odd\n",
      "The number 8 is even\n",
      "The number 9 is odd\n"
     ]
    }
   ],
   "source": [
    "number = 0\n",
    "\n",
    "while number < 10:\n",
    "    if number % 2 == 0:\n",
    "        print(\"The number \"+str(number)+\" is even\")\n",
    "    else:\n",
    "        print(\"The number \"+str(number)+\" is odd\")\n",
    "        \n",
    "    number += 1\n",
    "    "
   ]
  },
  {
   "cell_type": "code",
   "execution_count": 53,
   "metadata": {},
   "outputs": [
    {
     "name": "stdout",
     "output_type": "stream",
     "text": [
      "2\n",
      "3\n",
      "4\n",
      "5\n"
     ]
    }
   ],
   "source": [
    "number = 2\n",
    "\n",
    "while number < 6:\n",
    "    print(number)\n",
    "    number += 1"
   ]
  },
  {
   "cell_type": "code",
   "execution_count": 54,
   "metadata": {},
   "outputs": [
    {
     "name": "stdout",
     "output_type": "stream",
     "text": [
      "64\n",
      "32\n",
      "16\n",
      "8\n",
      "4\n",
      "2\n",
      "1\n"
     ]
    }
   ],
   "source": [
    "def collatz(number):\n",
    "    if number % 2 == 0:\n",
    "        print(number // 2)\n",
    "        return number // 2\n",
    "    elif number % 2 == 1:\n",
    "        result = 3 * number + 1 \n",
    "        print(result)\n",
    "        return result \n",
    "    \n",
    "n = input(\"Give me a number: \")\n",
    "\n",
    "while n !=1:\n",
    "    n = collatz(int(n))"
   ]
  },
  {
   "cell_type": "code",
   "execution_count": 55,
   "metadata": {},
   "outputs": [
    {
     "name": "stdout",
     "output_type": "stream",
     "text": [
      "Thank you \n",
      "Thank you \n",
      "Thank you \n"
     ]
    }
   ],
   "source": [
    "number = 0\n",
    "\n",
    "while number < 3:\n",
    "    print(\"Thank you \")\n",
    "    number += 1"
   ]
  },
  {
   "cell_type": "code",
   "execution_count": 56,
   "metadata": {},
   "outputs": [
    {
     "name": "stdout",
     "output_type": "stream",
     "text": [
      "The number 2 is even\n",
      "The number 4 is even\n",
      "The number 6 is even\n",
      "The number 8 is even\n"
     ]
    }
   ],
   "source": [
    "number = 1\n",
    "\n",
    "while number < 10:\n",
    "    while number % 2 ==0:\n",
    "        print(\"The number \"+str(number)+\" is even\")\n",
    "        break \n",
    "    number += 1"
   ]
  },
  {
   "cell_type": "code",
   "execution_count": 57,
   "metadata": {},
   "outputs": [
    {
     "name": "stdout",
     "output_type": "stream",
     "text": [
      "-------------------------------------------\n",
      "I am outer loop iteration 0\n",
      "****************************\n",
      "I am inner loop iteration 0\n",
      "-------------------------------------------\n",
      "I am outer loop iteration 1\n",
      "****************************\n",
      "I am inner loop iteration 0\n",
      "-------------------------------------------\n",
      "I am outer loop iteration 2\n",
      "****************************\n",
      "I am inner loop iteration 0\n"
     ]
    }
   ],
   "source": [
    "for number in range(3) : \n",
    "    print(\"-------------------------------------------\")\n",
    "    print(\"I am outer loop iteration \"+str(number))\n",
    "    for another_number in range(3):\n",
    "        print(\"****************************\")\n",
    "        print(\"I am inner loop iteration \"+str(another_number))\n",
    "        break"
   ]
  },
  {
   "cell_type": "code",
   "execution_count": 58,
   "metadata": {},
   "outputs": [
    {
     "name": "stdout",
     "output_type": "stream",
     "text": [
      "12.5\n",
      "3.125\n",
      "0.78125\n"
     ]
    }
   ],
   "source": [
    "error = 50.0\n",
    "\n",
    "while error > 1:\n",
    "    error = error / 4\n",
    "    print(error)"
   ]
  },
  {
   "cell_type": "code",
   "execution_count": 59,
   "metadata": {},
   "outputs": [
    {
     "name": "stdout",
     "output_type": "stream",
     "text": [
      "Correcting\n",
      "7\n",
      "Correcting\n",
      "6\n",
      "Correcting\n",
      "5\n",
      "Correcting\n",
      "4\n",
      "Correcting\n",
      "3\n",
      "Correcting\n",
      "2\n",
      "Correcting\n",
      "1\n",
      "Correcting\n",
      "0\n"
     ]
    }
   ],
   "source": [
    "offset = 8\n",
    "\n",
    "while offset != 0:\n",
    "    print(\"Correcting\")\n",
    "    offset -= 1\n",
    "    print(offset)\n",
    "    "
   ]
  },
  {
   "cell_type": "code",
   "execution_count": 60,
   "metadata": {},
   "outputs": [],
   "source": [
    "while True:\n",
    "    user_input = input(\"Enter a positive number: \")\n",
    "    if user_input.isdigit() and int(user_input) > 0:\n",
    "        break\n",
    "    print(\"Invalid input. Please try again\")"
   ]
  },
  {
   "cell_type": "code",
   "execution_count": 61,
   "metadata": {},
   "outputs": [
    {
     "name": "stdout",
     "output_type": "stream",
     "text": [
      "Plenty of stock remaining\n",
      "Plenty of stock remaining\n",
      "Some stock remaining\n",
      "Some stock remaining\n",
      "Some stock remaining\n",
      "Some stock remaining\n",
      "Low stock!\n",
      "Low stock!\n",
      "Low stock!\n",
      "No stock\n"
     ]
    }
   ],
   "source": [
    "stock = 10 \n",
    "num_of_purchases = 0\n",
    "\n",
    "while num_of_purchases < stock:\n",
    "    num_of_purchases += 1\n",
    "    if stock - num_of_purchases > 7:\n",
    "        print(\"Plenty of stock remaining\")\n",
    "    elif stock - num_of_purchases > 3:\n",
    "        print(\"Some stock remaining\")\n",
    "    elif stock - num_of_purchases != 0:\n",
    "        print(\"Low stock!\")\n",
    "    else:\n",
    "        print(\"No stock\")"
   ]
  },
  {
   "cell_type": "code",
   "execution_count": 62,
   "metadata": {},
   "outputs": [
    {
     "name": "stdout",
     "output_type": "stream",
     "text": [
      "0\n",
      "1\n",
      "2\n",
      "3\n",
      "4\n",
      "5\n",
      "6\n",
      "7\n",
      "8\n",
      "9\n"
     ]
    }
   ],
   "source": [
    "x = 0 \n",
    "\n",
    "while x < 10:\n",
    "    print(x)\n",
    "    x += 1"
   ]
  },
  {
   "cell_type": "code",
   "execution_count": 63,
   "metadata": {},
   "outputs": [
    {
     "name": "stdout",
     "output_type": "stream",
     "text": [
      "0\n",
      "1\n",
      "2\n",
      "3\n",
      "4\n"
     ]
    }
   ],
   "source": [
    "x = 0\n",
    "\n",
    "while x < 10:\n",
    "    if x == 5:\n",
    "        break\n",
    "    print(x)\n",
    "    x += 1"
   ]
  },
  {
   "cell_type": "code",
   "execution_count": 64,
   "metadata": {},
   "outputs": [
    {
     "name": "stdout",
     "output_type": "stream",
     "text": [
      "1\n",
      "2\n",
      "3\n",
      "4\n",
      "5\n"
     ]
    }
   ],
   "source": [
    "x = 0 \n",
    "\n",
    "while True:\n",
    "    if x == 5:\n",
    "        break\n",
    "    x += 1\n",
    "    print(x)"
   ]
  },
  {
   "cell_type": "markdown",
   "metadata": {},
   "source": [
    "# range()"
   ]
  },
  {
   "cell_type": "code",
   "execution_count": 65,
   "metadata": {},
   "outputs": [
    {
     "data": {
      "text/plain": [
       "range(0, 10)"
      ]
     },
     "execution_count": 65,
     "metadata": {},
     "output_type": "execute_result"
    }
   ],
   "source": [
    "range(10)\n"
   ]
  },
  {
   "cell_type": "code",
   "execution_count": 66,
   "metadata": {},
   "outputs": [
    {
     "name": "stdout",
     "output_type": "stream",
     "text": [
      "0\n",
      "1\n",
      "2\n",
      "3\n",
      "4\n",
      "5\n",
      "6\n",
      "7\n",
      "8\n",
      "9\n"
     ]
    }
   ],
   "source": [
    "for i in range(10):\n",
    "    print(i)"
   ]
  },
  {
   "cell_type": "code",
   "execution_count": 67,
   "metadata": {},
   "outputs": [
    {
     "name": "stdout",
     "output_type": "stream",
     "text": [
      "5\n",
      "7\n",
      "9\n"
     ]
    }
   ],
   "source": [
    "for i in range(5,10,2):\n",
    "    print(i)"
   ]
  },
  {
   "cell_type": "code",
   "execution_count": 68,
   "metadata": {},
   "outputs": [
    {
     "name": "stdout",
     "output_type": "stream",
     "text": [
      "1\n",
      "2\n",
      "3\n",
      "4\n",
      "5\n",
      "6\n",
      "7\n",
      "8\n",
      "9\n",
      "10\n"
     ]
    }
   ],
   "source": [
    "for i in range(1,11):\n",
    "    print(i)"
   ]
  },
  {
   "cell_type": "code",
   "execution_count": 69,
   "metadata": {},
   "outputs": [
    {
     "data": {
      "text/plain": [
       "range"
      ]
     },
     "execution_count": 69,
     "metadata": {},
     "output_type": "execute_result"
    }
   ],
   "source": [
    "type(range(100))\n"
   ]
  },
  {
   "cell_type": "code",
   "execution_count": 70,
   "metadata": {},
   "outputs": [
    {
     "data": {
      "text/plain": [
       "[0, 1, 2, 3, 4, 5, 6, 7, 8, 9]"
      ]
     },
     "execution_count": 70,
     "metadata": {},
     "output_type": "execute_result"
    }
   ],
   "source": [
    "list(range(10))"
   ]
  },
  {
   "cell_type": "code",
   "execution_count": 71,
   "metadata": {},
   "outputs": [
    {
     "data": {
      "text/plain": [
       "10"
      ]
     },
     "execution_count": 71,
     "metadata": {},
     "output_type": "execute_result"
    }
   ],
   "source": [
    "len(list(range(10)))"
   ]
  },
  {
   "cell_type": "code",
   "execution_count": 72,
   "metadata": {},
   "outputs": [
    {
     "name": "stdout",
     "output_type": "stream",
     "text": [
      "-5\n",
      "-4\n",
      "-3\n",
      "-2\n",
      "-1\n"
     ]
    }
   ],
   "source": [
    "for seq in range(-5,0):\n",
    "    print(seq)"
   ]
  },
  {
   "cell_type": "code",
   "execution_count": 73,
   "metadata": {},
   "outputs": [
    {
     "name": "stdout",
     "output_type": "stream",
     "text": [
      "50\n",
      "150\n",
      "250\n",
      "350\n",
      "450\n",
      "550\n",
      "650\n",
      "750\n",
      "850\n",
      "950\n"
     ]
    }
   ],
   "source": [
    "for seq in range(50,1000,100):\n",
    "    print(seq)"
   ]
  },
  {
   "cell_type": "code",
   "execution_count": 74,
   "metadata": {},
   "outputs": [
    {
     "name": "stdout",
     "output_type": "stream",
     "text": [
      "100\n",
      "90\n",
      "80\n",
      "70\n",
      "60\n",
      "50\n",
      "40\n",
      "30\n",
      "20\n"
     ]
    }
   ],
   "source": [
    "for seq in range(100,10,-10):\n",
    "    print(seq)"
   ]
  },
  {
   "cell_type": "code",
   "execution_count": 75,
   "metadata": {},
   "outputs": [
    {
     "name": "stdout",
     "output_type": "stream",
     "text": [
      "2\n",
      "6\n",
      "12\n",
      "20\n",
      "30\n",
      "42\n",
      "56\n",
      "72\n",
      "90\n",
      "110\n",
      "Sum of the list : 110\n",
      "List Comprehension SumOfTheList: 110\n"
     ]
    }
   ],
   "source": [
    "list1 = [2,4,6,8,10,12,14,16,18,20]\n",
    "counter = 0\n",
    "\n",
    "for i in range(len(list1)):\n",
    "    counter = counter + list1[i]\n",
    "    print(counter)\n",
    "print(f'Sum of the list : {counter}')\n",
    "\n",
    "SumOfTheList = sum([x for x in list1])\n",
    "print(f'List Comprehension SumOfTheList: {SumOfTheList}')\n"
   ]
  },
  {
   "cell_type": "code",
   "execution_count": 76,
   "metadata": {},
   "outputs": [
    {
     "name": "stdout",
     "output_type": "stream",
     "text": [
      "<itertools.chain object at 0x00000264677A3340>\n",
      "[10, 8, 6, 4, 2, 30, 28, 26, 24, 22, 50, 48, 46, 44, 42]\n"
     ]
    }
   ],
   "source": [
    "from itertools import chain \n",
    "\n",
    "a1 = range(10,0, -2)\n",
    "a2 = range(30,20,-2)\n",
    "a3 = range(50,40,-2)\n",
    "final = chain(a1, a2, a3)\n",
    "print(final)\n",
    "print(list(final))"
   ]
  },
  {
   "cell_type": "code",
   "execution_count": 77,
   "metadata": {},
   "outputs": [],
   "source": [
    "for a in final:\n",
    "    print(a)"
   ]
  },
  {
   "cell_type": "code",
   "execution_count": 78,
   "metadata": {},
   "outputs": [
    {
     "name": "stdout",
     "output_type": "stream",
     "text": [
      "True\n",
      "False\n"
     ]
    }
   ],
   "source": [
    "a = list(range(0, 10, 3))\n",
    "b = list(range(0, 11, 3))\n",
    "c = list(range(0, 11, 2))\n",
    "print(a == b)\n",
    "print(a == c)"
   ]
  },
  {
   "cell_type": "markdown",
   "metadata": {},
   "source": [
    "# if elif else"
   ]
  },
  {
   "cell_type": "code",
   "execution_count": 79,
   "metadata": {},
   "outputs": [
    {
     "name": "stdout",
     "output_type": "stream",
     "text": [
      "z is even\n"
     ]
    }
   ],
   "source": [
    "z = 4 \n",
    "\n",
    "if z % 2 == 0:\n",
    "    print('z is even')"
   ]
  },
  {
   "cell_type": "code",
   "execution_count": 80,
   "metadata": {},
   "outputs": [
    {
     "name": "stdout",
     "output_type": "stream",
     "text": [
      "Checking 4\n",
      "z is even\n"
     ]
    }
   ],
   "source": [
    "if z % 2 == 0:\n",
    "    print('Checking ' + str(z))\n",
    "    print('z is even')"
   ]
  },
  {
   "cell_type": "code",
   "execution_count": 81,
   "metadata": {},
   "outputs": [],
   "source": [
    "z = 5 \n",
    "if z % 2 == 0: # False, no output\n",
    "    print('Checking ' + str(z))\n",
    "    print('z is even')\n",
    "    "
   ]
  },
  {
   "cell_type": "code",
   "execution_count": 82,
   "metadata": {},
   "outputs": [
    {
     "name": "stdout",
     "output_type": "stream",
     "text": [
      "z is odd\n"
     ]
    }
   ],
   "source": [
    "z = 5 \n",
    "\n",
    "if z % 2 == 0:\n",
    "    print('z is even')\n",
    "else:\n",
    "    print('z is odd')"
   ]
  },
  {
   "cell_type": "code",
   "execution_count": 83,
   "metadata": {},
   "outputs": [
    {
     "name": "stdout",
     "output_type": "stream",
     "text": [
      "z is neither divisible by 2 nor by 3\n"
     ]
    }
   ],
   "source": [
    "z = 5\n",
    "\n",
    "if z % 2 == 0:\n",
    "    print('z is divisible by 2')\n",
    "elif z % 3 == 0:\n",
    "    print('z is divisible by 3')\n",
    "else:\n",
    "    print('z is neither divisible by 2 nor by 3')"
   ]
  },
  {
   "cell_type": "code",
   "execution_count": 84,
   "metadata": {},
   "outputs": [
    {
     "name": "stdout",
     "output_type": "stream",
     "text": [
      "Looking around in the bedroom\n",
      "Pretty small\n"
     ]
    }
   ],
   "source": [
    "room = 'bed'\n",
    "area = 14.0\n",
    "\n",
    "if room == 'kit':\n",
    "    print('Looking around in the kitchen')\n",
    "elif room == 'bed':\n",
    "    print('Looking around in the bedroom')\n",
    "else:\n",
    "    print('Looking around elsewhere')\n",
    "    \n",
    "if area > 15:\n",
    "    print('It is a small place')\n",
    "else:\n",
    "    print('Pretty small')"
   ]
  },
  {
   "cell_type": "markdown",
   "metadata": {},
   "source": [
    "# Lambda function"
   ]
  },
  {
   "cell_type": "code",
   "execution_count": 85,
   "metadata": {},
   "outputs": [],
   "source": [
    "x = [20, 30, 40, 50, 60]\n",
    "y = []"
   ]
  },
  {
   "cell_type": "code",
   "execution_count": 86,
   "metadata": {},
   "outputs": [
    {
     "data": {
      "text/plain": [
       "[20, 30, 40, 50, 60]"
      ]
     },
     "execution_count": 86,
     "metadata": {},
     "output_type": "execute_result"
    }
   ],
   "source": [
    "x"
   ]
  },
  {
   "cell_type": "code",
   "execution_count": 87,
   "metadata": {},
   "outputs": [],
   "source": [
    "for v in x:\n",
    "    y += [v * 5]"
   ]
  },
  {
   "cell_type": "code",
   "execution_count": 88,
   "metadata": {},
   "outputs": [
    {
     "data": {
      "text/plain": [
       "[20, 30, 40, 50, 60]"
      ]
     },
     "execution_count": 88,
     "metadata": {},
     "output_type": "execute_result"
    }
   ],
   "source": [
    "x"
   ]
  },
  {
   "cell_type": "code",
   "execution_count": 89,
   "metadata": {},
   "outputs": [
    {
     "data": {
      "text/plain": [
       "<map at 0x264677a3cd0>"
      ]
     },
     "execution_count": 89,
     "metadata": {},
     "output_type": "execute_result"
    }
   ],
   "source": [
    "y = map(lambda x: x * 5, x)\n",
    "y"
   ]
  },
  {
   "cell_type": "code",
   "execution_count": 90,
   "metadata": {},
   "outputs": [
    {
     "data": {
      "text/plain": [
       "[100, 150, 200, 250, 300]"
      ]
     },
     "execution_count": 90,
     "metadata": {},
     "output_type": "execute_result"
    }
   ],
   "source": [
    "list(y)"
   ]
  },
  {
   "cell_type": "code",
   "execution_count": 91,
   "metadata": {},
   "outputs": [
    {
     "data": {
      "text/plain": [
       "2"
      ]
     },
     "execution_count": 91,
     "metadata": {},
     "output_type": "execute_result"
    }
   ],
   "source": [
    "columns"
   ]
  },
  {
   "cell_type": "code",
   "execution_count": 92,
   "metadata": {},
   "outputs": [],
   "source": [
    "columns = ['sepal_length', 'sepal_width','petal_length','petal_width']\n",
    "\n",
    "for column in columns:\n",
    "    iris[column] = iris[column].apply(lambda row: row + 2)"
   ]
  },
  {
   "cell_type": "code",
   "execution_count": 93,
   "metadata": {},
   "outputs": [
    {
     "data": {
      "text/html": [
       "<div>\n",
       "<style scoped>\n",
       "    .dataframe tbody tr th:only-of-type {\n",
       "        vertical-align: middle;\n",
       "    }\n",
       "\n",
       "    .dataframe tbody tr th {\n",
       "        vertical-align: top;\n",
       "    }\n",
       "\n",
       "    .dataframe thead th {\n",
       "        text-align: right;\n",
       "    }\n",
       "</style>\n",
       "<table border=\"1\" class=\"dataframe\">\n",
       "  <thead>\n",
       "    <tr style=\"text-align: right;\">\n",
       "      <th></th>\n",
       "      <th>sepal_length</th>\n",
       "      <th>sepal_width</th>\n",
       "      <th>petal_length</th>\n",
       "      <th>petal_width</th>\n",
       "      <th>species</th>\n",
       "    </tr>\n",
       "  </thead>\n",
       "  <tbody>\n",
       "    <tr>\n",
       "      <th>0</th>\n",
       "      <td>9.1</td>\n",
       "      <td>7.5</td>\n",
       "      <td>5.4</td>\n",
       "      <td>4.2</td>\n",
       "      <td>setosa</td>\n",
       "    </tr>\n",
       "    <tr>\n",
       "      <th>1</th>\n",
       "      <td>8.9</td>\n",
       "      <td>7.0</td>\n",
       "      <td>5.4</td>\n",
       "      <td>4.2</td>\n",
       "      <td>setosa</td>\n",
       "    </tr>\n",
       "    <tr>\n",
       "      <th>2</th>\n",
       "      <td>8.7</td>\n",
       "      <td>7.2</td>\n",
       "      <td>5.3</td>\n",
       "      <td>4.2</td>\n",
       "      <td>setosa</td>\n",
       "    </tr>\n",
       "    <tr>\n",
       "      <th>3</th>\n",
       "      <td>8.6</td>\n",
       "      <td>7.1</td>\n",
       "      <td>5.5</td>\n",
       "      <td>4.2</td>\n",
       "      <td>setosa</td>\n",
       "    </tr>\n",
       "    <tr>\n",
       "      <th>4</th>\n",
       "      <td>9.0</td>\n",
       "      <td>7.6</td>\n",
       "      <td>5.4</td>\n",
       "      <td>4.2</td>\n",
       "      <td>setosa</td>\n",
       "    </tr>\n",
       "    <tr>\n",
       "      <th>...</th>\n",
       "      <td>...</td>\n",
       "      <td>...</td>\n",
       "      <td>...</td>\n",
       "      <td>...</td>\n",
       "      <td>...</td>\n",
       "    </tr>\n",
       "    <tr>\n",
       "      <th>145</th>\n",
       "      <td>10.7</td>\n",
       "      <td>7.0</td>\n",
       "      <td>9.2</td>\n",
       "      <td>6.3</td>\n",
       "      <td>virginica</td>\n",
       "    </tr>\n",
       "    <tr>\n",
       "      <th>146</th>\n",
       "      <td>10.3</td>\n",
       "      <td>6.5</td>\n",
       "      <td>9.0</td>\n",
       "      <td>5.9</td>\n",
       "      <td>virginica</td>\n",
       "    </tr>\n",
       "    <tr>\n",
       "      <th>147</th>\n",
       "      <td>10.5</td>\n",
       "      <td>7.0</td>\n",
       "      <td>9.2</td>\n",
       "      <td>6.0</td>\n",
       "      <td>virginica</td>\n",
       "    </tr>\n",
       "    <tr>\n",
       "      <th>148</th>\n",
       "      <td>10.2</td>\n",
       "      <td>7.4</td>\n",
       "      <td>9.4</td>\n",
       "      <td>6.3</td>\n",
       "      <td>virginica</td>\n",
       "    </tr>\n",
       "    <tr>\n",
       "      <th>149</th>\n",
       "      <td>9.9</td>\n",
       "      <td>7.0</td>\n",
       "      <td>9.1</td>\n",
       "      <td>5.8</td>\n",
       "      <td>virginica</td>\n",
       "    </tr>\n",
       "  </tbody>\n",
       "</table>\n",
       "<p>150 rows × 5 columns</p>\n",
       "</div>"
      ],
      "text/plain": [
       "     sepal_length  sepal_width  petal_length  petal_width    species\n",
       "0             9.1          7.5           5.4          4.2     setosa\n",
       "1             8.9          7.0           5.4          4.2     setosa\n",
       "2             8.7          7.2           5.3          4.2     setosa\n",
       "3             8.6          7.1           5.5          4.2     setosa\n",
       "4             9.0          7.6           5.4          4.2     setosa\n",
       "..            ...          ...           ...          ...        ...\n",
       "145          10.7          7.0           9.2          6.3  virginica\n",
       "146          10.3          6.5           9.0          5.9  virginica\n",
       "147          10.5          7.0           9.2          6.0  virginica\n",
       "148          10.2          7.4           9.4          6.3  virginica\n",
       "149           9.9          7.0           9.1          5.8  virginica\n",
       "\n",
       "[150 rows x 5 columns]"
      ]
     },
     "execution_count": 93,
     "metadata": {},
     "output_type": "execute_result"
    }
   ],
   "source": [
    "iris"
   ]
  },
  {
   "cell_type": "code",
   "execution_count": 94,
   "metadata": {},
   "outputs": [
    {
     "data": {
      "text/plain": [
       "20"
      ]
     },
     "execution_count": 94,
     "metadata": {},
     "output_type": "execute_result"
    }
   ],
   "source": [
    "add = lambda x,y: x + y\n",
    "add(10,10)\n"
   ]
  },
  {
   "cell_type": "code",
   "execution_count": 95,
   "metadata": {},
   "outputs": [
    {
     "name": "stdout",
     "output_type": "stream",
     "text": [
      "<map object at 0x00000264677A33A0>\n",
      "It is from map function [2304, 36, 81, 441, 1], then it is from List Comprehension [2304, 36, 81, 441, 1]\n"
     ]
    }
   ],
   "source": [
    "nums = [48, 6, 9, 21, 1]\n",
    "\n",
    "square_all = map(lambda x: x **2, nums)\n",
    "ListComprehension = [x ** 2 for x in nums]\n",
    "\n",
    "print(square_all)\n",
    "print(f'It is from map function {list(square_all)}, then it is from List Comprehension {ListComprehension}')\n",
    "\n",
    "\n",
    "\n"
   ]
  },
  {
   "cell_type": "code",
   "execution_count": 96,
   "metadata": {},
   "outputs": [
    {
     "data": {
      "text/plain": [
       "'LukaszLukaszLukaszLukaszLukasz'"
      ]
     },
     "execution_count": 96,
     "metadata": {},
     "output_type": "execute_result"
    }
   ],
   "source": [
    "def echo_world(words,echo):\n",
    "    word = words * echo\n",
    "    return word\n",
    "\n",
    "echo_world('Lukasz',5)"
   ]
  },
  {
   "cell_type": "code",
   "execution_count": 97,
   "metadata": {},
   "outputs": [
    {
     "data": {
      "text/plain": [
       "'LukaszLukaszLukaszLukaszLukasz'"
      ]
     },
     "execution_count": 97,
     "metadata": {},
     "output_type": "execute_result"
    }
   ],
   "source": [
    "echo_worlds = lambda words, echo: words * echo \n",
    "echo_worlds('Lukasz', 5)"
   ]
  },
  {
   "cell_type": "code",
   "execution_count": 98,
   "metadata": {},
   "outputs": [
    {
     "data": {
      "text/plain": [
       "6"
      ]
     },
     "execution_count": 98,
     "metadata": {},
     "output_type": "execute_result"
    }
   ],
   "source": [
    "add_1 = lambda x: x + 1\n",
    "add_1(5)"
   ]
  },
  {
   "cell_type": "code",
   "execution_count": 99,
   "metadata": {},
   "outputs": [
    {
     "name": "stdout",
     "output_type": "stream",
     "text": [
      "Result from function [1, 4, 9, 16, 25, 36, 49, 64, 81, 100], result from lambda [1, 4, 9, 16, 25, 36, 49, 64, 81, 100], result from list comprehension [1, 4, 9, 16, 25, 36, 49, 64, 81, 100]\n"
     ]
    }
   ],
   "source": [
    "my_numbers = [1,2,3,4,5,6,7,8,9,10]\n",
    "\n",
    "def square(x):\n",
    "    return x ** 2\n",
    "\n",
    "squares = list(map(square, my_numbers))\n",
    "\n",
    "squares_lambda = list(map(lambda x: x**2, my_numbers))\n",
    "\n",
    "squares_list_comprehesion = [x**2 for x  in my_numbers]\n",
    "\n",
    "print(f'Result from function {squares}, result from lambda {squares_lambda}, result from list comprehension {squares_list_comprehesion}')\n"
   ]
  },
  {
   "cell_type": "code",
   "execution_count": 100,
   "metadata": {},
   "outputs": [
    {
     "name": "stdout",
     "output_type": "stream",
     "text": [
      "Result from a filter [2, 4, 6, 8, 10], then result from a List Comprehension [2, 4, 6, 8, 10]\n"
     ]
    }
   ],
   "source": [
    "evens = list(filter(lambda x: x % 2 == 0, my_numbers))\n",
    "evensListComprehension = [x for x in my_numbers if x % 2 == 0]\n",
    "\n",
    "print(f'Result from a filter {evens}, then result from a List Comprehension {evensListComprehension}')"
   ]
  },
  {
   "cell_type": "code",
   "execution_count": 101,
   "metadata": {},
   "outputs": [
    {
     "data": {
      "text/plain": [
       "[('dave', 'B', 10), ('jane', 'B', 12), ('john', 'A', 15)]"
      ]
     },
     "execution_count": 101,
     "metadata": {},
     "output_type": "execute_result"
    }
   ],
   "source": [
    "student_tuples = [\n",
    "    ('john', 'A', 15),\n",
    "    ('jane', 'B', 12),\n",
    "    ('dave', 'B', 10),\n",
    "]\n",
    "\n",
    "sorted(student_tuples, key=lambda x: x[2])"
   ]
  },
  {
   "cell_type": "code",
   "execution_count": 102,
   "metadata": {},
   "outputs": [
    {
     "name": "stdout",
     "output_type": "stream",
     "text": [
      "15\n",
      "5\n",
      "5\n",
      "15\n"
     ]
    }
   ],
   "source": [
    "from functools import reduce\n",
    "numbers = [1,2,3,4,5]\n",
    "\n",
    "sum_of_numbers = reduce(lambda x, y: x+y, numbers)\n",
    "print(sum_of_numbers)\n",
    "\n",
    "max_value = reduce(lambda acc, x:acc  if acc > x else x, numbers)\n",
    "print(max_value)\n",
    "\n",
    "List_Comprehension = max([x for x in numbers])\n",
    "Sum_List_Comprehension = sum([x for x in numbers])\n",
    "print(List_Comprehension)\n",
    "print(Sum_List_Comprehension)"
   ]
  },
  {
   "cell_type": "markdown",
   "metadata": {},
   "source": [
    "# List Comprehension"
   ]
  },
  {
   "cell_type": "code",
   "execution_count": 103,
   "metadata": {},
   "outputs": [
    {
     "name": "stdout",
     "output_type": "stream",
     "text": [
      "[0, 4, 16, 36, 64]\n"
     ]
    }
   ],
   "source": [
    "numbers = range(10)\n",
    "\n",
    "new_list = []\n",
    "\n",
    "for n in numbers:\n",
    "    if n % 2 == 0:\n",
    "        new_list.append(n**2)\n",
    "\n",
    "print(new_list)"
   ]
  },
  {
   "cell_type": "code",
   "execution_count": 104,
   "metadata": {},
   "outputs": [
    {
     "name": "stdout",
     "output_type": "stream",
     "text": [
      "[0, 4, 16, 36, 64]\n"
     ]
    }
   ],
   "source": [
    "new_listcomprehension = [x**2 for x in numbers if x % 2 == 0]\n",
    "print(new_listcomprehension)"
   ]
  },
  {
   "cell_type": "code",
   "execution_count": 105,
   "metadata": {},
   "outputs": [
    {
     "name": "stdout",
     "output_type": "stream",
     "text": [
      "[0, 1, 4, 9, 16, 25, 36, 49, 64, 81, 100]\n"
     ]
    }
   ],
   "source": [
    "num = range(11)\n",
    "new_list = []\n",
    "\n",
    "for n in num:\n",
    "    new_list.append(n*n)\n",
    "    \n",
    "print(new_list)"
   ]
  },
  {
   "cell_type": "code",
   "execution_count": 106,
   "metadata": {},
   "outputs": [
    {
     "name": "stdout",
     "output_type": "stream",
     "text": [
      "[0, 1, 4, 9, 16, 25, 36, 49, 64, 81, 100]\n"
     ]
    }
   ],
   "source": [
    "ListCom = [x*x for x in range(11)]\n",
    "print(ListCom)"
   ]
  },
  {
   "cell_type": "code",
   "execution_count": 107,
   "metadata": {},
   "outputs": [
    {
     "name": "stdout",
     "output_type": "stream",
     "text": [
      "[0, 2, 4, 6, 8, 10, 12, 14, 16, 18, 20, 22, 24, 26, 28, 30, 32, 34, 36, 38, 40, 42, 44, 46, 48]\n"
     ]
    }
   ],
   "source": [
    "even = []\n",
    "\n",
    "for n in range(50):\n",
    "    is_even = n % 2 == 0\n",
    "    if is_even:\n",
    "        even.append(n)\n",
    "        \n",
    "print(even)"
   ]
  },
  {
   "cell_type": "code",
   "execution_count": 108,
   "metadata": {},
   "outputs": [
    {
     "name": "stdout",
     "output_type": "stream",
     "text": [
      "[('a', 0), ('a', 1), ('a', 2), ('a', 3), ('b', 0), ('b', 1), ('b', 2), ('b', 3), ('c', 0), ('c', 1), ('c', 2), ('c', 3), ('d', 0), ('d', 1), ('d', 2), ('d', 3)]\n"
     ]
    }
   ],
   "source": [
    "# I want a (letter, num) pair of each letter in 'abcd' and each number in '0123' foe example a0, A1\n",
    "new_list = []\n",
    "\n",
    "for letter in 'abcd':\n",
    "    for number in [0,1,2,3]:\n",
    "        #print(letter, number)\n",
    "        new_list.append((letter,number))\n",
    "print(new_list)"
   ]
  },
  {
   "cell_type": "code",
   "execution_count": 109,
   "metadata": {},
   "outputs": [
    {
     "name": "stdout",
     "output_type": "stream",
     "text": [
      "[('a', 0), ('a', 1), ('a', 2), ('a', 3), ('b', 0), ('b', 1), ('b', 2), ('b', 3), ('c', 0), ('c', 1), ('c', 2), ('c', 3), ('d', 0), ('d', 1), ('d', 2), ('d', 3)]\n"
     ]
    }
   ],
   "source": [
    "my_new_list = [(a,b) for a in 'abcd' for b in range(4)]\n",
    "print(my_new_list)"
   ]
  },
  {
   "cell_type": "markdown",
   "metadata": {},
   "source": [
    "## Instead of map() & filter() & reduce() &  lambda(), using List Comprehension"
   ]
  },
  {
   "cell_type": "code",
   "execution_count": 110,
   "metadata": {},
   "outputs": [
    {
     "name": "stdout",
     "output_type": "stream",
     "text": [
      "[128608.92408000001, 119750.65635, 122375.32826999998, 124015.74822]\n"
     ]
    }
   ],
   "source": [
    "kilometer = [39.2, 36.5, 37.3, 37.8]\n",
    "\n",
    "feet = map(lambda x: float(3280.8399)*x, kilometer)\n",
    "listfeet = list(feet)\n",
    "print(listfeet)"
   ]
  },
  {
   "cell_type": "code",
   "execution_count": 111,
   "metadata": {},
   "outputs": [
    {
     "name": "stdout",
     "output_type": "stream",
     "text": [
      "[128608.92408000001, 119750.65635, 122375.32826999998, 124015.74822]\n"
     ]
    }
   ],
   "source": [
    "newfeetListComprehension = [x*float(3280.8399) for x in kilometer]\n",
    "print(newfeetListComprehension)"
   ]
  },
  {
   "cell_type": "code",
   "execution_count": 112,
   "metadata": {},
   "outputs": [
    {
     "name": "stdout",
     "output_type": "stream",
     "text": [
      "[128608, 119750, 122375, 124015]\n"
     ]
    }
   ],
   "source": [
    "feet = list(map(int,listfeet))\n",
    "print(feet)"
   ]
  },
  {
   "cell_type": "code",
   "execution_count": 113,
   "metadata": {},
   "outputs": [
    {
     "name": "stdout",
     "output_type": "stream",
     "text": [
      "[122375, 124015]\n"
     ]
    }
   ],
   "source": [
    "uneven = filter(lambda x: x%2, feet)\n",
    "print(list(uneven))"
   ]
  },
  {
   "cell_type": "code",
   "execution_count": 114,
   "metadata": {},
   "outputs": [
    {
     "name": "stdout",
     "output_type": "stream",
     "text": [
      "[0, 2, 4, 6, 8, 10]\n"
     ]
    }
   ],
   "source": [
    "nums = range(0,11)\n",
    "my_list = filter(lambda x: x % 2 == 0, nums)\n",
    "print(list(my_list))"
   ]
  },
  {
   "cell_type": "code",
   "execution_count": 115,
   "metadata": {},
   "outputs": [
    {
     "name": "stdout",
     "output_type": "stream",
     "text": [
      "[128608, 119750, 122375, 124015]\n"
     ]
    }
   ],
   "source": [
    "ListComprehensionInt = [int(x) for x in newfeetListComprehension]\n",
    "print(ListComprehensionInt)"
   ]
  },
  {
   "cell_type": "code",
   "execution_count": 116,
   "metadata": {},
   "outputs": [
    {
     "name": "stdout",
     "output_type": "stream",
     "text": [
      "[0, 0, 1, 1]\n",
      "[122375, 124015]\n"
     ]
    }
   ],
   "source": [
    "ListComprehensionEvenTrue = [x % 2 for x in ListComprehensionInt]\n",
    "print(ListComprehensionEvenTrue)\n",
    "ListComprehensionEven = [x for x in ListComprehensionInt if x % 2 != 0]\n",
    "print(ListComprehensionEven)"
   ]
  },
  {
   "cell_type": "code",
   "execution_count": 117,
   "metadata": {},
   "outputs": [
    {
     "name": "stdout",
     "output_type": "stream",
     "text": [
      "494748\n"
     ]
    }
   ],
   "source": [
    "from functools import reduce\n",
    "reduced_feet = reduce(lambda x,y: x+y, feet)\n",
    "print(reduced_feet)"
   ]
  },
  {
   "cell_type": "code",
   "execution_count": 118,
   "metadata": {},
   "outputs": [
    {
     "name": "stdout",
     "output_type": "stream",
     "text": [
      "494748\n"
     ]
    }
   ],
   "source": [
    "ListComprehensionSum = sum([x for x in feet])\n",
    "print(ListComprehensionSum)"
   ]
  },
  {
   "cell_type": "markdown",
   "metadata": {},
   "source": [
    "## List Comprehensions with Conditionals"
   ]
  },
  {
   "cell_type": "code",
   "execution_count": 119,
   "metadata": {},
   "outputs": [
    {
     "data": {
      "text/plain": [
       "[128608, 119750, 122375, 124015]"
      ]
     },
     "execution_count": 119,
     "metadata": {},
     "output_type": "execute_result"
    }
   ],
   "source": [
    "ListComprehensionInt"
   ]
  },
  {
   "cell_type": "code",
   "execution_count": 120,
   "metadata": {},
   "outputs": [],
   "source": [
    "uneven = [x/2 for x in ListComprehensionInt if x % 2 == 0]\n"
   ]
  },
  {
   "cell_type": "code",
   "execution_count": 121,
   "metadata": {},
   "outputs": [
    {
     "data": {
      "text/plain": [
       "[64304.0, 59875.0]"
      ]
     },
     "execution_count": 121,
     "metadata": {},
     "output_type": "execute_result"
    }
   ],
   "source": [
    "uneven"
   ]
  },
  {
   "cell_type": "code",
   "execution_count": 122,
   "metadata": {},
   "outputs": [
    {
     "name": "stdout",
     "output_type": "stream",
     "text": [
      "[64304.0, 59875.0]\n"
     ]
    }
   ],
   "source": [
    "uneven_list = []\n",
    "\n",
    "for x in ListComprehensionInt:\n",
    "    if x % 2 == 0:\n",
    "        x = x/2\n",
    "        uneven_list.append(x)\n",
    "\n",
    "print(uneven_list)"
   ]
  },
  {
   "cell_type": "markdown",
   "metadata": {},
   "source": [
    "## List Comprehensions with Multipe If Conditionals"
   ]
  },
  {
   "cell_type": "code",
   "execution_count": 123,
   "metadata": {},
   "outputs": [
    {
     "name": "stdout",
     "output_type": "stream",
     "text": [
      "[0, 6]\n"
     ]
    }
   ],
   "source": [
    "newdevided = []\n",
    "\n",
    "for x in range(10):\n",
    "    if x % 2 == 0:\n",
    "        if x % 6 == 0:\n",
    "            newdevided.append(x)\n",
    "            \n",
    "print(newdevided)\n",
    "        "
   ]
  },
  {
   "cell_type": "code",
   "execution_count": 124,
   "metadata": {},
   "outputs": [
    {
     "name": "stdout",
     "output_type": "stream",
     "text": [
      "[0, 6]\n"
     ]
    }
   ],
   "source": [
    "devided = [x for x in range(10) if x % 2 == 0 if x % 6 == 0]\n",
    "print(devided)"
   ]
  },
  {
   "cell_type": "markdown",
   "metadata": {},
   "source": [
    "## List Comprehensions with If-Else Conditions"
   ]
  },
  {
   "cell_type": "code",
   "execution_count": 125,
   "metadata": {},
   "outputs": [
    {
     "data": {
      "text/plain": [
       "[128608, 119750, 122375, 124015]"
      ]
     },
     "execution_count": 125,
     "metadata": {},
     "output_type": "execute_result"
    }
   ],
   "source": [
    "feet"
   ]
  },
  {
   "cell_type": "code",
   "execution_count": 126,
   "metadata": {},
   "outputs": [
    {
     "name": "stdout",
     "output_type": "stream",
     "text": [
      "[128609, 119755, 122376, 124016]\n"
     ]
    }
   ],
   "source": [
    "newlistfeet = []\n",
    "\n",
    "for x in feet:\n",
    "    if x >= 120000:\n",
    "        x = x + 1 \n",
    "    else:\n",
    "        x= x + 5\n",
    "        \n",
    "    newlistfeet.append(x)\n",
    "        \n",
    "\n",
    "print(newlistfeet)\n",
    "\n"
   ]
  },
  {
   "cell_type": "code",
   "execution_count": 127,
   "metadata": {},
   "outputs": [
    {
     "data": {
      "text/plain": [
       "[128609, 119755, 122376, 124016]"
      ]
     },
     "execution_count": 127,
     "metadata": {},
     "output_type": "execute_result"
    }
   ],
   "source": [
    "ListComprehensionFeetIfElse = [x+1 if x > 120000 else x + 5 for x in feet]\n",
    "ListComprehensionFeetIfElse"
   ]
  },
  {
   "cell_type": "markdown",
   "metadata": {},
   "source": [
    "## Nested List Comprehensions\n"
   ]
  },
  {
   "cell_type": "code",
   "execution_count": 128,
   "metadata": {},
   "outputs": [],
   "source": [
    "list_of_list = [[1,2,3],[4,5,6],[7,8]]\n",
    "\n",
    "flattened_list_of_list = [y for x in list_of_list for y in x]"
   ]
  },
  {
   "cell_type": "code",
   "execution_count": 129,
   "metadata": {},
   "outputs": [
    {
     "data": {
      "text/plain": [
       "[1, 2, 3, 4, 5, 6, 7, 8]"
      ]
     },
     "execution_count": 129,
     "metadata": {},
     "output_type": "execute_result"
    }
   ],
   "source": [
    "list(flattened_list_of_list)"
   ]
  },
  {
   "cell_type": "code",
   "execution_count": 130,
   "metadata": {},
   "outputs": [
    {
     "name": "stdout",
     "output_type": "stream",
     "text": [
      "[[1, 2, 3], [4, 5, 6], [7, 8, 9]]\n",
      "[[1, 4, 7], [2, 5, 8], [3, 6, 9]]\n"
     ]
    }
   ],
   "source": [
    "matrix = [[1,2,3],[4,5,6],[7,8,9]]\n",
    "new_matrix = [[row[i] for row in matrix] for i in range(3)]\n",
    "\n",
    "print(matrix)\n",
    "print(new_matrix)\n",
    "\n"
   ]
  },
  {
   "cell_type": "markdown",
   "metadata": {},
   "source": [
    "## Formatted String Literals or f-Strings"
   ]
  },
  {
   "cell_type": "code",
   "execution_count": 131,
   "metadata": {},
   "outputs": [
    {
     "data": {
      "text/plain": [
       "'I am Lukasz Dlugozima was born 2024'"
      ]
     },
     "execution_count": 131,
     "metadata": {},
     "output_type": "execute_result"
    }
   ],
   "source": [
    "year = 2024\n",
    "name = 'Lukasz Dlugozima'\n",
    "f'I am {name} was born {year}'"
   ]
  },
  {
   "cell_type": "code",
   "execution_count": 132,
   "metadata": {},
   "outputs": [
    {
     "data": {
      "text/plain": [
       "'32.13%'"
      ]
     },
     "execution_count": 132,
     "metadata": {},
     "output_type": "execute_result"
    }
   ],
   "source": [
    "a = 0.321321123\n",
    "f\"{a:.2%}\""
   ]
  },
  {
   "cell_type": "code",
   "execution_count": 133,
   "metadata": {},
   "outputs": [
    {
     "name": "stdout",
     "output_type": "stream",
     "text": [
      "String formatting is a powerful technique\n"
     ]
    }
   ],
   "source": [
    "custom_string = 'String formatting'\n",
    "print(f\"{custom_string} is a powerful technique\")"
   ]
  },
  {
   "cell_type": "code",
   "execution_count": 134,
   "metadata": {},
   "outputs": [
    {
     "name": "stdout",
     "output_type": "stream",
     "text": [
      "My hovercraft is full of eels.\n"
     ]
    }
   ],
   "source": [
    "animals = 'eels'\n",
    "print(f'My hovercraft is full of {animals}.')"
   ]
  },
  {
   "cell_type": "markdown",
   "metadata": {},
   "source": [
    "## .format() method"
   ]
  },
  {
   "cell_type": "code",
   "execution_count": 135,
   "metadata": {},
   "outputs": [
    {
     "data": {
      "text/plain": [
       "'text a'"
      ]
     },
     "execution_count": 135,
     "metadata": {},
     "output_type": "execute_result"
    }
   ],
   "source": [
    "value = ' a'\n",
    "'text{}'.format(value)"
   ]
  },
  {
   "cell_type": "markdown",
   "metadata": {},
   "source": [
    "### Positional formatting"
   ]
  },
  {
   "cell_type": "code",
   "execution_count": 136,
   "metadata": {},
   "outputs": [
    {
     "name": "stdout",
     "output_type": "stream",
     "text": [
      "Machine learning provides systems the ability to learn automatically\n"
     ]
    }
   ],
   "source": [
    "print(\"Machine learning provides {} the ability to learn {}\".format(\"systems\", \"automatically\"))"
   ]
  },
  {
   "cell_type": "code",
   "execution_count": 137,
   "metadata": {},
   "outputs": [
    {
     "name": "stdout",
     "output_type": "stream",
     "text": [
      "Supervised algorithms rely on labeled datasets\n"
     ]
    }
   ],
   "source": [
    "my_string = \"{} rely on {} datasets\"\n",
    "method = 'Supervised algorithms'\n",
    "condition = 'labeled'\n",
    "\n",
    "print(my_string.format(method, condition))"
   ]
  },
  {
   "cell_type": "markdown",
   "metadata": {},
   "source": [
    "### Reordering values"
   ]
  },
  {
   "cell_type": "code",
   "execution_count": 138,
   "metadata": {},
   "outputs": [
    {
     "name": "stdout",
     "output_type": "stream",
     "text": [
      "Betty has a friend called Linda and a sister called Daisy.\n"
     ]
    }
   ],
   "source": [
    "print('{} has a friend called {} and a sister called {}.'.format(\"Betty\",\"Linda\",\"Daisy\"))"
   ]
  },
  {
   "cell_type": "code",
   "execution_count": 139,
   "metadata": {},
   "outputs": [
    {
     "name": "stdout",
     "output_type": "stream",
     "text": [
      "Daisy has a friend called Linda and a sister called Betty.\n"
     ]
    }
   ],
   "source": [
    "print('{2} has a friend called {1} and a sister called {0}.'.format(\"Betty\",\"Linda\",\"Daisy\"))"
   ]
  },
  {
   "cell_type": "markdown",
   "metadata": {},
   "source": [
    "### Name Placeholders"
   ]
  },
  {
   "cell_type": "code",
   "execution_count": 140,
   "metadata": {},
   "outputs": [
    {
     "name": "stdout",
     "output_type": "stream",
     "text": [
      "Unsupervised algorithms try to find patterns in the dataset\n"
     ]
    }
   ],
   "source": [
    "tool = 'Unsupervised algorithms'\n",
    "goal = 'patterns'\n",
    "print(\"{title} try to find {aim} in the dataset\".format(title=tool, aim=goal))"
   ]
  },
  {
   "cell_type": "code",
   "execution_count": 141,
   "metadata": {},
   "outputs": [],
   "source": [
    "my_methods = {\"tool\":\"Unsupervised algorithms\", \"goal\":\"patterns\"}"
   ]
  },
  {
   "cell_type": "code",
   "execution_count": 142,
   "metadata": {},
   "outputs": [
    {
     "name": "stdout",
     "output_type": "stream",
     "text": [
      "Unsupervised algorithms try to find patterns in the dataset\n"
     ]
    }
   ],
   "source": [
    "print(\"{data[tool]} try to find {data[goal]} in the dataset\".format(data=my_methods))"
   ]
  },
  {
   "cell_type": "markdown",
   "metadata": {},
   "source": [
    "### Format Specifier"
   ]
  },
  {
   "cell_type": "code",
   "execution_count": 143,
   "metadata": {},
   "outputs": [
    {
     "name": "stdout",
     "output_type": "stream",
     "text": [
      "Only 0.515557% of the data produced worldwide is analyzed\n"
     ]
    }
   ],
   "source": [
    "print('Only {0:f}% of the {1} produced worldwide is {2}'.format(0.51555675, \"data\", \"analyzed\"))"
   ]
  },
  {
   "cell_type": "code",
   "execution_count": 144,
   "metadata": {},
   "outputs": [
    {
     "name": "stdout",
     "output_type": "stream",
     "text": [
      "Only 0.52% of the data produced worldwide is analyzed\n"
     ]
    }
   ],
   "source": [
    "print('Only {0:.2f}% of the {1} produced worldwide is {2}'.format(0.51555675, \"data\", \"analyzed\"))"
   ]
  },
  {
   "cell_type": "code",
   "execution_count": 145,
   "metadata": {},
   "outputs": [
    {
     "name": "stdout",
     "output_type": "stream",
     "text": [
      "2024-11-02 15:09:59.614154\n"
     ]
    }
   ],
   "source": [
    "from datetime import datetime\n",
    "print(datetime.now())"
   ]
  },
  {
   "cell_type": "code",
   "execution_count": 146,
   "metadata": {},
   "outputs": [
    {
     "name": "stdout",
     "output_type": "stream",
     "text": [
      "Today's date is 2024-11-02 15:09\n"
     ]
    }
   ],
   "source": [
    "print(\"Today's date is {:%Y-%m-%d %H:%M}\".format(datetime.now()))"
   ]
  },
  {
   "cell_type": "markdown",
   "metadata": {},
   "source": [
    "### % operator"
   ]
  },
  {
   "cell_type": "code",
   "execution_count": 147,
   "metadata": {},
   "outputs": [
    {
     "data": {
      "text/plain": [
       "'Hello Pete'"
      ]
     },
     "execution_count": 147,
     "metadata": {},
     "output_type": "execute_result"
    }
   ],
   "source": [
    "name = 'Pete'\n",
    "\n",
    "'Hello %s' %name"
   ]
  },
  {
   "cell_type": "code",
   "execution_count": 148,
   "metadata": {},
   "outputs": [
    {
     "data": {
      "text/plain": [
       "'I have 10 years'"
      ]
     },
     "execution_count": 148,
     "metadata": {},
     "output_type": "execute_result"
    }
   ],
   "source": [
    "number = 10\n",
    "\n",
    "'I have %d years' %number"
   ]
  },
  {
   "cell_type": "code",
   "execution_count": 149,
   "metadata": {},
   "outputs": [
    {
     "data": {
      "text/plain": [
       "'We are'"
      ]
     },
     "execution_count": 149,
     "metadata": {},
     "output_type": "execute_result"
    }
   ],
   "source": [
    "a = 'We are'\n",
    "\n",
    "\n",
    "'%s' %a"
   ]
  },
  {
   "cell_type": "markdown",
   "metadata": {},
   "source": [
    "## print()"
   ]
  },
  {
   "cell_type": "code",
   "execution_count": 150,
   "metadata": {},
   "outputs": [
    {
     "name": "stdout",
     "output_type": "stream",
     "text": [
      "Hello World\n"
     ]
    },
    {
     "data": {
      "text/plain": [
       "builtin_function_or_method"
      ]
     },
     "execution_count": 150,
     "metadata": {},
     "output_type": "execute_result"
    }
   ],
   "source": [
    "print('Hello World')\n",
    "type(print)"
   ]
  },
  {
   "cell_type": "code",
   "execution_count": 151,
   "metadata": {},
   "outputs": [
    {
     "name": "stdout",
     "output_type": "stream",
     "text": [
      "Hello world!\n",
      "\n",
      "Hello,world!\n"
     ]
    }
   ],
   "source": [
    "print(\"Hello world!\")\n",
    "print()\n",
    "print(\"Hello,world!\")"
   ]
  },
  {
   "cell_type": "code",
   "execution_count": 152,
   "metadata": {},
   "outputs": [
    {
     "name": "stdout",
     "output_type": "stream",
     "text": [
      "datacamp tutorial on python print function\n"
     ]
    }
   ],
   "source": [
    "print('datacamp','tutorial','on','python','print','function')"
   ]
  },
  {
   "cell_type": "code",
   "execution_count": 153,
   "metadata": {},
   "outputs": [
    {
     "name": "stdout",
     "output_type": "stream",
     "text": [
      "datacamp\n",
      "tutorial\n",
      "on\n",
      "python\n",
      "print\n",
      "function\n"
     ]
    }
   ],
   "source": [
    "print('datacamp','tutorial','on','python','print','function', sep='\\n')"
   ]
  },
  {
   "cell_type": "code",
   "execution_count": 154,
   "metadata": {},
   "outputs": [
    {
     "name": "stdout",
     "output_type": "stream",
     "text": [
      "datacamp,tutorial,on,python,print,function\n",
      "datacamp/n/ntutorial/n/non/n/npython/n/nprint/n/nfunction\n",
      "datacamp,+tutorial,+on,+python,+print,+function\n"
     ]
    }
   ],
   "source": [
    "print('datacamp','tutorial','on','python','print','function', sep=',')\n",
    "print('datacamp','tutorial','on','python','print','function', sep='/n/n')\n",
    "print('datacamp','tutorial','on','python','print','function', sep=',+')"
   ]
  },
  {
   "cell_type": "code",
   "execution_count": 155,
   "metadata": {},
   "outputs": [
    {
     "name": "stdout",
     "output_type": "stream",
     "text": [
      "[1, 2, 3, 4, 5, 6]\n"
     ]
    }
   ],
   "source": [
    "int_list = [1,2,3,4,5,6]\n",
    "print(int_list)"
   ]
  },
  {
   "cell_type": "code",
   "execution_count": 156,
   "metadata": {},
   "outputs": [
    {
     "name": "stdout",
     "output_type": "stream",
     "text": [
      "datacamp tutorial on\n",
      "python print function\n",
      "datacamp tutorial on python print function\n"
     ]
    }
   ],
   "source": [
    "str1 = 'datacamp tutorial on'\n",
    "str2 = 'python print function'\n",
    "print(str1)\n",
    "print(str2)\n",
    "print(str1, end = ' ')\n",
    "print(str2)"
   ]
  },
  {
   "cell_type": "code",
   "execution_count": 157,
   "metadata": {},
   "outputs": [],
   "source": [
    "def value(items):\n",
    "    for item in items:\n",
    "        print(item, end=' ')"
   ]
  },
  {
   "cell_type": "code",
   "execution_count": 158,
   "metadata": {},
   "outputs": [
    {
     "name": "stdout",
     "output_type": "stream",
     "text": [
      "1 2 3 4 5 "
     ]
    }
   ],
   "source": [
    "value([1,2,3,4,5])"
   ]
  },
  {
   "cell_type": "code",
   "execution_count": 159,
   "metadata": {},
   "outputs": [],
   "source": [
    "file = open('print.txt', 'a+')"
   ]
  },
  {
   "cell_type": "code",
   "execution_count": 160,
   "metadata": {},
   "outputs": [],
   "source": [
    "def value(items):\n",
    "    for item in items:\n",
    "        print(item, file=file)\n",
    "    file.close()"
   ]
  },
  {
   "cell_type": "code",
   "execution_count": 161,
   "metadata": {},
   "outputs": [],
   "source": [
    "value([1,2,3,4,5,6,7,8,9,10])"
   ]
  },
  {
   "cell_type": "code",
   "execution_count": 162,
   "metadata": {},
   "outputs": [
    {
     "name": "stdout",
     "output_type": "stream",
     "text": [
      "We have only  10 PLN for  Datacamp\n"
     ]
    }
   ],
   "source": [
    "a = 10\n",
    "b = 'Datacamp'\n",
    "\n",
    "print('We have only ',a,'PLN','for ',b)"
   ]
  },
  {
   "cell_type": "code",
   "execution_count": 163,
   "metadata": {},
   "outputs": [
    {
     "name": "stdout",
     "output_type": "stream",
     "text": [
      "Lukasz Dlugozima is the best. He has 10 years\n"
     ]
    }
   ],
   "source": [
    "a = 10\n",
    "b = 'Lukasz Dlugozima'\n",
    "c ='the best'\n",
    "\n",
    "print('%s is %s. He has %d years'%(b,c,10))"
   ]
  },
  {
   "cell_type": "code",
   "execution_count": 164,
   "metadata": {},
   "outputs": [
    {
     "name": "stdout",
     "output_type": "stream",
     "text": [
      "Lukasz is the best on the world\n",
      "Lukasz is the best on the world\n",
      "Lukasz is the best on the world\n",
      "Lukasz is the best on the world\n"
     ]
    }
   ],
   "source": [
    "print('{} is the best on the world'.format('Lukasz'))\n",
    "a = 'Lukasz'\n",
    "print('{} is the best on the world'.format(a))\n",
    "name = 'Lukasz'\n",
    "print(f'{name} is the best on the world')\n",
    "a = 'Lukasz'\n",
    "print('%s is the best on the world'%(a))"
   ]
  },
  {
   "cell_type": "markdown",
   "metadata": {},
   "source": [
    "# apply() method"
   ]
  },
  {
   "cell_type": "code",
   "execution_count": 165,
   "metadata": {},
   "outputs": [
    {
     "data": {
      "text/plain": [
       "Vik       180\n",
       "Mehdi     175\n",
       "Bella     168\n",
       "Chriss    190\n",
       "dtype: int64"
      ]
     },
     "metadata": {},
     "output_type": "display_data"
    },
    {
     "name": "stdout",
     "output_type": "stream",
     "text": [
      "<class 'pandas.core.series.Series'>\n"
     ]
    }
   ],
   "source": [
    "import pandas as pd\n",
    "import numpy as np\n",
    "from IPython.display import display\n",
    "\n",
    "students = pd.Series(data=[180, 175, 168, 190],\n",
    "                     index=['Vik', 'Mehdi', 'Bella', 'Chriss'])\n",
    "display(students)\n",
    "print(type(students))"
   ]
  },
  {
   "cell_type": "code",
   "execution_count": 166,
   "metadata": {},
   "outputs": [
    {
     "name": "stdout",
     "output_type": "stream",
     "text": [
      "Vik       5.91\n",
      "Mehdi     5.74\n",
      "Bella     5.51\n",
      "Chriss    6.23\n",
      "dtype: float64\n"
     ]
    }
   ],
   "source": [
    "def cm_to_feet(h):\n",
    "    return np.round(h/30.48,2)\n",
    "\n",
    "print(students.apply(cm_to_feet))"
   ]
  },
  {
   "cell_type": "code",
   "execution_count": 167,
   "metadata": {},
   "outputs": [
    {
     "data": {
      "text/html": [
       "<div>\n",
       "<style scoped>\n",
       "    .dataframe tbody tr th:only-of-type {\n",
       "        vertical-align: middle;\n",
       "    }\n",
       "\n",
       "    .dataframe tbody tr th {\n",
       "        vertical-align: top;\n",
       "    }\n",
       "\n",
       "    .dataframe thead th {\n",
       "        text-align: right;\n",
       "    }\n",
       "</style>\n",
       "<table border=\"1\" class=\"dataframe\">\n",
       "  <thead>\n",
       "    <tr style=\"text-align: right;\">\n",
       "      <th></th>\n",
       "      <th>EmployeeName</th>\n",
       "      <th>Department</th>\n",
       "      <th>HireDate</th>\n",
       "      <th>Sex</th>\n",
       "      <th>Birthdate</th>\n",
       "      <th>Weight</th>\n",
       "      <th>Height</th>\n",
       "      <th>Kids</th>\n",
       "    </tr>\n",
       "  </thead>\n",
       "  <tbody>\n",
       "    <tr>\n",
       "      <th>0</th>\n",
       "      <td>Callen Dunkley</td>\n",
       "      <td>Accounting</td>\n",
       "      <td>2010</td>\n",
       "      <td>M</td>\n",
       "      <td>04/09/1982</td>\n",
       "      <td>78</td>\n",
       "      <td>176</td>\n",
       "      <td>2</td>\n",
       "    </tr>\n",
       "    <tr>\n",
       "      <th>1</th>\n",
       "      <td>Sarah Rayner</td>\n",
       "      <td>Engineering</td>\n",
       "      <td>2018</td>\n",
       "      <td>F</td>\n",
       "      <td>14/04/1981</td>\n",
       "      <td>80</td>\n",
       "      <td>160</td>\n",
       "      <td>1</td>\n",
       "    </tr>\n",
       "    <tr>\n",
       "      <th>2</th>\n",
       "      <td>Jeanette Sloan</td>\n",
       "      <td>Engineering</td>\n",
       "      <td>2012</td>\n",
       "      <td>F</td>\n",
       "      <td>06/05/1997</td>\n",
       "      <td>66</td>\n",
       "      <td>169</td>\n",
       "      <td>0</td>\n",
       "    </tr>\n",
       "    <tr>\n",
       "      <th>3</th>\n",
       "      <td>Kaycee Acosta</td>\n",
       "      <td>HR</td>\n",
       "      <td>2014</td>\n",
       "      <td>F</td>\n",
       "      <td>08/01/1986</td>\n",
       "      <td>67</td>\n",
       "      <td>157</td>\n",
       "      <td>1</td>\n",
       "    </tr>\n",
       "    <tr>\n",
       "      <th>4</th>\n",
       "      <td>Henri Conroy</td>\n",
       "      <td>HR</td>\n",
       "      <td>2014</td>\n",
       "      <td>M</td>\n",
       "      <td>10/10/1988</td>\n",
       "      <td>90</td>\n",
       "      <td>185</td>\n",
       "      <td>1</td>\n",
       "    </tr>\n",
       "    <tr>\n",
       "      <th>5</th>\n",
       "      <td>Emma Peralta</td>\n",
       "      <td>HR</td>\n",
       "      <td>2018</td>\n",
       "      <td>F</td>\n",
       "      <td>12/11/1992</td>\n",
       "      <td>57</td>\n",
       "      <td>164</td>\n",
       "      <td>0</td>\n",
       "    </tr>\n",
       "    <tr>\n",
       "      <th>6</th>\n",
       "      <td>Martin Butt</td>\n",
       "      <td>Data Science</td>\n",
       "      <td>2020</td>\n",
       "      <td>M</td>\n",
       "      <td>10/04/1991</td>\n",
       "      <td>115</td>\n",
       "      <td>195</td>\n",
       "      <td>2</td>\n",
       "    </tr>\n",
       "    <tr>\n",
       "      <th>7</th>\n",
       "      <td>Alex Jensen</td>\n",
       "      <td>Data Science</td>\n",
       "      <td>2018</td>\n",
       "      <td>M</td>\n",
       "      <td>16/07/1995</td>\n",
       "      <td>87</td>\n",
       "      <td>180</td>\n",
       "      <td>0</td>\n",
       "    </tr>\n",
       "    <tr>\n",
       "      <th>8</th>\n",
       "      <td>Kim Howarth</td>\n",
       "      <td>Accounting</td>\n",
       "      <td>2020</td>\n",
       "      <td>M</td>\n",
       "      <td>08/10/1992</td>\n",
       "      <td>95</td>\n",
       "      <td>174</td>\n",
       "      <td>3</td>\n",
       "    </tr>\n",
       "    <tr>\n",
       "      <th>9</th>\n",
       "      <td>Jane Burnett</td>\n",
       "      <td>Data Science</td>\n",
       "      <td>2012</td>\n",
       "      <td>F</td>\n",
       "      <td>11/10/1979</td>\n",
       "      <td>57</td>\n",
       "      <td>165</td>\n",
       "      <td>1</td>\n",
       "    </tr>\n",
       "  </tbody>\n",
       "</table>\n",
       "</div>"
      ],
      "text/plain": [
       "     EmployeeName    Department  HireDate Sex   Birthdate  Weight  Height  \\\n",
       "0  Callen Dunkley    Accounting      2010   M  04/09/1982      78     176   \n",
       "1    Sarah Rayner   Engineering      2018   F  14/04/1981      80     160   \n",
       "2  Jeanette Sloan   Engineering      2012   F  06/05/1997      66     169   \n",
       "3   Kaycee Acosta            HR      2014   F  08/01/1986      67     157   \n",
       "4    Henri Conroy            HR      2014   M  10/10/1988      90     185   \n",
       "5    Emma Peralta            HR      2018   F  12/11/1992      57     164   \n",
       "6     Martin Butt  Data Science      2020   M  10/04/1991     115     195   \n",
       "7     Alex Jensen  Data Science      2018   M  16/07/1995      87     180   \n",
       "8     Kim Howarth    Accounting      2020   M  08/10/1992      95     174   \n",
       "9    Jane Burnett  Data Science      2012   F  11/10/1979      57     165   \n",
       "\n",
       "   Kids  \n",
       "0     2  \n",
       "1     1  \n",
       "2     0  \n",
       "3     1  \n",
       "4     1  \n",
       "5     0  \n",
       "6     2  \n",
       "7     0  \n",
       "8     3  \n",
       "9     1  "
      ]
     },
     "metadata": {},
     "output_type": "display_data"
    }
   ],
   "source": [
    "data = pd.DataFrame({'EmployeeName': ['Callen Dunkley', 'Sarah Rayner', 'Jeanette Sloan', 'Kaycee Acosta', 'Henri Conroy', 'Emma Peralta', 'Martin Butt', 'Alex Jensen', 'Kim Howarth', 'Jane Burnett'],\n",
    "                    'Department': ['Accounting', 'Engineering', 'Engineering', 'HR', 'HR', 'HR', 'Data Science', 'Data Science', 'Accounting', 'Data Science'],\n",
    "                    'HireDate': [2010, 2018, 2012, 2014, 2014, 2018, 2020, 2018, 2020, 2012],\n",
    "                    'Sex': ['M', 'F', 'F', 'F', 'M', 'F', 'M', 'M', 'M', 'F'],\n",
    "                    'Birthdate': ['04/09/1982', '14/04/1981', '06/05/1997', '08/01/1986', '10/10/1988', '12/11/1992', '10/04/1991', '16/07/1995', '08/10/1992', '11/10/1979'],\n",
    "                    'Weight': [78, 80, 66, 67, 90, 57, 115, 87, 95, 57],\n",
    "                    'Height': [176, 160, 169, 157, 185, 164, 195, 180, 174, 165],\n",
    "                    'Kids': [2, 1, 0, 1, 1, 0, 2, 0, 3, 1]\n",
    "                    })\n",
    "display(data)"
   ]
  },
  {
   "cell_type": "code",
   "execution_count": 168,
   "metadata": {},
   "outputs": [
    {
     "name": "stdout",
     "output_type": "stream",
     "text": [
      "Lukasz\n",
      "Adamski\n"
     ]
    }
   ],
   "source": [
    "x = 'Lukasz Adamski'\n",
    "\n",
    "print(x.split()[0])\n",
    "print(x.split()[1])"
   ]
  },
  {
   "cell_type": "code",
   "execution_count": 169,
   "metadata": {},
   "outputs": [],
   "source": [
    "data['FirstName'] = data['EmployeeName'].apply(lambda x: x.split()[0])\n",
    "data['LastName'] = data['EmployeeName'].apply(lambda x: x.split()[1])"
   ]
  },
  {
   "cell_type": "code",
   "execution_count": 170,
   "metadata": {},
   "outputs": [
    {
     "data": {
      "text/html": [
       "<div>\n",
       "<style scoped>\n",
       "    .dataframe tbody tr th:only-of-type {\n",
       "        vertical-align: middle;\n",
       "    }\n",
       "\n",
       "    .dataframe tbody tr th {\n",
       "        vertical-align: top;\n",
       "    }\n",
       "\n",
       "    .dataframe thead th {\n",
       "        text-align: right;\n",
       "    }\n",
       "</style>\n",
       "<table border=\"1\" class=\"dataframe\">\n",
       "  <thead>\n",
       "    <tr style=\"text-align: right;\">\n",
       "      <th></th>\n",
       "      <th>EmployeeName</th>\n",
       "      <th>Department</th>\n",
       "      <th>HireDate</th>\n",
       "      <th>Sex</th>\n",
       "      <th>Birthdate</th>\n",
       "      <th>Weight</th>\n",
       "      <th>Height</th>\n",
       "      <th>Kids</th>\n",
       "      <th>FirstName</th>\n",
       "      <th>LastName</th>\n",
       "    </tr>\n",
       "  </thead>\n",
       "  <tbody>\n",
       "    <tr>\n",
       "      <th>0</th>\n",
       "      <td>Callen Dunkley</td>\n",
       "      <td>Accounting</td>\n",
       "      <td>2010</td>\n",
       "      <td>M</td>\n",
       "      <td>04/09/1982</td>\n",
       "      <td>78</td>\n",
       "      <td>176</td>\n",
       "      <td>2</td>\n",
       "      <td>Callen</td>\n",
       "      <td>Dunkley</td>\n",
       "    </tr>\n",
       "    <tr>\n",
       "      <th>1</th>\n",
       "      <td>Sarah Rayner</td>\n",
       "      <td>Engineering</td>\n",
       "      <td>2018</td>\n",
       "      <td>F</td>\n",
       "      <td>14/04/1981</td>\n",
       "      <td>80</td>\n",
       "      <td>160</td>\n",
       "      <td>1</td>\n",
       "      <td>Sarah</td>\n",
       "      <td>Rayner</td>\n",
       "    </tr>\n",
       "    <tr>\n",
       "      <th>2</th>\n",
       "      <td>Jeanette Sloan</td>\n",
       "      <td>Engineering</td>\n",
       "      <td>2012</td>\n",
       "      <td>F</td>\n",
       "      <td>06/05/1997</td>\n",
       "      <td>66</td>\n",
       "      <td>169</td>\n",
       "      <td>0</td>\n",
       "      <td>Jeanette</td>\n",
       "      <td>Sloan</td>\n",
       "    </tr>\n",
       "    <tr>\n",
       "      <th>3</th>\n",
       "      <td>Kaycee Acosta</td>\n",
       "      <td>HR</td>\n",
       "      <td>2014</td>\n",
       "      <td>F</td>\n",
       "      <td>08/01/1986</td>\n",
       "      <td>67</td>\n",
       "      <td>157</td>\n",
       "      <td>1</td>\n",
       "      <td>Kaycee</td>\n",
       "      <td>Acosta</td>\n",
       "    </tr>\n",
       "    <tr>\n",
       "      <th>4</th>\n",
       "      <td>Henri Conroy</td>\n",
       "      <td>HR</td>\n",
       "      <td>2014</td>\n",
       "      <td>M</td>\n",
       "      <td>10/10/1988</td>\n",
       "      <td>90</td>\n",
       "      <td>185</td>\n",
       "      <td>1</td>\n",
       "      <td>Henri</td>\n",
       "      <td>Conroy</td>\n",
       "    </tr>\n",
       "    <tr>\n",
       "      <th>5</th>\n",
       "      <td>Emma Peralta</td>\n",
       "      <td>HR</td>\n",
       "      <td>2018</td>\n",
       "      <td>F</td>\n",
       "      <td>12/11/1992</td>\n",
       "      <td>57</td>\n",
       "      <td>164</td>\n",
       "      <td>0</td>\n",
       "      <td>Emma</td>\n",
       "      <td>Peralta</td>\n",
       "    </tr>\n",
       "    <tr>\n",
       "      <th>6</th>\n",
       "      <td>Martin Butt</td>\n",
       "      <td>Data Science</td>\n",
       "      <td>2020</td>\n",
       "      <td>M</td>\n",
       "      <td>10/04/1991</td>\n",
       "      <td>115</td>\n",
       "      <td>195</td>\n",
       "      <td>2</td>\n",
       "      <td>Martin</td>\n",
       "      <td>Butt</td>\n",
       "    </tr>\n",
       "    <tr>\n",
       "      <th>7</th>\n",
       "      <td>Alex Jensen</td>\n",
       "      <td>Data Science</td>\n",
       "      <td>2018</td>\n",
       "      <td>M</td>\n",
       "      <td>16/07/1995</td>\n",
       "      <td>87</td>\n",
       "      <td>180</td>\n",
       "      <td>0</td>\n",
       "      <td>Alex</td>\n",
       "      <td>Jensen</td>\n",
       "    </tr>\n",
       "    <tr>\n",
       "      <th>8</th>\n",
       "      <td>Kim Howarth</td>\n",
       "      <td>Accounting</td>\n",
       "      <td>2020</td>\n",
       "      <td>M</td>\n",
       "      <td>08/10/1992</td>\n",
       "      <td>95</td>\n",
       "      <td>174</td>\n",
       "      <td>3</td>\n",
       "      <td>Kim</td>\n",
       "      <td>Howarth</td>\n",
       "    </tr>\n",
       "    <tr>\n",
       "      <th>9</th>\n",
       "      <td>Jane Burnett</td>\n",
       "      <td>Data Science</td>\n",
       "      <td>2012</td>\n",
       "      <td>F</td>\n",
       "      <td>11/10/1979</td>\n",
       "      <td>57</td>\n",
       "      <td>165</td>\n",
       "      <td>1</td>\n",
       "      <td>Jane</td>\n",
       "      <td>Burnett</td>\n",
       "    </tr>\n",
       "  </tbody>\n",
       "</table>\n",
       "</div>"
      ],
      "text/plain": [
       "     EmployeeName    Department  HireDate Sex   Birthdate  Weight  Height  \\\n",
       "0  Callen Dunkley    Accounting      2010   M  04/09/1982      78     176   \n",
       "1    Sarah Rayner   Engineering      2018   F  14/04/1981      80     160   \n",
       "2  Jeanette Sloan   Engineering      2012   F  06/05/1997      66     169   \n",
       "3   Kaycee Acosta            HR      2014   F  08/01/1986      67     157   \n",
       "4    Henri Conroy            HR      2014   M  10/10/1988      90     185   \n",
       "5    Emma Peralta            HR      2018   F  12/11/1992      57     164   \n",
       "6     Martin Butt  Data Science      2020   M  10/04/1991     115     195   \n",
       "7     Alex Jensen  Data Science      2018   M  16/07/1995      87     180   \n",
       "8     Kim Howarth    Accounting      2020   M  08/10/1992      95     174   \n",
       "9    Jane Burnett  Data Science      2012   F  11/10/1979      57     165   \n",
       "\n",
       "   Kids FirstName LastName  \n",
       "0     2    Callen  Dunkley  \n",
       "1     1     Sarah   Rayner  \n",
       "2     0  Jeanette    Sloan  \n",
       "3     1    Kaycee   Acosta  \n",
       "4     1     Henri   Conroy  \n",
       "5     0      Emma  Peralta  \n",
       "6     2    Martin     Butt  \n",
       "7     0      Alex   Jensen  \n",
       "8     3       Kim  Howarth  \n",
       "9     1      Jane  Burnett  "
      ]
     },
     "metadata": {},
     "output_type": "display_data"
    }
   ],
   "source": [
    "display(data)"
   ]
  },
  {
   "cell_type": "code",
   "execution_count": 171,
   "metadata": {},
   "outputs": [],
   "source": [
    "from datetime import datetime, date\n",
    "\n",
    "def calculate_age(birthdate):\n",
    "    birthdate = datetime.strptime(birthdate,'%d/%m/%Y')\n",
    "    today = date.today()\n",
    "    return today.year - birthdate.year "
   ]
  },
  {
   "cell_type": "code",
   "execution_count": 172,
   "metadata": {},
   "outputs": [
    {
     "data": {
      "text/html": [
       "<div>\n",
       "<style scoped>\n",
       "    .dataframe tbody tr th:only-of-type {\n",
       "        vertical-align: middle;\n",
       "    }\n",
       "\n",
       "    .dataframe tbody tr th {\n",
       "        vertical-align: top;\n",
       "    }\n",
       "\n",
       "    .dataframe thead th {\n",
       "        text-align: right;\n",
       "    }\n",
       "</style>\n",
       "<table border=\"1\" class=\"dataframe\">\n",
       "  <thead>\n",
       "    <tr style=\"text-align: right;\">\n",
       "      <th></th>\n",
       "      <th>EmployeeName</th>\n",
       "      <th>Department</th>\n",
       "      <th>HireDate</th>\n",
       "      <th>Sex</th>\n",
       "      <th>Birthdate</th>\n",
       "      <th>Weight</th>\n",
       "      <th>Height</th>\n",
       "      <th>Kids</th>\n",
       "      <th>FirstName</th>\n",
       "      <th>LastName</th>\n",
       "      <th>Age</th>\n",
       "    </tr>\n",
       "  </thead>\n",
       "  <tbody>\n",
       "    <tr>\n",
       "      <th>0</th>\n",
       "      <td>Callen Dunkley</td>\n",
       "      <td>Accounting</td>\n",
       "      <td>2010</td>\n",
       "      <td>M</td>\n",
       "      <td>04/09/1982</td>\n",
       "      <td>78</td>\n",
       "      <td>176</td>\n",
       "      <td>2</td>\n",
       "      <td>Callen</td>\n",
       "      <td>Dunkley</td>\n",
       "      <td>42</td>\n",
       "    </tr>\n",
       "    <tr>\n",
       "      <th>1</th>\n",
       "      <td>Sarah Rayner</td>\n",
       "      <td>Engineering</td>\n",
       "      <td>2018</td>\n",
       "      <td>F</td>\n",
       "      <td>14/04/1981</td>\n",
       "      <td>80</td>\n",
       "      <td>160</td>\n",
       "      <td>1</td>\n",
       "      <td>Sarah</td>\n",
       "      <td>Rayner</td>\n",
       "      <td>43</td>\n",
       "    </tr>\n",
       "    <tr>\n",
       "      <th>2</th>\n",
       "      <td>Jeanette Sloan</td>\n",
       "      <td>Engineering</td>\n",
       "      <td>2012</td>\n",
       "      <td>F</td>\n",
       "      <td>06/05/1997</td>\n",
       "      <td>66</td>\n",
       "      <td>169</td>\n",
       "      <td>0</td>\n",
       "      <td>Jeanette</td>\n",
       "      <td>Sloan</td>\n",
       "      <td>27</td>\n",
       "    </tr>\n",
       "    <tr>\n",
       "      <th>3</th>\n",
       "      <td>Kaycee Acosta</td>\n",
       "      <td>HR</td>\n",
       "      <td>2014</td>\n",
       "      <td>F</td>\n",
       "      <td>08/01/1986</td>\n",
       "      <td>67</td>\n",
       "      <td>157</td>\n",
       "      <td>1</td>\n",
       "      <td>Kaycee</td>\n",
       "      <td>Acosta</td>\n",
       "      <td>38</td>\n",
       "    </tr>\n",
       "    <tr>\n",
       "      <th>4</th>\n",
       "      <td>Henri Conroy</td>\n",
       "      <td>HR</td>\n",
       "      <td>2014</td>\n",
       "      <td>M</td>\n",
       "      <td>10/10/1988</td>\n",
       "      <td>90</td>\n",
       "      <td>185</td>\n",
       "      <td>1</td>\n",
       "      <td>Henri</td>\n",
       "      <td>Conroy</td>\n",
       "      <td>36</td>\n",
       "    </tr>\n",
       "    <tr>\n",
       "      <th>5</th>\n",
       "      <td>Emma Peralta</td>\n",
       "      <td>HR</td>\n",
       "      <td>2018</td>\n",
       "      <td>F</td>\n",
       "      <td>12/11/1992</td>\n",
       "      <td>57</td>\n",
       "      <td>164</td>\n",
       "      <td>0</td>\n",
       "      <td>Emma</td>\n",
       "      <td>Peralta</td>\n",
       "      <td>32</td>\n",
       "    </tr>\n",
       "    <tr>\n",
       "      <th>6</th>\n",
       "      <td>Martin Butt</td>\n",
       "      <td>Data Science</td>\n",
       "      <td>2020</td>\n",
       "      <td>M</td>\n",
       "      <td>10/04/1991</td>\n",
       "      <td>115</td>\n",
       "      <td>195</td>\n",
       "      <td>2</td>\n",
       "      <td>Martin</td>\n",
       "      <td>Butt</td>\n",
       "      <td>33</td>\n",
       "    </tr>\n",
       "    <tr>\n",
       "      <th>7</th>\n",
       "      <td>Alex Jensen</td>\n",
       "      <td>Data Science</td>\n",
       "      <td>2018</td>\n",
       "      <td>M</td>\n",
       "      <td>16/07/1995</td>\n",
       "      <td>87</td>\n",
       "      <td>180</td>\n",
       "      <td>0</td>\n",
       "      <td>Alex</td>\n",
       "      <td>Jensen</td>\n",
       "      <td>29</td>\n",
       "    </tr>\n",
       "    <tr>\n",
       "      <th>8</th>\n",
       "      <td>Kim Howarth</td>\n",
       "      <td>Accounting</td>\n",
       "      <td>2020</td>\n",
       "      <td>M</td>\n",
       "      <td>08/10/1992</td>\n",
       "      <td>95</td>\n",
       "      <td>174</td>\n",
       "      <td>3</td>\n",
       "      <td>Kim</td>\n",
       "      <td>Howarth</td>\n",
       "      <td>32</td>\n",
       "    </tr>\n",
       "    <tr>\n",
       "      <th>9</th>\n",
       "      <td>Jane Burnett</td>\n",
       "      <td>Data Science</td>\n",
       "      <td>2012</td>\n",
       "      <td>F</td>\n",
       "      <td>11/10/1979</td>\n",
       "      <td>57</td>\n",
       "      <td>165</td>\n",
       "      <td>1</td>\n",
       "      <td>Jane</td>\n",
       "      <td>Burnett</td>\n",
       "      <td>45</td>\n",
       "    </tr>\n",
       "  </tbody>\n",
       "</table>\n",
       "</div>"
      ],
      "text/plain": [
       "     EmployeeName    Department  HireDate Sex   Birthdate  Weight  Height  \\\n",
       "0  Callen Dunkley    Accounting      2010   M  04/09/1982      78     176   \n",
       "1    Sarah Rayner   Engineering      2018   F  14/04/1981      80     160   \n",
       "2  Jeanette Sloan   Engineering      2012   F  06/05/1997      66     169   \n",
       "3   Kaycee Acosta            HR      2014   F  08/01/1986      67     157   \n",
       "4    Henri Conroy            HR      2014   M  10/10/1988      90     185   \n",
       "5    Emma Peralta            HR      2018   F  12/11/1992      57     164   \n",
       "6     Martin Butt  Data Science      2020   M  10/04/1991     115     195   \n",
       "7     Alex Jensen  Data Science      2018   M  16/07/1995      87     180   \n",
       "8     Kim Howarth    Accounting      2020   M  08/10/1992      95     174   \n",
       "9    Jane Burnett  Data Science      2012   F  11/10/1979      57     165   \n",
       "\n",
       "   Kids FirstName LastName  Age  \n",
       "0     2    Callen  Dunkley   42  \n",
       "1     1     Sarah   Rayner   43  \n",
       "2     0  Jeanette    Sloan   27  \n",
       "3     1    Kaycee   Acosta   38  \n",
       "4     1     Henri   Conroy   36  \n",
       "5     0      Emma  Peralta   32  \n",
       "6     2    Martin     Butt   33  \n",
       "7     0      Alex   Jensen   29  \n",
       "8     3       Kim  Howarth   32  \n",
       "9     1      Jane  Burnett   45  "
      ]
     },
     "metadata": {},
     "output_type": "display_data"
    }
   ],
   "source": [
    "data['Age'] = data['Birthdate'].apply(calculate_age)\n",
    "display(data)"
   ]
  },
  {
   "cell_type": "code",
   "execution_count": 173,
   "metadata": {},
   "outputs": [
    {
     "name": "stdout",
     "output_type": "stream",
     "text": [
      "35.7\n"
     ]
    }
   ],
   "source": [
    "print(data['Age'].mean())"
   ]
  },
  {
   "cell_type": "code",
   "execution_count": 174,
   "metadata": {},
   "outputs": [],
   "source": [
    "def calc_bmi(weight, height):\n",
    "    return np.round(weight/(height/100)**2, 2)"
   ]
  },
  {
   "cell_type": "code",
   "execution_count": 175,
   "metadata": {},
   "outputs": [
    {
     "data": {
      "text/plain": [
       "24.93"
      ]
     },
     "execution_count": 175,
     "metadata": {},
     "output_type": "execute_result"
    }
   ],
   "source": [
    "calc_bmi(90,190)"
   ]
  },
  {
   "cell_type": "code",
   "execution_count": 176,
   "metadata": {},
   "outputs": [],
   "source": [
    "data['BMI'] = data.apply(lambda x: calc_bmi(x['Weight'], x['Height']), axis=1)"
   ]
  },
  {
   "cell_type": "code",
   "execution_count": 177,
   "metadata": {},
   "outputs": [
    {
     "data": {
      "text/html": [
       "<div>\n",
       "<style scoped>\n",
       "    .dataframe tbody tr th:only-of-type {\n",
       "        vertical-align: middle;\n",
       "    }\n",
       "\n",
       "    .dataframe tbody tr th {\n",
       "        vertical-align: top;\n",
       "    }\n",
       "\n",
       "    .dataframe thead th {\n",
       "        text-align: right;\n",
       "    }\n",
       "</style>\n",
       "<table border=\"1\" class=\"dataframe\">\n",
       "  <thead>\n",
       "    <tr style=\"text-align: right;\">\n",
       "      <th></th>\n",
       "      <th>EmployeeName</th>\n",
       "      <th>Department</th>\n",
       "      <th>HireDate</th>\n",
       "      <th>Sex</th>\n",
       "      <th>Birthdate</th>\n",
       "      <th>Weight</th>\n",
       "      <th>Height</th>\n",
       "      <th>Kids</th>\n",
       "      <th>FirstName</th>\n",
       "      <th>LastName</th>\n",
       "      <th>Age</th>\n",
       "      <th>BMI</th>\n",
       "    </tr>\n",
       "  </thead>\n",
       "  <tbody>\n",
       "    <tr>\n",
       "      <th>0</th>\n",
       "      <td>Callen Dunkley</td>\n",
       "      <td>Accounting</td>\n",
       "      <td>2010</td>\n",
       "      <td>M</td>\n",
       "      <td>04/09/1982</td>\n",
       "      <td>78</td>\n",
       "      <td>176</td>\n",
       "      <td>2</td>\n",
       "      <td>Callen</td>\n",
       "      <td>Dunkley</td>\n",
       "      <td>42</td>\n",
       "      <td>25.18</td>\n",
       "    </tr>\n",
       "    <tr>\n",
       "      <th>1</th>\n",
       "      <td>Sarah Rayner</td>\n",
       "      <td>Engineering</td>\n",
       "      <td>2018</td>\n",
       "      <td>F</td>\n",
       "      <td>14/04/1981</td>\n",
       "      <td>80</td>\n",
       "      <td>160</td>\n",
       "      <td>1</td>\n",
       "      <td>Sarah</td>\n",
       "      <td>Rayner</td>\n",
       "      <td>43</td>\n",
       "      <td>31.25</td>\n",
       "    </tr>\n",
       "    <tr>\n",
       "      <th>2</th>\n",
       "      <td>Jeanette Sloan</td>\n",
       "      <td>Engineering</td>\n",
       "      <td>2012</td>\n",
       "      <td>F</td>\n",
       "      <td>06/05/1997</td>\n",
       "      <td>66</td>\n",
       "      <td>169</td>\n",
       "      <td>0</td>\n",
       "      <td>Jeanette</td>\n",
       "      <td>Sloan</td>\n",
       "      <td>27</td>\n",
       "      <td>23.11</td>\n",
       "    </tr>\n",
       "    <tr>\n",
       "      <th>3</th>\n",
       "      <td>Kaycee Acosta</td>\n",
       "      <td>HR</td>\n",
       "      <td>2014</td>\n",
       "      <td>F</td>\n",
       "      <td>08/01/1986</td>\n",
       "      <td>67</td>\n",
       "      <td>157</td>\n",
       "      <td>1</td>\n",
       "      <td>Kaycee</td>\n",
       "      <td>Acosta</td>\n",
       "      <td>38</td>\n",
       "      <td>27.18</td>\n",
       "    </tr>\n",
       "    <tr>\n",
       "      <th>4</th>\n",
       "      <td>Henri Conroy</td>\n",
       "      <td>HR</td>\n",
       "      <td>2014</td>\n",
       "      <td>M</td>\n",
       "      <td>10/10/1988</td>\n",
       "      <td>90</td>\n",
       "      <td>185</td>\n",
       "      <td>1</td>\n",
       "      <td>Henri</td>\n",
       "      <td>Conroy</td>\n",
       "      <td>36</td>\n",
       "      <td>26.30</td>\n",
       "    </tr>\n",
       "    <tr>\n",
       "      <th>5</th>\n",
       "      <td>Emma Peralta</td>\n",
       "      <td>HR</td>\n",
       "      <td>2018</td>\n",
       "      <td>F</td>\n",
       "      <td>12/11/1992</td>\n",
       "      <td>57</td>\n",
       "      <td>164</td>\n",
       "      <td>0</td>\n",
       "      <td>Emma</td>\n",
       "      <td>Peralta</td>\n",
       "      <td>32</td>\n",
       "      <td>21.19</td>\n",
       "    </tr>\n",
       "    <tr>\n",
       "      <th>6</th>\n",
       "      <td>Martin Butt</td>\n",
       "      <td>Data Science</td>\n",
       "      <td>2020</td>\n",
       "      <td>M</td>\n",
       "      <td>10/04/1991</td>\n",
       "      <td>115</td>\n",
       "      <td>195</td>\n",
       "      <td>2</td>\n",
       "      <td>Martin</td>\n",
       "      <td>Butt</td>\n",
       "      <td>33</td>\n",
       "      <td>30.24</td>\n",
       "    </tr>\n",
       "    <tr>\n",
       "      <th>7</th>\n",
       "      <td>Alex Jensen</td>\n",
       "      <td>Data Science</td>\n",
       "      <td>2018</td>\n",
       "      <td>M</td>\n",
       "      <td>16/07/1995</td>\n",
       "      <td>87</td>\n",
       "      <td>180</td>\n",
       "      <td>0</td>\n",
       "      <td>Alex</td>\n",
       "      <td>Jensen</td>\n",
       "      <td>29</td>\n",
       "      <td>26.85</td>\n",
       "    </tr>\n",
       "    <tr>\n",
       "      <th>8</th>\n",
       "      <td>Kim Howarth</td>\n",
       "      <td>Accounting</td>\n",
       "      <td>2020</td>\n",
       "      <td>M</td>\n",
       "      <td>08/10/1992</td>\n",
       "      <td>95</td>\n",
       "      <td>174</td>\n",
       "      <td>3</td>\n",
       "      <td>Kim</td>\n",
       "      <td>Howarth</td>\n",
       "      <td>32</td>\n",
       "      <td>31.38</td>\n",
       "    </tr>\n",
       "    <tr>\n",
       "      <th>9</th>\n",
       "      <td>Jane Burnett</td>\n",
       "      <td>Data Science</td>\n",
       "      <td>2012</td>\n",
       "      <td>F</td>\n",
       "      <td>11/10/1979</td>\n",
       "      <td>57</td>\n",
       "      <td>165</td>\n",
       "      <td>1</td>\n",
       "      <td>Jane</td>\n",
       "      <td>Burnett</td>\n",
       "      <td>45</td>\n",
       "      <td>20.94</td>\n",
       "    </tr>\n",
       "  </tbody>\n",
       "</table>\n",
       "</div>"
      ],
      "text/plain": [
       "     EmployeeName    Department  HireDate Sex   Birthdate  Weight  Height  \\\n",
       "0  Callen Dunkley    Accounting      2010   M  04/09/1982      78     176   \n",
       "1    Sarah Rayner   Engineering      2018   F  14/04/1981      80     160   \n",
       "2  Jeanette Sloan   Engineering      2012   F  06/05/1997      66     169   \n",
       "3   Kaycee Acosta            HR      2014   F  08/01/1986      67     157   \n",
       "4    Henri Conroy            HR      2014   M  10/10/1988      90     185   \n",
       "5    Emma Peralta            HR      2018   F  12/11/1992      57     164   \n",
       "6     Martin Butt  Data Science      2020   M  10/04/1991     115     195   \n",
       "7     Alex Jensen  Data Science      2018   M  16/07/1995      87     180   \n",
       "8     Kim Howarth    Accounting      2020   M  08/10/1992      95     174   \n",
       "9    Jane Burnett  Data Science      2012   F  11/10/1979      57     165   \n",
       "\n",
       "   Kids FirstName LastName  Age    BMI  \n",
       "0     2    Callen  Dunkley   42  25.18  \n",
       "1     1     Sarah   Rayner   43  31.25  \n",
       "2     0  Jeanette    Sloan   27  23.11  \n",
       "3     1    Kaycee   Acosta   38  27.18  \n",
       "4     1     Henri   Conroy   36  26.30  \n",
       "5     0      Emma  Peralta   32  21.19  \n",
       "6     2    Martin     Butt   33  30.24  \n",
       "7     0      Alex   Jensen   29  26.85  \n",
       "8     3       Kim  Howarth   32  31.38  \n",
       "9     1      Jane  Burnett   45  20.94  "
      ]
     },
     "metadata": {},
     "output_type": "display_data"
    }
   ],
   "source": [
    "display(data)"
   ]
  },
  {
   "cell_type": "code",
   "execution_count": 178,
   "metadata": {},
   "outputs": [
    {
     "data": {
      "text/plain": [
       "2024"
      ]
     },
     "execution_count": 178,
     "metadata": {},
     "output_type": "execute_result"
    }
   ],
   "source": [
    "date.today().year"
   ]
  },
  {
   "cell_type": "code",
   "execution_count": 179,
   "metadata": {},
   "outputs": [
    {
     "name": "stdout",
     "output_type": "stream",
     "text": [
      "0     True\n",
      "1    False\n",
      "2     True\n",
      "3     True\n",
      "4     True\n",
      "5    False\n",
      "6    False\n",
      "7    False\n",
      "8    False\n",
      "9     True\n",
      "Name: HireDate, dtype: bool\n"
     ]
    }
   ],
   "source": [
    "mask = data['HireDate'].apply(lambda x: date.today().year - x >= 10)\n",
    "print(mask)"
   ]
  },
  {
   "cell_type": "code",
   "execution_count": 180,
   "metadata": {},
   "outputs": [
    {
     "data": {
      "text/html": [
       "<div>\n",
       "<style scoped>\n",
       "    .dataframe tbody tr th:only-of-type {\n",
       "        vertical-align: middle;\n",
       "    }\n",
       "\n",
       "    .dataframe tbody tr th {\n",
       "        vertical-align: top;\n",
       "    }\n",
       "\n",
       "    .dataframe thead th {\n",
       "        text-align: right;\n",
       "    }\n",
       "</style>\n",
       "<table border=\"1\" class=\"dataframe\">\n",
       "  <thead>\n",
       "    <tr style=\"text-align: right;\">\n",
       "      <th></th>\n",
       "      <th>EmployeeName</th>\n",
       "      <th>Department</th>\n",
       "      <th>HireDate</th>\n",
       "      <th>Sex</th>\n",
       "      <th>Birthdate</th>\n",
       "      <th>Weight</th>\n",
       "      <th>Height</th>\n",
       "      <th>Kids</th>\n",
       "      <th>FirstName</th>\n",
       "      <th>LastName</th>\n",
       "      <th>Age</th>\n",
       "      <th>BMI</th>\n",
       "    </tr>\n",
       "  </thead>\n",
       "  <tbody>\n",
       "    <tr>\n",
       "      <th>1</th>\n",
       "      <td>Sarah Rayner</td>\n",
       "      <td>Engineering</td>\n",
       "      <td>2018</td>\n",
       "      <td>F</td>\n",
       "      <td>14/04/1981</td>\n",
       "      <td>80</td>\n",
       "      <td>160</td>\n",
       "      <td>1</td>\n",
       "      <td>Sarah</td>\n",
       "      <td>Rayner</td>\n",
       "      <td>43</td>\n",
       "      <td>31.25</td>\n",
       "    </tr>\n",
       "    <tr>\n",
       "      <th>3</th>\n",
       "      <td>Kaycee Acosta</td>\n",
       "      <td>HR</td>\n",
       "      <td>2014</td>\n",
       "      <td>F</td>\n",
       "      <td>08/01/1986</td>\n",
       "      <td>67</td>\n",
       "      <td>157</td>\n",
       "      <td>1</td>\n",
       "      <td>Kaycee</td>\n",
       "      <td>Acosta</td>\n",
       "      <td>38</td>\n",
       "      <td>27.18</td>\n",
       "    </tr>\n",
       "    <tr>\n",
       "      <th>9</th>\n",
       "      <td>Jane Burnett</td>\n",
       "      <td>Data Science</td>\n",
       "      <td>2012</td>\n",
       "      <td>F</td>\n",
       "      <td>11/10/1979</td>\n",
       "      <td>57</td>\n",
       "      <td>165</td>\n",
       "      <td>1</td>\n",
       "      <td>Jane</td>\n",
       "      <td>Burnett</td>\n",
       "      <td>45</td>\n",
       "      <td>20.94</td>\n",
       "    </tr>\n",
       "  </tbody>\n",
       "</table>\n",
       "</div>"
      ],
      "text/plain": [
       "    EmployeeName    Department  HireDate Sex   Birthdate  Weight  Height  \\\n",
       "1   Sarah Rayner   Engineering      2018   F  14/04/1981      80     160   \n",
       "3  Kaycee Acosta            HR      2014   F  08/01/1986      67     157   \n",
       "9   Jane Burnett  Data Science      2012   F  11/10/1979      57     165   \n",
       "\n",
       "   Kids FirstName LastName  Age    BMI  \n",
       "1     1     Sarah   Rayner   43  31.25  \n",
       "3     1    Kaycee   Acosta   38  27.18  \n",
       "9     1      Jane  Burnett   45  20.94  "
      ]
     },
     "execution_count": 180,
     "metadata": {},
     "output_type": "execute_result"
    }
   ],
   "source": [
    "data[data.apply(lambda x: True if x['Sex'] == 'F' and x['Kids'] > 0 else False, axis=1)]"
   ]
  },
  {
   "cell_type": "code",
   "execution_count": 181,
   "metadata": {},
   "outputs": [
    {
     "data": {
      "text/html": [
       "<div>\n",
       "<style scoped>\n",
       "    .dataframe tbody tr th:only-of-type {\n",
       "        vertical-align: middle;\n",
       "    }\n",
       "\n",
       "    .dataframe tbody tr th {\n",
       "        vertical-align: top;\n",
       "    }\n",
       "\n",
       "    .dataframe thead th {\n",
       "        text-align: right;\n",
       "    }\n",
       "</style>\n",
       "<table border=\"1\" class=\"dataframe\">\n",
       "  <thead>\n",
       "    <tr style=\"text-align: right;\">\n",
       "      <th></th>\n",
       "      <th>EmployeeName</th>\n",
       "      <th>Department</th>\n",
       "      <th>HireDate</th>\n",
       "      <th>Sex</th>\n",
       "      <th>Birthdate</th>\n",
       "      <th>Weight</th>\n",
       "      <th>Height</th>\n",
       "      <th>Kids</th>\n",
       "      <th>FirstName</th>\n",
       "      <th>LastName</th>\n",
       "      <th>Age</th>\n",
       "      <th>BMI</th>\n",
       "    </tr>\n",
       "  </thead>\n",
       "  <tbody>\n",
       "    <tr>\n",
       "      <th>0</th>\n",
       "      <td>Callen Dunkley</td>\n",
       "      <td>Accounting</td>\n",
       "      <td>2010</td>\n",
       "      <td>M</td>\n",
       "      <td>04/09/1982</td>\n",
       "      <td>78</td>\n",
       "      <td>176</td>\n",
       "      <td>2</td>\n",
       "      <td>Callen</td>\n",
       "      <td>Dunkley</td>\n",
       "      <td>42</td>\n",
       "      <td>25.18</td>\n",
       "    </tr>\n",
       "    <tr>\n",
       "      <th>1</th>\n",
       "      <td>Sarah Rayner</td>\n",
       "      <td>Engineering</td>\n",
       "      <td>2018</td>\n",
       "      <td>F</td>\n",
       "      <td>14/04/1981</td>\n",
       "      <td>80</td>\n",
       "      <td>160</td>\n",
       "      <td>1</td>\n",
       "      <td>Sarah</td>\n",
       "      <td>Rayner</td>\n",
       "      <td>43</td>\n",
       "      <td>31.25</td>\n",
       "    </tr>\n",
       "    <tr>\n",
       "      <th>2</th>\n",
       "      <td>Jeanette Sloan</td>\n",
       "      <td>Engineering</td>\n",
       "      <td>2012</td>\n",
       "      <td>F</td>\n",
       "      <td>06/05/1997</td>\n",
       "      <td>66</td>\n",
       "      <td>169</td>\n",
       "      <td>0</td>\n",
       "      <td>Jeanette</td>\n",
       "      <td>Sloan</td>\n",
       "      <td>27</td>\n",
       "      <td>23.11</td>\n",
       "    </tr>\n",
       "    <tr>\n",
       "      <th>3</th>\n",
       "      <td>Kaycee Acosta</td>\n",
       "      <td>HR</td>\n",
       "      <td>2014</td>\n",
       "      <td>F</td>\n",
       "      <td>08/01/1986</td>\n",
       "      <td>67</td>\n",
       "      <td>157</td>\n",
       "      <td>1</td>\n",
       "      <td>Kaycee</td>\n",
       "      <td>Acosta</td>\n",
       "      <td>38</td>\n",
       "      <td>27.18</td>\n",
       "    </tr>\n",
       "    <tr>\n",
       "      <th>4</th>\n",
       "      <td>Henri Conroy</td>\n",
       "      <td>HR</td>\n",
       "      <td>2014</td>\n",
       "      <td>M</td>\n",
       "      <td>10/10/1988</td>\n",
       "      <td>90</td>\n",
       "      <td>185</td>\n",
       "      <td>1</td>\n",
       "      <td>Henri</td>\n",
       "      <td>Conroy</td>\n",
       "      <td>36</td>\n",
       "      <td>26.30</td>\n",
       "    </tr>\n",
       "    <tr>\n",
       "      <th>5</th>\n",
       "      <td>Emma Peralta</td>\n",
       "      <td>HR</td>\n",
       "      <td>2018</td>\n",
       "      <td>F</td>\n",
       "      <td>12/11/1992</td>\n",
       "      <td>57</td>\n",
       "      <td>164</td>\n",
       "      <td>0</td>\n",
       "      <td>Emma</td>\n",
       "      <td>Peralta</td>\n",
       "      <td>32</td>\n",
       "      <td>21.19</td>\n",
       "    </tr>\n",
       "    <tr>\n",
       "      <th>6</th>\n",
       "      <td>Martin Butt</td>\n",
       "      <td>Data Science</td>\n",
       "      <td>2020</td>\n",
       "      <td>M</td>\n",
       "      <td>10/04/1991</td>\n",
       "      <td>115</td>\n",
       "      <td>195</td>\n",
       "      <td>2</td>\n",
       "      <td>Martin</td>\n",
       "      <td>Butt</td>\n",
       "      <td>33</td>\n",
       "      <td>30.24</td>\n",
       "    </tr>\n",
       "    <tr>\n",
       "      <th>7</th>\n",
       "      <td>Alex Jensen</td>\n",
       "      <td>Data Science</td>\n",
       "      <td>2018</td>\n",
       "      <td>M</td>\n",
       "      <td>16/07/1995</td>\n",
       "      <td>87</td>\n",
       "      <td>180</td>\n",
       "      <td>0</td>\n",
       "      <td>Alex</td>\n",
       "      <td>Jensen</td>\n",
       "      <td>29</td>\n",
       "      <td>26.85</td>\n",
       "    </tr>\n",
       "    <tr>\n",
       "      <th>8</th>\n",
       "      <td>Kim Howarth</td>\n",
       "      <td>Accounting</td>\n",
       "      <td>2020</td>\n",
       "      <td>M</td>\n",
       "      <td>08/10/1992</td>\n",
       "      <td>95</td>\n",
       "      <td>174</td>\n",
       "      <td>3</td>\n",
       "      <td>Kim</td>\n",
       "      <td>Howarth</td>\n",
       "      <td>32</td>\n",
       "      <td>31.38</td>\n",
       "    </tr>\n",
       "    <tr>\n",
       "      <th>9</th>\n",
       "      <td>Jane Burnett</td>\n",
       "      <td>Data Science</td>\n",
       "      <td>2012</td>\n",
       "      <td>F</td>\n",
       "      <td>11/10/1979</td>\n",
       "      <td>57</td>\n",
       "      <td>165</td>\n",
       "      <td>1</td>\n",
       "      <td>Jane</td>\n",
       "      <td>Burnett</td>\n",
       "      <td>45</td>\n",
       "      <td>20.94</td>\n",
       "    </tr>\n",
       "  </tbody>\n",
       "</table>\n",
       "</div>"
      ],
      "text/plain": [
       "     EmployeeName    Department  HireDate Sex   Birthdate  Weight  Height  \\\n",
       "0  Callen Dunkley    Accounting      2010   M  04/09/1982      78     176   \n",
       "1    Sarah Rayner   Engineering      2018   F  14/04/1981      80     160   \n",
       "2  Jeanette Sloan   Engineering      2012   F  06/05/1997      66     169   \n",
       "3   Kaycee Acosta            HR      2014   F  08/01/1986      67     157   \n",
       "4    Henri Conroy            HR      2014   M  10/10/1988      90     185   \n",
       "5    Emma Peralta            HR      2018   F  12/11/1992      57     164   \n",
       "6     Martin Butt  Data Science      2020   M  10/04/1991     115     195   \n",
       "7     Alex Jensen  Data Science      2018   M  16/07/1995      87     180   \n",
       "8     Kim Howarth    Accounting      2020   M  08/10/1992      95     174   \n",
       "9    Jane Burnett  Data Science      2012   F  11/10/1979      57     165   \n",
       "\n",
       "   Kids FirstName LastName  Age    BMI  \n",
       "0     2    Callen  Dunkley   42  25.18  \n",
       "1     1     Sarah   Rayner   43  31.25  \n",
       "2     0  Jeanette    Sloan   27  23.11  \n",
       "3     1    Kaycee   Acosta   38  27.18  \n",
       "4     1     Henri   Conroy   36  26.30  \n",
       "5     0      Emma  Peralta   32  21.19  \n",
       "6     2    Martin     Butt   33  30.24  \n",
       "7     0      Alex   Jensen   29  26.85  \n",
       "8     3       Kim  Howarth   32  31.38  \n",
       "9     1      Jane  Burnett   45  20.94  "
      ]
     },
     "execution_count": 181,
     "metadata": {},
     "output_type": "execute_result"
    }
   ],
   "source": [
    "data"
   ]
  },
  {
   "cell_type": "markdown",
   "metadata": {},
   "source": [
    "# Generator Expressions"
   ]
  },
  {
   "cell_type": "markdown",
   "metadata": {},
   "source": [
    "### It returns new generator objects,\n",
    "### Generator is iterable it does not store values, \n",
    "### but it generates values when you loop over."
   ]
  },
  {
   "cell_type": "code",
   "execution_count": 182,
   "metadata": {},
   "outputs": [
    {
     "data": {
      "text/plain": [
       "<generator object <genexpr> at 0x00000264677B7440>"
      ]
     },
     "execution_count": 182,
     "metadata": {},
     "output_type": "execute_result"
    }
   ],
   "source": [
    "numbers = [2,1,3,4,7,11,8]\n",
    "squares = (n**2 for n in numbers) # Generator Expression\n",
    "squares"
   ]
  },
  {
   "cell_type": "code",
   "execution_count": 183,
   "metadata": {},
   "outputs": [
    {
     "data": {
      "text/plain": [
       "4"
      ]
     },
     "execution_count": 183,
     "metadata": {},
     "output_type": "execute_result"
    }
   ],
   "source": [
    "next(squares)"
   ]
  },
  {
   "cell_type": "code",
   "execution_count": 184,
   "metadata": {},
   "outputs": [
    {
     "data": {
      "text/plain": [
       "1"
      ]
     },
     "execution_count": 184,
     "metadata": {},
     "output_type": "execute_result"
    }
   ],
   "source": [
    "next(squares)"
   ]
  },
  {
   "cell_type": "code",
   "execution_count": 185,
   "metadata": {},
   "outputs": [
    {
     "data": {
      "text/plain": [
       "9"
      ]
     },
     "execution_count": 185,
     "metadata": {},
     "output_type": "execute_result"
    }
   ],
   "source": [
    "next(squares)"
   ]
  },
  {
   "cell_type": "code",
   "execution_count": 186,
   "metadata": {},
   "outputs": [
    {
     "name": "stdout",
     "output_type": "stream",
     "text": [
      "16\n",
      "49\n",
      "121\n",
      "64\n"
     ]
    }
   ],
   "source": [
    "for n in squares:\n",
    "    print(n)"
   ]
  },
  {
   "cell_type": "code",
   "execution_count": 187,
   "metadata": {},
   "outputs": [
    {
     "data": {
      "text/plain": [
       "<generator object <genexpr> at 0x00000264677B7E00>"
      ]
     },
     "execution_count": 187,
     "metadata": {},
     "output_type": "execute_result"
    }
   ],
   "source": [
    "numbers = [2,1,3,4,7,11,8]\n",
    "numbers[3] = 5\n",
    "squares = (n**2 for n in numbers)\n",
    "squares"
   ]
  },
  {
   "cell_type": "code",
   "execution_count": 188,
   "metadata": {},
   "outputs": [
    {
     "name": "stdout",
     "output_type": "stream",
     "text": [
      "4\n",
      "1\n",
      "9\n",
      "25\n",
      "49\n",
      "121\n",
      "64\n"
     ]
    }
   ],
   "source": [
    "for n in squares:\n",
    "    print(n)"
   ]
  },
  {
   "cell_type": "code",
   "execution_count": 189,
   "metadata": {},
   "outputs": [
    {
     "data": {
      "text/plain": [
       "[]"
      ]
     },
     "execution_count": 189,
     "metadata": {},
     "output_type": "execute_result"
    }
   ],
   "source": [
    "list(squares)"
   ]
  },
  {
   "cell_type": "code",
   "execution_count": 190,
   "metadata": {},
   "outputs": [
    {
     "data": {
      "text/plain": [
       "<generator object <genexpr> at 0x00000264677B57D0>"
      ]
     },
     "execution_count": 190,
     "metadata": {},
     "output_type": "execute_result"
    }
   ],
   "source": [
    "numbers = [2,1,3,4,7,11,8]\n",
    "squares = (n**2 for n in numbers)\n",
    "squares"
   ]
  },
  {
   "cell_type": "code",
   "execution_count": 191,
   "metadata": {},
   "outputs": [
    {
     "name": "stdout",
     "output_type": "stream",
     "text": [
      "4\n",
      "1\n",
      "9\n",
      "16\n"
     ]
    }
   ],
   "source": [
    "for n in squares:\n",
    "    print(n)\n",
    "    if n > 10:\n",
    "        break"
   ]
  },
  {
   "cell_type": "code",
   "execution_count": 192,
   "metadata": {},
   "outputs": [
    {
     "data": {
      "text/plain": [
       "[49, 121, 64]"
      ]
     },
     "execution_count": 192,
     "metadata": {},
     "output_type": "execute_result"
    }
   ],
   "source": [
    "list(squares)"
   ]
  },
  {
   "cell_type": "code",
   "execution_count": 193,
   "metadata": {},
   "outputs": [
    {
     "name": "stdout",
     "output_type": "stream",
     "text": [
      "[0, 1, 2, 3, 4, 5]\n"
     ]
    }
   ],
   "source": [
    "result = (num for num in range(6))\n",
    "print(list(result))"
   ]
  },
  {
   "cell_type": "code",
   "execution_count": 194,
   "metadata": {},
   "outputs": [],
   "source": [
    "even_numbs = (num for num in range(10) if num % 2 == 0)"
   ]
  },
  {
   "cell_type": "code",
   "execution_count": 195,
   "metadata": {},
   "outputs": [
    {
     "name": "stdout",
     "output_type": "stream",
     "text": [
      "[0, 2, 4, 6, 8]\n"
     ]
    }
   ],
   "source": [
    "print(list(even_numbs))"
   ]
  },
  {
   "cell_type": "markdown",
   "metadata": {},
   "source": [
    "### Generator Functions"
   ]
  },
  {
   "cell_type": "code",
   "execution_count": 196,
   "metadata": {},
   "outputs": [],
   "source": [
    "def num_sequence(n):\n",
    "    i = 0\n",
    "    while i < n:\n",
    "        yield i #instead of return\n",
    "        i += 1"
   ]
  },
  {
   "cell_type": "code",
   "execution_count": 197,
   "metadata": {},
   "outputs": [
    {
     "name": "stdout",
     "output_type": "stream",
     "text": [
      "<class 'generator'>\n",
      "0\n",
      "1\n",
      "2\n",
      "3\n",
      "4\n",
      "5\n"
     ]
    }
   ],
   "source": [
    "result = num_sequence(6)\n",
    "print(type(result))\n",
    "\n",
    "for item in result:\n",
    "    print(item)"
   ]
  },
  {
   "cell_type": "code",
   "execution_count": 198,
   "metadata": {},
   "outputs": [],
   "source": [
    "nums = [1, 2, 3, 4, 5, 6, 7, 8, 9, 10]"
   ]
  },
  {
   "cell_type": "code",
   "execution_count": 199,
   "metadata": {},
   "outputs": [],
   "source": [
    "def gen_func(n):\n",
    "    for n in nums:\n",
    "        yield n * n\n",
    "        \n",
    "gen_exp = gen_func(nums)\n",
    "\n"
   ]
  },
  {
   "cell_type": "code",
   "execution_count": 200,
   "metadata": {},
   "outputs": [
    {
     "name": "stdout",
     "output_type": "stream",
     "text": [
      "1\n",
      "4\n",
      "9\n",
      "16\n",
      "25\n",
      "36\n",
      "49\n",
      "64\n",
      "81\n",
      "100\n"
     ]
    }
   ],
   "source": [
    "for i in gen_exp:\n",
    "    print(i)"
   ]
  },
  {
   "cell_type": "code",
   "execution_count": 201,
   "metadata": {},
   "outputs": [],
   "source": [
    "sum_of_squares = sum(x**2 for x in range(1000000))"
   ]
  },
  {
   "cell_type": "code",
   "execution_count": 202,
   "metadata": {},
   "outputs": [
    {
     "name": "stdout",
     "output_type": "stream",
     "text": [
      "333332833333500000\n"
     ]
    }
   ],
   "source": [
    "print(sum_of_squares)"
   ]
  },
  {
   "cell_type": "markdown",
   "metadata": {},
   "source": [
    "# Dictionary"
   ]
  },
  {
   "cell_type": "code",
   "execution_count": 203,
   "metadata": {},
   "outputs": [],
   "source": [
    "a = {'apple':'fruit','beetroot':'vegetable','cake':'dessert'}"
   ]
  },
  {
   "cell_type": "code",
   "execution_count": 204,
   "metadata": {},
   "outputs": [
    {
     "data": {
      "text/plain": [
       "{'apple': 'fruit', 'beetroot': 'vegetable', 'cake': 'dessert'}"
      ]
     },
     "execution_count": 204,
     "metadata": {},
     "output_type": "execute_result"
    }
   ],
   "source": [
    "a"
   ]
  },
  {
   "cell_type": "code",
   "execution_count": 205,
   "metadata": {},
   "outputs": [],
   "source": [
    "a['doughnut'] = 'snack'"
   ]
  },
  {
   "cell_type": "code",
   "execution_count": 206,
   "metadata": {},
   "outputs": [
    {
     "data": {
      "text/plain": [
       "{'apple': 'fruit',\n",
       " 'beetroot': 'vegetable',\n",
       " 'cake': 'dessert',\n",
       " 'doughnut': 'snack'}"
      ]
     },
     "execution_count": 206,
     "metadata": {},
     "output_type": "execute_result"
    }
   ],
   "source": [
    "a"
   ]
  },
  {
   "cell_type": "code",
   "execution_count": 207,
   "metadata": {},
   "outputs": [
    {
     "name": "stdout",
     "output_type": "stream",
     "text": [
      "{'one': 1, 'two': 'to', 'three': 3.0, 'four': [4, 4.0]}\n"
     ]
    }
   ],
   "source": [
    "a = {'one': 1, 'two':'to', 'three': 3.0, 'four':[4,4.0]}\n",
    "print(a)"
   ]
  },
  {
   "cell_type": "code",
   "execution_count": 208,
   "metadata": {},
   "outputs": [],
   "source": [
    "del a['one']"
   ]
  },
  {
   "cell_type": "code",
   "execution_count": 209,
   "metadata": {},
   "outputs": [
    {
     "data": {
      "text/plain": [
       "{'two': 'to', 'three': 3.0, 'four': [4, 4.0]}"
      ]
     },
     "execution_count": 209,
     "metadata": {},
     "output_type": "execute_result"
    }
   ],
   "source": [
    "a"
   ]
  },
  {
   "cell_type": "code",
   "execution_count": 210,
   "metadata": {},
   "outputs": [
    {
     "name": "stdout",
     "output_type": "stream",
     "text": [
      "{}\n"
     ]
    }
   ],
   "source": [
    "a.clear()\n",
    "print(a)"
   ]
  },
  {
   "cell_type": "code",
   "execution_count": 211,
   "metadata": {},
   "outputs": [
    {
     "name": "stdout",
     "output_type": "stream",
     "text": [
      "icecream\n"
     ]
    }
   ],
   "source": [
    "sweet_dict ={'a1':'cake', 'a2':'cookie', 'a1':'icecream'}\n",
    "print(sweet_dict['a1'])"
   ]
  },
  {
   "cell_type": "code",
   "execution_count": 212,
   "metadata": {},
   "outputs": [
    {
     "name": "stdout",
     "output_type": "stream",
     "text": [
      "a1 icecream\n",
      "a2 cookie\n"
     ]
    }
   ],
   "source": [
    "for k, v in sweet_dict.items():\n",
    "    print(k, v)"
   ]
  },
  {
   "cell_type": "code",
   "execution_count": 213,
   "metadata": {},
   "outputs": [
    {
     "name": "stdout",
     "output_type": "stream",
     "text": [
      "0 a1\n",
      "1 a2\n"
     ]
    }
   ],
   "source": [
    "for i, v in enumerate(sweet_dict):\n",
    "    print(i, v)"
   ]
  },
  {
   "cell_type": "code",
   "execution_count": 214,
   "metadata": {},
   "outputs": [
    {
     "name": "stdout",
     "output_type": "stream",
     "text": [
      "dict_items([('a1', 'icecream'), ('a2', 'cookie')])\n",
      "dict_keys(['a1', 'a2'])\n",
      "dict_values(['icecream', 'cookie'])\n"
     ]
    }
   ],
   "source": [
    "print(sweet_dict.items())\n",
    "print(sweet_dict.keys())\n",
    "print(sweet_dict.values())"
   ]
  },
  {
   "cell_type": "code",
   "execution_count": 215,
   "metadata": {},
   "outputs": [
    {
     "name": "stdout",
     "output_type": "stream",
     "text": [
      "What is your name? It is lancelot\n",
      "What is your quest? It is the holy grail\n",
      "What is your favorite color? It is blue\n"
     ]
    }
   ],
   "source": [
    "questions = ['name', 'quest', 'favorite color']\n",
    "answers = ['lancelot', 'the holy grail', 'blue']\n",
    "\n",
    "for q, a in zip(questions, answers):\n",
    "    print('What is your {0}? It is {1}'.format(q,a))"
   ]
  },
  {
   "cell_type": "markdown",
   "metadata": {},
   "source": [
    "# Dictionary Comprehension"
   ]
  },
  {
   "cell_type": "code",
   "execution_count": 216,
   "metadata": {},
   "outputs": [
    {
     "name": "stdout",
     "output_type": "stream",
     "text": [
      "dict_keys(['a', 'b', 'c', 'd'])\n",
      "dict_values([1, 2, 3, 4])\n",
      "dict_items([('a', 1), ('b', 2), ('c', 3), ('d', 4)])\n"
     ]
    }
   ],
   "source": [
    "dict1 = {'a': 1, 'b': 2, 'c': 3, 'd': 4}\n",
    "print(dict1.keys())\n",
    "print(dict1.values())\n",
    "print(dict1.items())"
   ]
  },
  {
   "cell_type": "code",
   "execution_count": 217,
   "metadata": {},
   "outputs": [],
   "source": [
    "dict_variable = {key:value for (key,value) in dict1.items()}"
   ]
  },
  {
   "cell_type": "code",
   "execution_count": 218,
   "metadata": {},
   "outputs": [
    {
     "data": {
      "text/plain": [
       "{'a': 1, 'b': 2, 'c': 3, 'd': 4}"
      ]
     },
     "execution_count": 218,
     "metadata": {},
     "output_type": "execute_result"
    }
   ],
   "source": [
    "dict_variable"
   ]
  },
  {
   "cell_type": "code",
   "execution_count": 219,
   "metadata": {},
   "outputs": [
    {
     "name": "stdout",
     "output_type": "stream",
     "text": [
      "{'a': 1, 'b': 2, 'c': 3, 'd': 4, 'e': 5}\n",
      "{'a': 2, 'b': 4, 'c': 6, 'd': 8, 'e': 10}\n",
      "{'aa': 1, 'bb': 2, 'cc': 3, 'dd': 4, 'ee': 5}\n"
     ]
    }
   ],
   "source": [
    "dict1 = {'a':1, 'b':2, 'c':3, 'd':4,'e':5}\n",
    "print(dict1)\n",
    "dictDictionaryComprehensionV = {k:v*2 for (k,v) in dict1.items()}\n",
    "print(dictDictionaryComprehensionV)\n",
    "dictDictionaryComprehensionK = {k*2:v for (k,v) in dict1.items()}\n",
    "print(dictDictionaryComprehensionK)"
   ]
  },
  {
   "cell_type": "code",
   "execution_count": 220,
   "metadata": {},
   "outputs": [
    {
     "name": "stdout",
     "output_type": "stream",
     "text": [
      "{0: 0, 2: 4, 4: 16, 6: 36, 8: 64}\n"
     ]
    }
   ],
   "source": [
    "numbers = range(10)\n",
    "new_dict_for = {}\n",
    "\n",
    "for n in numbers:\n",
    "    if n % 2 == 0:\n",
    "        new_dict_for[n] = n**2\n",
    "\n",
    "print(new_dict_for)"
   ]
  },
  {
   "cell_type": "code",
   "execution_count": 221,
   "metadata": {},
   "outputs": [
    {
     "name": "stdout",
     "output_type": "stream",
     "text": [
      "{0: 0, 2: 4, 4: 16, 6: 36, 8: 64}\n"
     ]
    }
   ],
   "source": [
    "new_dict_for2 = {n:n**2 for n in numbers if n % 2 ==0}\n",
    "print(new_dict_for2)"
   ]
  },
  {
   "cell_type": "code",
   "execution_count": 222,
   "metadata": {},
   "outputs": [
    {
     "data": {
      "text/plain": [
       "{'t1': -30, 't2': -20, 't3': -10, 't4': 0}"
      ]
     },
     "execution_count": 222,
     "metadata": {},
     "output_type": "execute_result"
    }
   ],
   "source": [
    "fahrenheit = {'t1':-30, 't2':-20,'t3':-10,'t4':0}\n",
    "fahrenheit\n"
   ]
  },
  {
   "cell_type": "code",
   "execution_count": 223,
   "metadata": {},
   "outputs": [
    {
     "name": "stdout",
     "output_type": "stream",
     "text": [
      "{'t1': -34.44444444444444, 't2': -28.88888888888889, 't3': -23.333333333333336, 't4': -17.77777777777778}\n"
     ]
    }
   ],
   "source": [
    "fahrenheit\n",
    "new_celcius = list(map(lambda x:(float(5)/9)*(x-32) , fahrenheit.values()))\n",
    "dictfahrenheit = dict(zip(fahrenheit.keys(), new_celcius))\n",
    "print(dictfahrenheit)"
   ]
  },
  {
   "cell_type": "code",
   "execution_count": 224,
   "metadata": {},
   "outputs": [
    {
     "name": "stdout",
     "output_type": "stream",
     "text": [
      "{'t1': -34.44444444444444, 't2': -28.88888888888889, 't3': -23.333333333333336, 't4': -17.77777777777778}\n"
     ]
    }
   ],
   "source": [
    "fahrenheit\n",
    "dictfahrenheit = {k:(float(5)/9)*(v-32) for (k,v) in fahrenheit.items()}\n",
    "print(dictfahrenheit)"
   ]
  },
  {
   "cell_type": "code",
   "execution_count": 225,
   "metadata": {},
   "outputs": [
    {
     "data": {
      "text/plain": [
       "{'t1': -30, 't2': -20, 't3': -10, 't4': 0}"
      ]
     },
     "execution_count": 225,
     "metadata": {},
     "output_type": "execute_result"
    }
   ],
   "source": [
    "fahrenheit"
   ]
  },
  {
   "cell_type": "code",
   "execution_count": 226,
   "metadata": {},
   "outputs": [
    {
     "name": "stdout",
     "output_type": "stream",
     "text": [
      "{'Bruce': 'Batman', 'Clark': 'Superman', 'Peter': 'Spiderman', 'Logan': 'Wolverine', 'Wade': 'Deadpole'}\n"
     ]
    }
   ],
   "source": [
    "names = ['Bruce', 'Clark', 'Peter', 'Logan', 'Wade']\n",
    "heros = ['Batman', 'Superman', 'Spiderman', 'Wolverine', 'Deadpole']\n",
    "\n",
    "print(dict(zip(names, heros)))"
   ]
  },
  {
   "cell_type": "code",
   "execution_count": 227,
   "metadata": {},
   "outputs": [
    {
     "name": "stdout",
     "output_type": "stream",
     "text": [
      "{'Bruce': 'Batman', 'Clark': 'Superman', 'Peter': 'Spiderman', 'Logan': 'Wolverine', 'Wade': 'Deadpole'}\n"
     ]
    }
   ],
   "source": [
    "# I want a dict{'name':'hero'} for each name, hero in zip(names, heros)\n",
    "my_dict = {}\n",
    "\n",
    "for name, hero in zip(names,heros):\n",
    "    my_dict[name] = hero\n",
    "print(my_dict)"
   ]
  },
  {
   "cell_type": "code",
   "execution_count": 228,
   "metadata": {},
   "outputs": [
    {
     "name": "stdout",
     "output_type": "stream",
     "text": [
      "{'Bruce': 'Batman', 'Clark': 'Superman', 'Peter': 'Spiderman', 'Logan': 'Wolverine', 'Wade': 'Deadpole'}\n"
     ]
    }
   ],
   "source": [
    "DictComp = {k:v for k,v in zip(names,heros)}\n",
    "print(DictComp)"
   ]
  },
  {
   "cell_type": "code",
   "execution_count": 229,
   "metadata": {},
   "outputs": [
    {
     "name": "stdout",
     "output_type": "stream",
     "text": [
      "{'Bruce': 'Batman', 'Clark': 'Superman', 'Logan': 'Wolverine', 'Wade': 'Deadpole'}\n"
     ]
    }
   ],
   "source": [
    "DictComp = {k:v for k,v in zip(names,heros) if k != 'Peter'}\n",
    "print(DictComp)"
   ]
  },
  {
   "cell_type": "markdown",
   "metadata": {},
   "source": [
    "### Adding Conditionals to Dictionary Comprehension\n",
    "#### If conditions & Multpie If Conditions"
   ]
  },
  {
   "cell_type": "code",
   "execution_count": 230,
   "metadata": {},
   "outputs": [
    {
     "name": "stdout",
     "output_type": "stream",
     "text": [
      "{'a': 1, 'b': 2, 'c': 3, 'd': 4, 'e': 5, 'f': 6}\n",
      "{'c': 3, 'd': 4, 'e': 5, 'f': 6}\n"
     ]
    }
   ],
   "source": [
    "dict1 = {'a':1, 'b':2, 'c':3, 'd':4, 'e':5,'f':6}\n",
    "print(dict1)\n",
    "dict1Conditional = {k:v for (k,v) in dict1.items() if v > 2}\n",
    "print(dict1Conditional)"
   ]
  },
  {
   "cell_type": "code",
   "execution_count": 231,
   "metadata": {},
   "outputs": [
    {
     "name": "stdout",
     "output_type": "stream",
     "text": [
      "{'d': 4, 'f': 6}\n"
     ]
    }
   ],
   "source": [
    "dict2Conditional = {k:v for (k,v) in dict1.items() if v > 2 if v % 2 ==0}\n",
    "print(dict2Conditional)"
   ]
  },
  {
   "cell_type": "code",
   "execution_count": 232,
   "metadata": {},
   "outputs": [
    {
     "name": "stdout",
     "output_type": "stream",
     "text": [
      "{'f': 6}\n"
     ]
    }
   ],
   "source": [
    "dict3Conditional = {k:v for (k,v) in dict1.items() if v > 2 if v % 2 == 0 if v % 3 == 0}\n",
    "print(dict3Conditional)"
   ]
  },
  {
   "cell_type": "code",
   "execution_count": 233,
   "metadata": {},
   "outputs": [
    {
     "name": "stdout",
     "output_type": "stream",
     "text": [
      "{'f': 6}\n"
     ]
    }
   ],
   "source": [
    "dict4Conditional = {}\n",
    "\n",
    "\n",
    "for k,v in dict1.items():\n",
    "    if (v > 2 and v % 2 == 0 and v % 3 == 0):\n",
    "        dict4Conditional[k]=v\n",
    "print(dict4Conditional)"
   ]
  },
  {
   "cell_type": "markdown",
   "metadata": {},
   "source": [
    "#### If-Else Conditions"
   ]
  },
  {
   "cell_type": "code",
   "execution_count": 234,
   "metadata": {},
   "outputs": [
    {
     "name": "stdout",
     "output_type": "stream",
     "text": [
      "{'a': 1, 'b': 2, 'c': 3, 'd': 4, 'e': 5, 'f': 6}\n",
      "{'a': 'odd', 'b': 'even', 'c': 'odd', 'd': 'even', 'e': 'odd', 'f': 'even'}\n"
     ]
    }
   ],
   "source": [
    "print(dict1)\n",
    "\n",
    "ifelsedict ={k:('even' if v % 2 == 0 else 'odd') for (k,v) in dict1.items()}\n",
    "\n",
    "print(ifelsedict)"
   ]
  },
  {
   "cell_type": "markdown",
   "metadata": {},
   "source": [
    "# List of Dictionary"
   ]
  },
  {
   "cell_type": "code",
   "execution_count": 235,
   "metadata": {},
   "outputs": [
    {
     "name": "stdout",
     "output_type": "stream",
     "text": [
      "[{7058: 'sravan', 7079: 'jyothika', 7072: 'harsha', 7075: 'deepika'}]\n",
      "1\n",
      "<class 'list'>\n"
     ]
    }
   ],
   "source": [
    "data = [{7058:'sravan', 7079: 'jyothika',\n",
    "         7072:'harsha', 7075:'deepika'}]\n",
    "\n",
    "print(data)\n",
    "print(len(data))\n",
    "print(type(data))"
   ]
  },
  {
   "cell_type": "code",
   "execution_count": 236,
   "metadata": {},
   "outputs": [
    {
     "name": "stdout",
     "output_type": "stream",
     "text": [
      "sravan\n",
      "deepika\n"
     ]
    }
   ],
   "source": [
    "print(data[0][7058])\n",
    "print(data[0][7075])"
   ]
  },
  {
   "cell_type": "code",
   "execution_count": 237,
   "metadata": {},
   "outputs": [
    {
     "name": "stdout",
     "output_type": "stream",
     "text": [
      "[{7058: 'sravan', 7059: 'jyothika', 7072: 'harsha', 7075: 'deepika'}, {7051: 'fathima', 7089: 'mounika', 7012: 'thanmai', 7115: 'vasavi'}, {9001: 'ojaswi', 1289: 'daksha', 7045: 'parvathi', 9815: 'bhavani'}]\n"
     ]
    }
   ],
   "source": [
    "data = [{7058: 'sravan', 7059: 'jyothika', \n",
    "         7072: 'harsha', 7075: 'deepika'},\n",
    "         \n",
    "        {7051: 'fathima', 7089: 'mounika', \n",
    "         7012: 'thanmai', 7115: 'vasavi'},\n",
    "         \n",
    "        {9001: 'ojaswi', 1289: 'daksha', \n",
    "         7045: 'parvathi', 9815: 'bhavani'}]\n",
    " \n",
    "print(data)"
   ]
  },
  {
   "cell_type": "code",
   "execution_count": 238,
   "metadata": {},
   "outputs": [
    {
     "name": "stdout",
     "output_type": "stream",
     "text": [
      "sravan\n",
      "fathima\n",
      "ojaswi\n"
     ]
    }
   ],
   "source": [
    "print(data[0][7058])\n",
    "print(data[1][7051])\n",
    "print(data[2][9001])"
   ]
  },
  {
   "cell_type": "markdown",
   "metadata": {},
   "source": [
    "## Append a Dictionary to Python List of Dictionary\n"
   ]
  },
  {
   "cell_type": "code",
   "execution_count": 239,
   "metadata": {},
   "outputs": [
    {
     "name": "stdout",
     "output_type": "stream",
     "text": [
      "[{1: 'Geeks', 2: 'GeeksforGeeks'}]\n"
     ]
    }
   ],
   "source": [
    "data = [{1: 'Geeks', 2:'GeeksforGeeks'}]\n",
    "print(data)"
   ]
  },
  {
   "cell_type": "code",
   "execution_count": 240,
   "metadata": {},
   "outputs": [
    {
     "name": "stdout",
     "output_type": "stream",
     "text": [
      "[{1: 'Geeks', 2: 'GeeksforGeeks'}, [{1: 'Python', 2: 'Programming'}]]\n"
     ]
    }
   ],
   "source": [
    "new_data = [{1: 'Python', 2:'Programming'}]\n",
    "\n",
    "data.append(new_data)\n",
    "print(data)"
   ]
  },
  {
   "cell_type": "code",
   "execution_count": 241,
   "metadata": {},
   "outputs": [
    {
     "name": "stdout",
     "output_type": "stream",
     "text": [
      "[{1: 'Geeks', 2: 'GeeksforGeeks'}, {1: 'Python', 2: 'Programming'}, {'A': 'B'}]\n"
     ]
    }
   ],
   "source": [
    "data = [{1: 'Geeks', 2:'GeeksforGeeks'}, {1: 'Python', 2:'Programming'},{'A':'B'}]\n",
    "print(data)"
   ]
  },
  {
   "cell_type": "code",
   "execution_count": 242,
   "metadata": {},
   "outputs": [],
   "source": [
    "data[0][3] = \"World\"\n",
    "data[0][2] = \"Hello\""
   ]
  },
  {
   "cell_type": "code",
   "execution_count": 243,
   "metadata": {},
   "outputs": [
    {
     "data": {
      "text/plain": [
       "[{1: 'Geeks', 2: 'Hello', 3: 'World'},\n",
       " {1: 'Python', 2: 'Programming'},\n",
       " {'A': 'B'}]"
      ]
     },
     "execution_count": 243,
     "metadata": {},
     "output_type": "execute_result"
    }
   ],
   "source": [
    "data"
   ]
  },
  {
   "cell_type": "code",
   "execution_count": 244,
   "metadata": {},
   "outputs": [],
   "source": [
    "data[1][1] = 'SQL'"
   ]
  },
  {
   "cell_type": "code",
   "execution_count": 245,
   "metadata": {},
   "outputs": [
    {
     "data": {
      "text/plain": [
       "[{1: 'Geeks', 2: 'Hello', 3: 'World'},\n",
       " {1: 'SQL', 2: 'Programming'},\n",
       " {'A': 'B'}]"
      ]
     },
     "execution_count": 245,
     "metadata": {},
     "output_type": "execute_result"
    }
   ],
   "source": [
    "data"
   ]
  },
  {
   "cell_type": "code",
   "execution_count": 246,
   "metadata": {},
   "outputs": [
    {
     "data": {
      "text/plain": [
       "'B'"
      ]
     },
     "execution_count": 246,
     "metadata": {},
     "output_type": "execute_result"
    }
   ],
   "source": [
    "data[2]['A']"
   ]
  },
  {
   "cell_type": "code",
   "execution_count": 247,
   "metadata": {},
   "outputs": [],
   "source": [
    "data[2]['A'] = 'C'"
   ]
  },
  {
   "cell_type": "code",
   "execution_count": 248,
   "metadata": {},
   "outputs": [
    {
     "data": {
      "text/plain": [
       "[{1: 'Geeks', 2: 'Hello', 3: 'World'},\n",
       " {1: 'SQL', 2: 'Programming'},\n",
       " {'A': 'C'}]"
      ]
     },
     "execution_count": 248,
     "metadata": {},
     "output_type": "execute_result"
    }
   ],
   "source": [
    "data"
   ]
  },
  {
   "cell_type": "markdown",
   "metadata": {},
   "source": [
    "# Set Comprehensions"
   ]
  },
  {
   "cell_type": "code",
   "execution_count": 249,
   "metadata": {},
   "outputs": [
    {
     "name": "stdout",
     "output_type": "stream",
     "text": [
      "{1, 2, 3, 4, 5, 6, 7, 8, 9, 10}\n"
     ]
    }
   ],
   "source": [
    "nums = [1,1,2, 2, 3,4,5,5,6,7,8,10,4,4,4, 4, 5, 6, 7, 8, 9, 10]\n",
    "\n",
    "my_set = set()\n",
    "\n",
    "for n in nums:\n",
    "    my_set.add(n)\n",
    "    \n",
    "print(my_set)"
   ]
  },
  {
   "cell_type": "code",
   "execution_count": 250,
   "metadata": {},
   "outputs": [
    {
     "name": "stdout",
     "output_type": "stream",
     "text": [
      "{1, 2, 3, 4, 5, 6, 7, 8, 9, 10}\n"
     ]
    }
   ],
   "source": [
    "SetComprehensions = {x for x in nums}\n",
    "print(SetComprehensions)"
   ]
  },
  {
   "cell_type": "markdown",
   "metadata": {},
   "source": [
    "# Python List Functions & Methods"
   ]
  },
  {
   "cell_type": "code",
   "execution_count": 251,
   "metadata": {},
   "outputs": [
    {
     "name": "stdout",
     "output_type": "stream",
     "text": [
      "[237.81, 238.11, 289.91]\n"
     ]
    }
   ],
   "source": [
    "prices = [238.11,237.81, 289.91]\n",
    "prices.sort()\n",
    "print(prices)"
   ]
  },
  {
   "cell_type": "code",
   "execution_count": 252,
   "metadata": {},
   "outputs": [],
   "source": [
    "fam = [\"liz\", 1.73, \"emma\", 1.68, \"mom\", 1.71, \"dad\", 1.89]\n",
    "fam2 = [[\"liz\", 1.73],\n",
    "        [\"emma\", 1.68],\n",
    "        [\"mom\", 1.71],\n",
    "        [\"dad\", 1.89]]"
   ]
  },
  {
   "cell_type": "code",
   "execution_count": 253,
   "metadata": {},
   "outputs": [
    {
     "data": {
      "text/plain": [
       "list"
      ]
     },
     "execution_count": 253,
     "metadata": {},
     "output_type": "execute_result"
    }
   ],
   "source": [
    "type(fam)"
   ]
  },
  {
   "cell_type": "code",
   "execution_count": 254,
   "metadata": {},
   "outputs": [
    {
     "data": {
      "text/plain": [
       "list"
      ]
     },
     "execution_count": 254,
     "metadata": {},
     "output_type": "execute_result"
    }
   ],
   "source": [
    "type(fam2)"
   ]
  },
  {
   "cell_type": "code",
   "execution_count": 255,
   "metadata": {},
   "outputs": [
    {
     "name": "stdout",
     "output_type": "stream",
     "text": [
      "['January', 'February', 'March', 'April']\n"
     ]
    }
   ],
   "source": [
    "months = ['January','February','March']\n",
    "months.append('April')\n",
    "print(months)"
   ]
  },
  {
   "cell_type": "code",
   "execution_count": 256,
   "metadata": {},
   "outputs": [
    {
     "data": {
      "text/plain": [
       "[1, 2, 3, 4, 5]"
      ]
     },
     "execution_count": 256,
     "metadata": {},
     "output_type": "execute_result"
    }
   ],
   "source": [
    "x = [1, 2, 3]\n",
    "x.extend([4,5])\n",
    "x"
   ]
  },
  {
   "cell_type": "code",
   "execution_count": 257,
   "metadata": {},
   "outputs": [],
   "source": [
    "months = ['January', 'February', 'March']\n",
    "prices = [238.11, 237.81, 238.91]\n"
   ]
  },
  {
   "cell_type": "code",
   "execution_count": 258,
   "metadata": {},
   "outputs": [
    {
     "data": {
      "text/plain": [
       "1"
      ]
     },
     "execution_count": 258,
     "metadata": {},
     "output_type": "execute_result"
    }
   ],
   "source": [
    "months.index('February')"
   ]
  },
  {
   "cell_type": "code",
   "execution_count": 259,
   "metadata": {},
   "outputs": [
    {
     "data": {
      "text/plain": [
       "237.81"
      ]
     },
     "execution_count": 259,
     "metadata": {},
     "output_type": "execute_result"
    }
   ],
   "source": [
    "prices[1]"
   ]
  },
  {
   "cell_type": "code",
   "execution_count": 260,
   "metadata": {},
   "outputs": [
    {
     "name": "stdout",
     "output_type": "stream",
     "text": [
      "159.54\n"
     ]
    }
   ],
   "source": [
    "prices = [159.54, 37.13, 71.17] \n",
    "prices_max = max(prices)\n",
    "print(prices_max)"
   ]
  },
  {
   "cell_type": "code",
   "execution_count": 261,
   "metadata": {},
   "outputs": [],
   "source": [
    "months = ['January', 'February', 'March']\n",
    "prices = [238.11, 237.81, 238.91]"
   ]
  },
  {
   "cell_type": "code",
   "execution_count": 262,
   "metadata": {},
   "outputs": [],
   "source": [
    "min_prices = min(prices)"
   ]
  },
  {
   "cell_type": "code",
   "execution_count": 263,
   "metadata": {},
   "outputs": [
    {
     "data": {
      "text/plain": [
       "1"
      ]
     },
     "execution_count": 263,
     "metadata": {},
     "output_type": "execute_result"
    }
   ],
   "source": [
    "index_prices = prices.index(min_prices)\n",
    "index_prices"
   ]
  },
  {
   "cell_type": "code",
   "execution_count": 264,
   "metadata": {},
   "outputs": [
    {
     "name": "stdout",
     "output_type": "stream",
     "text": [
      "February\n"
     ]
    }
   ],
   "source": [
    "print(months[index_prices])"
   ]
  },
  {
   "cell_type": "code",
   "execution_count": 265,
   "metadata": {},
   "outputs": [
    {
     "name": "stdout",
     "output_type": "stream",
     "text": [
      "stock_price_1 length is 1\n",
      "stock_price_2 length is 3\n"
     ]
    }
   ],
   "source": [
    "stock_price_1 = [50.23]\n",
    "stock_price_2 = [75.14, 85.64, 11.28]\n",
    "\n",
    "print('stock_price_1 length is {}'.format(len(stock_price_1)))\n",
    "print('stock_price_2 length is {}'.format(len(stock_price_2)))"
   ]
  },
  {
   "cell_type": "code",
   "execution_count": 266,
   "metadata": {},
   "outputs": [
    {
     "name": "stdout",
     "output_type": "stream",
     "text": [
      "[]\n",
      "['238.11', '237.81', '238.91']\n"
     ]
    }
   ],
   "source": [
    "print(list())\n",
    "\n",
    "stocks = ('238.11', '237.81', '238.91')\n",
    "print(list(stocks))"
   ]
  },
  {
   "cell_type": "code",
   "execution_count": 267,
   "metadata": {},
   "outputs": [],
   "source": [
    "def filter_price(price):\n",
    "    if(price > 350):\n",
    "        return True\n",
    "    else:\n",
    "        return False \n",
    "    \n",
    "item_price = [230, 400, 450, 350, 370] \n",
    "\n",
    "filtered_price = filter(filter_price,item_price)"
   ]
  },
  {
   "cell_type": "code",
   "execution_count": 268,
   "metadata": {},
   "outputs": [
    {
     "name": "stdout",
     "output_type": "stream",
     "text": [
      "[400, 450, 370]\n"
     ]
    }
   ],
   "source": [
    "print(list(filtered_price))"
   ]
  },
  {
   "cell_type": "code",
   "execution_count": 269,
   "metadata": {},
   "outputs": [
    {
     "name": "stdout",
     "output_type": "stream",
     "text": [
      "[400, 450, 370]\n"
     ]
    }
   ],
   "source": [
    "LambdaFilter = list(filter(lambda x: x > 350, item_price))\n",
    "print(LambdaFilter)"
   ]
  },
  {
   "cell_type": "markdown",
   "metadata": {},
   "source": [
    "# count() & counter()"
   ]
  },
  {
   "cell_type": "code",
   "execution_count": 270,
   "metadata": {},
   "outputs": [],
   "source": [
    "list = [1,2,3,4,5,5,5,5,1,1]"
   ]
  },
  {
   "cell_type": "code",
   "execution_count": 271,
   "metadata": {},
   "outputs": [
    {
     "name": "stdout",
     "output_type": "stream",
     "text": [
      "3\n",
      "4\n"
     ]
    }
   ],
   "source": [
    "print(list.count(1))\n",
    "print(list.count(5))"
   ]
  },
  {
   "cell_type": "code",
   "execution_count": 272,
   "metadata": {},
   "outputs": [
    {
     "name": "stdout",
     "output_type": "stream",
     "text": [
      "Counter({5: 4, 1: 3, 2: 1, 3: 1, 4: 1})\n"
     ]
    }
   ],
   "source": [
    "from collections import Counter\n",
    "x = Counter(list)\n",
    "print(x)"
   ]
  },
  {
   "cell_type": "markdown",
   "metadata": {},
   "source": [
    "# mutable & immutable types"
   ]
  },
  {
   "cell_type": "code",
   "execution_count": 273,
   "metadata": {},
   "outputs": [
    {
     "name": "stdout",
     "output_type": "stream",
     "text": [
      "Mutable types in Python are: list, set, dict\n",
      "Immutable types in Python are: str, int, float, bool, bytes, tuple\n"
     ]
    }
   ],
   "source": [
    "print('Mutable types in Python are: {}, {}, {}'.format('list','set','dict'))\n",
    "print('Immutable types in Python are: {}, {}, {}, {}, {}, {}'.format('str','int','float','bool','bytes','tuple'))"
   ]
  },
  {
   "cell_type": "code",
   "execution_count": 274,
   "metadata": {},
   "outputs": [
    {
     "data": {
      "text/plain": [
       "(1, 2)"
      ]
     },
     "execution_count": 274,
     "metadata": {},
     "output_type": "execute_result"
    }
   ],
   "source": [
    "x= (1,2)\n",
    "\n",
    "# x[0] = 1 # TypeError: 'tuple' object does not support item assignment\n",
    "x"
   ]
  },
  {
   "cell_type": "code",
   "execution_count": 275,
   "metadata": {},
   "outputs": [
    {
     "name": "stdout",
     "output_type": "stream",
     "text": [
      "(1, 2, 3) (1, 2)\n"
     ]
    }
   ],
   "source": [
    "y = x # we add assignment that we create a real copy of immutable object\n",
    "x = (1, 2, 3) # reassign a new value to x \n",
    "print(x, y)"
   ]
  },
  {
   "cell_type": "code",
   "execution_count": 276,
   "metadata": {},
   "outputs": [
    {
     "name": "stdout",
     "output_type": "stream",
     "text": [
      "[100, 2] [100, 2]\n"
     ]
    }
   ],
   "source": [
    "x = [1, 2]\n",
    "y = x \n",
    "x[0] = 100\n",
    "print(x, y)"
   ]
  },
  {
   "cell_type": "markdown",
   "metadata": {},
   "source": [
    "# local()"
   ]
  },
  {
   "cell_type": "code",
   "execution_count": 277,
   "metadata": {},
   "outputs": [
    {
     "name": "stdout",
     "output_type": "stream",
     "text": [
      "Here no local variable  is present :  {}\n",
      "Here local variables are present :  {'name': 'Ankit', 'name2': 'Lukasz'}\n"
     ]
    }
   ],
   "source": [
    "def demo1():\n",
    "    print(\"Here no local variable  is present : \", locals())\n",
    "\n",
    "# here local variables are present\n",
    "def demo2():\n",
    "    name = \"Ankit\"\n",
    "    name2 = \"Lukasz\"\n",
    "    print(\"Here local variables are present : \", locals())\n",
    "\n",
    "# driver code\n",
    "demo1()\n",
    "demo2()"
   ]
  },
  {
   "cell_type": "code",
   "execution_count": 278,
   "metadata": {},
   "outputs": [
    {
     "name": "stdout",
     "output_type": "stream",
     "text": [
      "Apple\n",
      "Samsung\n",
      "Oneplus\n"
     ]
    }
   ],
   "source": [
    "phones = ['Apple', 'Samsung', 'Oneplus']\n",
    "phones_iter = iter(phones)\n",
    "\n",
    "print(next(phones_iter))\n",
    "print(next(phones_iter))\n",
    "print(next(phones_iter))"
   ]
  }
 ],
 "metadata": {
  "kernelspec": {
   "display_name": "Python 3",
   "language": "python",
   "name": "python3"
  },
  "language_info": {
   "codemirror_mode": {
    "name": "ipython",
    "version": 3
   },
   "file_extension": ".py",
   "mimetype": "text/x-python",
   "name": "python",
   "nbconvert_exporter": "python",
   "pygments_lexer": "ipython3",
   "version": "3.11.5"
  }
 },
 "nbformat": 4,
 "nbformat_minor": 2
}
