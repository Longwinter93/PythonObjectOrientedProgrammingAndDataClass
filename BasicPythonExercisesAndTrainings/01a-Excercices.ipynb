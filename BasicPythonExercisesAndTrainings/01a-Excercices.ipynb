{
  "cells": [
    {
      "cell_type": "markdown",
      "metadata": {
        "id": "rIGr_y-9ifSb"
      },
      "source": [
        "# 101 Exercises for Python Fundamentals"
      ]
    },
    {
      "cell_type": "markdown",
      "metadata": {
        "id": "pTPChmzvifSh"
      },
      "source": [
        "## Orientation\n",
        "- Each *assert* line is both an example and a test that tests for the presence and functionality of the instructed exercise.\n",
        "\n",
        "\n",
        "## Outline\n",
        "- Each cell starts with a problem statement that describes the exercise to complete.\n",
        "- Underneath each problem statement, learners will need to write code to produce an answer.\n",
        "- The **assert** lines test to see that your code solves the problem appropriately.\n",
        "- Do not alter or delete the assertion tests, since those are providing automated testing.\n",
        "- Many exercises will rely on previous solutions to be correctly completed\n",
        "- The `print(\"Exercise is complete\")` line will only run if your solution passes the assertion test(s)\n",
        "- Be sure to create programmatic solutions that will work for all inputs:\n",
        "- For example, calling the `is_even(2)` returns `True`, but your function should work for all even numbers, both positive and negative."
      ]
    },
    {
      "cell_type": "code",
      "execution_count": 1,
      "metadata": {
        "_cell_guid": "79c7e3d0-c299-4dcb-8224-4455121ee9b0",
        "_uuid": "d629ff2d2480ee46fbb7e2d37f6b5fab8052498a",
        "id": "uiD2iwm8ifSl"
      },
      "outputs": [
        {
          "name": "stdout",
          "output_type": "stream",
          "text": [
            "Exercise 0 is correct\n"
          ]
        }
      ],
      "source": [
        "# Example problem:\n",
        "# Uncomment the line below and run this cell.\n",
        "# The hashtag \"#\" character in a line of Python code is the comment character.\n",
        "doing_python_right_now = True\n",
        "\n",
        "# The lines below will test your answer. If you see an error, then it means that your answer is incorrect or incomplete.\n",
        "assert doing_python_right_now == True\n",
        "print(\"Exercise 0 is correct\") # This line will print if your solution passes the assertion above."
      ]
    },
    {
      "cell_type": "code",
      "execution_count": 2,
      "metadata": {
        "id": "driTGiaNifSn"
      },
      "outputs": [
        {
          "name": "stdout",
          "output_type": "stream",
          "text": [
            "Exercise 1 is correct.\n"
          ]
        }
      ],
      "source": [
        "# Exercise 1\n",
        "# On the line below, create a variable named on_mars_right_now and assign it the boolean value of False\n",
        "on_mars_right_now = False\n",
        "\n",
        "assert on_mars_right_now == False\n",
        "print(\"Exercise 1 is correct.\")"
      ]
    },
    {
      "cell_type": "code",
      "execution_count": 3,
      "metadata": {
        "id": "4u_WBaoDifSo"
      },
      "outputs": [
        {
          "name": "stdout",
          "output_type": "stream",
          "text": [
            "Exercise 2 is correct.\n"
          ]
        }
      ],
      "source": [
        "# Exercise 2\n",
        "# Create a variable named fruits and assign it a list of fruits containing the following fruit names as strings:\n",
        "# mango, banana, guava, kiwi, and strawberry.\n",
        "fruits = [\"mango\", \"banana\", \"guava\", \"kiwi\", \"strawberry\"]\n",
        "\n",
        "\n",
        "assert fruits == [\"mango\", \"banana\", \"guava\", \"kiwi\", \"strawberry\"]\n",
        "print(\"Exercise 2 is correct.\")"
      ]
    },
    {
      "cell_type": "code",
      "execution_count": 4,
      "metadata": {
        "id": "syHetWenifSo"
      },
      "outputs": [
        {
          "name": "stdout",
          "output_type": "stream",
          "text": [
            "Exercise 3 is correct.\n"
          ]
        }
      ],
      "source": [
        "# Exercise 3\n",
        "# Create a variable named vegetables and assign it a list of fruits containing the following vegetable names as strings:\n",
        "# eggplant, broccoli, carrot, cauliflower, and zucchini\n",
        "\n",
        "vegetables = ['eggplant', 'broccoli', 'carrot', 'cauliflower', 'zucchini']\n",
        "\n",
        "assert vegetables == [\"eggplant\", \"broccoli\", \"carrot\", \"cauliflower\", \"zucchini\"]\n",
        "print(\"Exercise 3 is correct.\")"
      ]
    },
    {
      "cell_type": "code",
      "execution_count": 5,
      "metadata": {
        "id": "UBrZzK1MifSo"
      },
      "outputs": [
        {
          "name": "stdout",
          "output_type": "stream",
          "text": [
            "Exercise 4 is correct.\n"
          ]
        }
      ],
      "source": [
        "# Exercise 4\n",
        "# Create a variable named numbers and assign it a list of numbers, 1, 2, 3, 4, 5, 6, 7, 8, 9, 10\n",
        "\n",
        "numbers = [1,2,3,4,5,6,7,8,9,10]\n",
        "\n",
        "\n",
        "assert numbers == [1, 2, 3, 4, 5, 6, 7, 8, 9, 10]\n",
        "print(\"Exercise 4 is correct.\")"
      ]
    },
    {
      "cell_type": "markdown",
      "metadata": {
        "id": "KXkf8zgUifSp"
      },
      "source": [
        "## List Operations\n",
        "**Hint** Recommend finding and using built-in Python functionality whenever possible."
      ]
    },
    {
      "cell_type": "code",
      "execution_count": 6,
      "metadata": {
        "id": "2Sc538CwifSp"
      },
      "outputs": [
        {
          "name": "stdout",
          "output_type": "stream",
          "text": [
            "Exercise 5 is correct\n"
          ]
        }
      ],
      "source": [
        "# Exercise 5\n",
        "# Given the following assigment of the list of fruits, add \"tomato\" to the end of the list.\n",
        "fruits = [\"mango\", \"banana\", \"guava\", \"kiwi\", \"strawberry\"]\n",
        "fruits.append(\"tomato\")\n",
        "assert fruits == [\"mango\", \"banana\", \"guava\", \"kiwi\", \"strawberry\", \"tomato\"]\n",
        "print(\"Exercise 5 is correct\")"
      ]
    },
    {
      "cell_type": "code",
      "execution_count": 7,
      "metadata": {
        "id": "zYpKN_CVifSp"
      },
      "outputs": [
        {
          "name": "stdout",
          "output_type": "stream",
          "text": [
            "Exercise 6 is correct\n"
          ]
        }
      ],
      "source": [
        "# Exercise 6\n",
        "# Given the following assignment of the vegetables list, add \"tomato\" to the end of the list.\n",
        "vegetables = [\"eggplant\", \"broccoli\", \"carrot\", \"cauliflower\", \"zucchini\"]\n",
        "vegetables.append(\"tomato\")\n",
        "\n",
        "assert vegetables == [\"eggplant\", \"broccoli\", \"carrot\", \"cauliflower\", \"zucchini\", \"tomato\"], \"Ensure the variable contains all the strings in the provided order\"\n",
        "print(\"Exercise 6 is correct\")"
      ]
    },
    {
      "cell_type": "code",
      "execution_count": 8,
      "metadata": {
        "id": "hStjnm4KifSp"
      },
      "outputs": [
        {
          "name": "stdout",
          "output_type": "stream",
          "text": [
            "Exercise 7 is correct.\n"
          ]
        }
      ],
      "source": [
        "# Exercise 7\n",
        "# Given the list of numbers defined below, reverse the list of numbers that you created above.\n",
        "numbers = [1, 2, 3, 4, 5, 6, 7, 8, 9, 10]\n",
        "numbers.reverse()\n",
        "\n",
        "assert numbers == [10, 9, 8, 7, 6, 5, 4, 3, 2, 1] \n",
        "print(\"Exercise 7 is correct.\")"
      ]
    },
    {
      "cell_type": "code",
      "execution_count": 9,
      "metadata": {
        "id": "ijMvlMYhifSp"
      },
      "outputs": [
        {
          "name": "stdout",
          "output_type": "stream",
          "text": [
            "Exercise 8 is correct.\n"
          ]
        }
      ],
      "source": [
        "# Exercise 8\n",
        "# Sort the vegetables in alphabetical order\n",
        "vegetables.sort()\n",
        "assert vegetables == ['broccoli', 'carrot', 'cauliflower', 'eggplant', 'tomato', 'zucchini']\n",
        "print(\"Exercise 8 is correct.\")"
      ]
    },
    {
      "cell_type": "code",
      "execution_count": 10,
      "metadata": {
        "id": "QLGHtOqkifSq"
      },
      "outputs": [
        {
          "name": "stdout",
          "output_type": "stream",
          "text": [
            "Exercise 9 is correct.\n"
          ]
        }
      ],
      "source": [
        "# Exercise 9\n",
        "# Write the code necessary to sort the fruits in reverse alphabetical order\n",
        "#fruits == [\"mango\", \"banana\", \"guava\", \"kiwi\", \"strawberry\", \"tomato\"]\n",
        "fruits.sort(reverse = True)\n",
        "assert fruits == ['tomato', 'strawberry', 'mango', 'kiwi', 'guava', 'banana']\n",
        "print(\"Exercise 9 is correct.\")"
      ]
    },
    {
      "cell_type": "code",
      "execution_count": 11,
      "metadata": {
        "id": "RGJX_3b_ifSq"
      },
      "outputs": [
        {
          "name": "stdout",
          "output_type": "stream",
          "text": [
            "Exercise 10 is correct\n"
          ]
        }
      ],
      "source": [
        "# Exercise 10\n",
        "# Write the code necessary to produce a single list that holds all fruits then all vegetables in the order as they were sorted above.\n",
        "fruits.extend(vegetables)\n",
        "fruits_and_veggies = fruits\n",
        "assert fruits_and_veggies == ['tomato', 'strawberry', 'mango', 'kiwi', 'guava', 'banana', 'broccoli', 'carrot', 'cauliflower', 'eggplant', 'tomato', 'zucchini']\n",
        "print(\"Exercise 10 is correct\")"
      ]
    },
    {
      "cell_type": "markdown",
      "metadata": {
        "id": "GG-cF-IjifSq"
      },
      "source": [
        "## Basic Functions\n",
        "![](http://)**Hint** Be sure to `return` values from your function definitions. The assert statements will call your function(s) for you."
      ]
    },
    {
      "cell_type": "code",
      "execution_count": 12,
      "metadata": {
        "id": "AcO-pTyRifSq"
      },
      "outputs": [
        {
          "name": "stdout",
          "output_type": "stream",
          "text": [
            "We now have some random numbers available for future exercises.\n",
            "The random positive even number is 56\n",
            "The random positive odd nubmer is 85\n",
            "The random negative even number -92\n",
            "The random negative odd number -53\n"
          ]
        }
      ],
      "source": [
        "# Run this cell in order to generate some numbers to use in our functions after this.\n",
        "import random\n",
        "\n",
        "positive_even_number = random.randrange(2, 101, 2)\n",
        "negative_even_number = random.randrange(-100, -1, 2)\n",
        "\n",
        "positive_odd_number = random.randrange(1, 100, 2)\n",
        "negative_odd_number = random.randrange(-101, 0, 2)\n",
        "print(\"We now have some random numbers available for future exercises.\")\n",
        "print(\"The random positive even number is\", positive_even_number)\n",
        "print(\"The random positive odd nubmer is\", positive_odd_number)\n",
        "print(\"The random negative even number\", negative_even_number)\n",
        "print(\"The random negative odd number\", negative_odd_number)\n"
      ]
    },
    {
      "cell_type": "code",
      "execution_count": 13,
      "metadata": {
        "id": "cg5rWoogifSq"
      },
      "outputs": [
        {
          "name": "stdout",
          "output_type": "stream",
          "text": [
            "The example function definition ran appropriately\n"
          ]
        }
      ],
      "source": [
        "# Example function defintion:\n",
        "# Write a say_hello function that adds the string \"Hello, \" to the beginning and \"!\" to the end of any given input.\n",
        "def say_hello(name):\n",
        "    return \"Hello, \" + name + \"!\"\n",
        "\n",
        "assert say_hello(\"Jane\") == \"Hello, Jane!\", \"Double check the inputs and data types\"\n",
        "assert say_hello(\"Pat\") == \"Hello, Pat!\", \"Double check the inputs and data types\"\n",
        "assert say_hello(\"Astrud\") == \"Hello, Astrud!\", \"Double check the inputs and data types\"\n",
        "print(\"The example function definition ran appropriately\")"
      ]
    },
    {
      "cell_type": "code",
      "execution_count": 14,
      "metadata": {
        "id": "Yu0QlWrbifSq"
      },
      "outputs": [
        {
          "name": "stdout",
          "output_type": "stream",
          "text": [
            "The plus_two assertions executed appropriately... The second function definition example executed appropriately.\n"
          ]
        }
      ],
      "source": [
        "# Another example function definition:\n",
        "# This plus_two function takes in a variable and adds 2 to it.\n",
        "def plus_two(number):\n",
        "    return number + 2\n",
        "\n",
        "assert plus_two(3) == 5\n",
        "assert plus_two(0) == 2\n",
        "assert plus_two(-2) == 0\n",
        "print(\"The plus_two assertions executed appropriately... The second function definition example executed appropriately.\")"
      ]
    },
    {
      "cell_type": "code",
      "execution_count": 15,
      "metadata": {
        "id": "_EETc0npifSq"
      },
      "outputs": [
        {
          "name": "stdout",
          "output_type": "stream",
          "text": [
            "Exercise 11 is correct.\n"
          ]
        }
      ],
      "source": [
        "# Exercise 11\n",
        "# Write a function definition for a function named add_one that takes in a number and returns that number plus one.\n",
        "def add_one(number):\n",
        "    return number + 1\n",
        "\n",
        "assert add_one(2) == 3, \"Ensure that the function is defined, named properly, and returns the correct value\"\n",
        "assert add_one(0) == 1, \"Zero plus one is one.\"\n",
        "assert add_one(positive_even_number) == positive_even_number + 1, \"Ensure that the function is defined, named properly, and returns the correct value\"\n",
        "assert add_one(negative_odd_number) == negative_odd_number + 1, \"Ensure that the function is defined, named properly, and returns the correct value\"\n",
        "print(\"Exercise 11 is correct.\")"
      ]
    },
    {
      "cell_type": "code",
      "execution_count": 16,
      "metadata": {},
      "outputs": [
        {
          "name": "stdout",
          "output_type": "stream",
          "text": [
            "False\n"
          ]
        }
      ],
      "source": [
        "a = -1\n",
        "if a > 0:\n",
        "    print(True)\n",
        "else:\n",
        "    print(False)\n",
        "\n"
      ]
    },
    {
      "cell_type": "code",
      "execution_count": 17,
      "metadata": {
        "id": "Vp5gai4QifSq"
      },
      "outputs": [
        {
          "name": "stdout",
          "output_type": "stream",
          "text": [
            "Exercise 12 is correct.\n"
          ]
        }
      ],
      "source": [
        "# Exercise 12\n",
        "# Write a function definition named is_positive that takes in a number and returns True or False if that number is positive.\n",
        "def is_positive(number):\n",
        "    if number > 0:\n",
        "        return True\n",
        "    else:\n",
        "        return False\n",
        "                         \n",
        "assert is_positive(positive_odd_number) == True, \"Ensure that the function is defined, named properly, and returns the correct value\"\n",
        "assert is_positive(positive_even_number) == True, \"Ensure that the function is defined, named properly, and returns the correct value\"\n",
        "assert is_positive(negative_odd_number) == False, \"Ensure that the function is defined, named properly, and returns the correct value\"\n",
        "assert is_positive(negative_even_number) == False, \"Ensure that the function is defined, named properly, and returns the correct value\"\n",
        "assert is_positive(0) == False, \"Zero is not a positive number.\"\n",
        "print(\"Exercise 12 is correct.\")"
      ]
    },
    {
      "cell_type": "code",
      "execution_count": 18,
      "metadata": {
        "id": "h0HENQDHifSr"
      },
      "outputs": [
        {
          "name": "stdout",
          "output_type": "stream",
          "text": [
            "Exercise 13 is correct.\n"
          ]
        }
      ],
      "source": [
        "# Exercise 13\n",
        "# Write a function definition named is_negative that takes in a number and returns True or False if that number is negative.\n",
        "def is_negative(number):\n",
        "    if number < 0:\n",
        "        return True \n",
        "    else:   \n",
        "        return False \n",
        "    \n",
        "assert is_negative(positive_odd_number) == False \n",
        "assert is_negative(positive_even_number) == False \n",
        "assert is_negative(negative_odd_number) == True\n",
        "assert is_negative(negative_even_number) == True\n",
        "assert is_negative(0) == False \n",
        "print(\"Exercise 13 is correct.\")"
      ]
    },
    {
      "cell_type": "code",
      "execution_count": 19,
      "metadata": {},
      "outputs": [
        {
          "name": "stdout",
          "output_type": "stream",
          "text": [
            "[5]\n"
          ]
        }
      ],
      "source": [
        "a = [2, 4, 5]\n",
        "\n",
        "a = [num for num in a if num % 2 != 0]\n",
        "print(a)"
      ]
    },
    {
      "cell_type": "code",
      "execution_count": 20,
      "metadata": {
        "id": "C3obwZY2ifSr"
      },
      "outputs": [
        {
          "name": "stdout",
          "output_type": "stream",
          "text": [
            "Exercise 14 is correct.\n"
          ]
        }
      ],
      "source": [
        "# Exercise 14\n",
        "# Write a function definition named is_odd that takes in a number and returns True or False if that number is odd.\n",
        "def is_odd(number):\n",
        "    if number % 2 != 0:\n",
        "        return True\n",
        "    else:\n",
        "        return False\n",
        "\n",
        "\n",
        "\n",
        "\n",
        "assert is_odd(positive_odd_number) == True \n",
        "assert is_odd(positive_even_number) == False \n",
        "assert is_odd(negative_odd_number) == True \n",
        "assert is_odd(negative_even_number) == False \n",
        "print(\"Exercise 14 is correct.\")"
      ]
    },
    {
      "cell_type": "code",
      "execution_count": 21,
      "metadata": {
        "id": "iIPJsopUifSr"
      },
      "outputs": [
        {
          "name": "stdout",
          "output_type": "stream",
          "text": [
            "Exercise 15 is correct.\n"
          ]
        }
      ],
      "source": [
        "# Exercise 15\n",
        "# Write a function definition named is_even that takes in a number and returns True or False if that number is even.\n",
        "\n",
        "def is_even(number):\n",
        "    result = True if number % 2 == 0 else False\n",
        "    return result\n",
        "\n",
        "\n",
        "assert is_even(2) == True \n",
        "assert is_even(positive_odd_number) == False \n",
        "assert is_even(positive_even_number) == True \n",
        "assert is_even(negative_odd_number) == False \n",
        "assert is_even(negative_even_number) == True \n",
        "print(\"Exercise 15 is correct.\")"
      ]
    },
    {
      "cell_type": "code",
      "execution_count": 22,
      "metadata": {
        "id": "q9-GFd26ifSr"
      },
      "outputs": [
        {
          "name": "stdout",
          "output_type": "stream",
          "text": [
            "Exercise 16 is correct.\n"
          ]
        }
      ],
      "source": [
        "# Exercise 16\n",
        "# Write a function definition named identity that takes in any argument and returns that argument's value. Don't overthink this one!\n",
        "\n",
        "def identity(argument):\n",
        "    return argument\n",
        "\n",
        "assert identity(fruits) == fruits\n",
        "assert identity(vegetables) == vegetables \n",
        "assert identity(positive_odd_number) == positive_odd_number \n",
        "assert identity(positive_even_number) == positive_even_number\n",
        "assert identity(negative_odd_number) == negative_odd_number\n",
        "assert identity(negative_even_number) == negative_even_number\n",
        "print(\"Exercise 16 is correct.\")"
      ]
    },
    {
      "cell_type": "code",
      "execution_count": 23,
      "metadata": {
        "id": "Uzlbdta0ifSr"
      },
      "outputs": [
        {
          "name": "stdout",
          "output_type": "stream",
          "text": [
            "Exercise 17 is correct.\n"
          ]
        }
      ],
      "source": [
        "# Exercise 17\n",
        "# Write a function definition named is_positive_odd that takes in a number and returns True or False if the value is both greater than zero and odd\n",
        "def is_positive_odd(number):\n",
        "    if number % 2 != 0 and number > 0:\n",
        "        return True \n",
        "    else:\n",
        "        return False\n",
        "\n",
        "\n",
        "#def is_positive_odd(number):\n",
        "    #result = True if number % 2 != 0 and number > 0 else False \n",
        "    #return result\n",
        "\n",
        "\n",
        "assert is_positive_odd(3) == True, \"Double check your syntax and logic\"\n",
        "assert is_positive_odd(positive_odd_number) == True, \"Double check your syntax and logic\"\n",
        "assert is_positive_odd(positive_even_number) == False, \"Double check your syntax and logic\"\n",
        "assert is_positive_odd(negative_odd_number) == False, \"Double check your syntax and logic\"\n",
        "assert is_positive_odd(negative_even_number) == False, \"Double check your syntax and logic\"\n",
        "print(\"Exercise 17 is correct.\")"
      ]
    },
    {
      "cell_type": "code",
      "execution_count": 24,
      "metadata": {
        "id": "xm9vCi4LifSr"
      },
      "outputs": [
        {
          "name": "stdout",
          "output_type": "stream",
          "text": [
            "Exercise 18 is correct.\n"
          ]
        }
      ],
      "source": [
        "# Exercise 18\n",
        "# Write a function definition named is_positive_even that takes in a number and returns True or False if the value is both greater than zero and even\n",
        "def is_positive_even(number):\n",
        "    result = True if number % 2 == 0 and number > 0 else False \n",
        "    return result\n",
        "\n",
        "\n",
        "assert is_positive_even(4) == True, \"Double check your syntax and logic\"\n",
        "assert is_positive_even(positive_odd_number) == False, \"Double check your syntax and logic\"\n",
        "assert is_positive_even(positive_even_number) == True, \"Double check your syntax and logic\"\n",
        "assert is_positive_even(negative_odd_number) == False, \"Double check your syntax and logic\"\n",
        "assert is_positive_even(negative_even_number) == False, \"Double check your syntax and logic\"\n",
        "print(\"Exercise 18 is correct.\")"
      ]
    },
    {
      "cell_type": "code",
      "execution_count": 25,
      "metadata": {
        "id": "82E4zuMlifSr"
      },
      "outputs": [
        {
          "name": "stdout",
          "output_type": "stream",
          "text": [
            "Exercise 19 is correct.\n"
          ]
        }
      ],
      "source": [
        "# Exercise 19\n",
        "# Write a function definition named is_negative_odd that takes in a number and returns True or False if the value is both less than zero and odd.\n",
        "\n",
        "def is_negative_odd(number):\n",
        "    result = True if number % 2 != 0 and number < 0 else False\n",
        "    return result\n",
        "\n",
        "assert is_negative_odd(-3) == True, \"Double check your syntax and logic\"\n",
        "assert is_negative_odd(positive_odd_number) == False, \"Double check your syntax and logic\"\n",
        "assert is_negative_odd(positive_even_number) == False, \"Double check your syntax and logic\"\n",
        "assert is_negative_odd(negative_odd_number) == True, \"Double check your syntax and logic\"\n",
        "assert is_negative_odd(negative_even_number) == False, \"Double check your syntax and logic\"\n",
        "print(\"Exercise 19 is correct.\")\n"
      ]
    },
    {
      "cell_type": "code",
      "execution_count": 26,
      "metadata": {
        "id": "97sLTorRifSr"
      },
      "outputs": [
        {
          "name": "stdout",
          "output_type": "stream",
          "text": [
            "Exercise 20 is correct.\n"
          ]
        }
      ],
      "source": [
        "# Exercise 20\n",
        "# Write a function definition named is_negative_even that takes in a number and returns True or False if the value is both less than zero and even.\n",
        "\n",
        "def is_negative_even(number):\n",
        "    if number % 2 == 0 and number < 0:\n",
        "        return True \n",
        "    else:\n",
        "        return False\n",
        "\n",
        "assert is_negative_even(-4) == True, \"Double check your syntax and logic\"\n",
        "assert is_negative_even(positive_odd_number) == False, \"Double check your syntax and logic\"\n",
        "assert is_negative_even(positive_even_number) == False, \"Double check your syntax and logic\"\n",
        "assert is_negative_even(negative_odd_number) == False, \"Double check your syntax and logic\"\n",
        "assert is_negative_even(negative_even_number) == True, \"Double check your syntax and logic\"\n",
        "print(\"Exercise 20 is correct.\")"
      ]
    },
    {
      "cell_type": "code",
      "execution_count": 27,
      "metadata": {
        "id": "z-aThZk4ifSs"
      },
      "outputs": [
        {
          "name": "stdout",
          "output_type": "stream",
          "text": [
            "Exercise 21 is correct.\n"
          ]
        }
      ],
      "source": [
        "# Exercise 21\n",
        "# Write a function definition named half that takes in a number and returns half the provided number.\n",
        "def half(number):\n",
        "    return number / 2\n",
        "\n",
        "\n",
        "assert half(4) == 2\n",
        "assert half(5) == 2.5\n",
        "assert half(positive_odd_number) == positive_odd_number / 2\n",
        "assert half(positive_even_number) == positive_even_number / 2\n",
        "assert half(negative_odd_number) == negative_odd_number / 2\n",
        "assert half(negative_even_number) == negative_even_number / 2\n",
        "print(\"Exercise 21 is correct.\")"
      ]
    },
    {
      "cell_type": "code",
      "execution_count": 28,
      "metadata": {
        "id": "v5_2yb8AifSs"
      },
      "outputs": [
        {
          "name": "stdout",
          "output_type": "stream",
          "text": [
            "Exercise 22 is correct.\n"
          ]
        }
      ],
      "source": [
        "# Exercise 22\n",
        "# Write a function definition named double that takes in a number and returns double the provided number.\n",
        "\n",
        "def double(number):\n",
        "    return number * 2\n",
        "\n",
        "\n",
        "assert double(4) == 8\n",
        "assert double(5) == 10\n",
        "assert double(positive_odd_number) == positive_odd_number * 2\n",
        "assert double(positive_even_number) == positive_even_number * 2\n",
        "assert double(negative_odd_number) == negative_odd_number * 2\n",
        "assert double(negative_even_number) == negative_even_number * 2\n",
        "print(\"Exercise 22 is correct.\")"
      ]
    },
    {
      "cell_type": "code",
      "execution_count": 29,
      "metadata": {
        "id": "pm_5IyIjifSs"
      },
      "outputs": [
        {
          "name": "stdout",
          "output_type": "stream",
          "text": [
            "Exercise 23 is correct.\n"
          ]
        }
      ],
      "source": [
        "# Exercise 23\n",
        "# Write a function definition named triple that takes in a number and returns triple the provided number.\n",
        "\n",
        "def triple(number):\n",
        "    return number * 3\n",
        "\n",
        "assert triple(4) == 12\n",
        "assert triple(5) == 15\n",
        "assert triple(positive_odd_number) == positive_odd_number * 3\n",
        "assert triple(positive_even_number) == positive_even_number * 3\n",
        "assert triple(negative_odd_number) == negative_odd_number * 3\n",
        "assert triple(negative_even_number) == negative_even_number * 3\n",
        "print(\"Exercise 23 is correct.\")"
      ]
    },
    {
      "cell_type": "code",
      "execution_count": 30,
      "metadata": {
        "id": "6I833ohdifSs"
      },
      "outputs": [
        {
          "name": "stdout",
          "output_type": "stream",
          "text": [
            "Exercise 24 is correct.\n"
          ]
        }
      ],
      "source": [
        "# Exercise 24\n",
        "# Write a function definition named reverse_sign that takes in a number and returns the provided number but with the sign reversed.\n",
        "\n",
        "def reverse_sign(number):\n",
        "    return number * (-1)\n",
        "\n",
        "assert reverse_sign(4) == -4\n",
        "assert reverse_sign(-5) == 5\n",
        "assert reverse_sign(positive_odd_number) == positive_odd_number * -1\n",
        "assert reverse_sign(positive_even_number) == positive_even_number * -1\n",
        "assert reverse_sign(negative_odd_number) == negative_odd_number * -1\n",
        "assert reverse_sign(negative_even_number) == negative_even_number * -1\n",
        "print(\"Exercise 24 is correct.\")"
      ]
    },
    {
      "cell_type": "code",
      "execution_count": 31,
      "metadata": {
        "id": "8bUe6I65ifSs"
      },
      "outputs": [
        {
          "name": "stdout",
          "output_type": "stream",
          "text": [
            "Exercise 25 is correct.\n"
          ]
        }
      ],
      "source": [
        "# Exercise 25\n",
        "# Write a function definition named absolute_value that takes in a number and returns the absolute value of the provided number\n",
        "def absolute_value(number):\n",
        "    return abs(number)\n",
        "\n",
        "assert absolute_value(4) == 4\n",
        "assert absolute_value(-5) == 5\n",
        "assert absolute_value(positive_odd_number) == positive_odd_number\n",
        "assert absolute_value(positive_even_number) == positive_even_number\n",
        "assert absolute_value(negative_odd_number) == negative_odd_number * -1\n",
        "assert absolute_value(negative_even_number) == negative_even_number * -1\n",
        "print(\"Exercise 25 is correct.\")"
      ]
    },
    {
      "cell_type": "code",
      "execution_count": 32,
      "metadata": {
        "id": "fqWerD52ifSs"
      },
      "outputs": [
        {
          "name": "stdout",
          "output_type": "stream",
          "text": [
            "Exercise 26 is correct.\n"
          ]
        }
      ],
      "source": [
        "# Exercise 26\n",
        "# Write a function definition named is_multiple_of_three that takes in a number and returns True or False if the number is evenly divisible by 3.\n",
        "\n",
        "def is_multiple_of_three(number):\n",
        "    if number % 3 == 0:\n",
        "        return True\n",
        "    else:\n",
        "        return False\n",
        "\n",
        "\n",
        "assert is_multiple_of_three(3) == True\n",
        "assert is_multiple_of_three(15) == True\n",
        "assert is_multiple_of_three(9) == True\n",
        "assert is_multiple_of_three(4) == False\n",
        "assert is_multiple_of_three(10) == False\n",
        "print(\"Exercise 26 is correct.\")"
      ]
    },
    {
      "cell_type": "code",
      "execution_count": 33,
      "metadata": {
        "id": "Y2fBv4piifSs"
      },
      "outputs": [
        {
          "name": "stdout",
          "output_type": "stream",
          "text": [
            "Exercise 27 is correct.\n"
          ]
        }
      ],
      "source": [
        "# Exercise 27\n",
        "# Write a function definition named is_multiple_of_five that takes in a number and returns True or False if the number is evenly divisible by 5.\n",
        "\n",
        "def is_multiple_of_five(number):\n",
        "    result = True if number % 5 == 0 else False \n",
        "    return result\n",
        "\n",
        "\n",
        "assert is_multiple_of_five(3) == False\n",
        "assert is_multiple_of_five(15) == True\n",
        "assert is_multiple_of_five(9) == False\n",
        "assert is_multiple_of_five(4) == False\n",
        "assert is_multiple_of_five(10) == True\n",
        "print(\"Exercise 27 is correct.\")"
      ]
    },
    {
      "cell_type": "code",
      "execution_count": 34,
      "metadata": {
        "id": "3PoIU-KnifSt"
      },
      "outputs": [
        {
          "name": "stdout",
          "output_type": "stream",
          "text": [
            "Exercise 28 is correct.\n"
          ]
        }
      ],
      "source": [
        "# Exercise 28\n",
        "# Write a function definition named is_multiple_of_both_three_and_five that takes in a number and returns True or False if the number is evenly divisible by both 3 and 5.\n",
        "def is_multiple_of_both_three_and_five(number):\n",
        "    if number % 3 == 0 and number % 5 == 0:\n",
        "        return True \n",
        "    else:\n",
        "        return False\n",
        "\n",
        "\n",
        "assert is_multiple_of_both_three_and_five(15) == True\n",
        "assert is_multiple_of_both_three_and_five(45) == True\n",
        "assert is_multiple_of_both_three_and_five(3) == False\n",
        "assert is_multiple_of_both_three_and_five(9) == False\n",
        "assert is_multiple_of_both_three_and_five(4) == False\n",
        "print(\"Exercise 28 is correct.\")"
      ]
    },
    {
      "cell_type": "code",
      "execution_count": 35,
      "metadata": {
        "id": "LmSsE1rtifSy"
      },
      "outputs": [
        {
          "name": "stdout",
          "output_type": "stream",
          "text": [
            "Exercise 29 is correct.\n"
          ]
        }
      ],
      "source": [
        "# Exercise 29\n",
        "# Write a function definition named square that takes in a number and returns the number times itself.\n",
        "\n",
        "def square(number):\n",
        "    return number ** 2\n",
        "\n",
        "\n",
        "assert square(3) == 9\n",
        "assert square(2) == 4\n",
        "assert square(9) == 81\n",
        "assert square(positive_odd_number) == positive_odd_number * positive_odd_number\n",
        "print(\"Exercise 29 is correct.\")"
      ]
    },
    {
      "cell_type": "code",
      "execution_count": 36,
      "metadata": {
        "id": "0czrfnxwifSz"
      },
      "outputs": [
        {
          "name": "stdout",
          "output_type": "stream",
          "text": [
            "Exercise 30 is correct.\n"
          ]
        }
      ],
      "source": [
        "# Exercise 30\n",
        "# Write a function definition named add that takes in two numbers and returns the sum.\n",
        "def add(first, second):\n",
        "    return first + second\n",
        "\n",
        "\n",
        "assert add(3, 2) == 5\n",
        "assert add(10, -2) == 8\n",
        "assert add(5, 7) == 12\n",
        "print(\"Exercise 30 is correct.\")"
      ]
    },
    {
      "cell_type": "code",
      "execution_count": 37,
      "metadata": {
        "id": "jB1kqvRlifSz"
      },
      "outputs": [
        {
          "name": "stdout",
          "output_type": "stream",
          "text": [
            "Exercise 31 is correct.\n"
          ]
        }
      ],
      "source": [
        "# Exercise 31\n",
        "# Write a function definition named cube that takes in a number and returns the number times itself, times itself.\n",
        "\n",
        "def cube(number):\n",
        "    return number ** 3\n",
        "\n",
        "assert cube(3) == 27\n",
        "assert cube(2) == 8\n",
        "assert cube(5) == 125\n",
        "assert cube(positive_odd_number) == positive_odd_number * positive_odd_number * positive_odd_number\n",
        "print(\"Exercise 31 is correct.\")"
      ]
    },
    {
      "cell_type": "code",
      "execution_count": 38,
      "metadata": {
        "id": "9mZm1V2KifS0"
      },
      "outputs": [
        {
          "name": "stdout",
          "output_type": "stream",
          "text": [
            "Exercise 32 is correct.\n"
          ]
        }
      ],
      "source": [
        "# Exercise 32\n",
        "# Write a function definition named square_root that takes in a number and returns the square root of the provided number\n",
        "\n",
        "def square_root(number):\n",
        "    return number ** 0.5\n",
        "\n",
        "\n",
        "assert square_root(4) == 2.0\n",
        "assert square_root(64) == 8.0\n",
        "assert square_root(81) == 9.0\n",
        "print(\"Exercise 32 is correct.\")"
      ]
    },
    {
      "cell_type": "code",
      "execution_count": 39,
      "metadata": {
        "id": "CuO1HpBYifS0"
      },
      "outputs": [
        {
          "name": "stdout",
          "output_type": "stream",
          "text": [
            "Exercise 33 is correct.\n"
          ]
        }
      ],
      "source": [
        "# Exercise 33\n",
        "# Write a function definition named subtract that takes in two numbers and returns the first minus the second argument.\n",
        "\n",
        "def subtract(a, b):\n",
        "    return a - b\n",
        "\n",
        "assert subtract(8, 6) == 2\n",
        "assert subtract(27, 4) == 23\n",
        "assert subtract(12, 2) == 10\n",
        "print(\"Exercise 33 is correct.\")"
      ]
    },
    {
      "cell_type": "code",
      "execution_count": 40,
      "metadata": {
        "id": "ghbia1yoifS0"
      },
      "outputs": [
        {
          "name": "stdout",
          "output_type": "stream",
          "text": [
            "Exercise 34 is correct.\n"
          ]
        }
      ],
      "source": [
        "# Exercise 34\n",
        "# Write a function definition named multiply that takes in two numbers and returns the first times the second argument.\n",
        "\n",
        "def multiply(a, b):\n",
        "    return a * b\n",
        "\n",
        "assert multiply(2, 1) == 2\n",
        "assert multiply(3, 5) == 15\n",
        "assert multiply(5, 2) == 10\n",
        "print(\"Exercise 34 is correct.\")"
      ]
    },
    {
      "cell_type": "code",
      "execution_count": 41,
      "metadata": {
        "id": "5dV3AbR-ifS0"
      },
      "outputs": [
        {
          "name": "stdout",
          "output_type": "stream",
          "text": [
            "Exercise 35 is correct.\n"
          ]
        }
      ],
      "source": [
        "# Exercise 35\n",
        "# Write a function definition named divide that takes in two numbers and returns the first argument divided by the second argument.\n",
        "def divide(a, b):\n",
        "    return a / b \n",
        "\n",
        "\n",
        "assert divide(27, 9) == 3\n",
        "assert divide(15, 3) == 5\n",
        "assert divide(5, 2) == 2.5\n",
        "assert divide(10, 2) == 5\n",
        "print(\"Exercise 35 is correct.\")"
      ]
    },
    {
      "cell_type": "code",
      "execution_count": 42,
      "metadata": {
        "id": "boLebYjwifS0"
      },
      "outputs": [
        {
          "name": "stdout",
          "output_type": "stream",
          "text": [
            "Exercise 36 is correct.\n"
          ]
        }
      ],
      "source": [
        "# Exercise 36\n",
        "# Write a function definition named quotient that takes in two numbers and returns only the quotient from dividing the first argument by the second argument.\n",
        "\n",
        "def quotient(a,b):\n",
        "    return a // b\n",
        "\n",
        "assert quotient(27, 9) == 3\n",
        "assert quotient(5, 2) == 2\n",
        "assert quotient(10, 3) == 3\n",
        "print(\"Exercise 36 is correct.\")"
      ]
    },
    {
      "cell_type": "code",
      "execution_count": 43,
      "metadata": {
        "id": "V_5IUPl2ifS1"
      },
      "outputs": [
        {
          "name": "stdout",
          "output_type": "stream",
          "text": [
            "Exercise 37 is correct.\n"
          ]
        }
      ],
      "source": [
        "# Exercise 37\n",
        "# Write a function definition named remainder that takes in two numbers and returns the remainder of first argument divided by the second argument.\n",
        "\n",
        "def remainder(a,b):\n",
        "    return a % b\n",
        "\n",
        "assert remainder(3, 3) == 0\n",
        "assert remainder(5, 2) == 1\n",
        "assert remainder(7, 5) == 2\n",
        "print(\"Exercise 37 is correct.\")"
      ]
    },
    {
      "cell_type": "code",
      "execution_count": 44,
      "metadata": {
        "id": "oF7809WlifS1"
      },
      "outputs": [
        {
          "name": "stdout",
          "output_type": "stream",
          "text": [
            "Exercise 38 is correct.\n"
          ]
        }
      ],
      "source": [
        "# Exercise 38\n",
        "# Write a function definition named sum_of_squares that takes in two numbers, squares each number, then returns the sum of both squares.\n",
        "\n",
        "def sum_of_squares(a,b):\n",
        "    return (a**2 + b**2)\n",
        "\n",
        "assert sum_of_squares(3, 2) == 13\n",
        "assert sum_of_squares(5, 2) == 29\n",
        "assert sum_of_squares(2, 4) == 20\n",
        "print(\"Exercise 38 is correct.\")"
      ]
    },
    {
      "cell_type": "code",
      "execution_count": 45,
      "metadata": {
        "id": "2muESTRXifS1"
      },
      "outputs": [
        {
          "name": "stdout",
          "output_type": "stream",
          "text": [
            "Exercise 39 is correct.\n"
          ]
        }
      ],
      "source": [
        "# Exercise 39\n",
        "# Write a function definition named times_two_plus_three that takes in a number, multiplies it by two, adds 3 and returns the result.\n",
        "\n",
        "def times_two_plus_three(number):\n",
        "    return (number * 2) + 3\n",
        "\n",
        "\n",
        "assert times_two_plus_three(0) == 3\n",
        "assert times_two_plus_three(1) == 5\n",
        "assert times_two_plus_three(2) == 7\n",
        "assert times_two_plus_three(3) == 9\n",
        "assert times_two_plus_three(5) == 13\n",
        "print(\"Exercise 39 is correct.\")"
      ]
    },
    {
      "cell_type": "code",
      "execution_count": 46,
      "metadata": {
        "id": "fQswGroFifS1"
      },
      "outputs": [
        {
          "name": "stdout",
          "output_type": "stream",
          "text": [
            "Exercise 40 is correct.\n"
          ]
        }
      ],
      "source": [
        "# Exercise 40\n",
        "# Write a function definition named area_of_rectangle that takes in two numbers and returns the product.\n",
        "\n",
        "def area_of_rectangle(a, b):\n",
        "    return a * b\n",
        "\n",
        "assert area_of_rectangle(1, 3) == 3\n",
        "assert area_of_rectangle(5, 2) == 10\n",
        "assert area_of_rectangle(2, 7) == 14\n",
        "assert area_of_rectangle(5.3, 10.3) == 54.59\n",
        "print(\"Exercise 40 is correct.\")"
      ]
    },
    {
      "cell_type": "code",
      "execution_count": 47,
      "metadata": {
        "id": "ZBqIXhUlifS2"
      },
      "outputs": [
        {
          "name": "stdout",
          "output_type": "stream",
          "text": [
            "Exercise 41 is correct.\n"
          ]
        }
      ],
      "source": [
        "import math\n",
        "# Exercise 41\n",
        "# Write a function definition named area_of_circle that takes in a number representing a circle's radius and returns the area of the circl\n",
        "def area_of_circle(a):\n",
        "    return math.pi  * a**2\n",
        "\n",
        "\n",
        "assert area_of_circle(3) == 28.274333882308138\n",
        "assert area_of_circle(5) == 78.53981633974483\n",
        "assert area_of_circle(7) == 153.93804002589985\n",
        "print(\"Exercise 41 is correct.\")"
      ]
    },
    {
      "cell_type": "code",
      "execution_count": 48,
      "metadata": {
        "id": "2oNX5yVWifS2"
      },
      "outputs": [
        {
          "name": "stdout",
          "output_type": "stream",
          "text": [
            "Exercise 42 is correct.\n"
          ]
        }
      ],
      "source": [
        "import math\n",
        "# Exercise 42\n",
        "# Write a function definition named circumference that takes in a number representing a circle's radius and returns the circumference.\n",
        "def circumference(a):\n",
        "    return 2 * math.pi * a\n",
        "\n",
        "\n",
        "assert circumference(3) == 18.84955592153876\n",
        "assert circumference(5) == 31.41592653589793\n",
        "assert circumference(7) == 43.982297150257104\n",
        "print(\"Exercise 42 is correct.\")"
      ]
    },
    {
      "cell_type": "markdown",
      "metadata": {
        "id": "7dX4qMi5ifS2"
      },
      "source": [
        "## Functions working with strings\n",
        "If you need some guidance working with the next few problems, recommend reading through [this example code](https://gist.github.com/ryanorsinger/f758599c886549e7615ec43488ae514c)"
      ]
    },
    {
      "cell_type": "code",
      "execution_count": 49,
      "metadata": {
        "id": "GXLVhn-2ifS2"
      },
      "outputs": [
        {
          "name": "stdout",
          "output_type": "stream",
          "text": [
            "Exercise 43 is correct.\n"
          ]
        }
      ],
      "source": [
        "# Exercise 43\n",
        "# Write a function definition named is_vowel that takes in value and returns True if the value is a, e, i, o, u in upper or lower case.\n",
        "\n",
        "# def is_vowel(string):\n",
        "#     vowels = ['a', 'e', 'i', 'o', 'u']\n",
        "#     if string.lower() in vowels:\n",
        "#         return True\n",
        "#     else:\n",
        "#         return False\n",
        "\n",
        "def is_vowel(string):\n",
        "    vowels = ['a', 'e', 'i', 'o', 'u']\n",
        "    return True if string.lower() in vowels else False\n",
        "\n",
        "\n",
        "\n",
        "assert is_vowel(\"a\") == True\n",
        "assert is_vowel(\"e\") == True\n",
        "assert is_vowel(\"i\") == True\n",
        "assert is_vowel(\"o\") == True\n",
        "assert is_vowel(\"u\") == True\n",
        "assert is_vowel(\"A\") == True\n",
        "assert is_vowel(\"E\") == True\n",
        "assert is_vowel(\"I\") == True\n",
        "assert is_vowel(\"O\") == True\n",
        "assert is_vowel(\"U\") == True\n",
        "assert is_vowel(\"banana\") == False\n",
        "assert is_vowel(\"Q\") == False\n",
        "assert is_vowel(\"y\") == False\n",
        "assert is_vowel(\"aei\") == False\n",
        "assert is_vowel(\"iou\") == False\n",
        "print(\"Exercise 43 is correct.\")"
      ]
    },
    {
      "cell_type": "code",
      "execution_count": 50,
      "metadata": {
        "id": "GHAV4VvSifS3"
      },
      "outputs": [
        {
          "name": "stdout",
          "output_type": "stream",
          "text": [
            "Exercise 44 is correct.\n"
          ]
        }
      ],
      "source": [
        "# Exercise 44\n",
        "# Write a function definition named has_vowels that takes in value and returns True if the string contains any vowels.\n",
        "\n",
        "# def has_vowels(string):\n",
        "#     vowels = ['a', 'e', 'i', 'o', 'u']\n",
        "#     for char in string.lower():\n",
        "#         if char in vowels:\n",
        "#             return True\n",
        "#     return False\n",
        "\n",
        "def has_vowels(string):\n",
        "    vowels = ['a', 'e', 'i', 'o', 'u']\n",
        "    result = any([char for char in string.lower() if char in vowels])\n",
        "    return result\n",
        "\n",
        "\n",
        "assert has_vowels(\"banana\") == True\n",
        "assert has_vowels(\"ubuntu\") == True\n",
        "assert has_vowels(\"BANANA\") == True\n",
        "assert has_vowels(\"QQQQ\") == False\n",
        "assert has_vowels(\"wyrd\") == False\n",
        "print(\"Exercise 44 is correct.\")"
      ]
    },
    {
      "cell_type": "code",
      "execution_count": 51,
      "metadata": {
        "id": "TDNiXGBTifS3"
      },
      "outputs": [
        {
          "name": "stdout",
          "output_type": "stream",
          "text": [
            "Exercise 45 is correct.\n"
          ]
        }
      ],
      "source": [
        "# Exercise 45\n",
        "# Write a function definition named count_vowels that takes in value and returns the count of the nubmer of vowels in a sequence.\n",
        "# def count_vowels(string):\n",
        "#     count = 0\n",
        "#     vowels = ['a', 'e', 'i', 'o', 'u']\n",
        "#     for char in string.lower():\n",
        "#         if char in vowels:\n",
        "#             count += 1\n",
        "#     return count\n",
        "\n",
        "def count_vowels(string):\n",
        "    vowels = ['a', 'e', 'i', 'o', 'u']\n",
        "    result = len([char for char in string if char in vowels])\n",
        "    return result\n",
        "\n",
        "assert count_vowels(\"banana\") == 3\n",
        "assert count_vowels(\"ubuntu\") == 3\n",
        "assert count_vowels(\"mango\") == 2\n",
        "assert count_vowels(\"QQQQ\") == 0\n",
        "assert count_vowels(\"wyrd\") == 0\n",
        "print(\"Exercise 45 is correct.\")"
      ]
    },
    {
      "cell_type": "code",
      "execution_count": 52,
      "metadata": {
        "id": "eGOUY2oYifS3"
      },
      "outputs": [
        {
          "name": "stdout",
          "output_type": "stream",
          "text": [
            "Exercise 46 is correct.\n"
          ]
        }
      ],
      "source": [
        "# Exercise 46\n",
        "# Write a function definition named remove_vowels that takes in string and returns the string without any vowels\n",
        "\n",
        "# def remove_vowels(string):\n",
        "#     vowels = ['a', 'e', 'i', 'o', 'u']\n",
        "#     for char in string:\n",
        "#         if char in vowels:\n",
        "#             string = string.replace(char, '')\n",
        "#     return string\n",
        "\n",
        "def remove_vowels(string):\n",
        "    vowels = ['a', 'e', 'i', 'o', 'u']\n",
        "    result = ''.join([char for char in string if char not in vowels])\n",
        "    return result\n",
        "\n",
        "assert remove_vowels(\"banana\") == \"bnn\"\n",
        "assert remove_vowels(\"ubuntu\") == \"bnt\"\n",
        "assert remove_vowels(\"mango\") == \"mng\"\n",
        "assert remove_vowels(\"QQQQ\") == \"QQQQ\"\n",
        "print(\"Exercise 46 is correct.\")"
      ]
    },
    {
      "cell_type": "code",
      "execution_count": 53,
      "metadata": {
        "id": "66LHwEbKifS3"
      },
      "outputs": [
        {
          "name": "stdout",
          "output_type": "stream",
          "text": [
            "Exercise 47 is correct.\n"
          ]
        }
      ],
      "source": [
        "# Exercise 47\n",
        "# Write a function definition named starts_with_vowel that takes in string and True if the string starts with a vowel\n",
        "\n",
        "# def starts_with_vowel(string):\n",
        "#     vowels = ['a', 'e', 'i', 'o', 'u']\n",
        "#     if string[0] in vowels:\n",
        "#         return True\n",
        "#     else:\n",
        "#         return False\n",
        "\n",
        "def starts_with_vowel(string):\n",
        "    vowels = ['a', 'e', 'i', 'o', 'u']\n",
        "    return True if string[0] in vowels else False\n",
        "\n",
        "assert starts_with_vowel(\"ubuntu\") == True\n",
        "assert starts_with_vowel(\"banana\") == False\n",
        "assert starts_with_vowel(\"mango\") == False\n",
        "print(\"Exercise 47 is correct.\")"
      ]
    },
    {
      "cell_type": "code",
      "execution_count": 54,
      "metadata": {
        "id": "mLJvClO1ifS3"
      },
      "outputs": [
        {
          "name": "stdout",
          "output_type": "stream",
          "text": [
            "Exercise 48 is correct.\n"
          ]
        }
      ],
      "source": [
        "# Exercise 48\n",
        "# Write a function definition named ends_with_vowel that takes in string and True if the string ends with a vowel\n",
        "\n",
        "# def ends_with_vowel(string):\n",
        "#     vowels = ['a', 'e', 'i', 'o', 'u']\n",
        "#     if string[-1] in vowels:\n",
        "#         return True \n",
        "#     else:\n",
        "#         return False\n",
        "\n",
        "def ends_with_vowel(string):\n",
        "    vowels = ['a', 'e', 'i', 'o', 'u']\n",
        "    return True if string[-1] in vowels else False\n",
        "\n",
        " \n",
        "assert ends_with_vowel(\"ubuntu\") == True\n",
        "assert ends_with_vowel(\"banana\") == True\n",
        "assert ends_with_vowel(\"mango\") == True\n",
        "assert ends_with_vowel(\"spinach\") == False\n",
        "print(\"Exercise 48 is correct.\")"
      ]
    },
    {
      "cell_type": "code",
      "execution_count": 55,
      "metadata": {
        "id": "bX-pcdtKifS4"
      },
      "outputs": [
        {
          "name": "stdout",
          "output_type": "stream",
          "text": [
            "Exercise 49 is correct.\n"
          ]
        }
      ],
      "source": [
        "# Exercise 49\n",
        "# Write a function definition named starts_and_ends_with_vowel that takes in string and returns True if the string starts and ends with a vowel\n",
        "\n",
        "# def starts_and_ends_with_vowel(string):\n",
        "#     vowels = ['a', 'e', 'i', 'o', 'u']\n",
        "#     if string[0] in vowels and string[-1] in vowels:\n",
        "#         return True \n",
        "#     else:\n",
        "#         return False\n",
        "\n",
        "def starts_and_ends_with_vowel(string):\n",
        "    vowels = ['a', 'e', 'i', 'o', 'u']\n",
        "    return True if string[0] in vowels and string[-1] in vowels else False\n",
        "\n",
        "assert starts_and_ends_with_vowel(\"ubuntu\") == True\n",
        "assert starts_and_ends_with_vowel(\"banana\") == False\n",
        "assert starts_and_ends_with_vowel(\"mango\") == False\n",
        "print(\"Exercise 49 is correct.\")"
      ]
    },
    {
      "cell_type": "markdown",
      "metadata": {
        "id": "cyHj-VgdifS4"
      },
      "source": [
        "## Accessing List Elements"
      ]
    },
    {
      "cell_type": "code",
      "execution_count": 56,
      "metadata": {
        "id": "QxlV_MK-ifS4"
      },
      "outputs": [
        {
          "name": "stdout",
          "output_type": "stream",
          "text": [
            "Exercise 50 is correct.\n"
          ]
        }
      ],
      "source": [
        "# Exercise 50\n",
        "# Write a function definition named first that takes in sequence and returns the first value of that sequence.\n",
        "\n",
        "def first(string):\n",
        "    return string[0]\n",
        "\n",
        "\n",
        "assert first(\"ubuntu\") == \"u\"\n",
        "assert first([1, 2, 3]) == 1\n",
        "assert first([\"python\", \"is\", \"awesome\"]) == \"python\"\n",
        "print(\"Exercise 50 is correct.\")"
      ]
    },
    {
      "cell_type": "code",
      "execution_count": 57,
      "metadata": {
        "id": "ay2JDmNQifS4"
      },
      "outputs": [
        {
          "name": "stdout",
          "output_type": "stream",
          "text": [
            "Exercise 51 is correct.\n"
          ]
        }
      ],
      "source": [
        "# Exercise 51\n",
        "# Write a function definition named second that takes in sequence and returns the second value of that sequence.\n",
        "\n",
        "def second(string):\n",
        "    return string[1]\n",
        "\n",
        "assert second(\"ubuntu\") == \"b\"\n",
        "assert second([1, 2, 3]) == 2\n",
        "assert second([\"python\", \"is\", \"awesome\"]) == \"is\"\n",
        "print(\"Exercise 51 is correct.\")"
      ]
    },
    {
      "cell_type": "code",
      "execution_count": 58,
      "metadata": {
        "id": "PfP-52BQifS4"
      },
      "outputs": [
        {
          "name": "stdout",
          "output_type": "stream",
          "text": [
            "Exercise 52 is correct.\n"
          ]
        }
      ],
      "source": [
        "# Exercise 52\n",
        "# Write a function definition named third that takes in sequence and returns the third value of that sequence.\n",
        "\n",
        "def third(string):\n",
        "    return string[2]\n",
        "\n",
        "\n",
        "assert third(\"ubuntu\") == \"u\"\n",
        "assert third([1, 2, 3]) == 3\n",
        "assert third([\"python\", \"is\", \"awesome\"]) == \"awesome\"\n",
        "print(\"Exercise 52 is correct.\")"
      ]
    },
    {
      "cell_type": "code",
      "execution_count": 59,
      "metadata": {
        "id": "AuFCAzfwifS5"
      },
      "outputs": [
        {
          "name": "stdout",
          "output_type": "stream",
          "text": [
            "Exercise 53 is correct.\n"
          ]
        }
      ],
      "source": [
        "# Exercise 53\n",
        "# Write a function definition named forth that takes in sequence and returns the forth value of that sequence.\n",
        "\n",
        "def forth(string):\n",
        "    return string[3]\n",
        "\n",
        "assert forth(\"ubuntu\") == \"n\"\n",
        "assert forth([1, 2, 3, 4]) == 4\n",
        "assert forth([\"python\", \"is\", \"awesome\", \"right?\"]) == \"right?\"\n",
        "print(\"Exercise 53 is correct.\")"
      ]
    },
    {
      "cell_type": "code",
      "execution_count": 60,
      "metadata": {
        "id": "sPhQ2TsPifS5"
      },
      "outputs": [
        {
          "name": "stdout",
          "output_type": "stream",
          "text": [
            "Exercise 54 is correct.\n"
          ]
        }
      ],
      "source": [
        "# Exercise 54\n",
        "# Write a function definition named last that takes in sequence and returns the last value of that sequence.\n",
        "\n",
        "def last(string):\n",
        "    return string[-1]\n",
        "\n",
        "assert last(\"ubuntu\") == \"u\"\n",
        "assert last([1, 2, 3, 4]) == 4\n",
        "assert last([\"python\", \"is\", \"awesome\"]) == \"awesome\"\n",
        "assert last([\"kiwi\", \"mango\", \"guava\"]) == \"guava\"\n",
        "print(\"Exercise 54 is correct.\")"
      ]
    },
    {
      "cell_type": "code",
      "execution_count": 61,
      "metadata": {
        "id": "XPKm5TFUifS5"
      },
      "outputs": [
        {
          "name": "stdout",
          "output_type": "stream",
          "text": [
            "Exercise 55 is correct.\n"
          ]
        }
      ],
      "source": [
        "# Exercise 55\n",
        "# Write a function definition named second_to_last that takes in sequence and returns the second to last value of that sequence.\n",
        "\n",
        "def second_to_last(string):\n",
        "    return string[-2]\n",
        "\n",
        "assert second_to_last(\"ubuntu\") == \"t\"\n",
        "assert second_to_last([1, 2, 3, 4]) == 3\n",
        "assert second_to_last([\"python\", \"is\", \"awesome\"]) == \"is\"\n",
        "assert second_to_last([\"kiwi\", \"mango\", \"guava\"]) == \"mango\"\n",
        "print(\"Exercise 55 is correct.\")"
      ]
    },
    {
      "cell_type": "code",
      "execution_count": 62,
      "metadata": {
        "id": "oYYosz06ifS5"
      },
      "outputs": [
        {
          "name": "stdout",
          "output_type": "stream",
          "text": [
            "Exercise 56 is correct.\n"
          ]
        }
      ],
      "source": [
        "# Exercise 56\n",
        "# Write a function definition named third_to_last that takes in sequence and returns the third to last value of that sequence.\n",
        "\n",
        "def third_to_last(string):\n",
        "    return string[-3]\n",
        "\n",
        "\n",
        "assert third_to_last(\"ubuntu\") == \"n\"\n",
        "assert third_to_last([1, 2, 3, 4]) == 2\n",
        "assert third_to_last([\"python\", \"is\", \"awesome\"]) == \"python\"\n",
        "assert third_to_last([\"strawberry\", \"kiwi\", \"mango\", \"guava\"]) == \"kiwi\"\n",
        "print(\"Exercise 56 is correct.\")"
      ]
    },
    {
      "cell_type": "code",
      "execution_count": 63,
      "metadata": {
        "id": "1IVhx8QWifS5"
      },
      "outputs": [
        {
          "name": "stdout",
          "output_type": "stream",
          "text": [
            "Exercise 57 is correct.\n"
          ]
        }
      ],
      "source": [
        "# Exercise 57\n",
        "# Write a function definition named first_and_second that takes in sequence and returns the first and second value of that sequence as a list\n",
        "\n",
        "# def first_and_second(string):\n",
        "#     return list((string[0], string[1]))\n",
        "\n",
        "# def first_and_second(string):\n",
        "#     return list(string[0:2])\n",
        "\n",
        "def first_and_second(string):\n",
        "    return [char for char in string[0:2]]\n",
        "\n",
        "# def first_and_second(string):\n",
        "#     for char in string[0:2]:\n",
        "#         string = list(string[0:2])\n",
        "#     return string\n",
        "\n",
        "assert first_and_second([1, 2, 3, 4]) == [1, 2]\n",
        "assert first_and_second([\"python\", \"is\", \"awesome\"]) == [\"python\", \"is\"]\n",
        "assert first_and_second([\"strawberry\", \"kiwi\", \"mango\", \"guava\"]) == [\"strawberry\", \"kiwi\"]\n",
        "print(\"Exercise 57 is correct.\")"
      ]
    },
    {
      "cell_type": "code",
      "execution_count": 64,
      "metadata": {
        "id": "3hW4fvm2ifS6"
      },
      "outputs": [
        {
          "name": "stdout",
          "output_type": "stream",
          "text": [
            "Exercise 58 is correct.\n"
          ]
        }
      ],
      "source": [
        "# Exercise 58\n",
        "# Write a function definition named first_and_last that takes in sequence and returns the first and last value of that sequence as a list\n",
        "\n",
        "# def first_and_last(string):\n",
        "#     return list((string[0], string[-1]))\n",
        "\n",
        "# def first_and_last(string):\n",
        "#     return string[::len(string)-1]\n",
        "\n",
        "def first_and_last(string):\n",
        "    return [string[i] for i in (0,-1)]\n",
        "\n",
        "assert first_and_last([1, 2, 3, 4]) == [1, 4]\n",
        "assert first_and_last([\"python\", \"is\", \"awesome\"]) == [\"python\", \"awesome\"]\n",
        "assert first_and_last([\"strawberry\", \"kiwi\", \"mango\", \"guava\"]) == [\"strawberry\", \"guava\"]\n",
        "print(\"Exercise 58 is correct.\")"
      ]
    },
    {
      "cell_type": "code",
      "execution_count": 65,
      "metadata": {
        "id": "TZbEJV36ifS6"
      },
      "outputs": [
        {
          "name": "stdout",
          "output_type": "stream",
          "text": [
            "Exercise 59 is correct.\n"
          ]
        }
      ],
      "source": [
        "# Exercise 59\n",
        "# Write a function definition named first_to_last that takes in sequence and returns the sequence with the first value moved to the end of the sequence.\n",
        "\n",
        "# def first_to_last(string):\n",
        "#     a = string[0]\n",
        "#     b = string[1:]\n",
        "#     b.append(a)\n",
        "#     return b\n",
        "\n",
        "def first_to_last(string):\n",
        "    string = string[1:] + [string[0]]\n",
        "    return string\n",
        "\n",
        "assert first_to_last([1, 2, 3, 4]) == [2, 3, 4, 1]\n",
        "assert first_to_last([\"python\", \"is\", \"awesome\"]) == [\"is\", \"awesome\", \"python\"]\n",
        "assert first_to_last([\"strawberry\", \"kiwi\", \"mango\", \"guava\"]) == [\"kiwi\", \"mango\", \"guava\", \"strawberry\"]\n",
        "print(\"Exercise 59 is correct.\")"
      ]
    },
    {
      "cell_type": "markdown",
      "metadata": {
        "id": "o-pzgnBSifS6"
      },
      "source": [
        "## Functions to describe data"
      ]
    },
    {
      "cell_type": "code",
      "execution_count": 66,
      "metadata": {
        "id": "j20mhXy5ifS7"
      },
      "outputs": [
        {
          "name": "stdout",
          "output_type": "stream",
          "text": [
            "Exercise 60 is correct.\n"
          ]
        }
      ],
      "source": [
        "# Exercise 60\n",
        "# Write a function definition named sum_all that takes in sequence of numbers and returns all the numbers added together.\n",
        "from functools import reduce\n",
        "\n",
        "# def sum_all(numbers):\n",
        "#     return sum(numbers)\n",
        "\n",
        "\n",
        "def sum_all(numbers):\n",
        "    return reduce(lambda p,q: p+q, numbers)\n",
        "\n",
        "assert sum_all([1, 2, 3, 4]) == 10\n",
        "assert sum_all([3, 3, 3]) == 9\n",
        "assert sum_all([0, 5, 6]) == 11\n",
        "print(\"Exercise 60 is correct.\")"
      ]
    },
    {
      "cell_type": "code",
      "execution_count": 67,
      "metadata": {
        "id": "t-AIM4yOifS7"
      },
      "outputs": [
        {
          "name": "stdout",
          "output_type": "stream",
          "text": [
            "Exercise 61 is correct.\n"
          ]
        }
      ],
      "source": [
        "# Exercise 61\n",
        "# Write a function definition named mean that takes in sequence of numbers and returns the average value\n",
        "import statistics \n",
        "\n",
        "def mean(numbers):\n",
        "    return statistics.mean(numbers)\n",
        "\n",
        "\n",
        "\n",
        "assert mean([1, 2, 3, 4]) == 2.5\n",
        "assert mean([3, 3, 3]) == 3\n",
        "assert mean([1, 5, 6]) == 4\n",
        "print(\"Exercise 61 is correct.\")"
      ]
    },
    {
      "cell_type": "code",
      "execution_count": 68,
      "metadata": {
        "id": "7jjI6TIlifS7"
      },
      "outputs": [
        {
          "name": "stdout",
          "output_type": "stream",
          "text": [
            "Exercise 62 is correct.\n"
          ]
        }
      ],
      "source": [
        "# Exercise 62\n",
        "# Write a function definition named median that takes in sequence of numbers and returns the average value\n",
        "\n",
        "def median(numbers):\n",
        "    return statistics.median(numbers)\n",
        "\n",
        "assert median([1, 2, 3, 4, 5]) == 3.0\n",
        "assert median([1, 2, 3]) == 2.0\n",
        "assert median([1, 5, 6]) == 5.0\n",
        "assert median([1, 2, 5, 6]) == 3.5\n",
        "print(\"Exercise 62 is correct.\")"
      ]
    },
    {
      "cell_type": "code",
      "execution_count": 69,
      "metadata": {
        "id": "HtFLKUEoifS7"
      },
      "outputs": [
        {
          "name": "stdout",
          "output_type": "stream",
          "text": [
            "Exercise 63 is correct.\n"
          ]
        }
      ],
      "source": [
        "# Exercise 63\n",
        "# Write a function definition named mode that takes in sequence of numbers and returns the most commonly occuring value\n",
        "\n",
        "def mode(numbers):\n",
        "    return statistics.mode(numbers)\n",
        "\n",
        "assert mode([1, 2, 2, 3, 4]) == 2\n",
        "assert mode([1, 1, 2, 3]) == 1\n",
        "assert mode([2, 2, 3, 3, 3]) == 3\n",
        "print(\"Exercise 63 is correct.\")"
      ]
    },
    {
      "cell_type": "code",
      "execution_count": 70,
      "metadata": {
        "id": "TOdy8uykifS8"
      },
      "outputs": [
        {
          "name": "stdout",
          "output_type": "stream",
          "text": [
            "Exercise 64 is correct.\n"
          ]
        }
      ],
      "source": [
        "# Exercise 64\n",
        "# Write a function definition named product_of_all that takes in sequence of numbers and returns the product of multiplying all the numbers together\n",
        "import math\n",
        "\n",
        "def product_of_all(numbers):\n",
        "    return math.prod(numbers)\n",
        "\n",
        "\n",
        "assert product_of_all([1, 2, 3]) == 6\n",
        "assert product_of_all([3, 4, 5]) == 60\n",
        "assert product_of_all([2, 2, 3, 0]) == 0\n",
        "print(\"Exercise 64 is correct.\")"
      ]
    },
    {
      "cell_type": "markdown",
      "metadata": {
        "id": "Jic9dGHIifS8"
      },
      "source": [
        "## Applying functions to lists"
      ]
    },
    {
      "cell_type": "code",
      "execution_count": 71,
      "metadata": {
        "id": "fI9tBSh1ifS8"
      },
      "outputs": [
        {
          "name": "stdout",
          "output_type": "stream",
          "text": [
            "Exercise 65 is correct.\n"
          ]
        }
      ],
      "source": [
        "# Exercise 65\n",
        "# Write a function definition named get_highest_number that takes in sequence of numbers and returns the largest number.\n",
        "\n",
        "def get_highest_number(numbers):\n",
        "    return max(numbers)\n",
        "\n",
        "\n",
        "assert get_highest_number([1, 2, 3]) == 3\n",
        "assert get_highest_number([-5, -4, -3, -2, -1, 1, 2, 3, 4, 5]) == 5\n",
        "assert get_highest_number([-5, -3, 1]) == 1\n",
        "print(\"Exercise 65 is correct.\")"
      ]
    },
    {
      "cell_type": "code",
      "execution_count": 72,
      "metadata": {
        "id": "FKgU8qbBifS8"
      },
      "outputs": [
        {
          "name": "stdout",
          "output_type": "stream",
          "text": [
            "Exercise 66 is correct.\n"
          ]
        }
      ],
      "source": [
        "# Exercise 66\n",
        "# Write a function definition named get_smallest_number that takes in sequence of numbers and returns the smallest number.\n",
        "\n",
        "def get_smallest_number(numbers):\n",
        "    return min(numbers)\n",
        "\n",
        "\n",
        "assert get_smallest_number([1, 3, 2]) == 1\n",
        "assert get_smallest_number([5, -5, -4, -3, -2, -1, 1, 2, 3, 4]) == -5\n",
        "assert get_smallest_number([-4, -3, 1, -10]) == -10\n",
        "print(\"Exercise 66 is correct.\")"
      ]
    },
    {
      "cell_type": "code",
      "execution_count": 73,
      "metadata": {
        "id": "giB_HiLhifS8"
      },
      "outputs": [
        {
          "name": "stdout",
          "output_type": "stream",
          "text": [
            "Exercise 67 is correct.\n"
          ]
        }
      ],
      "source": [
        "# Exercise 67\n",
        "# Write a function definition named only_odd_numbers that takes in sequence of numbers and returns the odd numbers in a list.\n",
        "\n",
        "def only_odd_numbers(numbers):\n",
        "    return list(filter(lambda x: x % 2 !=0, numbers))\n",
        "\n",
        "# def only_odd_numbers(numbers):\n",
        "#     only_odd_numbers = []\n",
        "#     for number in numbers:\n",
        "#         if number % 2 != 0:\n",
        "#             only_odd_numbers.append(number)\n",
        "            \n",
        "#     return only_odd_numbers \n",
        "\n",
        "\n",
        "    \n",
        "# def only_odd_numbers(numbers):\n",
        "#     result = [number for number in numbers if number % 2 != 0]\n",
        "#     return result\n",
        "\n",
        "\n",
        "assert only_odd_numbers([1, 2, 3]) == [1, 3]\n",
        "assert only_odd_numbers([-5, -4, -3, -2, -1, 1, 2, 3, 4, 5]) == [-5, -3, -1, 1, 3, 5]\n",
        "assert only_odd_numbers([-4, -3, 1]) == [-3, 1]\n",
        "assert only_odd_numbers([2, 2, 2, 2, 2]) == []\n",
        "print(\"Exercise 67 is correct.\")"
      ]
    },
    {
      "cell_type": "code",
      "execution_count": 74,
      "metadata": {
        "id": "v8u6VL97ifS9"
      },
      "outputs": [
        {
          "name": "stdout",
          "output_type": "stream",
          "text": [
            "Exercise 68 is correct.\n"
          ]
        }
      ],
      "source": [
        "# Exercise 68\n",
        "# Write a function definition named only_even_numbers that takes in sequence of numbers and returns the even numbers in a list.\n",
        "\n",
        "# def only_even_numbers(numbers):\n",
        "#     return list(filter(lambda x: x % 2 == 0,numbers))\n",
        "\n",
        "# def only_even_numbers(numbers):\n",
        "#     even_numbers = [] \n",
        "#     for number in numbers:\n",
        "#         if number %2 == 0:\n",
        "#             even_numbers.append(number)\n",
        "#     return even_numbers \n",
        "\n",
        "def only_even_numbers(numbers):\n",
        "    return [number for number in numbers if number % 2== 0]\n",
        "\n",
        "assert only_even_numbers([1, 2, 3]) == [2]\n",
        "assert only_even_numbers([-5, -4, -3, -2, -1, 1, 2, 3, 4, 5]) == [-4, -2, 2, 4]\n",
        "assert only_even_numbers([-4, -3, 1]) == [-4]\n",
        "assert only_even_numbers([1, 1, 1, 1, 1, 1]) == []\n",
        "print(\"Exercise 68 is correct.\")"
      ]
    },
    {
      "cell_type": "code",
      "execution_count": 75,
      "metadata": {
        "id": "x4uwY7acifS9"
      },
      "outputs": [
        {
          "name": "stdout",
          "output_type": "stream",
          "text": [
            "Exercise 69 is correct.\n"
          ]
        }
      ],
      "source": [
        "# Exercise 69\n",
        "# Write a function definition named only_positive_numbers that takes in sequence of numbers and returns the positive numbers in a list.\n",
        "\n",
        "# def only_positive_numbers(numbers):\n",
        "#     positive_number = []\n",
        "#     for number in numbers:\n",
        "#         if number > 0:\n",
        "#             positive_number.append(number)\n",
        "#     return positive_number\n",
        "\n",
        "# def only_positive_numbers(numbers):\n",
        "#     return list(filter(lambda x: x > 0,numbers))\n",
        "\n",
        "def only_positive_numbers(numbers):\n",
        "    return [number for number in numbers if number > 0]\n",
        "\n",
        "\n",
        "assert only_positive_numbers([1, 2, 3]) == [1, 2, 3]\n",
        "assert only_positive_numbers([-5, -4, -3, -2, -1, 1, 2, 3, 4, 5]) == [1, 2, 3, 4, 5]\n",
        "assert only_positive_numbers([-4, -3, 1]) == [1]\n",
        "print(\"Exercise 69 is correct.\")"
      ]
    },
    {
      "cell_type": "code",
      "execution_count": 76,
      "metadata": {
        "id": "5o4PAluNifS9"
      },
      "outputs": [
        {
          "name": "stdout",
          "output_type": "stream",
          "text": [
            "Exercise 70 is correct.\n"
          ]
        }
      ],
      "source": [
        "# Exercise 70\n",
        "# Write a function definition named only_negative_numbers that takes in sequence of numbers and returns the negative numbers in a list.\n",
        "\n",
        "# def only_positive_numbers(numbers):\n",
        "#     positive_number = []\n",
        "#     for number in numbers:\n",
        "#         if number < 0:\n",
        "#             positive_number.append(number)\n",
        "#     return positive_number\n",
        "\n",
        "# def only_positive_numbers(numbers):\n",
        "#     return list(filter(lambda x: x < 0,numbers))\n",
        "\n",
        "def only_negative_numbers(numbers):\n",
        "    return list(filter(lambda x: x < 0, numbers))\n",
        "\n",
        "\n",
        "\n",
        "assert only_negative_numbers([1, 2, 3]) == []\n",
        "assert only_negative_numbers([-5, -4, -3, -2, -1, 1, 2, 3, 4, 5]) == [-5, -4, -3, -2, -1]\n",
        "assert only_negative_numbers([-4, -3, 1]) == [-4, -3]\n",
        "print(\"Exercise 70 is correct.\")"
      ]
    },
    {
      "cell_type": "code",
      "execution_count": 77,
      "metadata": {
        "id": "LOM8lD5WifS9"
      },
      "outputs": [
        {
          "name": "stdout",
          "output_type": "stream",
          "text": [
            "Exercise 71 is correct.\n"
          ]
        }
      ],
      "source": [
        "# Exercise 71\n",
        "# Write a function definition named has_evens that takes in sequence of numbers and returns True if there are any even numbers in the sequence\n",
        "\n",
        "def has_evens(numbers):\n",
        "    result = any([number for number in numbers if number % 2 ==0])\n",
        "    return result\n",
        "\n",
        "# def has_evens(numbers):\n",
        "#     for number in numbers:\n",
        "#         if number % 2 == 0:\n",
        "#             return True \n",
        "#     else:\n",
        "#         return False\n",
        " \n",
        "\n",
        "assert has_evens([1, 2, 3]) == True\n",
        "assert has_evens([2, 5, 6]) == True\n",
        "assert has_evens([3, 3, 3]) == False\n",
        "assert has_evens([]) == False\n",
        "print(\"Exercise 71 is correct.\")"
      ]
    },
    {
      "cell_type": "code",
      "execution_count": 78,
      "metadata": {
        "id": "dZK0vUFqifS-"
      },
      "outputs": [
        {
          "name": "stdout",
          "output_type": "stream",
          "text": [
            "Exercise 72 is correct.\n"
          ]
        }
      ],
      "source": [
        "# Exercise 72\n",
        "# Write a function definition named count_evens that takes in sequence of numbers and returns the number of even numbers\n",
        "\n",
        "# def count_evens(numbers):\n",
        "#     count = 0\n",
        "#     for number in numbers:\n",
        "#         if number % 2 == 0:\n",
        "#             count += 1\n",
        "#     return count \n",
        "\n",
        "def count_evens(numbers):\n",
        "    return len([number for number in numbers if number % 2== 0])\n",
        "\n",
        "assert count_evens([1, 2, 3]) == 1\n",
        "assert count_evens([2, 5, 6]) == 2\n",
        "assert count_evens([3, 3, 3]) == 0\n",
        "assert count_evens([5, 6, 7, 8] ) == 2\n",
        "print(\"Exercise 72 is correct.\")"
      ]
    },
    {
      "cell_type": "code",
      "execution_count": 79,
      "metadata": {
        "id": "RNvojO0EifS-"
      },
      "outputs": [
        {
          "name": "stdout",
          "output_type": "stream",
          "text": [
            "Exercise 73 is correct.\n"
          ]
        }
      ],
      "source": [
        "# Exercise 73\n",
        "# Write a function definition named has_odds that takes in sequence of numbers and returns True if there are any odd numbers in the sequence\n",
        "\n",
        "# def has_odds(numbers):\n",
        "#     for number in numbers:\n",
        "#         if number % 2 != 0:\n",
        "#             return True \n",
        "#     return False\n",
        "\n",
        "def has_odds(numbers):\n",
        "    return any(number for number in numbers if number %2 !=0)\n",
        "\n",
        "assert has_odds([1, 2, 3]) == True\n",
        "assert has_odds([2, 5, 6]) == True\n",
        "assert has_odds([3, 3, 3]) == True\n",
        "assert has_odds([2, 4, 6]) == False\n",
        "print(\"Exercise 73 is correct.\")"
      ]
    },
    {
      "cell_type": "code",
      "execution_count": 80,
      "metadata": {
        "id": "pKgR2p3difS-"
      },
      "outputs": [
        {
          "name": "stdout",
          "output_type": "stream",
          "text": [
            "Exercise 74 is correct.\n"
          ]
        }
      ],
      "source": [
        "# Exercise 74\n",
        "# Write a function definition named count_odds that takes in sequence of numbers and returns True if there are any odd numbers in the sequence\n",
        "\n",
        "# def count_odds(numbers):\n",
        "#     count = 0\n",
        "#     for number in numbers:\n",
        "#         if number % 2 != 0:\n",
        "#             count += 1\n",
        "#     return count\n",
        "\n",
        "def count_odds(numbers):\n",
        "    return len([number for number in numbers if number %2 !=0])\n",
        "\n",
        "assert count_odds([1, 2, 3]) == 2\n",
        "assert count_odds([2, 5, 6]) == 1\n",
        "assert count_odds([3, 3, 3]) == 3\n",
        "assert count_odds([2, 4, 6]) == 0\n",
        "print(\"Exercise 74 is correct.\")"
      ]
    },
    {
      "cell_type": "code",
      "execution_count": 81,
      "metadata": {
        "id": "eEawccRJifS-"
      },
      "outputs": [
        {
          "name": "stdout",
          "output_type": "stream",
          "text": [
            "Exercise 75 is correct.\n"
          ]
        }
      ],
      "source": [
        "# Exercise 75\n",
        "# Write a function definition named count_negatives that takes in sequence of numbers and returns a count of the number of negative numbers\n",
        "\n",
        "# def count_negatives(numbers):\n",
        "#     count = 0\n",
        "#     for number in numbers:\n",
        "#         if number < 0:\n",
        "#             count += 1\n",
        "#     return count\n",
        "def count_negatives(numbers):\n",
        "    return len([number for number in numbers if number < 0]) \n",
        "\n",
        "\n",
        "assert count_negatives([1, -2, 3]) == 1\n",
        "assert count_negatives([2, -5, -6]) == 2\n",
        "assert count_negatives([3, 3, 3]) == 0\n",
        "print(\"Exercise 75 is correct.\")"
      ]
    },
    {
      "cell_type": "code",
      "execution_count": 82,
      "metadata": {
        "id": "oMWESX7vifTB"
      },
      "outputs": [
        {
          "name": "stdout",
          "output_type": "stream",
          "text": [
            "Exercise 76 is correct.\n"
          ]
        }
      ],
      "source": [
        "# Exercise 76\n",
        "# Write a function definition named count_positives that takes in sequence of numbers and returns a count of the number of positive numbers\n",
        "\n",
        "# def count_positives(numbers):\n",
        "#     count = 0\n",
        "#     for number in numbers:\n",
        "#         if number > 0:\n",
        "#             count += 1      \n",
        "#     return count\n",
        "\n",
        "def count_positives(numbers):\n",
        "    return len([number for number in numbers if number > 0])\n",
        "\n",
        "assert count_positives([1, -2, 3]) == 2\n",
        "assert count_positives([2, -5, -6]) == 1\n",
        "assert count_positives([3, 3, 3]) == 3\n",
        "assert count_positives([-2, -1, -5]) == 0\n",
        "print(\"Exercise 76 is correct.\")"
      ]
    },
    {
      "cell_type": "code",
      "execution_count": 83,
      "metadata": {
        "id": "0zxOPvYXifTB"
      },
      "outputs": [
        {
          "name": "stdout",
          "output_type": "stream",
          "text": [
            "Exercise 77 is correct.\n"
          ]
        }
      ],
      "source": [
        "# Exercise 77\n",
        "# Write a function definition named only_positive_evens that takes in sequence of numbers and returns a list containing all the positive evens from the sequence\n",
        "\n",
        "# def only_positive_evens(numbers):\n",
        "#     only_positive_evens = []\n",
        "#     for number in numbers:\n",
        "#         if number > 0 and number % 2 == 0:\n",
        "#             only_positive_evens.append(number)\n",
        "#     return only_positive_evens\n",
        "\n",
        "\n",
        "def only_positive_evens(numbers):\n",
        "    return [number for number in numbers if number > 0 and number % 2 == 0]\n",
        "\n",
        "assert only_positive_evens([1, -2, 3]) == []\n",
        "assert only_positive_evens([2, -5, -6]) == [2]\n",
        "assert only_positive_evens([3, 3, 4, 6]) == [4, 6]\n",
        "assert only_positive_evens([2, 3, 4, -1, -5]) == [2, 4]\n",
        "print(\"Exercise 77 is correct.\")"
      ]
    },
    {
      "cell_type": "code",
      "execution_count": 84,
      "metadata": {
        "id": "y-zbUj65ifTC"
      },
      "outputs": [
        {
          "name": "stdout",
          "output_type": "stream",
          "text": [
            "Exercise 78 is correct.\n"
          ]
        }
      ],
      "source": [
        "# Exercise 78\n",
        "# Write a function definition named only_positive_odds that takes in sequence of numbers and returns a list containing all the positive odd numbers from the sequence\n",
        "\n",
        "# def only_positive_odds(numbers):\n",
        "#     only_positive_odds = []\n",
        "#     for number in numbers:\n",
        "#         if number > 0 and number % 2 != 0:\n",
        "#             only_positive_odds.append(number)\n",
        "#     return only_positive_odds\n",
        "\n",
        "def only_positive_odds(numbers):\n",
        "    return [number for number in numbers if number > 0 and number % 2 != 0]\n",
        "\n",
        "assert only_positive_odds([1, -2, 3]) == [1, 3]\n",
        "assert only_positive_odds([2, -5, -6]) == []\n",
        "assert only_positive_odds([3, 3, 4, 6]) == [3, 3]\n",
        "assert only_positive_odds([2, 3, 4, -1, -5]) == [3]\n",
        "print(\"Exercise 78 is correct.\")"
      ]
    },
    {
      "cell_type": "code",
      "execution_count": 85,
      "metadata": {
        "id": "akM5aVZ1ifTC"
      },
      "outputs": [
        {
          "name": "stdout",
          "output_type": "stream",
          "text": [
            "Exercise 79 is correct.\n"
          ]
        }
      ],
      "source": [
        "# Exercise 79\n",
        "# Write a function definition named only_negative_evens that takes in sequence of numbers and returns a list containing all the negative even numbers from the sequence\n",
        "\n",
        "# def only_negative_evens(numbers):\n",
        "#     only_negative_evens =[]\n",
        "#     for number in numbers:\n",
        "#         if number < 0 and number % 2 == 0:\n",
        "#             only_negative_evens.append(number)\n",
        "            \n",
        "#     return only_negative_evens\n",
        "\n",
        "def only_negative_evens(numbers):\n",
        "    return [number for number in numbers if number < 0 and number %2 == 0]\n",
        "\n",
        "assert only_negative_evens([1, -2, 3]) == [-2]\n",
        "assert only_negative_evens([2, -5, -6]) == [-6]\n",
        "assert only_negative_evens([3, 3, 4, 6]) == []\n",
        "assert only_negative_evens([-2, 3, 4, -1, -4]) == [-2, -4]\n",
        "print(\"Exercise 79 is correct.\")"
      ]
    },
    {
      "cell_type": "code",
      "execution_count": 86,
      "metadata": {
        "id": "_ocX3i-5ifTC"
      },
      "outputs": [
        {
          "name": "stdout",
          "output_type": "stream",
          "text": [
            "Exercise 80 is correct.\n"
          ]
        }
      ],
      "source": [
        "# Exercise 80\n",
        "# Write a function definition named only_negative_odds that takes in sequence of numbers and returns a list containing all the negative odd numbers from the sequence\n",
        "\n",
        "# def only_negative_odds(numbers):\n",
        "#     only_negative_odds = []\n",
        "#     for number in numbers:\n",
        "#         if number < 0 and number %2 != 0:\n",
        "#             only_negative_odds.append(number)\n",
        "#     return only_negative_odds\n",
        "\n",
        "def only_negative_odds(numbers):\n",
        "    return [number for number in numbers if number < 0 and number %2 != 0]\n",
        "\n",
        "assert only_negative_odds([1, -2, 3]) == []\n",
        "assert only_negative_odds([2, -5, -6]) == [-5]\n",
        "assert only_negative_odds([3, 3, 4, 6]) == []\n",
        "assert only_negative_odds([2, -3, 4, -1, -4]) == [-3, -1]\n",
        "print(\"Exercise 80 is correct.\")"
      ]
    },
    {
      "cell_type": "code",
      "execution_count": 87,
      "metadata": {
        "id": "9NuszXJlifTC"
      },
      "outputs": [
        {
          "name": "stdout",
          "output_type": "stream",
          "text": [
            "Exercise 81 is correct.\n"
          ]
        }
      ],
      "source": [
        "# Exercise 81\n",
        "# Write a function definition named shortest_string that takes in a list of strings and returns the shortest string in the list.\n",
        "\n",
        "# def shortest_string(string):\n",
        "#     return min(string, key=len)\n",
        "\n",
        "# def shortest_string(string):\n",
        "#     letters = [len(letter) for letter in string]\n",
        "#     index = letters.index(min(letters))\n",
        "#     return string[index]\n",
        "\n",
        "from functools import reduce\n",
        "\n",
        "def shortest_string(string):\n",
        "    return reduce(lambda x,y: x if len(x) < len(y) else y, string)\n",
        "\n",
        "assert shortest_string([\"kiwi\", \"mango\", \"strawberry\"]) == \"kiwi\"\n",
        "assert shortest_string([\"hello\", \"everybody\"]) == \"hello\"\n",
        "assert shortest_string([\"mary\", \"had\", \"a\", \"little\", \"lamb\"]) == \"a\"\n",
        "print(\"Exercise 81 is correct.\")"
      ]
    },
    {
      "cell_type": "code",
      "execution_count": 88,
      "metadata": {
        "id": "4MuwY8rJifTD"
      },
      "outputs": [
        {
          "name": "stdout",
          "output_type": "stream",
          "text": [
            "Exercise 82 is correct.\n"
          ]
        }
      ],
      "source": [
        "# Exercise 82\n",
        "# Write a function definition named longest_string that takes in sequence of strings and returns the longest string in the list.\n",
        "\n",
        "# def longest_string(string):\n",
        "#     return max(string, key=len)\n",
        "\n",
        "# def longest_string(string):\n",
        "#     characters = [len(char) for char in string]\n",
        "#     index = characters.index(max(characters))\n",
        "#     return string[index]\n",
        "\n",
        "def longest_string(string):\n",
        "    return reduce(lambda x,y: x if len(x) > len(y) else y, string)\n",
        "\n",
        "assert longest_string([\"kiwi\", \"mango\", \"strawberry\"]) == \"strawberry\"\n",
        "assert longest_string([\"hello\", \"everybody\"]) == \"everybody\"\n",
        "assert longest_string([\"mary\", \"had\", \"a\", \"little\", \"lamb\"]) == \"little\"\n",
        "print(\"Exercise 82 is correct.\")"
      ]
    },
    {
      "cell_type": "markdown",
      "metadata": {
        "id": "tPuHzReKifTD"
      },
      "source": [
        "## Working with sets\n",
        "**Hint** Take a look at the `set` function in Python, the `set` data type, and built-in `set` methods."
      ]
    },
    {
      "cell_type": "code",
      "execution_count": 89,
      "metadata": {
        "id": "Goot_ruBifTD"
      },
      "outputs": [
        {
          "name": "stdout",
          "output_type": "stream",
          "text": [
            "{'i', 'w', 'k'}\n",
            "{1, 2, 3, 4}\n"
          ]
        }
      ],
      "source": [
        "# Example set function usage\n",
        "print(set(\"kiwi\"))\n",
        "print(set([1, 2, 2, 3, 3, 3, 4, 4, 4, 4]))"
      ]
    },
    {
      "cell_type": "code",
      "execution_count": 90,
      "metadata": {
        "id": "S1uvMB6rifTD"
      },
      "outputs": [
        {
          "name": "stdout",
          "output_type": "stream",
          "text": [
            "Exercise 83 is correct.\n"
          ]
        }
      ],
      "source": [
        "# Exercise 83\n",
        "# Write a function definition named get_unique_values that takes in a list and returns a set with only the unique values from that list.\n",
        "\n",
        "def get_unique_values(string):\n",
        "    return set(string)\n",
        "\n",
        "\n",
        "assert get_unique_values([\"ant\", \"ant\", \"mosquito\", \"mosquito\", \"ladybug\"]) == {\"ant\", \"mosquito\", \"ladybug\"}\n",
        "assert get_unique_values([\"b\", \"a\", \"n\", \"a\", \"n\", \"a\", \"s\"]) == {\"b\", \"a\", \"n\", \"s\"}\n",
        "assert get_unique_values([\"mary\", \"had\", \"a\", \"little\", \"lamb\", \"little\", \"lamb\", \"little\", \"lamb\"]) == {\"mary\", \"had\", \"a\", \"little\", \"lamb\"}\n",
        "print(\"Exercise 83 is correct.\")"
      ]
    },
    {
      "cell_type": "code",
      "execution_count": 91,
      "metadata": {
        "id": "fDeVHnx0ifTD"
      },
      "outputs": [
        {
          "name": "stdout",
          "output_type": "stream",
          "text": [
            "Exercise 84 is correct.\n"
          ]
        }
      ],
      "source": [
        "# Exercise 84\n",
        "# Write a function definition named get_unique_values_from_two_lists that takes two lists and returns a single set with only the unique values\n",
        "\n",
        "def get_unique_values_from_two_lists(list1, list2):\n",
        "    set1 = set(list1)\n",
        "    set2 = set(list2)\n",
        "    return set1.union(set2)\n",
        "\n",
        "assert get_unique_values_from_two_lists([5, 1, 2, 3], [3, 4, 5, 5]) == {1, 2, 3, 4, 5}\n",
        "assert get_unique_values_from_two_lists([1, 1], [2, 2, 3]) == {1, 2, 3}\n",
        "assert get_unique_values_from_two_lists([\"tomato\", \"mango\", \"kiwi\"], [\"eggplant\", \"tomato\", \"broccoli\"]) == {\"tomato\", \"mango\", \"kiwi\", \"eggplant\", \"broccoli\"}\n",
        "print(\"Exercise 84 is correct.\")"
      ]
    },
    {
      "cell_type": "code",
      "execution_count": 92,
      "metadata": {
        "id": "LyLsLQUEifTE"
      },
      "outputs": [
        {
          "name": "stdout",
          "output_type": "stream",
          "text": [
            "Exercise 85 is correct.\n"
          ]
        }
      ],
      "source": [
        "# Exercise 85\n",
        "# Write a function definition named get_values_in_common that takes two lists and returns a single set with the values that each list has in common\n",
        "\n",
        "def get_values_in_common(list1,list2):\n",
        "    set1 = set(list1)\n",
        "    set2 = set(list2)\n",
        "    return set1.intersection(set2)\n",
        "\n",
        "assert get_values_in_common([5, 1, 2, 3], [3, 4, 5, 5]) == {3, 5}\n",
        "assert get_values_in_common([1, 2], [2, 2, 3]) == {2}\n",
        "assert get_values_in_common([\"tomato\", \"mango\", \"kiwi\"], [\"eggplant\", \"tomato\", \"broccoli\"]) == {\"tomato\"}\n",
        "print(\"Exercise 85 is correct.\")"
      ]
    },
    {
      "cell_type": "code",
      "execution_count": 93,
      "metadata": {
        "id": "bKRLI1K9ifTE"
      },
      "outputs": [
        {
          "name": "stdout",
          "output_type": "stream",
          "text": [
            "Exercise 86 is correct.\n"
          ]
        }
      ],
      "source": [
        "# Exercise 86\n",
        "# Write a function definition named get_values_not_in_common that takes two lists and returns a single set with the values that each list does not have in common\n",
        "\n",
        "def get_values_not_in_common(list1, list2):\n",
        "    list1 = set(list1)\n",
        "    list2 = set(list2)\n",
        "    return list1.symmetric_difference(list2)\n",
        "\n",
        "\n",
        "assert get_values_not_in_common([5, 1, 2, 3], [3, 4, 5, 5]) == {1, 2, 4}\n",
        "assert get_values_not_in_common([1, 1], [2, 2, 3]) == {1, 2, 3}\n",
        "assert get_values_not_in_common([\"tomato\", \"mango\", \"kiwi\"], [\"eggplant\", \"tomato\", \"broccoli\"]) == {\"mango\", \"kiwi\", \"eggplant\", \"broccoli\"}\n",
        "print(\"Exercise 86 is correct.\")"
      ]
    },
    {
      "cell_type": "markdown",
      "metadata": {
        "id": "eGI3EPR0ifTE"
      },
      "source": [
        "## Working with Dictionaries\n"
      ]
    },
    {
      "cell_type": "code",
      "execution_count": 94,
      "metadata": {
        "id": "Yzv9VTVYifTF"
      },
      "outputs": [],
      "source": [
        "# Run this cell in order to have these two dictionary variables defined.\n",
        "tukey_paper = {\n",
        "    \"title\": \"The Future of Data Analysis\",\n",
        "    \"author\": \"John W. Tukey\",\n",
        "    \"link\": \"https://projecteuclid.org/euclid.aoms/1177704711\",\n",
        "    \"year_published\": 1962\n",
        "}\n",
        "\n",
        "thomas_paper = {\n",
        "    \"title\": \"A mathematical model of glutathione metabolism\",\n",
        "    \"author\": \"Rachel Thomas\",\n",
        "    \"link\": \"https://www.ncbi.nlm.nih.gov/pubmed/18442411\",\n",
        "    \"year_published\": 2008\n",
        "}"
      ]
    },
    {
      "cell_type": "code",
      "execution_count": 95,
      "metadata": {},
      "outputs": [
        {
          "name": "stdout",
          "output_type": "stream",
          "text": [
            "The Future of Data Analysis\n",
            "A mathematical model of glutathione metabolism\n",
            "dict_keys(['title', 'author', 'link', 'year_published'])\n",
            "dict_values(['The Future of Data Analysis', 'John W. Tukey', 'https://projecteuclid.org/euclid.aoms/1177704711', 1962])\n",
            "dict_items([('title', 'The Future of Data Analysis'), ('author', 'John W. Tukey'), ('link', 'https://projecteuclid.org/euclid.aoms/1177704711'), ('year_published', 1962)])\n"
          ]
        }
      ],
      "source": [
        "print(tukey_paper['title'])\n",
        "print(thomas_paper['title'])\n",
        "print(tukey_paper.keys())\n",
        "print(tukey_paper.values())\n",
        "print(tukey_paper.items())"
      ]
    },
    {
      "cell_type": "code",
      "execution_count": 96,
      "metadata": {},
      "outputs": [
        {
          "name": "stdout",
          "output_type": "stream",
          "text": [
            "title The Future of Data Analysis\n",
            "author John W. Tukey\n",
            "link https://projecteuclid.org/euclid.aoms/1177704711\n",
            "year_published 1962\n"
          ]
        }
      ],
      "source": [
        "for k,v in tukey_paper.items():\n",
        "    print(k, v)"
      ]
    },
    {
      "cell_type": "code",
      "execution_count": 97,
      "metadata": {},
      "outputs": [
        {
          "name": "stdout",
          "output_type": "stream",
          "text": [
            "0 title\n",
            "1 author\n",
            "2 link\n",
            "3 year_published\n"
          ]
        }
      ],
      "source": [
        "for i, v in enumerate(tukey_paper):\n",
        "    print(i, v)"
      ]
    },
    {
      "cell_type": "code",
      "execution_count": 98,
      "metadata": {},
      "outputs": [
        {
          "name": "stdout",
          "output_type": "stream",
          "text": [
            "title correspond to The Future of Data Analysis\n",
            "author correspond to John W. Tukey\n",
            "link correspond to https://projecteuclid.org/euclid.aoms/1177704711\n",
            "year_published correspond to 1962\n"
          ]
        }
      ],
      "source": [
        "for key, value in tukey_paper.items():\n",
        "    print('{0} correspond to {1}'.format(key, value))"
      ]
    },
    {
      "cell_type": "code",
      "execution_count": 99,
      "metadata": {},
      "outputs": [
        {
          "name": "stdout",
          "output_type": "stream",
          "text": [
            "There are title corresponds to The Future of Data Analysis\n",
            "There are author corresponds to John W. Tukey\n",
            "There are link corresponds to https://projecteuclid.org/euclid.aoms/1177704711\n",
            "There are year_published corresponds to 1962\n"
          ]
        }
      ],
      "source": [
        "for a, b in zip(tukey_paper.keys(), tukey_paper.values()):\n",
        "    print('There are {0} corresponds to {1}'.format(a,b))"
      ]
    },
    {
      "cell_type": "code",
      "execution_count": 100,
      "metadata": {},
      "outputs": [
        {
          "data": {
            "text/plain": [
              "[('title', 'The Future of Data Analysis'),\n",
              " ('author', 'John W. Tukey'),\n",
              " ('link', 'https://projecteuclid.org/euclid.aoms/1177704711'),\n",
              " ('year_published', 1962)]"
            ]
          },
          "execution_count": 100,
          "metadata": {},
          "output_type": "execute_result"
        }
      ],
      "source": [
        "[(key, value) for key,value in tukey_paper.items()]"
      ]
    },
    {
      "cell_type": "code",
      "execution_count": 101,
      "metadata": {},
      "outputs": [],
      "source": [
        "favsDict = { 'Tim': ['red', 'pizza', 'soda'],\n",
        "             'Jake': ['green', 'burger', 'juice'],\n",
        "             'Mary': ['blue', 'salad', 'water']    }"
      ]
    },
    {
      "cell_type": "code",
      "execution_count": 102,
      "metadata": {},
      "outputs": [
        {
          "name": "stdout",
          "output_type": "stream",
          "text": [
            "pizza\n",
            "salad\n"
          ]
        }
      ],
      "source": [
        "print(favsDict['Tim'][1])\n",
        "print(favsDict['Mary'][1])"
      ]
    },
    {
      "cell_type": "code",
      "execution_count": 103,
      "metadata": {
        "id": "n81mitt3ifTF"
      },
      "outputs": [
        {
          "name": "stdout",
          "output_type": "stream",
          "text": [
            "Exercise 87 is correct.\n"
          ]
        }
      ],
      "source": [
        "# Exercise 87\n",
        "# Write a function named get_paper_title that takes in a dictionary and returns the title property\n",
        "\n",
        "def get_paper_title(dicionary):\n",
        "    return dicionary['title']\n",
        "\n",
        "\n",
        "assert get_paper_title(tukey_paper) == \"The Future of Data Analysis\"\n",
        "assert get_paper_title(thomas_paper) == \"A mathematical model of glutathione metabolism\"\n",
        "print(\"Exercise 87 is correct.\")"
      ]
    },
    {
      "cell_type": "code",
      "execution_count": 104,
      "metadata": {
        "id": "tPTvNeeCifTF"
      },
      "outputs": [
        {
          "name": "stdout",
          "output_type": "stream",
          "text": [
            "Exercise 88 is correct.\n"
          ]
        }
      ],
      "source": [
        "# Exercise 88\n",
        "# Write a function named get_year_published that takes in a dictionary and returns the value behind the \"year_published\" key.\n",
        "\n",
        "def get_year_published(dictionary):\n",
        "    return dictionary['year_published']\n",
        "\n",
        "\n",
        "assert get_year_published(tukey_paper) == 1962\n",
        "assert get_year_published(thomas_paper) == 2008\n",
        "print(\"Exercise 88 is correct.\")"
      ]
    },
    {
      "cell_type": "code",
      "execution_count": 105,
      "metadata": {
        "id": "qQy9aObnifTF"
      },
      "outputs": [],
      "source": [
        "# Run this code to create data for the next two questions\n",
        "book = {\n",
        "    \"title\": \"Genetic Algorithms and Machine Learning for Programmers\",\n",
        "    \"price\": 36.99,\n",
        "    \"author\": \"Frances Buontempo\"\n",
        "}"
      ]
    },
    {
      "cell_type": "code",
      "execution_count": 106,
      "metadata": {
        "id": "79HQzXeeifTF"
      },
      "outputs": [
        {
          "name": "stdout",
          "output_type": "stream",
          "text": [
            "Exercise 89 is complete.\n"
          ]
        }
      ],
      "source": [
        "# Exercise 89\n",
        "# Write a function named get_price that takes in a dictionary and returns the price\n",
        "\n",
        "def get_price(dictionary):\n",
        "    return dictionary['price']\n",
        "\n",
        "assert get_price(book) == 36.99\n",
        "print(\"Exercise 89 is complete.\")"
      ]
    },
    {
      "cell_type": "code",
      "execution_count": 107,
      "metadata": {
        "id": "b2gqA_J3ifTF"
      },
      "outputs": [
        {
          "name": "stdout",
          "output_type": "stream",
          "text": [
            "Exercise 90 is complete.\n"
          ]
        }
      ],
      "source": [
        "# Exercise 90\n",
        "# Write a function named get_book_author that takes in a dictionary (the above declared book variable) and returns the author's name\n",
        "\n",
        "def get_book_author(dictionary):\n",
        "    return dictionary['author']\n",
        "\n",
        "\n",
        "assert get_book_author(book) == \"Frances Buontempo\"\n",
        "print(\"Exercise 90 is complete.\")"
      ]
    },
    {
      "cell_type": "markdown",
      "metadata": {
        "id": "d8SehR1GifTF"
      },
      "source": [
        "## Working with Lists of Dictionaries\n",
        "**Hint** If you need an example of lists of dictionaries, see\n",
        "- [Getting Started With a List of Dictionaries](https://colab.research.google.com/github/ryanorsinger/list_of_dictionaries/blob/main/getting_started.ipynb)\n",
        "- [Practice Exercises for List of Dictionaries](https://colab.research.google.com/github/ryanorsinger/list_of_dictionaries/blob/main/exercises.ipynb)\n",
        "- [Companion Video](https://www.youtube.com/watch?v=pPdEahZgv8U)\n"
      ]
    },
    {
      "cell_type": "code",
      "execution_count": 108,
      "metadata": {
        "id": "rmUHCQIyifTF"
      },
      "outputs": [],
      "source": [
        "# Run this cell in order to have some setup data for the next exercises\n",
        "books = [\n",
        "    {\n",
        "        \"title\": \"Genetic Algorithms and Machine Learning for Programmers\",\n",
        "        \"price\": 36.99,\n",
        "        \"author\": \"Frances Buontempo\"\n",
        "    },\n",
        "    {\n",
        "        \"title\": \"The Visual Display of Quantitative Information\",\n",
        "        \"price\": 38.00,\n",
        "        \"author\": \"Edward Tufte\"\n",
        "    },\n",
        "    {\n",
        "        \"title\": \"Practical Object-Oriented Design\",\n",
        "        \"author\": \"Sandi Metz\",\n",
        "        \"price\": 30.47\n",
        "    },\n",
        "    {\n",
        "        \"title\": \"Weapons of Math Destruction\",\n",
        "        \"author\": \"Cathy O'Neil\",\n",
        "        \"price\": 17.44\n",
        "    }\n",
        "]"
      ]
    },
    {
      "cell_type": "code",
      "execution_count": 109,
      "metadata": {
        "id": "mOlYU4xPifTG"
      },
      "outputs": [
        {
          "name": "stdout",
          "output_type": "stream",
          "text": [
            "Exercise 91 is complete.\n"
          ]
        }
      ],
      "source": [
        "# Exercise 91\n",
        "# Write a function named get_number_of_books that takes in a list of objects and returns the number of dictionaries in that list.\n",
        "\n",
        "\n",
        "def get_number_of_books(ListOfDictionaries):\n",
        "    return len(ListOfDictionaries)\n",
        "\n",
        "assert get_number_of_books(books) == 4\n",
        "print(\"Exercise 91 is complete.\")"
      ]
    },
    {
      "cell_type": "code",
      "execution_count": 110,
      "metadata": {
        "id": "BHvdVu1kifTG"
      },
      "outputs": [
        {
          "name": "stdout",
          "output_type": "stream",
          "text": [
            "Exercise 92 is complete.\n"
          ]
        }
      ],
      "source": [
        "# Exercise 92\n",
        "# Write a function named total_of_book_prices that takes in a list of dictionaries and returns the sum total of all the book prices added together\n",
        "\n",
        "def total_of_book_prices(dictionaries):\n",
        "    return sum(dictionary['price'] for dictionary in dictionaries)\n",
        "\n",
        "# def total_of_book_prices(dictionary):\n",
        "#     price_total = 0\n",
        "#     for book in books:\n",
        "#         price_total += book['price']\n",
        "#     return price_total \n",
        "\n",
        "\n",
        "assert total_of_book_prices(books) == 122.9\n",
        "print(\"Exercise 92 is complete.\")"
      ]
    },
    {
      "cell_type": "code",
      "execution_count": 111,
      "metadata": {},
      "outputs": [
        {
          "data": {
            "text/plain": [
              "[{'title': 'Genetic Algorithms and Machine Learning for Programmers',\n",
              "  'price': 36.99,\n",
              "  'author': 'Frances Buontempo'},\n",
              " {'title': 'The Visual Display of Quantitative Information',\n",
              "  'price': 38.0,\n",
              "  'author': 'Edward Tufte'},\n",
              " {'title': 'Practical Object-Oriented Design',\n",
              "  'author': 'Sandi Metz',\n",
              "  'price': 30.47},\n",
              " {'title': 'Weapons of Math Destruction',\n",
              "  'author': \"Cathy O'Neil\",\n",
              "  'price': 17.44}]"
            ]
          },
          "execution_count": 111,
          "metadata": {},
          "output_type": "execute_result"
        }
      ],
      "source": [
        "books"
      ]
    },
    {
      "cell_type": "code",
      "execution_count": 112,
      "metadata": {},
      "outputs": [
        {
          "name": "stdout",
          "output_type": "stream",
          "text": [
            "122.9\n",
            "4\n",
            "4\n"
          ]
        }
      ],
      "source": [
        "sum_of_price = 0\n",
        "counter = 0\n",
        "\n",
        "for book in books:\n",
        "    sum_of_price += book['price']\n",
        "    quantity_of_item = len(books)\n",
        "    counter += 1\n",
        "print(sum_of_price)\n",
        "print(quantity_of_item)\n",
        "print(counter)\n",
        "    "
      ]
    },
    {
      "cell_type": "code",
      "execution_count": 113,
      "metadata": {
        "id": "EH5_iMs4ifTG"
      },
      "outputs": [
        {
          "name": "stdout",
          "output_type": "stream",
          "text": [
            "Exercise 93 is complete.\n"
          ]
        }
      ],
      "source": [
        "# Exercise 93\n",
        "# Write a function named get_average_book_price that takes in a list of dictionaries and returns the average book price.\n",
        "\n",
        "# import statistics \n",
        "\n",
        "# def get_average_book_price(dictionaries):\n",
        "#     return statistics.mean(dictionary['price'] for dictionary in dictionaries)\n",
        "\n",
        "def get_average_book_price(listofdicionaries):\n",
        "    sum_of_price = 0\n",
        "    quantityofbooks = 0\n",
        "    for listofdictionary in listofdicionaries:\n",
        "        sum_of_price += listofdictionary['price']\n",
        "        quantityofbooks += 1\n",
        "    return   sum_of_price / quantityofbooks\n",
        "\n",
        "\n",
        "assert get_average_book_price(books) == 30.725\n",
        "print(\"Exercise 93 is complete.\")"
      ]
    },
    {
      "cell_type": "code",
      "execution_count": 114,
      "metadata": {
        "id": "sposuHyCifTG"
      },
      "outputs": [
        {
          "name": "stdout",
          "output_type": "stream",
          "text": [
            "Exercise 94 is complete\n"
          ]
        }
      ],
      "source": [
        "# Exercise 94\n",
        "# Write a function called highest_price_book that takes in the above defined list of dictionaries \"books\" and returns the dictionary containing the title, price, and author of the book with the highest priced book.\n",
        "# Hint: Much like sometimes start functions with a variable set to zero, you may want to create a dictionary with the price set to zero to compare to each dictionary's price in the list\n",
        "\n",
        "\n",
        "def highest_price_book(dictionary):\n",
        "    return max(dictionary, key=lambda x:x['price'])\n",
        "\n",
        "assert highest_price_book(books) == {\n",
        "    \"title\": \"The Visual Display of Quantitative Information\",\n",
        "    \"price\": 38.00,\n",
        "    \"author\": \"Edward Tufte\"\n",
        "}\n",
        "\n",
        "print(\"Exercise 94 is complete\")"
      ]
    },
    {
      "cell_type": "code",
      "execution_count": 115,
      "metadata": {
        "id": "wvtfZd1mifTG"
      },
      "outputs": [
        {
          "name": "stdout",
          "output_type": "stream",
          "text": [
            "Exercise 95 is complete.\n"
          ]
        }
      ],
      "source": [
        "# Exercise 95\n",
        "# Write a function called lowest_priced_book that takes in the above defined list of dictionaries \"books\" and returns the dictionary containing the title, price, and author of the book with the lowest priced book.\n",
        "# Hint: Much like sometimes start functions with a variable set to zero or float('inf'), you may want to create a dictionary with the price set to float('inf') to compare to each dictionary in the list\n",
        "\n",
        "def lowest_price_book(dictionary):\n",
        "    return min(dictionary, key=lambda x:x['price'])\n",
        "\n",
        "\n",
        "assert lowest_price_book(books) == {\n",
        "    \"title\": \"Weapons of Math Destruction\",\n",
        "    \"author\": \"Cathy O'Neil\",\n",
        "    \"price\": 17.44\n",
        "}\n",
        "print(\"Exercise 95 is complete.\")"
      ]
    },
    {
      "cell_type": "code",
      "execution_count": 116,
      "metadata": {
        "id": "aPPhPscIifTG"
      },
      "outputs": [],
      "source": [
        "shopping_cart = {\n",
        "    \"tax\": .08,\n",
        "    \"items\": [\n",
        "        {\n",
        "            \"title\": \"orange juice\",\n",
        "            \"price\": 3.99,\n",
        "            \"quantity\": 1\n",
        "        },\n",
        "        {\n",
        "            \"title\": \"rice\",\n",
        "            \"price\": 1.99,\n",
        "            \"quantity\": 3\n",
        "        },\n",
        "        {\n",
        "            \"title\": \"beans\",\n",
        "            \"price\": 0.99,\n",
        "            \"quantity\": 3\n",
        "        },\n",
        "        {\n",
        "            \"title\": \"chili sauce\",\n",
        "            \"price\": 2.99,\n",
        "            \"quantity\": 1\n",
        "        },\n",
        "        {\n",
        "            \"title\": \"chocolate\",\n",
        "            \"price\": 0.75,\n",
        "            \"quantity\": 9\n",
        "        }\n",
        "    ]\n",
        "}"
      ]
    },
    {
      "cell_type": "code",
      "execution_count": 117,
      "metadata": {
        "id": "43Zo7qEoifTG"
      },
      "outputs": [
        {
          "name": "stdout",
          "output_type": "stream",
          "text": [
            "Exercise 96 is complete\n"
          ]
        }
      ],
      "source": [
        "# Exercise 96\n",
        "# Write a function named get_tax_rate that takes in the above shopping cart as input and returns the tax rate.\n",
        "# Hint: How do you access a key's value on a dictionary? The tax rate is one key of the entire shopping_cart dictionary.\n",
        "\n",
        "def get_tax_rate(listofdictionary):\n",
        "    return listofdictionary['tax']\n",
        "\n",
        "assert get_tax_rate(shopping_cart) == .08\n",
        "print(\"Exercise 96 is complete\")"
      ]
    },
    {
      "cell_type": "code",
      "execution_count": 118,
      "metadata": {
        "id": "rltgEB3mifTG"
      },
      "outputs": [
        {
          "name": "stdout",
          "output_type": "stream",
          "text": [
            "Exercise 97 is complete.\n"
          ]
        }
      ],
      "source": [
        "# Exercise 97\n",
        "# Write a function named number_of_item_types that takes in the shopping cart as input and returns the number of unique item types in the shopping cart.\n",
        "# We're not yet using the quantity of each item, but rather focusing on determining how many different types of items are in the cart.\n",
        "\n",
        "def number_of_item_types(listofdictionary):\n",
        "    return len(listofdictionary['items'])\n",
        "\n",
        "# def number_of_item_types(listofdictionary):\n",
        "#     counter = 0\n",
        "#     for quantity in listofdictionary['items']:\n",
        "#         counter += 1\n",
        "#     return counter \n",
        "\n",
        "\n",
        "assert number_of_item_types(shopping_cart) == 5\n",
        "print(\"Exercise 97 is complete.\")"
      ]
    },
    {
      "cell_type": "code",
      "execution_count": 119,
      "metadata": {
        "id": "aCnMAXpkifTG"
      },
      "outputs": [
        {
          "name": "stdout",
          "output_type": "stream",
          "text": [
            "Exercise 98 is complete.\n"
          ]
        }
      ],
      "source": [
        "# Exercise 98\n",
        "# Write a function named total_number_of_items that takes in the shopping cart as input and returns the total number all item quantities.\n",
        "# This should return the sum of all of the quantities from each item type\n",
        "\n",
        "def total_number_of_items(dictionary):\n",
        "    dictionary = dictionary['items'] \n",
        "    return sum(values['quantity'] for values in dictionary)\n",
        "\n",
        "# def total_number_of_items(listofdictionaries):\n",
        "#     listofdictionaries = listofdictionaries['items']\n",
        "#     sumofquantity = 0\n",
        "#     for quantity in listofdictionaries:\n",
        "#         sumofquantity += quantity['quantity']\n",
        "#     return sumofquantity\n",
        "\n",
        "assert total_number_of_items(shopping_cart) == 17\n",
        "print(\"Exercise 98 is complete.\")"
      ]
    },
    {
      "cell_type": "code",
      "execution_count": 120,
      "metadata": {
        "id": "mqHN0aePifTH"
      },
      "outputs": [
        {
          "name": "stdout",
          "output_type": "stream",
          "text": [
            "Exercise 99 is complete.\n"
          ]
        }
      ],
      "source": [
        "# Exercise 99\n",
        "# Write a function named get_average_item_price that takes in the shopping cart as an input and returns the average of all the item prices.\n",
        "# Hint - This should determine the total price divided by the number of types of items. This does not account for each item type's quantity.\n",
        "\n",
        "def get_average_item_price(listofdictionary):\n",
        "    listofdictionary = listofdictionary['items']\n",
        "    sumofprice = 0\n",
        "    counter = 0\n",
        "    for item in listofdictionary:\n",
        "        sumofprice += item['price']\n",
        "        counter += 1\n",
        "    return sumofprice /  counter\n",
        "    \n",
        "# import statistics \n",
        "# def get_average_item_price(listofdictionary):\n",
        "#     listofdictionary = listofdictionary['items']\n",
        "#     return statistics.mean(values['price'] for values in listofdictionary)\n",
        "\n",
        "\n",
        "assert get_average_item_price(shopping_cart) == 2.1420000000000003\n",
        "#assert get_average_item_price(shopping_cart) == 2.142\n",
        "\n",
        "print(\"Exercise 99 is complete.\")"
      ]
    },
    {
      "cell_type": "code",
      "execution_count": 121,
      "metadata": {},
      "outputs": [
        {
          "data": {
            "text/plain": [
              "1.333529411764706"
            ]
          },
          "execution_count": 121,
          "metadata": {},
          "output_type": "execute_result"
        }
      ],
      "source": [
        "itemsdict = shopping_cart['items']\n",
        "\n",
        "a = sum(item['price'] * item['quantity'] for item in itemsdict)\n",
        "b = sum(item['quantity'] for item in itemsdict)\n",
        "\n",
        "\n",
        "a / b"
      ]
    },
    {
      "cell_type": "code",
      "execution_count": 122,
      "metadata": {
        "id": "lCh9VKzvifTH"
      },
      "outputs": [
        {
          "name": "stdout",
          "output_type": "stream",
          "text": [
            "Exercise 100 is complete.\n"
          ]
        }
      ],
      "source": [
        "# Exercise 100\n",
        "# Write a function named get_average_spent_per_item that takes in the shopping cart and returns the average of summing each item's quanties times that item's price.\n",
        "# Hint: You may need to set an initial total price and total total quantity to zero, then sum up and divide that total price by the total quantity\n",
        "\n",
        "# def get_average_spent_per_item(listofdictionaries):\n",
        "#     listofdictionaries = listofdictionaries['items']\n",
        "#     total_spent = 0\n",
        "#     quantity_of_items = 0\n",
        "#     for listofdictionary in listofdictionaries:\n",
        "#         total_spent += listofdictionary['price'] * listofdictionary['quantity']\n",
        "#         quantity_of_items += listofdictionary['quantity']\n",
        "#     average_per_item = total_spent /  quantity_of_items\n",
        "    \n",
        "#     return average_per_item\n",
        "    \n",
        "def get_average_spent_per_item(listofdictionaries):\n",
        "    listofdictionaries = listofdictionaries['items']\n",
        "    TotalRevenue = sum(item['price'] * item['quantity'] for item in listofdictionaries)\n",
        "    QuantityOfItem = sum(item['quantity'] for item in listofdictionaries)\n",
        "    return TotalRevenue / QuantityOfItem\n",
        "    \n",
        "\n",
        "assert get_average_spent_per_item(shopping_cart) == 1.333529411764706\n",
        "print(\"Exercise 100 is complete.\")"
      ]
    },
    {
      "cell_type": "code",
      "execution_count": 123,
      "metadata": {
        "id": "EREc9H7zifTH"
      },
      "outputs": [
        {
          "name": "stdout",
          "output_type": "stream",
          "text": [
            "Exercise 101 is complete.\n"
          ]
        }
      ],
      "source": [
        "# Exercise 101\n",
        "# Write a function named most_spent_on_item that takes in the shopping cart as input and returns the dictionary associated with the item that has the highest price*quantity.\n",
        "# Be sure to do this as programmatically as possible.\n",
        "# Hint: Similarly to how we sometimes begin a function with setting a variable to zero, we need a starting place:\n",
        "# Hint: Consider creating a variable that is a dictionary with the keys \"price\" and \"quantity\" both set to 0. You can then compare each item's price and quantity total to the one from \"most\"\n",
        "\n",
        "def most_spent_on_item(listofdictionaries):\n",
        "    listofdictionaries = listofdictionaries['items']\n",
        "    return max(listofdictionaries, key=lambda x:x['price']*x['quantity'])\n",
        "\n",
        "assert most_spent_on_item(shopping_cart) == {\n",
        "    \"title\": \"chocolate\",\n",
        "    \"price\": 0.75,\n",
        "    \"quantity\": 9\n",
        "}\n",
        "print(\"Exercise 101 is complete.\")"
      ]
    },
    {
      "cell_type": "code",
      "execution_count": 124,
      "metadata": {},
      "outputs": [],
      "source": [
        "#https://colab.research.google.com/github/ryanorsinger/list_of_dictionaries/blob/main/getting_started.ipynb#scrollTo=NW30XiyIOas9\n",
        "#https://github.com/ryanorsinger/list_of_dictionaries/blob/main/getting_started.ipynb\n",
        "fruits = [\n",
        "    {\n",
        "        \"item\": \"apple\",\n",
        "        \"quantity\": 5,\n",
        "        \"price\": 0.95\n",
        "    },\n",
        "    {\n",
        "        \"item\": \"orange\",\n",
        "        \"quantity\": 7,\n",
        "        \"price\": 0.99\n",
        "    }\n",
        "]"
      ]
    },
    {
      "cell_type": "code",
      "execution_count": 125,
      "metadata": {},
      "outputs": [
        {
          "data": {
            "text/plain": [
              "{'item': 'apple', 'quantity': 5, 'price': 0.95}"
            ]
          },
          "execution_count": 125,
          "metadata": {},
          "output_type": "execute_result"
        }
      ],
      "source": [
        "# How do we access the first dictionary in the list?\n",
        "fruits[0]"
      ]
    },
    {
      "cell_type": "code",
      "execution_count": 126,
      "metadata": {},
      "outputs": [
        {
          "data": {
            "text/plain": [
              "5"
            ]
          },
          "execution_count": 126,
          "metadata": {},
          "output_type": "execute_result"
        }
      ],
      "source": [
        "# How would we get the number of apples?\n",
        "fruits[0]['quantity']"
      ]
    },
    {
      "cell_type": "code",
      "execution_count": 127,
      "metadata": {},
      "outputs": [
        {
          "data": {
            "text/plain": [
              "4.75"
            ]
          },
          "execution_count": 127,
          "metadata": {},
          "output_type": "execute_result"
        }
      ],
      "source": [
        "# How would we determine the total spent on apples where we multiply price * quantity?\n",
        "fruits[0]['quantity'] * fruits[0]['price']"
      ]
    },
    {
      "cell_type": "code",
      "execution_count": 128,
      "metadata": {},
      "outputs": [
        {
          "data": {
            "text/plain": [
              "12"
            ]
          },
          "execution_count": 128,
          "metadata": {},
          "output_type": "execute_result"
        }
      ],
      "source": [
        "# What's one way to determine the total quantity of all items in the fruist list of dictionaries?\n",
        "fruits[0]['quantity'] + fruits[1]['quantity']"
      ]
    },
    {
      "cell_type": "code",
      "execution_count": 129,
      "metadata": {},
      "outputs": [
        {
          "data": {
            "text/plain": [
              "12"
            ]
          },
          "execution_count": 129,
          "metadata": {},
          "output_type": "execute_result"
        }
      ],
      "source": [
        "# What about if we have a longer list than only two? What if we need this to be programmatic? Use a loop!\n",
        "total_quantity = 0 \n",
        "for fruit in fruits:\n",
        "    total_quantity += fruit['quantity']\n",
        "total_quantity\n"
      ]
    },
    {
      "cell_type": "code",
      "execution_count": 130,
      "metadata": {},
      "outputs": [
        {
          "data": {
            "text/plain": [
              "12"
            ]
          },
          "execution_count": 130,
          "metadata": {},
          "output_type": "execute_result"
        }
      ],
      "source": [
        "sum(fruit['quantity'] for fruit in fruits)"
      ]
    },
    {
      "cell_type": "code",
      "execution_count": 131,
      "metadata": {},
      "outputs": [
        {
          "data": {
            "text/plain": [
              "11.68"
            ]
          },
          "execution_count": 131,
          "metadata": {},
          "output_type": "execute_result"
        }
      ],
      "source": [
        "# What's one way to determine the total spent on both apples and oranges? (this is the \"brute force\" way)\n",
        "(fruits[0]['quantity'] * fruits[0]['price']) + (fruits[1]['quantity'] * fruits[1]['price'])"
      ]
    },
    {
      "cell_type": "code",
      "execution_count": 132,
      "metadata": {},
      "outputs": [
        {
          "data": {
            "text/plain": [
              "11.68"
            ]
          },
          "execution_count": 132,
          "metadata": {},
          "output_type": "execute_result"
        }
      ],
      "source": [
        "# What's a programmatic way to determine the total spend? Use a loop! Then access each dictionary's values inside the loop\n",
        "total_spend = 0\n",
        "\n",
        "for fruit in fruits:\n",
        "    total_spend += fruit['quantity'] * fruit['price']\n",
        "   \n",
        "    \n",
        "total_spend"
      ]
    },
    {
      "cell_type": "code",
      "execution_count": 133,
      "metadata": {},
      "outputs": [
        {
          "data": {
            "text/plain": [
              "11.68"
            ]
          },
          "execution_count": 133,
          "metadata": {},
          "output_type": "execute_result"
        }
      ],
      "source": [
        "sum(fruit['price'] * fruit['quantity'] for fruit in fruits)"
      ]
    },
    {
      "cell_type": "code",
      "execution_count": 134,
      "metadata": {},
      "outputs": [
        {
          "data": {
            "text/plain": [
              "0.9733333333333333"
            ]
          },
          "execution_count": 134,
          "metadata": {},
          "output_type": "execute_result"
        }
      ],
      "source": [
        "# How would we determine the average price spent per item?\n",
        "total_spent = 0\n",
        "quantity = 0\n",
        "\n",
        "for fruit in fruits:\n",
        "    total_spent += fruit['price'] * fruit['quantity']\n",
        "    quantity += fruit['quantity']\n",
        "    \n",
        "total_spent / quantity  "
      ]
    },
    {
      "cell_type": "code",
      "execution_count": 135,
      "metadata": {},
      "outputs": [
        {
          "data": {
            "text/plain": [
              "0.9733333333333333"
            ]
          },
          "execution_count": 135,
          "metadata": {},
          "output_type": "execute_result"
        }
      ],
      "source": [
        "Total_Spent = sum(fruit['price'] * fruit['quantity'] for fruit in fruits)\n",
        "Quantity = sum(fruit['quantity'] for fruit in fruits)\n",
        "\n",
        "Total_Spent / Quantity"
      ]
    },
    {
      "cell_type": "code",
      "execution_count": 136,
      "metadata": {},
      "outputs": [],
      "source": [
        "# https://colab.research.google.com/github/ryanorsinger/list_of_dictionaries/blob/main/exercises.ipynb\n",
        "#https://www.youtube.com/watch?v=pPdEahZgv8U\n",
        "#https://github.com/ryanorsinger/list_of_dictionaries/blob/main/exercises.ipynb\n",
        "drinks = [\n",
        "    {\n",
        "        \"type\": \"water\",\n",
        "        \"calories\": 0,\n",
        "        \"number_consumed\": 7,\n",
        "        \"caffeinated\": False\n",
        "    },\n",
        "    {\n",
        "        \"type\": \"orange juice\",\n",
        "        \"calories\": 220,\n",
        "        \"number_consumed\": 4,\n",
        "        \"caffeinated\": False\n",
        "    },\n",
        "    {\n",
        "        \"type\": \"gatorade\",\n",
        "        \"calories\": 140,\n",
        "        \"number_consumed\": 1,\n",
        "        \"caffeinated\": False\n",
        "    },\n",
        "    {\n",
        "        \"type\": \"cappuccino\",\n",
        "        \"calories\": 350,\n",
        "        \"number_consumed\": 2,\n",
        "        \"caffeinated\": True\n",
        "    },\n",
        "    {\n",
        "        \"type\": \"hot tea\",\n",
        "        \"calories\": 5,\n",
        "        \"number_consumed\": 3,\n",
        "        \"caffeinated\": True\n",
        "    }\n",
        "]"
      ]
    },
    {
      "cell_type": "code",
      "execution_count": 137,
      "metadata": {},
      "outputs": [
        {
          "data": {
            "text/plain": [
              "5"
            ]
          },
          "execution_count": 137,
          "metadata": {},
          "output_type": "execute_result"
        }
      ],
      "source": [
        "# Exercise 1\n",
        "# How many different kinds of drinks?\n",
        "len(drinks)"
      ]
    },
    {
      "cell_type": "code",
      "execution_count": 138,
      "metadata": {},
      "outputs": [
        {
          "data": {
            "text/plain": [
              "5"
            ]
          },
          "execution_count": 138,
          "metadata": {},
          "output_type": "execute_result"
        }
      ],
      "source": [
        "quantity_of_drinks = 0\n",
        "for drink in drinks:\n",
        "    quantity_of_drinks += 1\n",
        "    \n",
        "quantity_of_drinks"
      ]
    },
    {
      "cell_type": "code",
      "execution_count": 139,
      "metadata": {},
      "outputs": [
        {
          "data": {
            "text/plain": [
              "17"
            ]
          },
          "execution_count": 139,
          "metadata": {},
          "output_type": "execute_result"
        }
      ],
      "source": [
        "# Exercise 2\n",
        "# How many total consumed drinks?\n",
        "total_consumed_drinks = 0\n",
        "for drink in drinks:\n",
        "    total_consumed_drinks += drink['number_consumed']\n",
        "    \n",
        "total_consumed_drinks"
      ]
    },
    {
      "cell_type": "code",
      "execution_count": 140,
      "metadata": {},
      "outputs": [
        {
          "data": {
            "text/plain": [
              "17"
            ]
          },
          "execution_count": 140,
          "metadata": {},
          "output_type": "execute_result"
        }
      ],
      "source": [
        "sum(drink['number_consumed'] for drink in drinks)"
      ]
    },
    {
      "cell_type": "code",
      "execution_count": 141,
      "metadata": {},
      "outputs": [
        {
          "data": {
            "text/plain": [
              "1735"
            ]
          },
          "execution_count": 141,
          "metadata": {},
          "output_type": "execute_result"
        }
      ],
      "source": [
        "# Exercise 3\n",
        "# How many total consumed calories\n",
        "\n",
        "total_consumed_calories = 0\n",
        "\n",
        "\n",
        "for drink in drinks:\n",
        "    total_consumed_calories += drink['calories'] * drink['number_consumed']\n",
        "    \n",
        "total_consumed_calories\n",
        "    "
      ]
    },
    {
      "cell_type": "code",
      "execution_count": 142,
      "metadata": {},
      "outputs": [
        {
          "data": {
            "text/plain": [
              "1735"
            ]
          },
          "execution_count": 142,
          "metadata": {},
          "output_type": "execute_result"
        }
      ],
      "source": [
        "sum(drink['calories'] * drink['number_consumed'] for drink in drinks)"
      ]
    },
    {
      "cell_type": "code",
      "execution_count": 143,
      "metadata": {},
      "outputs": [
        {
          "data": {
            "text/plain": [
              "2"
            ]
          },
          "execution_count": 143,
          "metadata": {},
          "output_type": "execute_result"
        }
      ],
      "source": [
        "# Exercise 4a\n",
        "# How many types of drinks are caffieinated?\n",
        "drinks_caffeinated = 0\n",
        " \n",
        "for drink in drinks:\n",
        "    if drink['caffeinated'] == True:\n",
        "        drinks_caffeinated += 1\n",
        "        \n",
        "drinks_caffeinated   "
      ]
    },
    {
      "cell_type": "code",
      "execution_count": 144,
      "metadata": {},
      "outputs": [
        {
          "data": {
            "text/plain": [
              "2"
            ]
          },
          "execution_count": 144,
          "metadata": {},
          "output_type": "execute_result"
        }
      ],
      "source": [
        "drink_caffeinated = [drink for drink in drinks if drink['caffeinated'] == True]\n",
        "len(drink_caffeinated)"
      ]
    },
    {
      "cell_type": "code",
      "execution_count": 145,
      "metadata": {},
      "outputs": [
        {
          "data": {
            "text/plain": [
              "3"
            ]
          },
          "execution_count": 145,
          "metadata": {},
          "output_type": "execute_result"
        }
      ],
      "source": [
        "# Exercise 4b\n",
        "# How many types of drinks are non-caffieinated?\n",
        "drinks_no_caffeinated = 0\n",
        "\n",
        "for drink in drinks:\n",
        "    if drink['caffeinated'] == False:\n",
        "        drinks_no_caffeinated += 1\n",
        "\n",
        "drinks_no_caffeinated    \n"
      ]
    },
    {
      "cell_type": "code",
      "execution_count": 146,
      "metadata": {},
      "outputs": [
        {
          "data": {
            "text/plain": [
              "3"
            ]
          },
          "execution_count": 146,
          "metadata": {},
          "output_type": "execute_result"
        }
      ],
      "source": [
        "drink_no_caffeinated = [drink for drink in drinks if drink['caffeinated'] == False]\n",
        "len(drink_no_caffeinated)"
      ]
    },
    {
      "cell_type": "code",
      "execution_count": 147,
      "metadata": {},
      "outputs": [
        {
          "data": {
            "text/plain": [
              "12"
            ]
          },
          "execution_count": 147,
          "metadata": {},
          "output_type": "execute_result"
        }
      ],
      "source": [
        "# Exercise 5a\n",
        "# How many total consumed drinks were non-caffeinated?\n",
        "total_consumed_drinks_non_caffeinated = 0\n",
        "for drink in drinks:\n",
        "    if drink['caffeinated'] == False:\n",
        "        total_consumed_drinks_non_caffeinated += drink['number_consumed']\n",
        "\n",
        "total_consumed_drinks_non_caffeinated\n",
        "        "
      ]
    },
    {
      "cell_type": "code",
      "execution_count": 148,
      "metadata": {},
      "outputs": [
        {
          "data": {
            "text/plain": [
              "12"
            ]
          },
          "execution_count": 148,
          "metadata": {},
          "output_type": "execute_result"
        }
      ],
      "source": [
        "sum(drink['number_consumed'] for drink in drinks if drink['caffeinated'] == False)"
      ]
    },
    {
      "cell_type": "code",
      "execution_count": 149,
      "metadata": {},
      "outputs": [
        {
          "data": {
            "text/plain": [
              "{'type': 'cappuccino',\n",
              " 'calories': 350,\n",
              " 'number_consumed': 2,\n",
              " 'caffeinated': True}"
            ]
          },
          "execution_count": 149,
          "metadata": {},
          "output_type": "execute_result"
        }
      ],
      "source": [
        "# Exercise 6\n",
        "# Which drink has the most calories?\n",
        "max(drinks, key=lambda x:x['calories'])\n"
      ]
    },
    {
      "cell_type": "code",
      "execution_count": 150,
      "metadata": {},
      "outputs": [
        {
          "data": {
            "text/plain": [
              "{'type': 'water', 'calories': 0, 'number_consumed': 7, 'caffeinated': False}"
            ]
          },
          "execution_count": 150,
          "metadata": {},
          "output_type": "execute_result"
        }
      ],
      "source": [
        "# Exercise 7\n",
        "# Which drink was consumed the least?\n",
        "min(drinks, key=lambda x:x['calories'])"
      ]
    },
    {
      "cell_type": "code",
      "execution_count": 151,
      "metadata": {},
      "outputs": [
        {
          "data": {
            "text/plain": [
              "347.0"
            ]
          },
          "execution_count": 151,
          "metadata": {},
          "output_type": "execute_result"
        }
      ],
      "source": [
        "# Exercise 8\n",
        "# Average calorie count per consumed drink, if all beverages are consumed\n",
        "total_calories = 0\n",
        "quantity = 0\n",
        "\n",
        "for drink in drinks:\n",
        "    total_calories += drink['calories'] * drink['number_consumed']\n",
        "    quantity += 1\n",
        "    \n",
        "total_calories / quantity"
      ]
    },
    {
      "cell_type": "code",
      "execution_count": 152,
      "metadata": {},
      "outputs": [
        {
          "data": {
            "text/plain": [
              "347.0"
            ]
          },
          "execution_count": 152,
          "metadata": {},
          "output_type": "execute_result"
        }
      ],
      "source": [
        "Total_calories = sum(drink['calories'] * drink['number_consumed'] for drink in drinks)\n",
        "Quantity = len(drinks)\n",
        "Total_calories / Quantity"
      ]
    },
    {
      "cell_type": "code",
      "execution_count": 153,
      "metadata": {},
      "outputs": [],
      "source": [
        "#https://github.com/ryanorsinger/list_of_dictionaries/blob/main/how-to-solve-looping-problems.ipynb\n",
        "#https://www.youtube.com/watch?v=Mk-N_iGJIAc&t=1555s\n",
        "#https://www.youtube.com/watch?v=-IeZJhZkvjc&t=1435s\n",
        "#https://www.youtube.com/watch?v=-IeZJhZkvjc\n",
        "students = [\n",
        "    {\n",
        "        \"id\": \"100001\",\n",
        "        \"student\": \"Ada Lovelace\",\n",
        "        \"coffee_preference\": \"light\",\n",
        "        \"course\": \"web development\",\n",
        "        \"grades\": [70, 91, 82, 71],\n",
        "        \"pets\": [{\"species\": \"horse\", \"age\": 8}],\n",
        "    },\n",
        "    {\n",
        "        \"id\": \"100002\",\n",
        "        \"student\": \"Thomas Bayes\",\n",
        "        \"coffee_preference\": \"medium\",\n",
        "        \"course\": \"data science\",\n",
        "        \"grades\": [75, 73, 86, 100],\n",
        "        \"pets\": [],\n",
        "    },\n",
        "    {\n",
        "        \"id\": \"100003\",\n",
        "        \"student\": \"Marie Curie\",\n",
        "        \"coffee_preference\": \"light\",\n",
        "        \"course\": \"web development\",\n",
        "        \"grades\": [70, 89, 69, 65],\n",
        "        \"pets\": [{\"species\": \"cat\", \"age\": 0}],\n",
        "    },\n",
        "    {\n",
        "        \"id\": \"100004\",\n",
        "        \"student\": \"Grace Hopper\",\n",
        "        \"coffee_preference\": \"dark\",\n",
        "        \"course\": \"data science\",\n",
        "        \"grades\": [73, 66, 83, 92],\n",
        "        \"pets\": [{\"species\": \"dog\", \"age\": 4}, {\"species\": \"cat\", \"age\": 4}],\n",
        "    },\n",
        "    {\n",
        "        \"id\": \"100005\",\n",
        "        \"student\": \"Alan Turing\",\n",
        "        \"coffee_preference\": \"dark\",\n",
        "        \"course\": \"web development\",\n",
        "        \"grades\": [78, 98, 85, 65],\n",
        "        \"pets\": [\n",
        "            {\"species\": \"horse\", \"age\": 6},\n",
        "            {\"species\": \"horse\", \"age\": 7},\n",
        "            {\"species\": \"dog\", \"age\": 5},\n",
        "        ],\n",
        "    },\n",
        "    {\n",
        "        \"id\": \"100006\",\n",
        "        \"student\": \"Rosalind Franklin\",\n",
        "        \"coffee_preference\": \"dark\",\n",
        "        \"course\": \"data science\",\n",
        "        \"grades\": [76, 70, 96, 81],\n",
        "        \"pets\": [],\n",
        "    },\n",
        "    {\n",
        "        \"id\": \"100007\",\n",
        "        \"student\": \"Elizabeth Blackwell\",\n",
        "        \"coffee_preference\": \"dark\",\n",
        "        \"course\": \"web development\",\n",
        "        \"grades\": [69, 94, 89, 86],\n",
        "        \"pets\": [{\"species\": \"cat\", \"age\": 10}],\n",
        "    },\n",
        "    {\n",
        "        \"id\": \"100008\",\n",
        "        \"student\": \"Rene Descartes\",\n",
        "        \"coffee_preference\": \"medium\",\n",
        "        \"course\": \"data science\",\n",
        "        \"grades\": [87, 79, 90, 99],\n",
        "        \"pets\": [{\"species\": \"cat\", \"age\": 10}, {\"species\": \"cat\", \"age\": 8}],\n",
        "    },\n",
        "    {\n",
        "        \"id\": \"100009\",\n",
        "        \"student\": \"Ahmed Zewail\",\n",
        "        \"coffee_preference\": \"medium\",\n",
        "        \"course\": \"data science\",\n",
        "        \"grades\": [74, 99, 93, 89],\n",
        "        \"pets\": [{\"species\": \"cat\", \"age\": 0}, {\"species\": \"cat\", \"age\": 0}],\n",
        "    },\n",
        "    {\n",
        "        \"id\": \"100010\",\n",
        "        \"student\": \"Chien-Shiung Wu\",\n",
        "        \"coffee_preference\": \"medium\",\n",
        "        \"course\": \"web development\",\n",
        "        \"grades\": [82, 92, 91, 65],\n",
        "        \"pets\": [{\"species\": \"cat\", \"age\": 8}],\n",
        "    },\n",
        "    {\n",
        "        \"id\": \"100011\",\n",
        "        \"student\": \"William Sanford Nye\",\n",
        "        \"coffee_preference\": \"dark\",\n",
        "        \"course\": \"data science\",\n",
        "        \"grades\": [70, 92, 65, 99],\n",
        "        \"pets\": [{\"species\": \"cat\", \"age\": 8}, {\"species\": \"cat\", \"age\": 5}],\n",
        "    },\n",
        "    {\n",
        "        \"id\": \"100012\",\n",
        "        \"student\": \"Carl Sagan\",\n",
        "        \"coffee_preference\": \"medium\",\n",
        "        \"course\": \"data science\",\n",
        "        \"grades\": [100, 86, 91, 87],\n",
        "        \"pets\": [{\"species\": \"cat\", \"age\": 10}],\n",
        "    },\n",
        "    {\n",
        "        \"id\": \"100013\",\n",
        "        \"student\": \"Jane Goodall\",\n",
        "        \"coffee_preference\": \"light\",\n",
        "        \"course\": \"web development\",\n",
        "        \"grades\": [80, 70, 68, 98],\n",
        "        \"pets\": [{\"species\": \"horse\", \"age\": 4}],\n",
        "    },\n",
        "    {\n",
        "        \"id\": \"100014\",\n",
        "        \"student\": \"Richard Feynman\",\n",
        "        \"coffee_preference\": \"medium\",\n",
        "        \"course\": \"web development\",\n",
        "        \"grades\": [73, 99, 86, 98],\n",
        "        \"pets\": [{\"species\": \"dog\", \"age\": 6}],\n",
        "    },\n",
        "]"
      ]
    },
    {
      "cell_type": "code",
      "execution_count": 154,
      "metadata": {},
      "outputs": [
        {
          "data": {
            "text/plain": [
              "{'id': '100001',\n",
              " 'student': 'Ada Lovelace',\n",
              " 'coffee_preference': 'light',\n",
              " 'course': 'web development',\n",
              " 'grades': [70, 91, 82, 71],\n",
              " 'pets': [{'species': 'horse', 'age': 8}]}"
            ]
          },
          "execution_count": 154,
          "metadata": {},
          "output_type": "execute_result"
        }
      ],
      "source": [
        "students[0]"
      ]
    },
    {
      "cell_type": "code",
      "execution_count": 155,
      "metadata": {},
      "outputs": [],
      "source": [
        "student = students[0]"
      ]
    },
    {
      "cell_type": "code",
      "execution_count": 156,
      "metadata": {},
      "outputs": [],
      "source": [
        "name = student['student']\n",
        "pet = student['pets']\n",
        "QuantityOfPets = len(student['pets'])\n"
      ]
    },
    {
      "cell_type": "code",
      "execution_count": 157,
      "metadata": {},
      "outputs": [
        {
          "data": {
            "text/plain": [
              "'Ada Lovelace'"
            ]
          },
          "execution_count": 157,
          "metadata": {},
          "output_type": "execute_result"
        }
      ],
      "source": [
        "name"
      ]
    },
    {
      "cell_type": "code",
      "execution_count": 158,
      "metadata": {},
      "outputs": [
        {
          "data": {
            "text/plain": [
              "[{'species': 'horse', 'age': 8}]"
            ]
          },
          "execution_count": 158,
          "metadata": {},
          "output_type": "execute_result"
        }
      ],
      "source": [
        "pet"
      ]
    },
    {
      "cell_type": "code",
      "execution_count": 159,
      "metadata": {},
      "outputs": [
        {
          "data": {
            "text/plain": [
              "1"
            ]
          },
          "execution_count": 159,
          "metadata": {},
          "output_type": "execute_result"
        }
      ],
      "source": [
        "QuantityOfPets"
      ]
    },
    {
      "cell_type": "code",
      "execution_count": 160,
      "metadata": {},
      "outputs": [
        {
          "data": {
            "text/plain": [
              "'Ada Lovelace has 1 pet'"
            ]
          },
          "execution_count": 160,
          "metadata": {},
          "output_type": "execute_result"
        }
      ],
      "source": [
        "f'{name} has {QuantityOfPets} pet'"
      ]
    },
    {
      "cell_type": "code",
      "execution_count": 161,
      "metadata": {},
      "outputs": [
        {
          "name": "stdout",
          "output_type": "stream",
          "text": [
            "Ada Lovelace has 1 pet(s)\n",
            "Thomas Bayes has 0 pet(s)\n",
            "Marie Curie has 1 pet(s)\n",
            "Grace Hopper has 2 pet(s)\n",
            "Alan Turing has 3 pet(s)\n",
            "Rosalind Franklin has 0 pet(s)\n",
            "Elizabeth Blackwell has 1 pet(s)\n",
            "Rene Descartes has 2 pet(s)\n",
            "Ahmed Zewail has 2 pet(s)\n",
            "Chien-Shiung Wu has 1 pet(s)\n",
            "William Sanford Nye has 2 pet(s)\n",
            "Carl Sagan has 1 pet(s)\n",
            "Jane Goodall has 1 pet(s)\n",
            "Richard Feynman has 1 pet(s)\n"
          ]
        }
      ],
      "source": [
        "for student in students:\n",
        "    pets = len(student['pets'])\n",
        "    name = student['student']\n",
        "    print(f'{name} has {pets} pet(s)')\n",
        "    "
      ]
    },
    {
      "cell_type": "code",
      "execution_count": 162,
      "metadata": {},
      "outputs": [
        {
          "name": "stdout",
          "output_type": "stream",
          "text": [
            "Ada Lovelace has only 1 pets\n",
            "Thomas Bayes has no pets at all\n",
            "Marie Curie has only 1 pets\n",
            "Grace Hopper has only 2 pets\n",
            "Alan Turing has only 3 pets\n",
            "Rosalind Franklin has no pets at all\n",
            "Elizabeth Blackwell has only 1 pets\n",
            "Rene Descartes has only 2 pets\n",
            "Ahmed Zewail has only 2 pets\n",
            "Chien-Shiung Wu has only 1 pets\n",
            "William Sanford Nye has only 2 pets\n",
            "Carl Sagan has only 1 pets\n",
            "Jane Goodall has only 1 pets\n",
            "Richard Feynman has only 1 pets\n"
          ]
        }
      ],
      "source": [
        "for student in students:\n",
        "    pets = len(student['pets']) \n",
        "    name = student['student']\n",
        "    if pets == 0:\n",
        "        print(f'{name} has no pets at all')\n",
        "    if pets == 1:\n",
        "        print(f'{name} has only {pets} pets')\n",
        "    if pets > 1:\n",
        "        print(f'{name} has only {pets} pets')"
      ]
    },
    {
      "cell_type": "code",
      "execution_count": 163,
      "metadata": {},
      "outputs": [
        {
          "data": {
            "text/plain": [
              "5"
            ]
          },
          "execution_count": 163,
          "metadata": {},
          "output_type": "execute_result"
        }
      ],
      "source": [
        "number = 5\n",
        "number"
      ]
    },
    {
      "cell_type": "code",
      "execution_count": 164,
      "metadata": {},
      "outputs": [
        {
          "data": {
            "text/plain": [
              "[3, 3, 3, 4, 4, 4, 4, 5, 5, 5, 5, 5, 6, 7, 8, 9, 10]"
            ]
          },
          "execution_count": 164,
          "metadata": {},
          "output_type": "execute_result"
        }
      ],
      "source": [
        "numbers = [3, 3, 3, 4, 4, 4, 4, 5, 5, 5, 5, 5, 6, 7, 8, 9, 10]\n",
        "numbers"
      ]
    },
    {
      "cell_type": "code",
      "execution_count": 165,
      "metadata": {},
      "outputs": [
        {
          "name": "stdout",
          "output_type": "stream",
          "text": [
            "3\n",
            "3\n",
            "3\n",
            "4\n",
            "4\n",
            "4\n",
            "4\n",
            "5\n",
            "5\n",
            "5\n",
            "5\n",
            "5\n",
            "6\n",
            "7\n",
            "8\n",
            "9\n",
            "10\n"
          ]
        }
      ],
      "source": [
        "for number in numbers:\n",
        "    print(number)"
      ]
    },
    {
      "cell_type": "code",
      "execution_count": 166,
      "metadata": {},
      "outputs": [
        {
          "data": {
            "text/plain": [
              "10"
            ]
          },
          "execution_count": 166,
          "metadata": {},
          "output_type": "execute_result"
        }
      ],
      "source": [
        "number"
      ]
    },
    {
      "cell_type": "code",
      "execution_count": 167,
      "metadata": {},
      "outputs": [],
      "source": [
        "# First time through the for loop\n",
        "number = numbers[0]\n",
        "# Second time through the loop\n",
        "number = numbers[1]\n",
        "# etc..."
      ]
    },
    {
      "cell_type": "code",
      "execution_count": 168,
      "metadata": {},
      "outputs": [
        {
          "data": {
            "text/plain": [
              "3"
            ]
          },
          "execution_count": 168,
          "metadata": {},
          "output_type": "execute_result"
        }
      ],
      "source": [
        "numbers[0]"
      ]
    },
    {
      "cell_type": "code",
      "execution_count": 169,
      "metadata": {},
      "outputs": [
        {
          "data": {
            "text/plain": [
              "4"
            ]
          },
          "execution_count": 169,
          "metadata": {},
          "output_type": "execute_result"
        }
      ],
      "source": [
        "numbers[3]\n"
      ]
    },
    {
      "cell_type": "code",
      "execution_count": 170,
      "metadata": {},
      "outputs": [
        {
          "data": {
            "text/plain": [
              "[{'id': '100001',\n",
              "  'student': 'Ada Lovelace',\n",
              "  'coffee_preference': 'light',\n",
              "  'course': 'web development',\n",
              "  'grades': [70, 91, 82, 71],\n",
              "  'pets': [{'species': 'horse', 'age': 8}]},\n",
              " {'id': '100002',\n",
              "  'student': 'Thomas Bayes',\n",
              "  'coffee_preference': 'medium',\n",
              "  'course': 'data science',\n",
              "  'grades': [75, 73, 86, 100],\n",
              "  'pets': []},\n",
              " {'id': '100003',\n",
              "  'student': 'Marie Curie',\n",
              "  'coffee_preference': 'light',\n",
              "  'course': 'web development',\n",
              "  'grades': [70, 89, 69, 65],\n",
              "  'pets': [{'species': 'cat', 'age': 0}]},\n",
              " {'id': '100004',\n",
              "  'student': 'Grace Hopper',\n",
              "  'coffee_preference': 'dark',\n",
              "  'course': 'data science',\n",
              "  'grades': [73, 66, 83, 92],\n",
              "  'pets': [{'species': 'dog', 'age': 4}, {'species': 'cat', 'age': 4}]},\n",
              " {'id': '100005',\n",
              "  'student': 'Alan Turing',\n",
              "  'coffee_preference': 'dark',\n",
              "  'course': 'web development',\n",
              "  'grades': [78, 98, 85, 65],\n",
              "  'pets': [{'species': 'horse', 'age': 6},\n",
              "   {'species': 'horse', 'age': 7},\n",
              "   {'species': 'dog', 'age': 5}]},\n",
              " {'id': '100006',\n",
              "  'student': 'Rosalind Franklin',\n",
              "  'coffee_preference': 'dark',\n",
              "  'course': 'data science',\n",
              "  'grades': [76, 70, 96, 81],\n",
              "  'pets': []},\n",
              " {'id': '100007',\n",
              "  'student': 'Elizabeth Blackwell',\n",
              "  'coffee_preference': 'dark',\n",
              "  'course': 'web development',\n",
              "  'grades': [69, 94, 89, 86],\n",
              "  'pets': [{'species': 'cat', 'age': 10}]},\n",
              " {'id': '100008',\n",
              "  'student': 'Rene Descartes',\n",
              "  'coffee_preference': 'medium',\n",
              "  'course': 'data science',\n",
              "  'grades': [87, 79, 90, 99],\n",
              "  'pets': [{'species': 'cat', 'age': 10}, {'species': 'cat', 'age': 8}]},\n",
              " {'id': '100009',\n",
              "  'student': 'Ahmed Zewail',\n",
              "  'coffee_preference': 'medium',\n",
              "  'course': 'data science',\n",
              "  'grades': [74, 99, 93, 89],\n",
              "  'pets': [{'species': 'cat', 'age': 0}, {'species': 'cat', 'age': 0}]},\n",
              " {'id': '100010',\n",
              "  'student': 'Chien-Shiung Wu',\n",
              "  'coffee_preference': 'medium',\n",
              "  'course': 'web development',\n",
              "  'grades': [82, 92, 91, 65],\n",
              "  'pets': [{'species': 'cat', 'age': 8}]},\n",
              " {'id': '100011',\n",
              "  'student': 'William Sanford Nye',\n",
              "  'coffee_preference': 'dark',\n",
              "  'course': 'data science',\n",
              "  'grades': [70, 92, 65, 99],\n",
              "  'pets': [{'species': 'cat', 'age': 8}, {'species': 'cat', 'age': 5}]},\n",
              " {'id': '100012',\n",
              "  'student': 'Carl Sagan',\n",
              "  'coffee_preference': 'medium',\n",
              "  'course': 'data science',\n",
              "  'grades': [100, 86, 91, 87],\n",
              "  'pets': [{'species': 'cat', 'age': 10}]},\n",
              " {'id': '100013',\n",
              "  'student': 'Jane Goodall',\n",
              "  'coffee_preference': 'light',\n",
              "  'course': 'web development',\n",
              "  'grades': [80, 70, 68, 98],\n",
              "  'pets': [{'species': 'horse', 'age': 4}]},\n",
              " {'id': '100014',\n",
              "  'student': 'Richard Feynman',\n",
              "  'coffee_preference': 'medium',\n",
              "  'course': 'web development',\n",
              "  'grades': [73, 99, 86, 98],\n",
              "  'pets': [{'species': 'dog', 'age': 6}]}]"
            ]
          },
          "execution_count": 170,
          "metadata": {},
          "output_type": "execute_result"
        }
      ],
      "source": [
        "#Solving Iteration And Looping Problems\n",
        "#1. What's the average of all student grades. -> 82.92857\n",
        "#Loop and List Comprehension\n",
        "students"
      ]
    },
    {
      "cell_type": "code",
      "execution_count": 171,
      "metadata": {},
      "outputs": [
        {
          "data": {
            "text/plain": [
              "{'id': '100001',\n",
              " 'student': 'Ada Lovelace',\n",
              " 'coffee_preference': 'light',\n",
              " 'course': 'web development',\n",
              " 'grades': [70, 91, 82, 71],\n",
              " 'pets': [{'species': 'horse', 'age': 8}]}"
            ]
          },
          "execution_count": 171,
          "metadata": {},
          "output_type": "execute_result"
        }
      ],
      "source": [
        "student = students[0]\n",
        "student"
      ]
    },
    {
      "cell_type": "code",
      "execution_count": 172,
      "metadata": {},
      "outputs": [
        {
          "data": {
            "text/plain": [
              "(314, 4, 78.5)"
            ]
          },
          "execution_count": 172,
          "metadata": {},
          "output_type": "execute_result"
        }
      ],
      "source": [
        "NewGradeList = []\n",
        "for grade in student['grades']:\n",
        "    NewGradeList.append(grade)\n",
        "\n",
        "\n",
        "SumOfGradeNewStudent = sum(NewGradeList)\n",
        "QuantityOfGradeEachStudent = len(NewGradeList)\n",
        "Average = SumOfGradeNewStudent /  QuantityOfGradeEachStudent\n",
        "\n",
        "SumOfGradeNewStudent, QuantityOfGradeEachStudent,  Average"
      ]
    },
    {
      "cell_type": "code",
      "execution_count": 173,
      "metadata": {},
      "outputs": [
        {
          "name": "stdout",
          "output_type": "stream",
          "text": [
            "The average of all student grades 82.92857142857143\n"
          ]
        }
      ],
      "source": [
        "NewListStudentsGrade = []\n",
        "\n",
        "for student in students:\n",
        "    for grade in student['grades']:\n",
        "        NewListStudentsGrade.append(grade)\n",
        "\n",
        "SumEachStudentGrades = sum(NewListStudentsGrade)\n",
        "QuantityOfGrades = len(NewListStudentsGrade)\n",
        "AverageGradesOfEachStudent = SumEachStudentGrades / QuantityOfGrades\n",
        "\n",
        "print(f'The average of all student grades {AverageGradesOfEachStudent}')\n"
      ]
    },
    {
      "cell_type": "code",
      "execution_count": 174,
      "metadata": {},
      "outputs": [
        {
          "data": {
            "text/plain": [
              "[[70, 91, 82, 71],\n",
              " [75, 73, 86, 100],\n",
              " [70, 89, 69, 65],\n",
              " [73, 66, 83, 92],\n",
              " [78, 98, 85, 65],\n",
              " [76, 70, 96, 81],\n",
              " [69, 94, 89, 86],\n",
              " [87, 79, 90, 99],\n",
              " [74, 99, 93, 89],\n",
              " [82, 92, 91, 65],\n",
              " [70, 92, 65, 99],\n",
              " [100, 86, 91, 87],\n",
              " [80, 70, 68, 98],\n",
              " [73, 99, 86, 98]]"
            ]
          },
          "execution_count": 174,
          "metadata": {},
          "output_type": "execute_result"
        }
      ],
      "source": [
        "#List Comprehension\n",
        "GradeOfEachStudent = [student['grades'] for student in students]\n",
        "GradeOfEachStudent\n"
      ]
    },
    {
      "cell_type": "code",
      "execution_count": 175,
      "metadata": {},
      "outputs": [
        {
          "data": {
            "text/plain": [
              "[70,\n",
              " 91,\n",
              " 82,\n",
              " 71,\n",
              " 75,\n",
              " 73,\n",
              " 86,\n",
              " 100,\n",
              " 70,\n",
              " 89,\n",
              " 69,\n",
              " 65,\n",
              " 73,\n",
              " 66,\n",
              " 83,\n",
              " 92,\n",
              " 78,\n",
              " 98,\n",
              " 85,\n",
              " 65,\n",
              " 76,\n",
              " 70,\n",
              " 96,\n",
              " 81,\n",
              " 69,\n",
              " 94,\n",
              " 89,\n",
              " 86,\n",
              " 87,\n",
              " 79,\n",
              " 90,\n",
              " 99,\n",
              " 74,\n",
              " 99,\n",
              " 93,\n",
              " 89,\n",
              " 82,\n",
              " 92,\n",
              " 91,\n",
              " 65,\n",
              " 70,\n",
              " 92,\n",
              " 65,\n",
              " 99,\n",
              " 100,\n",
              " 86,\n",
              " 91,\n",
              " 87,\n",
              " 80,\n",
              " 70,\n",
              " 68,\n",
              " 98,\n",
              " 73,\n",
              " 99,\n",
              " 86,\n",
              " 98]"
            ]
          },
          "execution_count": 175,
          "metadata": {},
          "output_type": "execute_result"
        }
      ],
      "source": [
        "#Flattening  lists of lists\n",
        "from functools import reduce\n",
        "\n",
        "NewGradeOfEachStudent= list(reduce(lambda x, y: x + y, GradeOfEachStudent, []))\n",
        "NewGradeOfEachStudent"
      ]
    },
    {
      "cell_type": "code",
      "execution_count": 176,
      "metadata": {},
      "outputs": [
        {
          "name": "stdout",
          "output_type": "stream",
          "text": [
            "The average of all student grades 82.92857142857143\n"
          ]
        }
      ],
      "source": [
        "SumNewListGradeStudents = sum(NewGradeOfEachStudent)\n",
        "QuantityOfElement = len(NewGradeOfEachStudent)\n",
        "AverageOfAllStudentGrades = SumNewListGradeStudents /  QuantityOfElement\n",
        "\n",
        "print(f'The average of all student grades {AverageOfAllStudentGrades}')\n"
      ]
    },
    {
      "cell_type": "code",
      "execution_count": 177,
      "metadata": {},
      "outputs": [
        {
          "data": {
            "text/plain": [
              "[70,\n",
              " 91,\n",
              " 82,\n",
              " 71,\n",
              " 75,\n",
              " 73,\n",
              " 86,\n",
              " 100,\n",
              " 70,\n",
              " 89,\n",
              " 69,\n",
              " 65,\n",
              " 73,\n",
              " 66,\n",
              " 83,\n",
              " 92,\n",
              " 78,\n",
              " 98,\n",
              " 85,\n",
              " 65,\n",
              " 76,\n",
              " 70,\n",
              " 96,\n",
              " 81,\n",
              " 69,\n",
              " 94,\n",
              " 89,\n",
              " 86,\n",
              " 87,\n",
              " 79,\n",
              " 90,\n",
              " 99,\n",
              " 74,\n",
              " 99,\n",
              " 93,\n",
              " 89,\n",
              " 82,\n",
              " 92,\n",
              " 91,\n",
              " 65,\n",
              " 70,\n",
              " 92,\n",
              " 65,\n",
              " 99,\n",
              " 100,\n",
              " 86,\n",
              " 91,\n",
              " 87,\n",
              " 80,\n",
              " 70,\n",
              " 68,\n",
              " 98,\n",
              " 73,\n",
              " 99,\n",
              " 86,\n",
              " 98]"
            ]
          },
          "execution_count": 177,
          "metadata": {},
          "output_type": "execute_result"
        }
      ],
      "source": [
        "#Flattening  lists of lists\n",
        "\n",
        "FlatteningGradeOfEachStudent = sum(GradeOfEachStudent, [])\n",
        "FlatteningGradeOfEachStudent"
      ]
    },
    {
      "cell_type": "code",
      "execution_count": 178,
      "metadata": {},
      "outputs": [
        {
          "data": {
            "text/plain": [
              "{'id': '100004',\n",
              " 'student': 'Grace Hopper',\n",
              " 'coffee_preference': 'dark',\n",
              " 'course': 'data science',\n",
              " 'grades': [73, 66, 83, 92],\n",
              " 'pets': [{'species': 'dog', 'age': 4}, {'species': 'cat', 'age': 4}]}"
            ]
          },
          "execution_count": 178,
          "metadata": {},
          "output_type": "execute_result"
        }
      ],
      "source": [
        "#2. Count the number of pets from data science students in the above data -> 9\n",
        "#Loop and List Comprehension\n",
        "student = students[3]   \n",
        "student   "
      ]
    },
    {
      "cell_type": "code",
      "execution_count": 179,
      "metadata": {},
      "outputs": [
        {
          "data": {
            "text/plain": [
              "2"
            ]
          },
          "execution_count": 179,
          "metadata": {},
          "output_type": "execute_result"
        }
      ],
      "source": [
        "len(student['pets'])  "
      ]
    },
    {
      "cell_type": "code",
      "execution_count": 180,
      "metadata": {},
      "outputs": [
        {
          "data": {
            "text/plain": [
              "9"
            ]
          },
          "execution_count": 180,
          "metadata": {},
          "output_type": "execute_result"
        }
      ],
      "source": [
        "QuantityOfPetsStudentDS = []\n",
        "\n",
        "for student in students:\n",
        "    if student['course'] == 'data science':\n",
        "        QuantityOfPets = len(student['pets'])\n",
        "        QuantityOfPetsStudentDS.append(QuantityOfPets)\n",
        "        \n",
        "sum(QuantityOfPetsStudentDS)    "
      ]
    },
    {
      "cell_type": "code",
      "execution_count": 181,
      "metadata": {},
      "outputs": [
        {
          "data": {
            "text/plain": [
              "9"
            ]
          },
          "execution_count": 181,
          "metadata": {},
          "output_type": "execute_result"
        }
      ],
      "source": [
        "QuantityOfPetsStudentDS2 = 0\n",
        "\n",
        "for student in students:\n",
        "    if student['course'] == 'data science':\n",
        "        QuantityOfPetsStudentDS2 += len(student['pets'])\n",
        "        \n",
        "QuantityOfPetsStudentDS2        "
      ]
    },
    {
      "cell_type": "code",
      "execution_count": 182,
      "metadata": {},
      "outputs": [
        {
          "data": {
            "text/plain": [
              "[0, 2, 0, 2, 2, 2, 1]"
            ]
          },
          "execution_count": 182,
          "metadata": {},
          "output_type": "execute_result"
        }
      ],
      "source": [
        "QuantityOfPetsDSStudent3 = [len(student['pets']) for student in students if student['course'] == 'data science']\n",
        "QuantityOfPetsDSStudent3"
      ]
    },
    {
      "cell_type": "code",
      "execution_count": 183,
      "metadata": {},
      "outputs": [
        {
          "data": {
            "text/plain": [
              "9"
            ]
          },
          "execution_count": 183,
          "metadata": {},
          "output_type": "execute_result"
        }
      ],
      "source": [
        "SumOfPetsStudentDSS = sum(QuantityOfPetsDSStudent3)\n",
        "SumOfPetsStudentDSS"
      ]
    },
    {
      "cell_type": "code",
      "execution_count": 184,
      "metadata": {},
      "outputs": [],
      "source": [
        "#Breaking Problems Down, Building Solutions Up\n",
        "#1. What is the average grade for students with 0 pets? ->  82.125, sum -> 657, number of student without pets 8\n",
        "#Loop and List Comprehension\n"
      ]
    },
    {
      "cell_type": "code",
      "execution_count": 185,
      "metadata": {},
      "outputs": [
        {
          "data": {
            "text/plain": [
              "{'id': '100003',\n",
              " 'student': 'Marie Curie',\n",
              " 'coffee_preference': 'light',\n",
              " 'course': 'web development',\n",
              " 'grades': [70, 89, 69, 65],\n",
              " 'pets': [{'species': 'cat', 'age': 0}]}"
            ]
          },
          "execution_count": 185,
          "metadata": {},
          "output_type": "execute_result"
        }
      ],
      "source": [
        "student = students[2]\n",
        "student\n"
      ]
    },
    {
      "cell_type": "code",
      "execution_count": 186,
      "metadata": {},
      "outputs": [
        {
          "data": {
            "text/plain": [
              "293"
            ]
          },
          "execution_count": 186,
          "metadata": {},
          "output_type": "execute_result"
        }
      ],
      "source": [
        "sum(student['grades'])"
      ]
    },
    {
      "cell_type": "code",
      "execution_count": 187,
      "metadata": {},
      "outputs": [
        {
          "data": {
            "text/plain": [
              "4"
            ]
          },
          "execution_count": 187,
          "metadata": {},
          "output_type": "execute_result"
        }
      ],
      "source": [
        "len(student['grades'])"
      ]
    },
    {
      "cell_type": "code",
      "execution_count": 188,
      "metadata": {},
      "outputs": [
        {
          "data": {
            "text/plain": [
              "1"
            ]
          },
          "execution_count": 188,
          "metadata": {},
          "output_type": "execute_result"
        }
      ],
      "source": [
        "len(student['pets'])"
      ]
    },
    {
      "cell_type": "code",
      "execution_count": 189,
      "metadata": {},
      "outputs": [
        {
          "name": "stdout",
          "output_type": "stream",
          "text": [
            "Sum Of Grades for all students 4644\n",
            "Quantity of Grades for all students 56\n",
            "Average of Grades for all students 82.92857142857143\n"
          ]
        }
      ],
      "source": [
        "SumOfGrades = 0\n",
        "QuantityOfGrades = 0\n",
        "\n",
        "for student in students:\n",
        "    SumOfGrades += sum(student['grades'])\n",
        "    QuantityOfGrades += len(student['grades'])\n",
        "    Average = SumOfGrades / QuantityOfGrades\n",
        "    \n",
        "print(f'Sum Of Grades for all students {SumOfGrades}')\n",
        "print(f'Quantity of Grades for all students {QuantityOfGrades}')\n",
        "print(f'Average of Grades for all students {Average}')"
      ]
    },
    {
      "cell_type": "code",
      "execution_count": 190,
      "metadata": {},
      "outputs": [
        {
          "name": "stdout",
          "output_type": "stream",
          "text": [
            "Sum Of Grades for all students 4644\n",
            "Quantity of Grades for all students 56\n",
            "Average of Grades for all students 82.92857142857143\n"
          ]
        }
      ],
      "source": [
        "def AverageGrade(students):\n",
        "    SumOfGrades = 0\n",
        "    QuantityOfGrades = 0\n",
        "    for student in students:\n",
        "        SumOfGrades += sum(student['grades'])\n",
        "        QuantityOfGrades += len(student['grades'])\n",
        "        Average = SumOfGrades / QuantityOfGrades\n",
        "    #return Average    \n",
        "    a = print(f'Sum Of Grades for all students {SumOfGrades}')\n",
        "    b = print(f'Quantity of Grades for all students {QuantityOfGrades}')\n",
        "    c = print(f'Average of Grades for all students {Average}')\n",
        "    \n",
        "     \n",
        "AverageGrade(students)"
      ]
    },
    {
      "cell_type": "code",
      "execution_count": 191,
      "metadata": {},
      "outputs": [
        {
          "name": "stdout",
          "output_type": "stream",
          "text": [
            "Sum Of Grades for all students 657\n",
            "Quantity of Grades for all students 8\n",
            "Average of Grades for all students 82.125\n"
          ]
        }
      ],
      "source": [
        "TotalGrades = 0\n",
        "QuantityGrades = 0\n",
        "\n",
        "for student in students:\n",
        "    if len(student['pets']) == 0:\n",
        "        TotalGrades += sum(student['grades'])\n",
        "        QuantityGrades += len(student['grades'])\n",
        "        AverageGrade = TotalGrades /  QuantityGrades\n",
        "        \n",
        "\n",
        "print(f'Sum Of Grades for all students {TotalGrades}')\n",
        "print(f'Quantity of Grades for all students {QuantityGrades}')\n",
        "print(f'Average of Grades for all students {AverageGrade}')\n"
      ]
    },
    {
      "cell_type": "code",
      "execution_count": 192,
      "metadata": {},
      "outputs": [],
      "source": [
        "#List Comprehension\n",
        "GradesForAllStudentsWithoutPets = [student['grades'] for student in students if len(student['pets']) == 0]\n"
      ]
    },
    {
      "cell_type": "code",
      "execution_count": 193,
      "metadata": {},
      "outputs": [
        {
          "name": "stdout",
          "output_type": "stream",
          "text": [
            "Sum Of Grades for all students without pets 657\n",
            "Quantity of Grades for all students without pets 8\n",
            "Average of Grades for all students without pets 82.125\n"
          ]
        }
      ],
      "source": [
        "NewListGradesForAllStudentsWithoutPets = sum(GradesForAllStudentsWithoutPets, [])\n",
        "\n",
        "SumOfGradesForAllStudentsWithoutPets = sum(NewListGradesForAllStudentsWithoutPets)\n",
        "QuantityOfGradesForAllStudentsWithoutPets = len(NewListGradesForAllStudentsWithoutPets)\n",
        "AverageGradesForAllStudentsWithoutPets =  SumOfGradesForAllStudentsWithoutPets / QuantityOfGradesForAllStudentsWithoutPets\n",
        "\n",
        "print(f'Sum Of Grades for all students without pets {SumOfGradesForAllStudentsWithoutPets}')\n",
        "print(f'Quantity of Grades for all students without pets {QuantityOfGradesForAllStudentsWithoutPets}')\n",
        "print(f'Average of Grades for all students without pets {AverageGradesForAllStudentsWithoutPets}')"
      ]
    },
    {
      "cell_type": "code",
      "execution_count": 194,
      "metadata": {},
      "outputs": [],
      "source": [
        "#Write a loop that adds one to every number in the list of numbers"
      ]
    },
    {
      "cell_type": "code",
      "execution_count": 195,
      "metadata": {},
      "outputs": [
        {
          "data": {
            "text/plain": [
              "6"
            ]
          },
          "execution_count": 195,
          "metadata": {},
          "output_type": "execute_result"
        }
      ],
      "source": [
        "numbers = [5, 6, 7, 8, 9, 10]\n",
        "number = numbers[0] + 1\n",
        "number"
      ]
    },
    {
      "cell_type": "code",
      "execution_count": 196,
      "metadata": {},
      "outputs": [
        {
          "data": {
            "text/plain": [
              "[6, 7, 8, 9, 10, 11]"
            ]
          },
          "execution_count": 196,
          "metadata": {},
          "output_type": "execute_result"
        }
      ],
      "source": [
        "AddedNumbers = []\n",
        "\n",
        "for number in numbers:\n",
        "    number = number + 1\n",
        "    AddedNumbers.append(number)\n",
        "AddedNumbers"
      ]
    },
    {
      "cell_type": "code",
      "execution_count": 197,
      "metadata": {},
      "outputs": [
        {
          "data": {
            "text/plain": [
              "[6, 7, 8, 9, 10, 11]"
            ]
          },
          "execution_count": 197,
          "metadata": {},
          "output_type": "execute_result"
        }
      ],
      "source": [
        "AddedNumbers = [number + 1 for number in numbers]\n",
        "AddedNumbers"
      ]
    },
    {
      "cell_type": "markdown",
      "metadata": {
        "id": "Mj-H9sY_ifTH"
      },
      "source": [
        "Created by [Ryan Orsinger](https://ryanorsinger.com)\n",
        "\n",
        "Source code on [https://github.com/ryanorsinger/101-exercises](https://github.com/ryanorsinger/101-exercises)"
      ]
    },
    {
      "cell_type": "markdown",
      "metadata": {},
      "source": [
        "# For Loop"
      ]
    },
    {
      "cell_type": "markdown",
      "metadata": {},
      "source": [
        "#### For Loop - It executes a block of code repeatedly"
      ]
    },
    {
      "cell_type": "code",
      "execution_count": 198,
      "metadata": {},
      "outputs": [
        {
          "name": "stdout",
          "output_type": "stream",
          "text": [
            "Thank you\n",
            "Thank you\n",
            "Thank you\n",
            "Thank you\n",
            "Thank you\n"
          ]
        }
      ],
      "source": [
        "for number in range(5):\n",
        "    print(\"Thank you\")"
      ]
    },
    {
      "cell_type": "code",
      "execution_count": 199,
      "metadata": {},
      "outputs": [
        {
          "name": "stdout",
          "output_type": "stream",
          "text": [
            "0\n",
            "1\n",
            "2\n"
          ]
        }
      ],
      "source": [
        "for x in [0,1,2]:\n",
        "    print(x)"
      ]
    },
    {
      "cell_type": "code",
      "execution_count": 260,
      "metadata": {},
      "outputs": [
        {
          "name": "stdout",
          "output_type": "stream",
          "text": [
            "APPL\n",
            "CSVO\n",
            "ORCL\n"
          ]
        }
      ],
      "source": [
        "symbols = {'12123312123': 'APPL',\n",
        "           '765757567756':'CSVO',\n",
        "           '598918919':'ORCL'}\n",
        "\n",
        "for k in symbols:\n",
        "    print(symbols[k])"
      ]
    },
    {
      "cell_type": "code",
      "execution_count": 261,
      "metadata": {},
      "outputs": [
        {
          "name": "stdout",
          "output_type": "stream",
          "text": [
            "12123312123 APPL\n",
            "765757567756 CSVO\n",
            "598918919 ORCL\n"
          ]
        }
      ],
      "source": [
        "for key, value in symbols.items():\n",
        "    print(key, value)"
      ]
    },
    {
      "cell_type": "code",
      "execution_count": 201,
      "metadata": {},
      "outputs": [
        {
          "name": "stdout",
          "output_type": "stream",
          "text": [
            "O\n",
            "R\n",
            "A\n",
            "C\n",
            "L\n",
            "E\n"
          ]
        }
      ],
      "source": [
        "for x in 'ORACLE':\n",
        "    print(x)"
      ]
    },
    {
      "cell_type": "code",
      "execution_count": 202,
      "metadata": {},
      "outputs": [],
      "source": [
        "languages = ['R', 'Python', 'Scala', 'Java',' Julia']"
      ]
    },
    {
      "cell_type": "code",
      "execution_count": 203,
      "metadata": {},
      "outputs": [
        {
          "name": "stdout",
          "output_type": "stream",
          "text": [
            "Current language: R\n",
            "Current language: Python\n",
            "Current language: Scala\n",
            "Current language: Java\n",
            "Current language:  Julia\n"
          ]
        }
      ],
      "source": [
        "for index in range(len(languages)):\n",
        "    print(\"Current language:\", languages[index])"
      ]
    },
    {
      "cell_type": "code",
      "execution_count": 204,
      "metadata": {},
      "outputs": [
        {
          "name": "stdout",
          "output_type": "stream",
          "text": [
            "Current language R\n",
            "Current language Python\n",
            "Current language Scala\n",
            "Current language Java\n",
            "Current language  Julia\n"
          ]
        }
      ],
      "source": [
        "for index in range(5):\n",
        "    print(\"Current language\", languages[index])"
      ]
    },
    {
      "cell_type": "code",
      "execution_count": 205,
      "metadata": {},
      "outputs": [
        {
          "name": "stdout",
          "output_type": "stream",
          "text": [
            "Thank you\n",
            "Thank you\n",
            "Thank you\n"
          ]
        }
      ],
      "source": [
        "#Printing Thank you a 3 times\n",
        "\n",
        "for number in range(3):\n",
        "    print(\"Thank you\")"
      ]
    },
    {
      "cell_type": "code",
      "execution_count": 263,
      "metadata": {},
      "outputs": [
        {
          "name": "stdout",
          "output_type": "stream",
          "text": [
            "0\n",
            "1\n",
            "2\n",
            "3\n",
            "4\n",
            "5\n"
          ]
        }
      ],
      "source": [
        "# it stops the iteration if we encounter 5\n",
        "for i in range(10):\n",
        "    print(i)\n",
        "    if i == 5:\n",
        "        break"
      ]
    },
    {
      "cell_type": "code",
      "execution_count": 264,
      "metadata": {},
      "outputs": [
        {
          "name": "stdout",
          "output_type": "stream",
          "text": [
            "1\n",
            "3\n",
            "5\n",
            "7\n",
            "9\n",
            "11\n",
            "13\n",
            "15\n",
            "17\n",
            "19\n"
          ]
        }
      ],
      "source": [
        "for i in range(20):\n",
        "    if i % 2 == 0:\n",
        "        continue\n",
        "    print(i)"
      ]
    },
    {
      "cell_type": "code",
      "execution_count": 206,
      "metadata": {},
      "outputs": [
        {
          "name": "stdout",
          "output_type": "stream",
          "text": [
            "0\n",
            "1\n",
            "3\n"
          ]
        }
      ],
      "source": [
        "# we ignore value for example 2\n",
        "for x in [0,1,2,3]:\n",
        "    if x == 2:\n",
        "        continue\n",
        "    print(x)"
      ]
    },
    {
      "cell_type": "code",
      "execution_count": 3,
      "metadata": {},
      "outputs": [
        {
          "name": "stdout",
          "output_type": "stream",
          "text": [
            "1\n",
            "2\n",
            "Found\n"
          ]
        }
      ],
      "source": [
        "nums = [1, 2, 3, 4, 5]\n",
        "\n",
        "for num in nums:\n",
        "    if num == 3:\n",
        "        print('Found')\n",
        "        break\n",
        "    print(num)"
      ]
    },
    {
      "cell_type": "code",
      "execution_count": 4,
      "metadata": {},
      "outputs": [
        {
          "name": "stdout",
          "output_type": "stream",
          "text": [
            "1\n",
            "2\n",
            "Skip 3\n",
            "4\n",
            "5\n"
          ]
        }
      ],
      "source": [
        "nums = [1, 2, 3, 4, 5]\n",
        "\n",
        "for num in nums:\n",
        "    if num == 3:\n",
        "        print('Skip 3')\n",
        "        continue\n",
        "    print(num)"
      ]
    },
    {
      "cell_type": "markdown",
      "metadata": {},
      "source": [
        "#### Nested loops"
      ]
    },
    {
      "cell_type": "code",
      "execution_count": 207,
      "metadata": {},
      "outputs": [
        {
          "name": "stdout",
          "output_type": "stream",
          "text": [
            "---------------------------------------------\n",
            "I am outer loop iteration 0\n",
            "*************************\n",
            "I am inner loop iteration 0\n",
            "*************************\n",
            "I am inner loop iteration 1\n",
            "*************************\n",
            "I am inner loop iteration 2\n",
            "*************************\n",
            "I am inner loop iteration 3\n",
            "*************************\n",
            "I am inner loop iteration 4\n",
            "---------------------------------------------\n",
            "I am outer loop iteration 1\n",
            "*************************\n",
            "I am inner loop iteration 0\n",
            "*************************\n",
            "I am inner loop iteration 1\n",
            "*************************\n",
            "I am inner loop iteration 2\n",
            "*************************\n",
            "I am inner loop iteration 3\n",
            "*************************\n",
            "I am inner loop iteration 4\n",
            "---------------------------------------------\n",
            "I am outer loop iteration 2\n",
            "*************************\n",
            "I am inner loop iteration 0\n",
            "*************************\n",
            "I am inner loop iteration 1\n",
            "*************************\n",
            "I am inner loop iteration 2\n",
            "*************************\n",
            "I am inner loop iteration 3\n",
            "*************************\n",
            "I am inner loop iteration 4\n"
          ]
        }
      ],
      "source": [
        "for number in range(3):\n",
        "    print(\"---------------------------------------------\")\n",
        "    print(\"I am outer loop iteration \"+str(number))\n",
        "    #inner loop\n",
        "    for another_number in range(5):\n",
        "        print(\"*************************\")\n",
        "        print(\"I am inner loop iteration \"+str(another_number))"
      ]
    },
    {
      "cell_type": "code",
      "execution_count": 208,
      "metadata": {},
      "outputs": [
        {
          "name": "stdout",
          "output_type": "stream",
          "text": [
            "*\n",
            "* *\n",
            "* * *\n",
            "* * * *\n",
            "* * * * *\n",
            "* * * * * *\n",
            "* * * * * * *\n",
            "* * * * * *\n",
            "* * * * *\n",
            "* * * *\n",
            "* * *\n",
            "* "
          ]
        }
      ],
      "source": [
        "for i in range(5):\n",
        "    print('*')\n",
        "    for j in range(i + 1):\n",
        "        print(\"*\",end=' ')\n",
        "\n",
        "for i in range(5,-1,-1):\n",
        "    print('*')\n",
        "    for j in range(i + 1):\n",
        "        print(\"*\",end=' ')\n",
        "       \n"
      ]
    },
    {
      "cell_type": "code",
      "execution_count": 209,
      "metadata": {},
      "outputs": [
        {
          "name": "stdout",
          "output_type": "stream",
          "text": [
            "outer 0\n",
            "outer 1\n"
          ]
        }
      ],
      "source": [
        "for i in range(2):\n",
        "    print('outer',i)"
      ]
    },
    {
      "cell_type": "code",
      "execution_count": 210,
      "metadata": {},
      "outputs": [
        {
          "name": "stdout",
          "output_type": "stream",
          "text": [
            "outer 0\n",
            "inner 0\n",
            "outer 1\n",
            "inner 0\n",
            "inner 1\n",
            "outer 2\n",
            "inner 0\n",
            "inner 1\n",
            "inner 2\n",
            "outer 3\n",
            "inner 0\n",
            "inner 1\n",
            "inner 2\n",
            "inner 3\n"
          ]
        }
      ],
      "source": [
        "for i in range(4):\n",
        "    print('outer',i)\n",
        "    for j in range(i + 1):\n",
        "        print('inner',j)"
      ]
    },
    {
      "cell_type": "code",
      "execution_count": 211,
      "metadata": {},
      "outputs": [
        {
          "name": "stdout",
          "output_type": "stream",
          "text": [
            "outer 0\n",
            "inner 0 outer 1\n",
            "inner 0 inner 1 outer 2\n",
            "inner 0 inner 1 inner 2 outer 3\n",
            "inner 0 inner 1 inner 2 inner 3 "
          ]
        }
      ],
      "source": [
        "for i in range(4):\n",
        "    print('outer',i)\n",
        "    for j in range(i + 1):\n",
        "        print('inner',j, end=\" \")"
      ]
    },
    {
      "cell_type": "code",
      "execution_count": 212,
      "metadata": {},
      "outputs": [
        {
          "name": "stdout",
          "output_type": "stream",
          "text": [
            "outer 4\n",
            "inner 0 inner 1 inner 2 inner 3 inner 4 outer 3\n",
            "inner 0 inner 1 inner 2 inner 3 outer 2\n",
            "inner 0 inner 1 inner 2 outer 1\n",
            "inner 0 inner 1 outer 0\n",
            "inner 0 "
          ]
        }
      ],
      "source": [
        "for i in range(4,-1,-1):\n",
        "    print('outer',i)\n",
        "    for j in range(i + 1):\n",
        "        print('inner',j, end=\" \")"
      ]
    },
    {
      "cell_type": "code",
      "execution_count": 213,
      "metadata": {},
      "outputs": [
        {
          "name": "stdout",
          "output_type": "stream",
          "text": [
            "*\n",
            "* *\n",
            "* * *\n",
            "* * * *\n",
            "* * * * *\n",
            "* * * * * "
          ]
        }
      ],
      "source": [
        "for i in range(5):\n",
        "    print(\"*\")\n",
        "    for j in range(i+1):\n",
        "        print(\"*\", end=\" \")"
      ]
    },
    {
      "cell_type": "code",
      "execution_count": 214,
      "metadata": {},
      "outputs": [
        {
          "name": "stdout",
          "output_type": "stream",
          "text": [
            "*\n",
            "* * * * * * *\n",
            "* * * * * *\n",
            "* * * * *\n",
            "* * * *\n",
            "* * *\n",
            "* "
          ]
        }
      ],
      "source": [
        "for i in range(5,-1,-1):\n",
        "    print(\"*\")\n",
        "    for j in range(i + 1):\n",
        "        print(\"*\", end=\" \")"
      ]
    },
    {
      "cell_type": "code",
      "execution_count": 265,
      "metadata": {},
      "outputs": [
        {
          "name": "stdout",
          "output_type": "stream",
          "text": [
            "0 0\n",
            "0 1\n",
            "0 2\n",
            "1 0\n",
            "1 1\n",
            "1 2\n",
            "2 0\n",
            "2 1\n",
            "2 2\n"
          ]
        }
      ],
      "source": [
        "for i in range(3):\n",
        "    for j in range(3):\n",
        "        print(i, j )"
      ]
    },
    {
      "cell_type": "code",
      "execution_count": 267,
      "metadata": {},
      "outputs": [
        {
          "name": "stdout",
          "output_type": "stream",
          "text": [
            "0 a\n",
            "1 b\n",
            "2 c\n"
          ]
        }
      ],
      "source": [
        "for index, value in enumerate(['a', 'b', 'c']):\n",
        "    print(index, value)"
      ]
    },
    {
      "cell_type": "code",
      "execution_count": 6,
      "metadata": {},
      "outputs": [
        {
          "name": "stdout",
          "output_type": "stream",
          "text": [
            "1 a\n",
            "1 b\n",
            "1 c\n",
            "2 a\n",
            "2 b\n",
            "2 c\n",
            "3 a\n",
            "3 b\n",
            "3 c\n",
            "4 a\n",
            "4 b\n",
            "4 c\n",
            "5 a\n",
            "5 b\n",
            "5 c\n"
          ]
        }
      ],
      "source": [
        "nums = [1, 2, 3, 4, 5]\n",
        "\n",
        "for num in nums:\n",
        "    for letter in 'abc':\n",
        "        print(num, letter) #for each number it will loop through every character in this string 'abc' \n",
        "                            #and print out the number and character, then move on to the next number and do it over again"
      ]
    },
    {
      "cell_type": "markdown",
      "metadata": {},
      "source": [
        "### Loop"
      ]
    },
    {
      "cell_type": "code",
      "execution_count": 215,
      "metadata": {},
      "outputs": [
        {
          "name": "stdout",
          "output_type": "stream",
          "text": [
            "1\n",
            "2\n",
            "3\n",
            "4\n",
            "5\n",
            "6\n",
            "7\n",
            "8\n",
            "9\n",
            "10\n"
          ]
        }
      ],
      "source": [
        "for i in range(10):\n",
        "    print(i+1)"
      ]
    },
    {
      "cell_type": "code",
      "execution_count": 216,
      "metadata": {},
      "outputs": [
        {
          "name": "stdout",
          "output_type": "stream",
          "text": [
            "a\n",
            "a\n",
            "a\n"
          ]
        }
      ],
      "source": [
        "for i in 'Datacamp':\n",
        "    if i == 'a':\n",
        "        print(i)"
      ]
    },
    {
      "cell_type": "code",
      "execution_count": 217,
      "metadata": {},
      "outputs": [],
      "source": [
        "sequence = [1,2,8,100,200,'datacamp','tutorial']"
      ]
    },
    {
      "cell_type": "code",
      "execution_count": 218,
      "metadata": {},
      "outputs": [
        {
          "name": "stdout",
          "output_type": "stream",
          "text": [
            "1\n",
            "2\n",
            "8\n",
            "100\n",
            "200\n",
            "datacamp\n",
            "tutorial\n"
          ]
        }
      ],
      "source": [
        "for i in sequence:\n",
        "    print(i)"
      ]
    },
    {
      "cell_type": "code",
      "execution_count": 219,
      "metadata": {},
      "outputs": [
        {
          "data": {
            "text/plain": [
              "7"
            ]
          },
          "execution_count": 219,
          "metadata": {},
          "output_type": "execute_result"
        }
      ],
      "source": [
        "len(sequence)\n"
      ]
    },
    {
      "cell_type": "code",
      "execution_count": 220,
      "metadata": {},
      "outputs": [
        {
          "data": {
            "text/plain": [
              "'datacamp'"
            ]
          },
          "execution_count": 220,
          "metadata": {},
          "output_type": "execute_result"
        }
      ],
      "source": [
        "sequence[5]"
      ]
    },
    {
      "cell_type": "code",
      "execution_count": 221,
      "metadata": {},
      "outputs": [
        {
          "name": "stdout",
          "output_type": "stream",
          "text": [
            "1\n",
            "2\n",
            "8\n",
            "100\n",
            "200\n",
            "datacamp\n",
            "tutorial\n"
          ]
        }
      ],
      "source": [
        "for i in range(len(sequence)):\n",
        "    print(sequence[i])"
      ]
    },
    {
      "cell_type": "code",
      "execution_count": 222,
      "metadata": {},
      "outputs": [],
      "source": [
        "for i in range(len(sequence)):\n",
        "    element = sequence[i]\n",
        "    if type(element) == int:\n",
        "        sequence[i] = element  + 1"
      ]
    },
    {
      "cell_type": "code",
      "execution_count": 223,
      "metadata": {},
      "outputs": [
        {
          "data": {
            "text/plain": [
              "[2, 3, 9, 101, 201, 'datacamp', 'tutorial']"
            ]
          },
          "execution_count": 223,
          "metadata": {},
          "output_type": "execute_result"
        }
      ],
      "source": [
        "sequence"
      ]
    },
    {
      "cell_type": "code",
      "execution_count": 224,
      "metadata": {},
      "outputs": [
        {
          "name": "stdout",
          "output_type": "stream",
          "text": [
            "1\n",
            "3\n",
            "5\n",
            "7\n",
            "9\n",
            "11\n",
            "13\n",
            "15\n",
            "17\n",
            "19\n"
          ]
        }
      ],
      "source": [
        "for i in range(1,20,2):\n",
        "    print(i)"
      ]
    },
    {
      "cell_type": "code",
      "execution_count": 225,
      "metadata": {},
      "outputs": [
        {
          "name": "stdout",
          "output_type": "stream",
          "text": [
            "\n",
            "1 \n",
            "2 2 \n",
            "3 3 3 \n",
            "4 4 4 4 \n",
            "5 5 5 5 5 \n",
            "6 6 6 6 6 6 \n",
            "7 7 7 7 7 7 7 \n",
            "8 8 8 8 8 8 8 8 \n",
            "9 9 9 9 9 9 9 9 9 \n",
            "10 10 10 10 10 10 10 10 10 10 \n"
          ]
        }
      ],
      "source": [
        "for i in range(11):\n",
        "    for j in range(i):\n",
        "        print(i, end= ' ')\n",
        "    print()"
      ]
    },
    {
      "cell_type": "code",
      "execution_count": 226,
      "metadata": {},
      "outputs": [],
      "source": [
        "import pandas as pd\n",
        "iris = pd.read_csv('https://raw.githubusercontent.com/mwaskom/seaborn-data/master/iris.csv')\n"
      ]
    },
    {
      "cell_type": "code",
      "execution_count": 227,
      "metadata": {},
      "outputs": [
        {
          "data": {
            "text/html": [
              "<div>\n",
              "<style scoped>\n",
              "    .dataframe tbody tr th:only-of-type {\n",
              "        vertical-align: middle;\n",
              "    }\n",
              "\n",
              "    .dataframe tbody tr th {\n",
              "        vertical-align: top;\n",
              "    }\n",
              "\n",
              "    .dataframe thead th {\n",
              "        text-align: right;\n",
              "    }\n",
              "</style>\n",
              "<table border=\"1\" class=\"dataframe\">\n",
              "  <thead>\n",
              "    <tr style=\"text-align: right;\">\n",
              "      <th></th>\n",
              "      <th>sepal_length</th>\n",
              "      <th>sepal_width</th>\n",
              "      <th>petal_length</th>\n",
              "      <th>petal_width</th>\n",
              "      <th>species</th>\n",
              "    </tr>\n",
              "  </thead>\n",
              "  <tbody>\n",
              "    <tr>\n",
              "      <th>0</th>\n",
              "      <td>5.1</td>\n",
              "      <td>3.5</td>\n",
              "      <td>1.4</td>\n",
              "      <td>0.2</td>\n",
              "      <td>setosa</td>\n",
              "    </tr>\n",
              "    <tr>\n",
              "      <th>1</th>\n",
              "      <td>4.9</td>\n",
              "      <td>3.0</td>\n",
              "      <td>1.4</td>\n",
              "      <td>0.2</td>\n",
              "      <td>setosa</td>\n",
              "    </tr>\n",
              "    <tr>\n",
              "      <th>2</th>\n",
              "      <td>4.7</td>\n",
              "      <td>3.2</td>\n",
              "      <td>1.3</td>\n",
              "      <td>0.2</td>\n",
              "      <td>setosa</td>\n",
              "    </tr>\n",
              "    <tr>\n",
              "      <th>3</th>\n",
              "      <td>4.6</td>\n",
              "      <td>3.1</td>\n",
              "      <td>1.5</td>\n",
              "      <td>0.2</td>\n",
              "      <td>setosa</td>\n",
              "    </tr>\n",
              "    <tr>\n",
              "      <th>4</th>\n",
              "      <td>5.0</td>\n",
              "      <td>3.6</td>\n",
              "      <td>1.4</td>\n",
              "      <td>0.2</td>\n",
              "      <td>setosa</td>\n",
              "    </tr>\n",
              "  </tbody>\n",
              "</table>\n",
              "</div>"
            ],
            "text/plain": [
              "   sepal_length  sepal_width  petal_length  petal_width species\n",
              "0           5.1          3.5           1.4          0.2  setosa\n",
              "1           4.9          3.0           1.4          0.2  setosa\n",
              "2           4.7          3.2           1.3          0.2  setosa\n",
              "3           4.6          3.1           1.5          0.2  setosa\n",
              "4           5.0          3.6           1.4          0.2  setosa"
            ]
          },
          "execution_count": 227,
          "metadata": {},
          "output_type": "execute_result"
        }
      ],
      "source": [
        "iris.head()"
      ]
    },
    {
      "cell_type": "code",
      "execution_count": 228,
      "metadata": {},
      "outputs": [
        {
          "data": {
            "text/plain": [
              "150"
            ]
          },
          "execution_count": 228,
          "metadata": {},
          "output_type": "execute_result"
        }
      ],
      "source": [
        "len(iris) # rows"
      ]
    },
    {
      "cell_type": "code",
      "execution_count": 229,
      "metadata": {},
      "outputs": [
        {
          "data": {
            "text/plain": [
              "np.float64(1.4)"
            ]
          },
          "execution_count": 229,
          "metadata": {},
          "output_type": "execute_result"
        }
      ],
      "source": [
        "iris.iloc[1,2]"
      ]
    },
    {
      "cell_type": "code",
      "execution_count": 230,
      "metadata": {},
      "outputs": [
        {
          "data": {
            "text/plain": [
              "'virginica'"
            ]
          },
          "execution_count": 230,
          "metadata": {},
          "output_type": "execute_result"
        }
      ],
      "source": [
        "iris.iloc[111,4] # we are on the 'species' column"
      ]
    },
    {
      "cell_type": "code",
      "execution_count": 231,
      "metadata": {},
      "outputs": [
        {
          "name": "stdout",
          "output_type": "stream",
          "text": [
            "versicolor\n",
            "versicolor\n",
            "versicolor\n",
            "versicolor\n",
            "versicolor\n",
            "versicolor\n",
            "versicolor\n",
            "versicolor\n",
            "versicolor\n",
            "versicolor\n",
            "versicolor\n",
            "versicolor\n",
            "versicolor\n",
            "versicolor\n",
            "versicolor\n",
            "versicolor\n",
            "versicolor\n",
            "versicolor\n",
            "versicolor\n",
            "versicolor\n"
          ]
        }
      ],
      "source": [
        "for i in range(len(iris)):\n",
        "    Class = iris.iloc[i,4]\n",
        "    if Class == 'versicolor' and i < 70:\n",
        "        print(Class)"
      ]
    },
    {
      "cell_type": "code",
      "execution_count": 232,
      "metadata": {},
      "outputs": [
        {
          "name": "stdout",
          "output_type": "stream",
          "text": [
            "setosa\n",
            "setosa\n",
            "setosa\n",
            "setosa\n",
            "setosa\n",
            "setosa\n",
            "setosa\n",
            "setosa\n",
            "setosa\n",
            "setosa\n",
            "setosa\n",
            "setosa\n",
            "setosa\n",
            "setosa\n",
            "setosa\n",
            "setosa\n",
            "setosa\n",
            "setosa\n",
            "setosa\n",
            "setosa\n",
            "setosa\n",
            "setosa\n",
            "setosa\n",
            "setosa\n",
            "setosa\n",
            "setosa\n",
            "setosa\n",
            "setosa\n",
            "setosa\n",
            "setosa\n",
            "setosa\n",
            "setosa\n",
            "setosa\n",
            "setosa\n",
            "setosa\n",
            "setosa\n",
            "setosa\n",
            "setosa\n",
            "setosa\n",
            "setosa\n",
            "setosa\n",
            "setosa\n",
            "setosa\n",
            "setosa\n",
            "setosa\n",
            "setosa\n",
            "setosa\n",
            "setosa\n",
            "setosa\n",
            "setosa\n",
            "versicolor\n",
            "versicolor\n",
            "versicolor\n",
            "versicolor\n",
            "versicolor\n",
            "versicolor\n",
            "versicolor\n",
            "versicolor\n",
            "versicolor\n",
            "versicolor\n",
            "versicolor\n",
            "versicolor\n",
            "versicolor\n",
            "versicolor\n",
            "versicolor\n",
            "versicolor\n",
            "versicolor\n",
            "versicolor\n",
            "versicolor\n",
            "versicolor\n",
            "versicolor\n",
            "versicolor\n",
            "versicolor\n",
            "versicolor\n",
            "versicolor\n",
            "versicolor\n",
            "versicolor\n",
            "versicolor\n",
            "versicolor\n",
            "versicolor\n",
            "versicolor\n",
            "versicolor\n",
            "versicolor\n",
            "versicolor\n",
            "versicolor\n",
            "versicolor\n",
            "versicolor\n",
            "versicolor\n",
            "versicolor\n",
            "versicolor\n",
            "versicolor\n",
            "versicolor\n",
            "versicolor\n",
            "versicolor\n",
            "versicolor\n",
            "versicolor\n",
            "versicolor\n",
            "versicolor\n",
            "versicolor\n",
            "versicolor\n",
            "virginica\n",
            "virginica\n",
            "virginica\n",
            "virginica\n",
            "virginica\n",
            "virginica\n",
            "virginica\n",
            "virginica\n",
            "virginica\n",
            "virginica\n",
            "virginica\n",
            "virginica\n",
            "virginica\n",
            "virginica\n",
            "virginica\n",
            "virginica\n",
            "virginica\n",
            "virginica\n",
            "virginica\n",
            "virginica\n",
            "virginica\n",
            "virginica\n",
            "virginica\n",
            "virginica\n",
            "virginica\n",
            "virginica\n",
            "virginica\n",
            "virginica\n",
            "virginica\n",
            "virginica\n",
            "virginica\n",
            "virginica\n",
            "virginica\n",
            "virginica\n",
            "virginica\n",
            "virginica\n",
            "virginica\n",
            "virginica\n",
            "virginica\n",
            "virginica\n",
            "virginica\n",
            "virginica\n",
            "virginica\n",
            "virginica\n",
            "virginica\n",
            "virginica\n",
            "virginica\n",
            "virginica\n",
            "virginica\n",
            "virginica\n"
          ]
        }
      ],
      "source": [
        "for index, row in iris.iterrows():\n",
        "    print(row[\"species\"])"
      ]
    },
    {
      "cell_type": "code",
      "execution_count": 233,
      "metadata": {},
      "outputs": [
        {
          "data": {
            "text/plain": [
              "np.float64(5.1)"
            ]
          },
          "execution_count": 233,
          "metadata": {},
          "output_type": "execute_result"
        }
      ],
      "source": [
        "iris.at[0,'sepal_length']"
      ]
    },
    {
      "cell_type": "code",
      "execution_count": 234,
      "metadata": {},
      "outputs": [],
      "source": [
        "columns =  ['sepal_length','sepal_width','petal_length','petal_width']\n",
        "\n",
        "for indices, row in iris.iterrows():\n",
        "    for column in columns:\n",
        "        iris.at[indices, column] = row[column] + 2"
      ]
    },
    {
      "cell_type": "code",
      "execution_count": 235,
      "metadata": {},
      "outputs": [
        {
          "data": {
            "text/html": [
              "<div>\n",
              "<style scoped>\n",
              "    .dataframe tbody tr th:only-of-type {\n",
              "        vertical-align: middle;\n",
              "    }\n",
              "\n",
              "    .dataframe tbody tr th {\n",
              "        vertical-align: top;\n",
              "    }\n",
              "\n",
              "    .dataframe thead th {\n",
              "        text-align: right;\n",
              "    }\n",
              "</style>\n",
              "<table border=\"1\" class=\"dataframe\">\n",
              "  <thead>\n",
              "    <tr style=\"text-align: right;\">\n",
              "      <th></th>\n",
              "      <th>sepal_length</th>\n",
              "      <th>sepal_width</th>\n",
              "      <th>petal_length</th>\n",
              "      <th>petal_width</th>\n",
              "      <th>species</th>\n",
              "    </tr>\n",
              "  </thead>\n",
              "  <tbody>\n",
              "    <tr>\n",
              "      <th>0</th>\n",
              "      <td>7.1</td>\n",
              "      <td>5.5</td>\n",
              "      <td>3.4</td>\n",
              "      <td>2.2</td>\n",
              "      <td>setosa</td>\n",
              "    </tr>\n",
              "    <tr>\n",
              "      <th>1</th>\n",
              "      <td>6.9</td>\n",
              "      <td>5.0</td>\n",
              "      <td>3.4</td>\n",
              "      <td>2.2</td>\n",
              "      <td>setosa</td>\n",
              "    </tr>\n",
              "    <tr>\n",
              "      <th>2</th>\n",
              "      <td>6.7</td>\n",
              "      <td>5.2</td>\n",
              "      <td>3.3</td>\n",
              "      <td>2.2</td>\n",
              "      <td>setosa</td>\n",
              "    </tr>\n",
              "    <tr>\n",
              "      <th>3</th>\n",
              "      <td>6.6</td>\n",
              "      <td>5.1</td>\n",
              "      <td>3.5</td>\n",
              "      <td>2.2</td>\n",
              "      <td>setosa</td>\n",
              "    </tr>\n",
              "    <tr>\n",
              "      <th>4</th>\n",
              "      <td>7.0</td>\n",
              "      <td>5.6</td>\n",
              "      <td>3.4</td>\n",
              "      <td>2.2</td>\n",
              "      <td>setosa</td>\n",
              "    </tr>\n",
              "    <tr>\n",
              "      <th>...</th>\n",
              "      <td>...</td>\n",
              "      <td>...</td>\n",
              "      <td>...</td>\n",
              "      <td>...</td>\n",
              "      <td>...</td>\n",
              "    </tr>\n",
              "    <tr>\n",
              "      <th>145</th>\n",
              "      <td>8.7</td>\n",
              "      <td>5.0</td>\n",
              "      <td>7.2</td>\n",
              "      <td>4.3</td>\n",
              "      <td>virginica</td>\n",
              "    </tr>\n",
              "    <tr>\n",
              "      <th>146</th>\n",
              "      <td>8.3</td>\n",
              "      <td>4.5</td>\n",
              "      <td>7.0</td>\n",
              "      <td>3.9</td>\n",
              "      <td>virginica</td>\n",
              "    </tr>\n",
              "    <tr>\n",
              "      <th>147</th>\n",
              "      <td>8.5</td>\n",
              "      <td>5.0</td>\n",
              "      <td>7.2</td>\n",
              "      <td>4.0</td>\n",
              "      <td>virginica</td>\n",
              "    </tr>\n",
              "    <tr>\n",
              "      <th>148</th>\n",
              "      <td>8.2</td>\n",
              "      <td>5.4</td>\n",
              "      <td>7.4</td>\n",
              "      <td>4.3</td>\n",
              "      <td>virginica</td>\n",
              "    </tr>\n",
              "    <tr>\n",
              "      <th>149</th>\n",
              "      <td>7.9</td>\n",
              "      <td>5.0</td>\n",
              "      <td>7.1</td>\n",
              "      <td>3.8</td>\n",
              "      <td>virginica</td>\n",
              "    </tr>\n",
              "  </tbody>\n",
              "</table>\n",
              "<p>150 rows × 5 columns</p>\n",
              "</div>"
            ],
            "text/plain": [
              "     sepal_length  sepal_width  petal_length  petal_width    species\n",
              "0             7.1          5.5           3.4          2.2     setosa\n",
              "1             6.9          5.0           3.4          2.2     setosa\n",
              "2             6.7          5.2           3.3          2.2     setosa\n",
              "3             6.6          5.1           3.5          2.2     setosa\n",
              "4             7.0          5.6           3.4          2.2     setosa\n",
              "..            ...          ...           ...          ...        ...\n",
              "145           8.7          5.0           7.2          4.3  virginica\n",
              "146           8.3          4.5           7.0          3.9  virginica\n",
              "147           8.5          5.0           7.2          4.0  virginica\n",
              "148           8.2          5.4           7.4          4.3  virginica\n",
              "149           7.9          5.0           7.1          3.8  virginica\n",
              "\n",
              "[150 rows x 5 columns]"
            ]
          },
          "execution_count": 235,
          "metadata": {},
          "output_type": "execute_result"
        }
      ],
      "source": [
        "iris"
      ]
    },
    {
      "cell_type": "markdown",
      "metadata": {},
      "source": [
        "### Lambda function to iterate"
      ]
    },
    {
      "cell_type": "code",
      "execution_count": 236,
      "metadata": {},
      "outputs": [],
      "source": [
        "x = [20, 30, 40, 50, 60]\n",
        "y = []"
      ]
    },
    {
      "cell_type": "code",
      "execution_count": 237,
      "metadata": {},
      "outputs": [
        {
          "data": {
            "text/plain": [
              "[20, 30, 40, 50, 60]"
            ]
          },
          "execution_count": 237,
          "metadata": {},
          "output_type": "execute_result"
        }
      ],
      "source": [
        "x"
      ]
    },
    {
      "cell_type": "code",
      "execution_count": 238,
      "metadata": {},
      "outputs": [],
      "source": [
        "for v in x:\n",
        "    y += [v * 5]"
      ]
    },
    {
      "cell_type": "code",
      "execution_count": 239,
      "metadata": {},
      "outputs": [
        {
          "data": {
            "text/plain": [
              "[20, 30, 40, 50, 60]"
            ]
          },
          "execution_count": 239,
          "metadata": {},
          "output_type": "execute_result"
        }
      ],
      "source": [
        "x"
      ]
    },
    {
      "cell_type": "code",
      "execution_count": 240,
      "metadata": {},
      "outputs": [
        {
          "data": {
            "text/plain": [
              "<map at 0x2038531d300>"
            ]
          },
          "execution_count": 240,
          "metadata": {},
          "output_type": "execute_result"
        }
      ],
      "source": [
        "y = map(lambda x: x * 5, x)\n",
        "y"
      ]
    },
    {
      "cell_type": "code",
      "execution_count": 241,
      "metadata": {},
      "outputs": [
        {
          "data": {
            "text/plain": [
              "[100, 150, 200, 250, 300]"
            ]
          },
          "execution_count": 241,
          "metadata": {},
          "output_type": "execute_result"
        }
      ],
      "source": [
        "list(y)"
      ]
    },
    {
      "cell_type": "code",
      "execution_count": 242,
      "metadata": {},
      "outputs": [
        {
          "data": {
            "text/plain": [
              "['sepal_length', 'sepal_width', 'petal_length', 'petal_width']"
            ]
          },
          "execution_count": 242,
          "metadata": {},
          "output_type": "execute_result"
        }
      ],
      "source": [
        "columns"
      ]
    },
    {
      "cell_type": "code",
      "execution_count": 243,
      "metadata": {},
      "outputs": [],
      "source": [
        "for column in columns:\n",
        "    iris[column] = iris[column].apply(lambda row: row + 2)"
      ]
    },
    {
      "cell_type": "code",
      "execution_count": 244,
      "metadata": {},
      "outputs": [
        {
          "data": {
            "text/html": [
              "<div>\n",
              "<style scoped>\n",
              "    .dataframe tbody tr th:only-of-type {\n",
              "        vertical-align: middle;\n",
              "    }\n",
              "\n",
              "    .dataframe tbody tr th {\n",
              "        vertical-align: top;\n",
              "    }\n",
              "\n",
              "    .dataframe thead th {\n",
              "        text-align: right;\n",
              "    }\n",
              "</style>\n",
              "<table border=\"1\" class=\"dataframe\">\n",
              "  <thead>\n",
              "    <tr style=\"text-align: right;\">\n",
              "      <th></th>\n",
              "      <th>sepal_length</th>\n",
              "      <th>sepal_width</th>\n",
              "      <th>petal_length</th>\n",
              "      <th>petal_width</th>\n",
              "      <th>species</th>\n",
              "    </tr>\n",
              "  </thead>\n",
              "  <tbody>\n",
              "    <tr>\n",
              "      <th>0</th>\n",
              "      <td>9.1</td>\n",
              "      <td>7.5</td>\n",
              "      <td>5.4</td>\n",
              "      <td>4.2</td>\n",
              "      <td>setosa</td>\n",
              "    </tr>\n",
              "    <tr>\n",
              "      <th>1</th>\n",
              "      <td>8.9</td>\n",
              "      <td>7.0</td>\n",
              "      <td>5.4</td>\n",
              "      <td>4.2</td>\n",
              "      <td>setosa</td>\n",
              "    </tr>\n",
              "    <tr>\n",
              "      <th>2</th>\n",
              "      <td>8.7</td>\n",
              "      <td>7.2</td>\n",
              "      <td>5.3</td>\n",
              "      <td>4.2</td>\n",
              "      <td>setosa</td>\n",
              "    </tr>\n",
              "    <tr>\n",
              "      <th>3</th>\n",
              "      <td>8.6</td>\n",
              "      <td>7.1</td>\n",
              "      <td>5.5</td>\n",
              "      <td>4.2</td>\n",
              "      <td>setosa</td>\n",
              "    </tr>\n",
              "    <tr>\n",
              "      <th>4</th>\n",
              "      <td>9.0</td>\n",
              "      <td>7.6</td>\n",
              "      <td>5.4</td>\n",
              "      <td>4.2</td>\n",
              "      <td>setosa</td>\n",
              "    </tr>\n",
              "    <tr>\n",
              "      <th>...</th>\n",
              "      <td>...</td>\n",
              "      <td>...</td>\n",
              "      <td>...</td>\n",
              "      <td>...</td>\n",
              "      <td>...</td>\n",
              "    </tr>\n",
              "    <tr>\n",
              "      <th>145</th>\n",
              "      <td>10.7</td>\n",
              "      <td>7.0</td>\n",
              "      <td>9.2</td>\n",
              "      <td>6.3</td>\n",
              "      <td>virginica</td>\n",
              "    </tr>\n",
              "    <tr>\n",
              "      <th>146</th>\n",
              "      <td>10.3</td>\n",
              "      <td>6.5</td>\n",
              "      <td>9.0</td>\n",
              "      <td>5.9</td>\n",
              "      <td>virginica</td>\n",
              "    </tr>\n",
              "    <tr>\n",
              "      <th>147</th>\n",
              "      <td>10.5</td>\n",
              "      <td>7.0</td>\n",
              "      <td>9.2</td>\n",
              "      <td>6.0</td>\n",
              "      <td>virginica</td>\n",
              "    </tr>\n",
              "    <tr>\n",
              "      <th>148</th>\n",
              "      <td>10.2</td>\n",
              "      <td>7.4</td>\n",
              "      <td>9.4</td>\n",
              "      <td>6.3</td>\n",
              "      <td>virginica</td>\n",
              "    </tr>\n",
              "    <tr>\n",
              "      <th>149</th>\n",
              "      <td>9.9</td>\n",
              "      <td>7.0</td>\n",
              "      <td>9.1</td>\n",
              "      <td>5.8</td>\n",
              "      <td>virginica</td>\n",
              "    </tr>\n",
              "  </tbody>\n",
              "</table>\n",
              "<p>150 rows × 5 columns</p>\n",
              "</div>"
            ],
            "text/plain": [
              "     sepal_length  sepal_width  petal_length  petal_width    species\n",
              "0             9.1          7.5           5.4          4.2     setosa\n",
              "1             8.9          7.0           5.4          4.2     setosa\n",
              "2             8.7          7.2           5.3          4.2     setosa\n",
              "3             8.6          7.1           5.5          4.2     setosa\n",
              "4             9.0          7.6           5.4          4.2     setosa\n",
              "..            ...          ...           ...          ...        ...\n",
              "145          10.7          7.0           9.2          6.3  virginica\n",
              "146          10.3          6.5           9.0          5.9  virginica\n",
              "147          10.5          7.0           9.2          6.0  virginica\n",
              "148          10.2          7.4           9.4          6.3  virginica\n",
              "149           9.9          7.0           9.1          5.8  virginica\n",
              "\n",
              "[150 rows x 5 columns]"
            ]
          },
          "execution_count": 244,
          "metadata": {},
          "output_type": "execute_result"
        }
      ],
      "source": [
        "iris"
      ]
    },
    {
      "cell_type": "markdown",
      "metadata": {},
      "source": [
        "# While"
      ]
    },
    {
      "cell_type": "markdown",
      "metadata": {},
      "source": [
        "#### While loop - it executes a piece of code over and over again while a given condition still holds true"
      ]
    },
    {
      "cell_type": "code",
      "execution_count": 245,
      "metadata": {},
      "outputs": [
        {
          "name": "stdout",
          "output_type": "stream",
          "text": [
            "Thank you\n",
            "Thank you\n",
            "Thank you\n"
          ]
        }
      ],
      "source": [
        "number = 2\n",
        "\n",
        "while number < 5:\n",
        "    print('Thank you')\n",
        "    number += 1 "
      ]
    },
    {
      "cell_type": "code",
      "execution_count": 246,
      "metadata": {},
      "outputs": [
        {
          "name": "stdout",
          "output_type": "stream",
          "text": [
            "The number is 0\n",
            "The number is 1\n",
            "The number is 2\n",
            "The number is 3\n",
            "The number is 4\n"
          ]
        }
      ],
      "source": [
        "number = 0\n",
        "while number < 5:\n",
        "    print(f\"The number is {number}\")\n",
        "    number += 1 "
      ]
    },
    {
      "cell_type": "code",
      "execution_count": 247,
      "metadata": {},
      "outputs": [
        {
          "name": "stdout",
          "output_type": "stream",
          "text": [
            "The number 0 is even\n",
            "The number 1 is odd\n",
            "The number 2 is even\n",
            "The number 3 is odd\n",
            "The number 4 is even\n",
            "The number 5 is odd\n",
            "The number 6 is even\n",
            "The number 7 is odd\n",
            "The number 8 is even\n",
            "The number 9 is odd\n"
          ]
        }
      ],
      "source": [
        "number = 0\n",
        "\n",
        "while number < 10:\n",
        "    if number % 2 == 0:\n",
        "        print(\"The number \"+str(number)+\" is even\")\n",
        "    else:\n",
        "        print(\"The number \"+str(number)+\" is odd\")\n",
        "        \n",
        "    number += 1\n",
        "    "
      ]
    },
    {
      "cell_type": "code",
      "execution_count": 248,
      "metadata": {},
      "outputs": [
        {
          "name": "stdout",
          "output_type": "stream",
          "text": [
            "2\n",
            "3\n",
            "4\n",
            "5\n"
          ]
        }
      ],
      "source": [
        "number = 2\n",
        "\n",
        "while number < 6:\n",
        "    print(number)\n",
        "    number += 1"
      ]
    },
    {
      "cell_type": "code",
      "execution_count": 249,
      "metadata": {},
      "outputs": [
        {
          "name": "stdout",
          "output_type": "stream",
          "text": [
            "6\n",
            "3\n",
            "10\n",
            "5\n",
            "16\n",
            "8\n",
            "4\n",
            "2\n",
            "1\n"
          ]
        }
      ],
      "source": [
        "def collatz(number):\n",
        "    if number % 2 == 0:\n",
        "        print(number // 2)\n",
        "        return number // 2\n",
        "    elif number % 2 == 1:\n",
        "        result = 3 * number + 1 \n",
        "        print(result)\n",
        "        return result \n",
        "    \n",
        "n = input(\"Give me a number: \")\n",
        "\n",
        "while n !=1:\n",
        "    n = collatz(int(n))"
      ]
    },
    {
      "cell_type": "code",
      "execution_count": 250,
      "metadata": {},
      "outputs": [
        {
          "name": "stdout",
          "output_type": "stream",
          "text": [
            "Thank you \n",
            "Thank you \n",
            "Thank you \n"
          ]
        }
      ],
      "source": [
        "number = 0\n",
        "\n",
        "while number < 3:\n",
        "    print(\"Thank you \")\n",
        "    number += 1"
      ]
    },
    {
      "cell_type": "code",
      "execution_count": 251,
      "metadata": {},
      "outputs": [
        {
          "name": "stdout",
          "output_type": "stream",
          "text": [
            "The number 2 is even\n",
            "The number 4 is even\n",
            "The number 6 is even\n",
            "The number 8 is even\n"
          ]
        }
      ],
      "source": [
        "number = 1\n",
        "\n",
        "while number < 10:\n",
        "    while number % 2 ==0:\n",
        "        print(\"The number \"+str(number)+\" is even\")\n",
        "        break \n",
        "    number += 1"
      ]
    },
    {
      "cell_type": "code",
      "execution_count": 252,
      "metadata": {},
      "outputs": [
        {
          "name": "stdout",
          "output_type": "stream",
          "text": [
            "-------------------------------------------\n",
            "I am outer loop iteration 0\n",
            "****************************\n",
            "I am inner loop iteration 0\n",
            "-------------------------------------------\n",
            "I am outer loop iteration 1\n",
            "****************************\n",
            "I am inner loop iteration 0\n",
            "-------------------------------------------\n",
            "I am outer loop iteration 2\n",
            "****************************\n",
            "I am inner loop iteration 0\n"
          ]
        }
      ],
      "source": [
        "for number in range(3) : \n",
        "    print(\"-------------------------------------------\")\n",
        "    print(\"I am outer loop iteration \"+str(number))\n",
        "    for another_number in range(3):\n",
        "        print(\"****************************\")\n",
        "        print(\"I am inner loop iteration \"+str(another_number))\n",
        "        break"
      ]
    },
    {
      "cell_type": "code",
      "execution_count": 253,
      "metadata": {},
      "outputs": [
        {
          "name": "stdout",
          "output_type": "stream",
          "text": [
            "12.5\n",
            "3.125\n",
            "0.78125\n"
          ]
        }
      ],
      "source": [
        "error = 50.0\n",
        "\n",
        "while error > 1:\n",
        "    error = error / 4\n",
        "    print(error)"
      ]
    },
    {
      "cell_type": "code",
      "execution_count": 254,
      "metadata": {},
      "outputs": [
        {
          "name": "stdout",
          "output_type": "stream",
          "text": [
            "Correcting\n",
            "7\n",
            "Correcting\n",
            "6\n",
            "Correcting\n",
            "5\n",
            "Correcting\n",
            "4\n",
            "Correcting\n",
            "3\n",
            "Correcting\n",
            "2\n",
            "Correcting\n",
            "1\n",
            "Correcting\n",
            "0\n"
          ]
        }
      ],
      "source": [
        "offset = 8\n",
        "\n",
        "while offset != 0:\n",
        "    print(\"Correcting\")\n",
        "    offset -= 1\n",
        "    print(offset)\n",
        "    "
      ]
    },
    {
      "cell_type": "code",
      "execution_count": 255,
      "metadata": {},
      "outputs": [],
      "source": [
        "while True:\n",
        "    user_input = input(\"Enter a positive number: \")\n",
        "    if user_input.isdigit() and int(user_input) > 0:\n",
        "        break\n",
        "    print(\"Invalid input. Please try again\")"
      ]
    },
    {
      "cell_type": "code",
      "execution_count": 256,
      "metadata": {},
      "outputs": [
        {
          "name": "stdout",
          "output_type": "stream",
          "text": [
            "Plenty of stock remaining\n",
            "Plenty of stock remaining\n",
            "Some stock remaining\n",
            "Some stock remaining\n",
            "Some stock remaining\n",
            "Some stock remaining\n",
            "Low stock!\n",
            "Low stock!\n",
            "Low stock!\n",
            "No stock\n"
          ]
        }
      ],
      "source": [
        "stock = 10 \n",
        "num_of_purchases = 0\n",
        "\n",
        "while num_of_purchases < stock:\n",
        "    num_of_purchases += 1\n",
        "    if stock - num_of_purchases > 7:\n",
        "        print(\"Plenty of stock remaining\")\n",
        "    elif stock - num_of_purchases > 3:\n",
        "        print(\"Some stock remaining\")\n",
        "    elif stock - num_of_purchases != 0:\n",
        "        print(\"Low stock!\")\n",
        "    else:\n",
        "        print(\"No stock\")\n",
        "        \n",
        "    "
      ]
    },
    {
      "cell_type": "code",
      "execution_count": 9,
      "metadata": {},
      "outputs": [
        {
          "name": "stdout",
          "output_type": "stream",
          "text": [
            "0\n",
            "1\n",
            "2\n",
            "3\n",
            "4\n",
            "5\n",
            "6\n",
            "7\n",
            "8\n",
            "9\n"
          ]
        }
      ],
      "source": [
        "x = 0 \n",
        "\n",
        "while x < 10:\n",
        "    print(x)\n",
        "    x += 1"
      ]
    },
    {
      "cell_type": "code",
      "execution_count": 11,
      "metadata": {},
      "outputs": [
        {
          "name": "stdout",
          "output_type": "stream",
          "text": [
            "0\n",
            "1\n",
            "2\n",
            "3\n",
            "4\n"
          ]
        }
      ],
      "source": [
        "x = 0\n",
        "\n",
        "while x < 10:\n",
        "    if x == 5:\n",
        "        break\n",
        "    print(x)\n",
        "    x += 1"
      ]
    },
    {
      "cell_type": "code",
      "execution_count": 12,
      "metadata": {},
      "outputs": [
        {
          "name": "stdout",
          "output_type": "stream",
          "text": [
            "1\n",
            "2\n",
            "3\n",
            "4\n",
            "5\n"
          ]
        }
      ],
      "source": [
        "x = 0 \n",
        "\n",
        "while True:\n",
        "    if x == 5:\n",
        "        break\n",
        "    x += 1\n",
        "    print(x)"
      ]
    },
    {
      "cell_type": "markdown",
      "metadata": {},
      "source": [
        "# range()"
      ]
    },
    {
      "cell_type": "code",
      "execution_count": 257,
      "metadata": {},
      "outputs": [
        {
          "data": {
            "text/plain": [
              "range(0, 10)"
            ]
          },
          "execution_count": 257,
          "metadata": {},
          "output_type": "execute_result"
        }
      ],
      "source": [
        "range(10)"
      ]
    },
    {
      "cell_type": "code",
      "execution_count": 258,
      "metadata": {},
      "outputs": [
        {
          "name": "stdout",
          "output_type": "stream",
          "text": [
            "0\n",
            "1\n",
            "2\n",
            "3\n",
            "4\n",
            "5\n",
            "6\n",
            "7\n",
            "8\n",
            "9\n"
          ]
        }
      ],
      "source": [
        "for i in range(10):\n",
        "    print(i)"
      ]
    },
    {
      "cell_type": "code",
      "execution_count": 259,
      "metadata": {},
      "outputs": [
        {
          "name": "stdout",
          "output_type": "stream",
          "text": [
            "5\n",
            "7\n",
            "9\n"
          ]
        }
      ],
      "source": [
        "for i in range(5,10,2):\n",
        "    print(i)"
      ]
    },
    {
      "cell_type": "code",
      "execution_count": 8,
      "metadata": {},
      "outputs": [
        {
          "name": "stdout",
          "output_type": "stream",
          "text": [
            "1\n",
            "2\n",
            "3\n",
            "4\n",
            "5\n",
            "6\n",
            "7\n",
            "8\n",
            "9\n",
            "10\n"
          ]
        }
      ],
      "source": [
        "for i in range(1,11):\n",
        "    print(i)"
      ]
    },
    {
      "cell_type": "code",
      "execution_count": 13,
      "metadata": {},
      "outputs": [
        {
          "data": {
            "text/plain": [
              "range"
            ]
          },
          "execution_count": 13,
          "metadata": {},
          "output_type": "execute_result"
        }
      ],
      "source": [
        "type(range(100))"
      ]
    },
    {
      "cell_type": "code",
      "execution_count": 15,
      "metadata": {},
      "outputs": [
        {
          "data": {
            "text/plain": [
              "[0, 1, 2, 3, 4, 5, 6, 7, 8, 9]"
            ]
          },
          "execution_count": 15,
          "metadata": {},
          "output_type": "execute_result"
        }
      ],
      "source": [
        "list(range(10))"
      ]
    },
    {
      "cell_type": "code",
      "execution_count": 16,
      "metadata": {},
      "outputs": [
        {
          "data": {
            "text/plain": [
              "10"
            ]
          },
          "execution_count": 16,
          "metadata": {},
          "output_type": "execute_result"
        }
      ],
      "source": [
        "len(list(range(10)))"
      ]
    },
    {
      "cell_type": "code",
      "execution_count": 17,
      "metadata": {},
      "outputs": [
        {
          "name": "stdout",
          "output_type": "stream",
          "text": [
            "-5\n",
            "-4\n",
            "-3\n",
            "-2\n",
            "-1\n"
          ]
        }
      ],
      "source": [
        "for seq in range(-5,0):\n",
        "    print(seq)"
      ]
    },
    {
      "cell_type": "code",
      "execution_count": 18,
      "metadata": {},
      "outputs": [
        {
          "name": "stdout",
          "output_type": "stream",
          "text": [
            "50\n",
            "150\n",
            "250\n",
            "350\n",
            "450\n",
            "550\n",
            "650\n",
            "750\n",
            "850\n",
            "950\n"
          ]
        }
      ],
      "source": [
        "for seq in range(50,1000,100):\n",
        "    print(seq)"
      ]
    },
    {
      "cell_type": "code",
      "execution_count": 19,
      "metadata": {},
      "outputs": [
        {
          "name": "stdout",
          "output_type": "stream",
          "text": [
            "100\n",
            "90\n",
            "80\n",
            "70\n",
            "60\n",
            "50\n",
            "40\n",
            "30\n",
            "20\n"
          ]
        }
      ],
      "source": [
        "for seq in range(100,10,-10):\n",
        "    print(seq)"
      ]
    },
    {
      "cell_type": "code",
      "execution_count": 69,
      "metadata": {},
      "outputs": [
        {
          "name": "stdout",
          "output_type": "stream",
          "text": [
            "2\n",
            "6\n",
            "12\n",
            "20\n",
            "30\n",
            "42\n",
            "56\n",
            "72\n",
            "90\n",
            "110\n",
            "Sum of the list : 110\n",
            "List Comprehension SumOfTheList: 110\n"
          ]
        }
      ],
      "source": [
        "list1 = [2,4,6,8,10,12,14,16,18,20]\n",
        "counter = 0\n",
        "\n",
        "for i in range(len(list1)):\n",
        "    counter = counter + list1[i]\n",
        "    print(counter)\n",
        "print(f'Sum of the list : {counter}')\n",
        "\n",
        "SumOfTheList = sum([x for x in list1])\n",
        "print(f'List Comprehension SumOfTheList: {SumOfTheList}')\n"
      ]
    },
    {
      "cell_type": "code",
      "execution_count": 42,
      "metadata": {},
      "outputs": [
        {
          "name": "stdout",
          "output_type": "stream",
          "text": [
            "<itertools.chain object at 0x000001FE192AFCD0>\n",
            "[10, 8, 6, 4, 2, 30, 28, 26, 24, 22, 50, 48, 46, 44, 42]\n"
          ]
        }
      ],
      "source": [
        "from itertools import chain \n",
        "\n",
        "a1 = range(10,0, -2)\n",
        "a2 = range(30,20,-2)\n",
        "a3 = range(50,40,-2)\n",
        "final = chain(a1, a2, a3)\n",
        "print(final)\n",
        "print(list(final))"
      ]
    },
    {
      "cell_type": "code",
      "execution_count": 48,
      "metadata": {},
      "outputs": [],
      "source": [
        "for a in final:\n",
        "    print(a)"
      ]
    },
    {
      "cell_type": "code",
      "execution_count": 54,
      "metadata": {},
      "outputs": [
        {
          "name": "stdout",
          "output_type": "stream",
          "text": [
            "True\n",
            "False\n"
          ]
        }
      ],
      "source": [
        "a = list(range(0, 10, 3))\n",
        "b = list(range(0, 11, 3))\n",
        "c = list(range(0, 11, 2))\n",
        "print(a == b)\n",
        "print(a == c)"
      ]
    },
    {
      "cell_type": "markdown",
      "metadata": {},
      "source": [
        "# if elif else"
      ]
    },
    {
      "cell_type": "code",
      "execution_count": 70,
      "metadata": {},
      "outputs": [
        {
          "name": "stdout",
          "output_type": "stream",
          "text": [
            "z is even\n"
          ]
        }
      ],
      "source": [
        "z = 4 \n",
        "\n",
        "if z % 2 == 0:\n",
        "    print('z is even')"
      ]
    },
    {
      "cell_type": "code",
      "execution_count": 72,
      "metadata": {},
      "outputs": [
        {
          "name": "stdout",
          "output_type": "stream",
          "text": [
            "Checking 4\n",
            "z is even\n"
          ]
        }
      ],
      "source": [
        "if z % 2 == 0:\n",
        "    print('Checking ' + str(z))\n",
        "    print('z is even')"
      ]
    },
    {
      "cell_type": "code",
      "execution_count": 73,
      "metadata": {},
      "outputs": [],
      "source": [
        "z = 5 \n",
        "if z % 2 == 0: # False, no output\n",
        "    print('Checking ' + str(z))\n",
        "    print('z is even')\n",
        "    "
      ]
    },
    {
      "cell_type": "code",
      "execution_count": 77,
      "metadata": {},
      "outputs": [
        {
          "name": "stdout",
          "output_type": "stream",
          "text": [
            "z is odd\n"
          ]
        }
      ],
      "source": [
        "z = 5 \n",
        "\n",
        "if z % 2 == 0:\n",
        "    print('z is even')\n",
        "else:\n",
        "    print('z is odd')"
      ]
    },
    {
      "cell_type": "code",
      "execution_count": 87,
      "metadata": {},
      "outputs": [
        {
          "name": "stdout",
          "output_type": "stream",
          "text": [
            "z is neither divisible by 2 nor 3\n"
          ]
        }
      ],
      "source": [
        "z = 5\n",
        "\n",
        "if z % 2 == 0:\n",
        "    print('z is divisible by 2')\n",
        "elif z % 3 == 0:\n",
        "    print('z is divisible by 3')\n",
        "else:\n",
        "    print('z is neither divisible by 2 nor by 3')"
      ]
    },
    {
      "cell_type": "code",
      "execution_count": 88,
      "metadata": {},
      "outputs": [
        {
          "name": "stdout",
          "output_type": "stream",
          "text": [
            "Looking around in the bedroom\n",
            "Pretty small\n"
          ]
        }
      ],
      "source": [
        "room = 'bed'\n",
        "area = 14.0\n",
        "\n",
        "if room == 'kit':\n",
        "    print('Looking around in the kitchen')\n",
        "elif room == 'bed':\n",
        "    print('Looking around in the bedroom')\n",
        "else:\n",
        "    print('Looking around elsewhere')\n",
        "    \n",
        "if area > 15:\n",
        "    print('It is a small place')\n",
        "else:\n",
        "    print('Pretty small')"
      ]
    },
    {
      "cell_type": "code",
      "execution_count": null,
      "metadata": {},
      "outputs": [],
      "source": []
    }
  ],
  "metadata": {
    "colab": {
      "provenance": []
    },
    "kernelspec": {
      "display_name": "Python 3",
      "language": "python",
      "name": "python3"
    },
    "language_info": {
      "codemirror_mode": {
        "name": "ipython",
        "version": 3
      },
      "file_extension": ".py",
      "mimetype": "text/x-python",
      "name": "python",
      "nbconvert_exporter": "python",
      "pygments_lexer": "ipython3",
      "version": "3.11.5"
    }
  },
  "nbformat": 4,
  "nbformat_minor": 0
}
